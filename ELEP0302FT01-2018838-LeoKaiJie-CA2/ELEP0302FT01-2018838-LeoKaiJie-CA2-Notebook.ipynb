{
 "cells": [
  {
   "cell_type": "markdown",
   "metadata": {},
   "source": [
    "# 2018838 KAI JIE LEO Programming for Data Science CA2 Project\n",
    "#### Title of Data Analysis: Exploring Interesting Data with Python\n",
    "#### Some questions that I have for my data analysis are listed below:\n",
    "##### 1. What is the general trend for the CPI?\n",
    "##### 2. What is the general trend for HDB prices?\n",
    "##### 3. What is the general trend for university intakes, enrolments and graduates?\n",
    "##### 4. Does government spending effect CPI, HDB prices, and academic statistics?\n",
    "##### 5. Are there any relationships between the above variables?"
   ]
  },
  {
   "cell_type": "markdown",
   "metadata": {},
   "source": [
    "# Basic Requirements for the project"
   ]
  },
  {
   "cell_type": "markdown",
   "metadata": {},
   "source": [
    "1.\tYou must use at least three datasets from data.gov.sg. You can mix the three datasets from any sectors, except from Transport sector.  You are also allowed to use additional datasets from other websites, e.g. World Bank Data (http://databank.worldbank.org/data/home.aspx)\n",
    "\n",
    "2.\tYour Jupyter notebook(s) should include the following:\n",
    "\n",
    "a)\tYour name and the title of your data analysis\n",
    "\n",
    "b)\tThe questions you want to answer to gain deeper insights into the chosen datasets such that you are able to craft a ‘storyline’ or produce an interesting data analysis on it\n",
    "\n",
    "c)\tA list of URLs of all the datasets you have used\n",
    "\n",
    "d)\tFor the chosen datasets, explain the nature of the dataset (i.e. what is in the dataset) or any pecularities about it you wish to highlight.\n",
    "\n",
    "e)\tWrite Python code that uses the pandas package to extract useful statistical or summary information about the data and Python visualisation package to produce useful data visualizations that explain the data. \n",
    "\n",
    "f)\tHighlight the insights you have gained from analysing the data and any conclusions or recommendations you want to make as a result of the analysis\n",
    "\n",
    "\n",
    "Your submission should contain the following graphs / chart types:\n",
    "\n",
    "•\tAt least one bar chart\n",
    "•\tAt least one line chart\n",
    "•\tAt least one pie-chart\n",
    "•\tAt least one scatterplot\n",
    "•\tAt least one boxplot \n"
   ]
  },
  {
   "cell_type": "markdown",
   "metadata": {},
   "source": [
    "# Importing Python Modules and Datasets"
   ]
  },
  {
   "cell_type": "code",
   "execution_count": 2,
   "metadata": {},
   "outputs": [
    {
     "data": {
      "text/html": [
       "        <script type=\"text/javascript\">\n",
       "        window.PlotlyConfig = {MathJaxConfig: 'local'};\n",
       "        if (window.MathJax && window.MathJax.Hub && window.MathJax.Hub.Config) {window.MathJax.Hub.Config({SVG: {font: \"STIX-Web\"}});}\n",
       "        if (typeof require !== 'undefined') {\n",
       "        require.undef(\"plotly\");\n",
       "        requirejs.config({\n",
       "            paths: {\n",
       "                'plotly': ['https://cdn.plot.ly/plotly-2.12.1.min']\n",
       "            }\n",
       "        });\n",
       "        require(['plotly'], function(Plotly) {\n",
       "            window._Plotly = Plotly;\n",
       "        });\n",
       "        }\n",
       "        </script>\n",
       "        "
      ]
     },
     "metadata": {},
     "output_type": "display_data"
    }
   ],
   "source": [
    "#importing modules\n",
    "import pandas as pd\n",
    "import numpy as np\n",
    "import cufflinks as cf\n",
    "import plotly as pl\n",
    "import plotly.express as px\n",
    "import datetime\n",
    "from IPython.display import Markdown, display\n",
    "\n",
    "\n",
    "import warnings\n",
    "warnings.filterwarnings('ignore')\n",
    "\n",
    "def printmd(string):\n",
    "    display(Markdown(string))\n",
    "\n",
    "#importing CPI data \n",
    "#link to data \"https://data.gov.sg/dataset/consumer-price-index-cpi-additional-indicators-annual\"\n",
    "dfCPI = pd.read_csv(\"consumer-price-index-2019-as-base-year-annual.csv\")\n",
    "\n",
    "#importing MAS core inflation data\n",
    "#link to data \"https://data.gov.sg/dataset/consumer-price-index-cpi-additional-indicators-annual\"\n",
    "dfInflation = pd.read_csv(\"consumer-price-index-cpi-additional-indicators-2019-as-base-year-index-annual.csv\")\n",
    "\n",
    "#reading a more detailed dataset for CPI in semi-annual form to be used for multiple line plot\n",
    "#link to data \"https://data.gov.sg/dataset/consumer-price-index-cpi-by-household-income-group-middle-60-half-yearly\"\n",
    "dfDetailed_CPI_Semi = pd.read_csv(\"cpi-by-household-income-group-and-expenditure-division-middle-60-half-yearly.csv\")\n",
    "\n",
    "#reading more detailed dataset for CPI in annual form\n",
    "#link to data \"https://data.gov.sg/dataset/consumer-price-index-cpi-by-household-income-group-middle-60-annual?resource_id=d1182cd4-836b-40cf-8e66-5a478028157a\"\n",
    "dfDetailed_CPI_Annual = pd.read_csv(\"cpi-by-household-income-group-and-expenditure-division-middle-60-annual.csv\")\n",
    "\n",
    "#reading government operating revenue data\n",
    "#link to data \"https://data.gov.sg/dataset/government-fiscal-position-annual?resource_id=d4dbffc1-b097-4d86-9da8-afaf91dfbcbd\"\n",
    "dfGovernment_Operating_Revenue = pd.read_csv(\"government-operating-revenue.csv\")\n",
    "\n",
    "#reading government total expenditure data\n",
    "#link to data \"https://data.gov.sg/dataset/government-fiscal-position-annual?resource_id=7b4af397-3e8f-40de-9208-90d168afc810\"\n",
    "dfGovernment_Total_Expenditure = pd.read_csv(\"government-total-expenditure.csv\")\n",
    "\n",
    "#reading HDB resale price index\n",
    "#link to data \"https://data.gov.sg/dataset/hdb-resale-price-index\"\n",
    "dfHDB_RPI = pd.read_csv(\"housing-and-development-board-resale-price-index-1q2009-100-quarterly.csv\")\n",
    "\n",
    "#reading money supply m1 and m2 data\n",
    "#link to data \"https://data.gov.sg/dataset/money-supply-end-of-period-monthly-sa?resource_id=26cd02f0-c0e5-40cc-aa7d-a9b1ea3ecafc\"\n",
    "dfMoney_Supply_M1M2 = pd.read_csv(\"money-supply-end-of-period-components-of-m1-and-quasi-money-monthly-sa.csv\")\n",
    "\n",
    "#reading money supply m3 data\n",
    "#link to data \"https://data.gov.sg/dataset/money-supply-end-of-period-monthly-sa?resource_id=26cd02f0-c0e5-40cc-aa7d-a9b1ea3ecafc\"\n",
    "dfMoney_Supply_M3 = pd.read_csv(\"money-supply-end-of-period-m3-monthly-sa.csv\")\n",
    "\n",
    "#reading university data\n",
    "#link to data \"https://data.gov.sg/dataset/universities-intake-enrolment-and-graduates-by-course\"\n",
    "dfUniversity = pd.read_csv(\"universities-intake-enrolment-and-graduates-by-course.csv\")\n"
   ]
  },
  {
   "cell_type": "markdown",
   "metadata": {},
   "source": [
    "# Basic Descriptions Regarding The Datasets"
   ]
  },
  {
   "cell_type": "code",
   "execution_count": 3,
   "metadata": {},
   "outputs": [
    {
     "data": {
      "text/markdown": [
       "The **consumer-price-index-2019-as-base-year-annual.csv** dataset provides information regarding the CPI of Singapore with 2019 prices as its base. Something weird about the \n",
       "dataset is that although for the earlier years there are values for the \"All Items\" category, a majority of the \n",
       "earlier years are populated with NA values for the more detailed categories which may be due to such data not being recorded \n",
       "during the earlier years. An extract of the dataset \"consumer-price-index-2019-as-base-year-annual.csv\" is shown below:"
      ],
      "text/plain": [
       "<IPython.core.display.Markdown object>"
      ]
     },
     "metadata": {},
     "output_type": "display_data"
    },
    {
     "name": "stdout",
     "output_type": "stream",
     "text": [
      "\n",
      "   year                         level_1   value\n",
      "0  1961                       All Items  24.401\n",
      "1  1961  All Items Less Imputed Rentals      na\n",
      "2  1961    All Items Less Accommodation      na\n",
      "3  1962                       All Items  24.513\n",
      "4  1962  All Items Less Imputed Rentals      na\n",
      "\n",
      "The maximum CPI in the dataset is 100.0, at year 2019.\n",
      "The minimum CPI in the dataset is 24.401, at year 1961.\n",
      "Below generally describes the dataset.\n",
      "\n",
      "count     180\n",
      "unique     93\n",
      "top        na\n",
      "freq       86\n",
      "Name: value, dtype: object\n"
     ]
    }
   ],
   "source": [
    "#information about CPI data\n",
    "printmd(f'The **consumer-price-index-2019-as-base-year-annual.csv** dataset provides information regarding the CPI of Singapore with 2019 prices as its base. Something weird about the \\ndataset is that although for the earlier years there are values for the \"All Items\" category, a majority of the \\nearlier years are populated with NA values for the more detailed categories which may be due to such data not being recorded \\nduring the earlier years. An extract of the dataset \"consumer-price-index-2019-as-base-year-annual.csv\" is shown below:')\n",
    "print()\n",
    "print(dfCPI.head(5))\n",
    "print()\n",
    "\n",
    "#To obtain the maximum values using idx command\n",
    "dfCPI_clean = dfCPI[dfCPI['value'] != \"na\"]\n",
    "dfCPI_clean['value'] = dfCPI_clean['value'].astype('float')\n",
    "dfCPI_clean_values = dfCPI_clean['value']\n",
    "dfCPI_year = dfCPI['year']\n",
    "dfCPI_max = dfCPI_clean_values.idxmax()\n",
    "\n",
    "\n",
    "#To obtain the minimum values using idx command\n",
    "dfCPI_min = dfCPI_clean_values.idxmin()\n",
    "\n",
    "print(f'The maximum CPI in the dataset is {dfCPI_clean_values[dfCPI_clean_values.idxmax()]}, at year {dfCPI_year[dfCPI_clean_values.idxmax()]}.')\n",
    "print(f'The minimum CPI in the dataset is {dfCPI_clean_values[dfCPI_clean_values.idxmin()]}, at year {dfCPI_year[dfCPI_clean_values.idxmin()]}.')\n",
    "print('Below generally describes the dataset.')\n",
    "print()\n",
    "print(dfCPI['value'].describe())\n"
   ]
  },
  {
   "cell_type": "code",
   "execution_count": 4,
   "metadata": {},
   "outputs": [
    {
     "data": {
      "text/markdown": [
       "The **consumer-price-index-cpi-additional-indicators-2019-as-base-year-index-annual.csv** dataset provides more detailed CPI inflation including MAS core inflation rates of Singapore with 2019 as the base year. Once again, something weird about the \n",
       "dataset is that although for the earlier years there are values for the \"MAS Core\" category, a majority of the \n",
       "earlier years are populated with NA values for other categories such as \"Services Inflation Measure\" which may be due to such data not being recorded \n",
       "during the earlier years. An extract of the dataset \"consumer-price-index-cpi-additional-indicators-2019-as-base-year-index-annual.csv\" is shown below:"
      ],
      "text/plain": [
       "<IPython.core.display.Markdown object>"
      ]
     },
     "metadata": {},
     "output_type": "display_data"
    },
    {
     "name": "stdout",
     "output_type": "stream",
     "text": [
      "\n",
      "   year                                 level_1   value\n",
      "0  1990              MAS Core Inflation Measure  62.094\n",
      "1  1990              Services Inflation Measure      na\n",
      "2  1990  Retail & Other Goods Inflation Measure      na\n",
      "3  1990     Electricity & Gas Inflation Measure      na\n",
      "4  1991              MAS Core Inflation Measure  64.359\n",
      "\n",
      "The maximum inflation in the dataset is 116.547, at year 2014.\n",
      "The minimum inflation in the dataset is 62.094, at year 1990.\n",
      "Below generally describes the dataset.\n",
      "\n",
      "count     128\n",
      "unique     54\n",
      "top        na\n",
      "freq       72\n",
      "Name: value, dtype: object\n"
     ]
    }
   ],
   "source": [
    "#information about MAS core inflation data\n",
    "printmd(f'The **consumer-price-index-cpi-additional-indicators-2019-as-base-year-index-annual.csv** dataset provides more detailed CPI inflation including MAS core inflation rates of Singapore with 2019 as the base year. Once again, something weird about the \\ndataset is that although for the earlier years there are values for the \"MAS Core\" category, a majority of the \\nearlier years are populated with NA values for other categories such as \"Services Inflation Measure\" which may be due to such data not being recorded \\nduring the earlier years. An extract of the dataset \"consumer-price-index-cpi-additional-indicators-2019-as-base-year-index-annual.csv\" is shown below:')\n",
    "print()\n",
    "print(dfInflation.head(5))\n",
    "print()\n",
    "\n",
    "#To obtain the maximum values using idx command\n",
    "dfInflation_clean = dfInflation[dfInflation['value'] != \"na\"]\n",
    "dfInflation_clean['value'] = dfInflation_clean['value'].astype('float')\n",
    "dfInflation_clean_values = dfInflation_clean['value']\n",
    "dfInflation_year = dfInflation['year']\n",
    "dfInflation_max = dfInflation_clean_values.idxmax()\n",
    "\n",
    "\n",
    "#To obtain the minimum values using idx command\n",
    "dfInflation_min = dfInflation_clean_values.idxmin()\n",
    "\n",
    "print(f'The maximum inflation in the dataset is {dfInflation_clean_values[dfInflation_clean_values.idxmax()]}, at year {dfInflation_year[dfInflation_clean_values.idxmax()]}.')\n",
    "print(f'The minimum inflation in the dataset is {dfInflation_clean_values[dfInflation_clean_values.idxmin()]}, at year {dfInflation_year[dfInflation_clean_values.idxmin()]}.')\n",
    "print('Below generally describes the dataset.')\n",
    "print()\n",
    "print(dfInflation['value'].describe())\n",
    "\n"
   ]
  },
  {
   "cell_type": "code",
   "execution_count": 5,
   "metadata": {},
   "outputs": [
    {
     "data": {
      "text/markdown": [
       "The **cpi-by-household-income-group-and-expenditure-division-middle-60-half-yearly.csv** dataset provides very detailed CPI inflation breaking down inflation into categories like \"Food\" and \"Transport\" semi-annually with 2019 as the base year. An extract of the dataset \"cpi-by-household-income-group-and-expenditure-division-middle-60-half-yearly.csv\" is shown below:"
      ],
      "text/plain": [
       "<IPython.core.display.Markdown object>"
      ]
     },
     "metadata": {},
     "output_type": "display_data"
    },
    {
     "name": "stdout",
     "output_type": "stream",
     "text": [
      "\n",
      "  half_year    level_1                          level_2   value\n",
      "0   1993-H1  All Items                             Food  60.796\n",
      "1   1993-H1  All Items  Food Excl Food Serving Services  59.521\n",
      "2   1993-H1  All Items            Food Serving Services  61.434\n",
      "3   1993-H1  All Items              Clothing & Footwear  91.010\n",
      "4   1993-H1  All Items              Housing & Utilities  64.287\n",
      "\n",
      "The maximum inflation rate in the dataset is 125.468, at year 1994-H1.\n",
      "The minimum inflation rate in the dataset is 42.5, at year 1993-H1.\n",
      "Below generally describes the dataset.\n",
      "\n",
      "count    684.000000\n",
      "mean      85.367595\n",
      "std       15.639467\n",
      "min       42.500000\n",
      "25%       72.052000\n",
      "50%       88.496000\n",
      "75%       98.137250\n",
      "max      125.468000\n",
      "Name: value, dtype: float64\n"
     ]
    }
   ],
   "source": [
    "#information about CPI detailed semi-annual data\n",
    "printmd(f'The **cpi-by-household-income-group-and-expenditure-division-middle-60-half-yearly.csv** dataset provides very detailed CPI inflation breaking down inflation into categories like \"Food\" and \"Transport\" semi-annually with 2019 as the base year. An extract of the dataset \"cpi-by-household-income-group-and-expenditure-division-middle-60-half-yearly.csv\" is shown below:')\n",
    "print()\n",
    "print(dfDetailed_CPI_Semi.head(5))\n",
    "print()\n",
    "\n",
    "#To obtain the maximum values using idx command\n",
    "dfDetailed_CPI_Semi_clean = dfDetailed_CPI_Semi[dfDetailed_CPI_Semi['value'] != \"na\"]\n",
    "dfDetailed_CPI_Semi_clean['value'] = dfDetailed_CPI_Semi_clean['value'].astype('float')\n",
    "dfDetailed_CPI_Semi_clean_values = dfDetailed_CPI_Semi_clean['value']\n",
    "dfDetailed_CPI_Semi_year = dfDetailed_CPI_Semi['half_year']\n",
    "dfDetailed_CPI_Semi_max = dfDetailed_CPI_Semi_clean_values.idxmax()\n",
    "\n",
    "\n",
    "#To obtain the minimum values using idx command\n",
    "dfDetailed_CPI_Semi_min = dfDetailed_CPI_Semi_clean_values.idxmin()\n",
    "\n",
    "print(f'The maximum inflation rate in the dataset is {dfDetailed_CPI_Semi_clean_values[dfDetailed_CPI_Semi_clean_values.idxmax()]}, at year {dfDetailed_CPI_Semi_year[dfDetailed_CPI_Semi_clean_values.idxmax()]}.')\n",
    "print(f'The minimum inflation rate in the dataset is {dfDetailed_CPI_Semi_clean_values[dfDetailed_CPI_Semi_clean_values.idxmin()]}, at year {dfDetailed_CPI_Semi_year[dfDetailed_CPI_Semi_clean_values.idxmin()]}.')\n",
    "print('Below generally describes the dataset.')\n",
    "print()\n",
    "print(dfDetailed_CPI_Semi['value'].describe())"
   ]
  },
  {
   "cell_type": "code",
   "execution_count": 6,
   "metadata": {},
   "outputs": [
    {
     "data": {
      "text/markdown": [
       "The **cpi-by-household-income-group-and-expenditure-division-middle-60-annual** dataset provides very detailed CPI inflation breaking down inflation into categories like \"Food\" and \"Transport\" annually with 2019 as the base year. An extract of the dataset \"cpi-by-household-income-group-and-expenditure-division-middle-60-annual\" is shown below:"
      ],
      "text/plain": [
       "<IPython.core.display.Markdown object>"
      ]
     },
     "metadata": {},
     "output_type": "display_data"
    },
    {
     "name": "stdout",
     "output_type": "stream",
     "text": [
      "\n",
      "   year    level_1                          level_2   value\n",
      "0  1993  All Items                             Food  60.885\n",
      "1  1993  All Items  Food Excl Food Serving Services  59.462\n",
      "2  1993  All Items            Food Serving Services  61.672\n",
      "3  1993  All Items              Clothing & Footwear  91.231\n",
      "4  1993  All Items              Housing & Utilities  64.560\n",
      "\n",
      "The maximum inflation rate in the dataset is 125.043, at year 1994.\n",
      "The minimum inflation rate in the dataset is 42.896, at year 1993.\n",
      "Below generally describes the dataset.\n",
      "\n",
      "count    336.000000\n",
      "mean      85.100378\n",
      "std       15.640821\n",
      "min       42.896000\n",
      "25%       71.929500\n",
      "50%       87.790500\n",
      "75%       97.888000\n",
      "max      125.043000\n",
      "Name: value, dtype: float64\n"
     ]
    }
   ],
   "source": [
    "#information about CPI detailed annual data\n",
    "printmd(f'The **cpi-by-household-income-group-and-expenditure-division-middle-60-annual** dataset provides very detailed CPI inflation breaking down inflation into categories like \"Food\" and \"Transport\" annually with 2019 as the base year. An extract of the dataset \"cpi-by-household-income-group-and-expenditure-division-middle-60-annual\" is shown below:')\n",
    "print()\n",
    "print(dfDetailed_CPI_Annual.head(5))\n",
    "print()\n",
    "\n",
    "#To obtain the maximum values using idx command\n",
    "dfDetailed_CPI_Annual_clean = dfDetailed_CPI_Annual[dfDetailed_CPI_Annual['value'] != \"na\"]\n",
    "dfDetailed_CPI_Annual_clean['value'] = dfDetailed_CPI_Annual_clean['value'].astype('float')\n",
    "dfDetailed_CPI_Annual_clean_values = dfDetailed_CPI_Annual_clean['value']\n",
    "dfDetailed_CPI_Annual_year = dfDetailed_CPI_Annual['year']\n",
    "dfDetailed_CPI_Annual_max = dfDetailed_CPI_Annual_clean_values.idxmax()\n",
    "\n",
    "\n",
    "#To obtain the minimum values using idx command\n",
    "dfDetailed_CPI_Annual_min = dfDetailed_CPI_Annual_clean_values.idxmin()\n",
    "\n",
    "print(f'The maximum inflation rate in the dataset is {dfDetailed_CPI_Annual_clean_values[dfDetailed_CPI_Annual_clean_values.idxmax()]}, at year {dfDetailed_CPI_Annual_year[dfDetailed_CPI_Annual_clean_values.idxmax()]}.')\n",
    "print(f'The minimum inflation rate in the dataset is {dfDetailed_CPI_Annual_clean_values[dfDetailed_CPI_Annual_clean_values.idxmin()]}, at year {dfDetailed_CPI_Annual_year[dfDetailed_CPI_Annual_clean_values.idxmin()]}.')\n",
    "print('Below generally describes the dataset.')\n",
    "print()\n",
    "print(dfDetailed_CPI_Annual['value'].describe())\n"
   ]
  },
  {
   "cell_type": "code",
   "execution_count": 7,
   "metadata": {},
   "outputs": [
    {
     "data": {
      "text/markdown": [
       "The **government-operating-revenue.csv** dataset provides very detailed data regarding Singapore's government operating revenue broken down into categories like \"Corporate Income Tax\" and \"Assets Taxes\" with the values denominated in millions. An extract of the dataset \"government-operating-revenue.csv\" is shown below:"
      ],
      "text/plain": [
       "<IPython.core.display.Markdown object>"
      ]
     },
     "metadata": {},
     "output_type": "display_data"
    },
    {
     "name": "stdout",
     "output_type": "stream",
     "text": [
      "\n",
      "   financial_year actual_revised_estimated class  \\\n",
      "0            1997                   Actual   Tax   \n",
      "1            1997                   Actual   Tax   \n",
      "2            1997                   Actual   Tax   \n",
      "3            1997                   Actual   Tax   \n",
      "4            1997                   Actual   Tax   \n",
      "\n",
      "                              type  amount  percent_of_gdp  \n",
      "0             Corporate Income Tax    6809           0.045  \n",
      "1              Personal Income Tax    2347           0.016  \n",
      "2                  Withholding Tax     337           0.002  \n",
      "3  Statutory Boards' Contributions     702           0.005  \n",
      "4                     Assets Taxes    2335           0.016  \n",
      "\n",
      "The greatest source of revenue for the government in the dataset is 17968.0 million, at year 2021.\n",
      "The smallest source of revenue for the government in the dataset is 93.0 million, at year 2006.\n",
      "Below generally describes the dataset.\n",
      "\n",
      "count      350.000000\n",
      "mean      3360.185714\n",
      "std       3303.208396\n",
      "min         93.000000\n",
      "25%       1435.500000\n",
      "50%       2145.500000\n",
      "75%       3771.750000\n",
      "max      17968.000000\n",
      "Name: amount, dtype: float64\n"
     ]
    }
   ],
   "source": [
    "#information about CPI detailed annual data\n",
    "printmd(f'The **government-operating-revenue.csv** dataset provides very detailed data regarding Singapore\\'s government operating revenue broken down into categories like \"Corporate Income Tax\" and \"Assets Taxes\" with the values denominated in millions. An extract of the dataset \"government-operating-revenue.csv\" is shown below:')\n",
    "print()\n",
    "print(dfGovernment_Operating_Revenue.head(5))\n",
    "print()\n",
    "\n",
    "#To obtain the maximum amounts using idx command\n",
    "dfGovernment_Operating_Revenue_clean = dfGovernment_Operating_Revenue[dfGovernment_Operating_Revenue['amount'] != \"na\"]\n",
    "dfGovernment_Operating_Revenue_clean['amount'] = dfGovernment_Operating_Revenue_clean['amount'].astype('float')\n",
    "dfGovernment_Operating_Revenue_clean_amounts = dfGovernment_Operating_Revenue_clean['amount']\n",
    "dfGovernment_Operating_Revenue_year = dfGovernment_Operating_Revenue['financial_year']\n",
    "dfGovernment_Operating_Revenue_max = dfGovernment_Operating_Revenue_clean_amounts.idxmax()\n",
    "\n",
    "\n",
    "#To obtain the minimum amounts using idx command\n",
    "dfGovernment_Operating_Revenue_min = dfGovernment_Operating_Revenue_clean_amounts.idxmin()\n",
    "\n",
    "print(f'The greatest source of revenue for the government in the dataset is {dfGovernment_Operating_Revenue_clean_amounts[dfGovernment_Operating_Revenue_clean_amounts.idxmax()]} million, at year {dfGovernment_Operating_Revenue_year[dfGovernment_Operating_Revenue_clean_amounts.idxmax()]}.')\n",
    "print(f'The smallest source of revenue for the government in the dataset is {dfGovernment_Operating_Revenue_clean_amounts[dfGovernment_Operating_Revenue_clean_amounts.idxmin()]} million, at year {dfGovernment_Operating_Revenue_year[dfGovernment_Operating_Revenue_clean_amounts.idxmin()]}.')\n",
    "print('Below generally describes the dataset.')\n",
    "print()\n",
    "print(dfGovernment_Operating_Revenue['amount'].describe())\n",
    "\n",
    "\n"
   ]
  },
  {
   "cell_type": "code",
   "execution_count": 8,
   "metadata": {},
   "outputs": [
    {
     "data": {
      "text/markdown": [
       "The **government-total-expenditure.csv** dataset provides very detailed data regarding Singapore's government expenditures broken down into categories like \"Social Development\" and \"Security and External Relations\" with the values denominated in millions. An extract of the dataset \"government-total-expenditure.csv\" is shown below:"
      ],
      "text/plain": [
       "<IPython.core.display.Markdown object>"
      ]
     },
     "metadata": {},
     "output_type": "display_data"
    },
    {
     "name": "stdout",
     "output_type": "stream",
     "text": [
      "\n",
      "   financial_year actual_revised_estimated              sector  \\\n",
      "0            1997                   Actual  Social Development   \n",
      "1            1997                   Actual  Social Development   \n",
      "2            1997                   Actual  Social Development   \n",
      "3            1997                   Actual  Social Development   \n",
      "4            1997                   Actual  Social Development   \n",
      "\n",
      "               ministry         type  amount  percent_of_gdp  \n",
      "0             Education    Operating    3348           0.022  \n",
      "1             Education  Development    1102           0.007  \n",
      "2  National Development    Operating     441           0.003  \n",
      "3  National Development  Development     972           0.006  \n",
      "4                Health    Operating     896           0.006  \n",
      "\n",
      "The greatest expenditure for the government in the dataset is 17355.0 million, at year 2021.\n",
      "The smallest expenditure for the government in the dataset is 0.0 million, at year 1997.\n",
      "Below generally describes the dataset.\n",
      "\n",
      "count      950.000000\n",
      "mean      1260.277895\n",
      "std       2492.026399\n",
      "min          0.000000\n",
      "25%        100.000000\n",
      "50%        379.000000\n",
      "75%       1047.250000\n",
      "max      17355.000000\n",
      "Name: amount, dtype: float64\n"
     ]
    }
   ],
   "source": [
    "#information about CPI detailed annual data\n",
    "printmd(f'The **government-total-expenditure.csv** dataset provides very detailed data regarding Singapore\\'s government expenditures broken down into categories like \"Social Development\" and \"Security and External Relations\" with the values denominated in millions. An extract of the dataset \"government-total-expenditure.csv\" is shown below:')\n",
    "print()\n",
    "print(dfGovernment_Total_Expenditure.head(5))\n",
    "print()\n",
    "\n",
    "#To obtain the maximum amounts using idx command\n",
    "dfGovernment_Total_Expenditure_clean = dfGovernment_Total_Expenditure[dfGovernment_Total_Expenditure['amount'] != \"na\"]\n",
    "dfGovernment_Total_Expenditure_clean['amount'] = dfGovernment_Total_Expenditure_clean['amount'].astype('float')\n",
    "dfGovernment_Total_Expenditure_clean_amounts = dfGovernment_Total_Expenditure_clean['amount']\n",
    "dfGovernment_Total_Expenditure_year = dfGovernment_Total_Expenditure['financial_year']\n",
    "dfGovernment_Total_Expenditure_max = dfGovernment_Total_Expenditure_clean_amounts.idxmax()\n",
    "\n",
    "\n",
    "#To obtain the minimum amounts using idx command\n",
    "dfGovernment_Total_Expenditure_min = dfGovernment_Total_Expenditure_clean_amounts.idxmin()\n",
    "\n",
    "print(f'The greatest expenditure for the government in the dataset is {dfGovernment_Total_Expenditure_clean_amounts[dfGovernment_Total_Expenditure_clean_amounts.idxmax()]} million, at year {dfGovernment_Total_Expenditure_year[dfGovernment_Total_Expenditure_clean_amounts.idxmax()]}.')\n",
    "print(f'The smallest expenditure for the government in the dataset is {dfGovernment_Total_Expenditure_clean_amounts[dfGovernment_Total_Expenditure_clean_amounts.idxmin()]} million, at year {dfGovernment_Total_Expenditure_year[dfGovernment_Total_Expenditure_clean_amounts.idxmin()]}.')\n",
    "print('Below generally describes the dataset.')\n",
    "print()\n",
    "print(dfGovernment_Total_Expenditure['amount'].describe())\n",
    "\n"
   ]
  },
  {
   "cell_type": "code",
   "execution_count": 9,
   "metadata": {},
   "outputs": [
    {
     "data": {
      "text/markdown": [
       "The **housing-and-development-board-resale-price-index-1q2009-100-quarterly.csv** dataset provides information regarding the HDB resale price index in quarters with 2019 as the base year. An extract of the dataset \"housing-and-development-board-resale-price-index-1q2009-100-quarterly.csv\" is shown below:"
      ],
      "text/plain": [
       "<IPython.core.display.Markdown object>"
      ]
     },
     "metadata": {},
     "output_type": "display_data"
    },
    {
     "name": "stdout",
     "output_type": "stream",
     "text": [
      "\n",
      "   quarter  index\n",
      "0  1990-Q1   24.3\n",
      "1  1990-Q2   24.4\n",
      "2  1990-Q3   25.0\n",
      "3  1990-Q4   24.7\n",
      "4  1991-Q1   24.9\n",
      "\n",
      "The greatest HDB price index in the dataset is 168.1, at year 2022-Q3.\n",
      "The smallest HDB price index in the dataset is 24.3, at year 1990-Q1.\n",
      "Below generally describes the dataset.\n",
      "\n",
      "count    131.000000\n",
      "mean      95.485496\n",
      "std       38.692576\n",
      "min       24.300000\n",
      "25%       72.250000\n",
      "50%       88.000000\n",
      "75%      133.250000\n",
      "max      168.100000\n",
      "Name: index, dtype: float64\n"
     ]
    }
   ],
   "source": [
    "#information about CPI detailed annual data\n",
    "printmd(f'The **housing-and-development-board-resale-price-index-1q2009-100-quarterly.csv** dataset provides information regarding the HDB resale price index in quarters with 2019 as the base year. An extract of the dataset \"housing-and-development-board-resale-price-index-1q2009-100-quarterly.csv\" is shown below:')\n",
    "print()\n",
    "print(dfHDB_RPI.head(5))\n",
    "print()\n",
    "\n",
    "#To obtain the maximum index using idx command\n",
    "dfHDB_RPI_clean = dfHDB_RPI[dfHDB_RPI['index'] != \"na\"]\n",
    "dfHDB_RPI_clean['index'] = dfHDB_RPI_clean['index'].astype('float')\n",
    "dfHDB_RPI_clean_index = dfHDB_RPI_clean['index']\n",
    "dfHDB_RPI_year = dfHDB_RPI['quarter']\n",
    "dfHDB_RPI_max = dfHDB_RPI_clean_index.idxmax()\n",
    "\n",
    "\n",
    "#To obtain the minimum index using idx command\n",
    "dfHDB_RPI_min = dfHDB_RPI_clean_index.idxmin()\n",
    "\n",
    "print(f'The greatest HDB price index in the dataset is {dfHDB_RPI_clean_index[dfHDB_RPI_clean_index.idxmax()]}, at year {dfHDB_RPI_year[dfHDB_RPI_clean_index.idxmax()]}.')\n",
    "print(f'The smallest HDB price index in the dataset is {dfHDB_RPI_clean_index[dfHDB_RPI_clean_index.idxmin()]}, at year {dfHDB_RPI_year[dfHDB_RPI_clean_index.idxmin()]}.')\n",
    "print('Below generally describes the dataset.')\n",
    "print()\n",
    "print(dfHDB_RPI['index'].describe())\n",
    "\n",
    "\n"
   ]
  },
  {
   "cell_type": "code",
   "execution_count": 10,
   "metadata": {},
   "outputs": [
    {
     "data": {
      "text/markdown": [
       "The **money-supply-end-of-period-components-of-m1-and-quasi-money-monthly-sa.csv** dataset provides information regarding money supply categories M1 and M2 with M1 including very liquid monies such as cash and checkable deposits, with M2 being less liquid in nature comprising of M1 liquidity with money market funds, certificates of deposits and savings. An extract of the dataset \" money-supply-end-of-period-components-of-m1-and-quasi-money-monthly-sa.csv\" is shown below:"
      ],
      "text/plain": [
       "<IPython.core.display.Markdown object>"
      ]
     },
     "metadata": {},
     "output_type": "display_data"
    },
    {
     "name": "stdout",
     "output_type": "stream",
     "text": [
      "\n",
      "     month level_1 level_2      level_3  \\\n",
      "0  1991-01      M3      M2           M1   \n",
      "1  1991-01      M3      M2           M1   \n",
      "2  1991-01      M3      M2  Quasi-money   \n",
      "3  1991-01      M3      M2  Quasi-money   \n",
      "4  1991-01      M3      M2  Quasi-money   \n",
      "\n",
      "                                 level_4    value  \n",
      "0         Currency In Active Circulation   7064.1  \n",
      "1                        Demand Deposits   7569.1  \n",
      "2                         Fixed Deposits  36512.3  \n",
      "3  S$ Negotiable Certificate Of Deposits   1110.3  \n",
      "4               Savings & Other Deposits   9502.0  \n",
      "\n",
      "The greatest supply of money in a single month is 230068.1, at year 2020-01.\n",
      "The smallest supply of money in a single month is 0.0, at year 2009-08.\n",
      "Below generally describes the dataset.\n",
      "\n",
      "count      1755.000000\n",
      "mean      58339.583419\n",
      "std       63258.819693\n",
      "min           0.000000\n",
      "25%        9891.400000\n",
      "50%       28433.700000\n",
      "75%       93002.950000\n",
      "max      230068.100000\n",
      "Name: value, dtype: float64\n"
     ]
    }
   ],
   "source": [
    "#information about money supply M1 and M2\n",
    "printmd(f'The **money-supply-end-of-period-components-of-m1-and-quasi-money-monthly-sa.csv** dataset provides information regarding money supply categories M1 and M2 with M1 including very liquid monies such as cash and checkable deposits, with M2 being less liquid in nature comprising of M1 liquidity with money market funds, certificates of deposits and savings. An extract of the dataset \" money-supply-end-of-period-components-of-m1-and-quasi-money-monthly-sa.csv\" is shown below:')\n",
    "print()\n",
    "print(dfMoney_Supply_M1M2.head(5))\n",
    "print()\n",
    "\n",
    "#To obtain the maximum index using idx command\n",
    "dfMoney_Supply_M1M2_value = dfMoney_Supply_M1M2['value']\n",
    "dfMoney_Supply_M1M2_month = dfMoney_Supply_M1M2['month']\n",
    "dfMoney_Supply_M1M2_max = dfMoney_Supply_M1M2_value.idxmax()\n",
    "\n",
    "\n",
    "#To obtain the minimum index using idx command\n",
    "dfMoney_Supply_M1M2_min = dfMoney_Supply_M1M2_value.idxmin()\n",
    "\n",
    "print(f'The greatest supply of money in a single month is {dfMoney_Supply_M1M2_value[dfMoney_Supply_M1M2_max]}, at year {dfMoney_Supply_M1M2_month[dfMoney_Supply_M1M2_max]}.')\n",
    "print(f'The smallest supply of money in a single month is {dfMoney_Supply_M1M2_value[dfMoney_Supply_M1M2_min]}, at year {dfMoney_Supply_M1M2_month[dfMoney_Supply_M1M2_min]}.')\n",
    "print('Below generally describes the dataset.')\n",
    "print()\n",
    "print(dfMoney_Supply_M1M2['value'].describe())\n"
   ]
  },
  {
   "cell_type": "code",
   "execution_count": 11,
   "metadata": {},
   "outputs": [
    {
     "data": {
      "text/markdown": [
       "The **money-supply-end-of-period-m3-monthly-sa.csv** dataset provides information regarding money supply categories M1 and M2 with M1 including very liquid monies such as cash and checkable deposits, with M2 being less liquid in nature comprising of M1 liquidity with money market funds, certificates of deposits and savings. An extract of the dataset \" money-supply-end-of-period-components-of-m1-and-quasi-money-monthly-sa.csv\" is shown below:"
      ],
      "text/plain": [
       "<IPython.core.display.Markdown object>"
      ]
     },
     "metadata": {},
     "output_type": "display_data"
    },
    {
     "name": "stdout",
     "output_type": "stream",
     "text": [
      "\n",
      "     month level_1    value\n",
      "0  1991-01      M3  82388.3\n",
      "1  1991-02      M3  82666.3\n",
      "2  1991-03      M3  83606.2\n",
      "3  1991-04      M3  84332.7\n",
      "4  1991-05      M3  85458.0\n",
      "\n",
      "The greatest supply of M3 money in a single month is:669917.8, at year 2020-03.\n",
      "The smallest supply of M3 money in a single month is 82388.3, at year 1991-01.\n",
      "Below generally describes the dataset.\n",
      "\n",
      "count       351.000000\n",
      "mean     306885.135613\n",
      "std      177341.756743\n",
      "min       82388.300000\n",
      "25%      164859.600000\n",
      "50%      221791.900000\n",
      "75%      484767.550000\n",
      "max      669917.800000\n",
      "Name: value, dtype: float64\n"
     ]
    }
   ],
   "source": [
    "#information about money supply M3\n",
    "printmd(f'The **money-supply-end-of-period-m3-monthly-sa.csv** dataset provides information regarding money supply categories M1 and M2 with M1 including very liquid monies such as cash and checkable deposits, with M2 being less liquid in nature comprising of M1 liquidity with money market funds, certificates of deposits and savings. An extract of the dataset \" money-supply-end-of-period-components-of-m1-and-quasi-money-monthly-sa.csv\" is shown below:')\n",
    "print()\n",
    "print(dfMoney_Supply_M3.head(5))\n",
    "print()\n",
    "\n",
    "#To obtain the maximum index using idx command\n",
    "dfMoney_Supply_M3_value = dfMoney_Supply_M3['value']\n",
    "dfMoney_Supply_M3_month = dfMoney_Supply_M3['month']\n",
    "dfMoney_Supply_M3_max = dfMoney_Supply_M3_value.idxmax()\n",
    "\n",
    "\n",
    "#To obtain the minimum index using idx command\n",
    "dfMoney_Supply_M3_min = dfMoney_Supply_M3_value.idxmin()\n",
    "\n",
    "print(f'The greatest supply of M3 money in a single month is:{dfMoney_Supply_M3_value[dfMoney_Supply_M3_max]}, at year {dfMoney_Supply_M3_month[dfMoney_Supply_M3_max]}.')\n",
    "print(f'The smallest supply of M3 money in a single month is {dfMoney_Supply_M3_value[dfMoney_Supply_M3_min]}, at year {dfMoney_Supply_M3_month[dfMoney_Supply_M3_min]}.')\n",
    "print('Below generally describes the dataset.')\n",
    "print()\n",
    "print(dfMoney_Supply_M3['value'].describe())\n"
   ]
  },
  {
   "cell_type": "code",
   "execution_count": 12,
   "metadata": {},
   "outputs": [
    {
     "data": {
      "text/markdown": [
       "The **universities-intake-enrolment-and-graduates-by-course.csv** dataset provides information regarding Singaporean university, intake, enrolment, and graduation. An extract of the dataset “universities-intake-enrolment-and-graduates-by-course.csv\" is shown below:"
      ],
      "text/plain": [
       "<IPython.core.display.Markdown object>"
      ]
     },
     "metadata": {},
     "output_type": "display_data"
    },
    {
     "name": "stdout",
     "output_type": "stream",
     "text": [
      "\n",
      "   year sex                                course  intake  enrolment  \\\n",
      "0  2005  MF                           Accountancy     876       2561   \n",
      "1  2005   F                           Accountancy     530       1732   \n",
      "2  2005  MF  Architecture, Building & Real Estate     299       1310   \n",
      "3  2005   F  Architecture, Building & Real Estate     175        786   \n",
      "4  2005  MF             Business & Administration    1545       5013   \n",
      "\n",
      "   graduates  \n",
      "0        706  \n",
      "1        495  \n",
      "2        180  \n",
      "3        106  \n",
      "4       1256  \n",
      "\n",
      "The course with the greatest number of enrolments in a single year is the Engineering Sciences, at year 2021 with 18366 enrolments.\n",
      "\n",
      "The course with the smallest number of enrolments in a single year is the Education, at year 2005 with 0 enrolments.\n",
      "\n",
      "The course with the greatest number of intakes in a single year is the Engineering Sciences, at year 2017 with 5255 intakes.\n",
      "\n",
      "The course with the smallest number of intakes in a single year is the Education, at year 2005 with 0 intakes.\n",
      "\n",
      "The course with the greatest number of graduates in a single year is the Engineering Sciences, at year 2020 with 4621 graduates.\n",
      "\n",
      "The course with the smallest number of graduates in a single year is the Education, at year 2005 with 0 graduates.\n",
      "\n",
      "Below describes the enrolment column.\n",
      "\n",
      "count      510.000000\n",
      "mean      3052.150980\n",
      "std       3753.460828\n",
      "min          0.000000\n",
      "25%        690.500000\n",
      "50%       1394.000000\n",
      "75%       4494.000000\n",
      "max      18366.000000\n",
      "Name: enrolment, dtype: float64\n",
      "\n",
      "\n",
      "Below describes the intakes column.\n",
      "\n",
      "count     510.000000\n",
      "mean      856.500000\n",
      "std      1046.964818\n",
      "min         0.000000\n",
      "25%       185.000000\n",
      "50%       383.500000\n",
      "75%      1240.750000\n",
      "max      5255.000000\n",
      "Name: intake, dtype: float64\n",
      "\n",
      "\n",
      "Below describes the graduates column.\n",
      "\n",
      "count     510.000000\n",
      "mean      712.290196\n",
      "std       900.976873\n",
      "min         0.000000\n",
      "25%       146.250000\n",
      "50%       346.000000\n",
      "75%      1062.250000\n",
      "max      4621.000000\n",
      "Name: graduates, dtype: float64\n"
     ]
    }
   ],
   "source": [
    "#information about university intake, enrolment, and graduates\n",
    "printmd(f'The **universities-intake-enrolment-and-graduates-by-course.csv** dataset provides information regarding Singaporean university, intake, enrolment, and graduation. An extract of the dataset “universities-intake-enrolment-and-graduates-by-course.csv\" is shown below:')\n",
    "print()\n",
    "print(dfUniversity.head(5))\n",
    "print()\n",
    "\n",
    "#To obtain the maximum index using idx command\n",
    "dfUniversity_intake = dfUniversity['intake']\n",
    "dfUniversity_enrolment = dfUniversity['enrolment']\n",
    "dfUniversity_graduates = dfUniversity['graduates']\n",
    "dfUniversity_year = dfUniversity['year']\n",
    "dfUniversity_course = dfUniversity['course']\n",
    "\n",
    "dfUniversity_intake_max = dfUniversity['intake'].idxmax()\n",
    "dfUniversity_intake_min = dfUniversity['intake'].idxmin()\n",
    "\n",
    "dfUniversity_enrolment_max = dfUniversity['enrolment'].idxmax()\n",
    "dfUniversity_enrolment_min = dfUniversity['enrolment'].idxmin()\n",
    "\n",
    "dfUniversity_graduates_max = dfUniversity['graduates'].idxmax()\n",
    "dfUniversity_graduates_min = dfUniversity['graduates'].idxmin()\n",
    "\n",
    "#max and min of enrolments\n",
    "print(f'The course with the greatest number of enrolments in a single year is the {dfUniversity_course[dfUniversity_enrolment_max]}, at year {dfUniversity_year[dfUniversity_enrolment_max]} with {dfUniversity_enrolment[dfUniversity_enrolment_max]} enrolments.')\n",
    "print()\n",
    "print(f'The course with the smallest number of enrolments in a single year is the {dfUniversity_course[dfUniversity_enrolment_min]}, at year {dfUniversity_year[dfUniversity_enrolment_min]} with {dfUniversity_enrolment[dfUniversity_enrolment_min]} enrolments.')\n",
    "print()\n",
    "#max and min of intakes\n",
    "print(f'The course with the greatest number of intakes in a single year is the {dfUniversity_course[dfUniversity_intake_max]}, at year {dfUniversity_year[dfUniversity_intake_max]} with {dfUniversity_intake[dfUniversity_intake_max]} intakes.')\n",
    "print()\n",
    "print(f'The course with the smallest number of intakes in a single year is the {dfUniversity_course[dfUniversity_intake_min]}, at year {dfUniversity_year[dfUniversity_intake_min]} with {dfUniversity_intake[dfUniversity_intake_min]} intakes.')\n",
    "print()\n",
    "#max and min of graduates\n",
    "print(f'The course with the greatest number of graduates in a single year is the {dfUniversity_course[dfUniversity_graduates_max]}, at year {dfUniversity_year[dfUniversity_graduates_max]} with {dfUniversity_graduates[dfUniversity_graduates_max]} graduates.')\n",
    "print()\n",
    "print(f'The course with the smallest number of graduates in a single year is the {dfUniversity_course[dfUniversity_graduates_min]}, at year {dfUniversity_year[dfUniversity_graduates_min]} with {dfUniversity_graduates[dfUniversity_graduates_min]} graduates.')\n",
    "print()\n",
    "\n",
    "print('Below describes the enrolment column.')\n",
    "print()\n",
    "print(dfUniversity['enrolment'].describe())\n",
    "print()\n",
    "print()\n",
    "print('Below describes the intakes column.')\n",
    "print()\n",
    "print(dfUniversity['intake'].describe())\n",
    "print()\n",
    "print()\n",
    "print('Below describes the graduates column.')\n",
    "print()\n",
    "print(dfUniversity['graduates'].describe())\n"
   ]
  },
  {
   "cell_type": "markdown",
   "metadata": {},
   "source": [
    "# Graphs"
   ]
  },
  {
   "cell_type": "code",
   "execution_count": 13,
   "metadata": {},
   "outputs": [
    {
     "name": "stdout",
     "output_type": "stream",
     "text": [
      "List of Cufflinks Themes :  ['ggplot', 'pearl', 'solar', 'space', 'white', 'polar', 'henanigans']\n"
     ]
    },
    {
     "data": {
      "text/html": [
       "        <script type=\"text/javascript\">\n",
       "        window.PlotlyConfig = {MathJaxConfig: 'local'};\n",
       "        if (window.MathJax && window.MathJax.Hub && window.MathJax.Hub.Config) {window.MathJax.Hub.Config({SVG: {font: \"STIX-Web\"}});}\n",
       "        if (typeof require !== 'undefined') {\n",
       "        require.undef(\"plotly\");\n",
       "        requirejs.config({\n",
       "            paths: {\n",
       "                'plotly': ['https://cdn.plot.ly/plotly-2.12.1.min']\n",
       "            }\n",
       "        });\n",
       "        require(['plotly'], function(Plotly) {\n",
       "            window._Plotly = Plotly;\n",
       "        });\n",
       "        }\n",
       "        </script>\n",
       "        "
      ]
     },
     "metadata": {},
     "output_type": "display_data"
    }
   ],
   "source": [
    "print(\"List of Cufflinks Themes : \", cf.getThemes())\n",
    "\n",
    "## Setting Pearl Theme\n",
    "cf.set_config_file(theme='pearl', sharing='public', offline=True) # dimensions=(), margin=(20,20,20,20)"
   ]
  },
  {
   "cell_type": "code",
   "execution_count": 14,
   "metadata": {
    "scrolled": false
   },
   "outputs": [
    {
     "data": {
      "application/vnd.plotly.v1+json": {
       "config": {
        "linkText": "Export to plot.ly",
        "plotlyServerURL": "https://plot.ly",
        "showLink": true
       },
       "data": [
        {
         "line": {
          "color": "rgba(255, 153, 51, 1.0)",
          "dash": "solid",
          "shape": "linear",
          "width": 1.3
         },
         "mode": "lines",
         "name": "All Items",
         "text": "",
         "type": "scatter",
         "x": [
          1961,
          1962,
          1963,
          1964,
          1965,
          1966,
          1967,
          1968,
          1969,
          1970,
          1971,
          1972,
          1973,
          1974,
          1975,
          1976,
          1977,
          1978,
          1979,
          1980,
          1981,
          1982,
          1983,
          1984,
          1985,
          1986,
          1987,
          1988,
          1989,
          1990,
          1991,
          1992,
          1993,
          1994,
          1995,
          1996,
          1997,
          1998,
          1999,
          2000,
          2001,
          2002,
          2003,
          2004,
          2005,
          2006,
          2007,
          2008,
          2009,
          2010,
          2011,
          2012,
          2013,
          2014,
          2015,
          2016,
          2017,
          2018,
          2019,
          2020
         ],
         "y": [
          24.401,
          24.513,
          25.033,
          25.448,
          25.513,
          26.028,
          26.874,
          27.058,
          26.989,
          27.079,
          27.589,
          28.18,
          33.708,
          41.247,
          42.311,
          41.508,
          42.831,
          44.573,
          46.358,
          50.317,
          54.437,
          56.57,
          57.157,
          58.645,
          58.933,
          58.12,
          58.401,
          59.29,
          60.65,
          62.743,
          64.901,
          66.357,
          67.878,
          69.978,
          71.185,
          72.167,
          73.627,
          73.428,
          73.445,
          74.435,
          75.19,
          74.896,
          75.261,
          76.518,
          76.877,
          77.617,
          79.251,
          84.504,
          85.008,
          87.408,
          91.995,
          96.205,
          98.474,
          99.483,
          98.963,
          98.436,
          99.004,
          99.438,
          100,
          99.818
         ]
        }
       ],
       "layout": {
        "legend": {
         "bgcolor": "#F5F6F9",
         "font": {
          "color": "#4D5663"
         }
        },
        "paper_bgcolor": "#F5F6F9",
        "plot_bgcolor": "#F5F6F9",
        "template": {
         "data": {
          "bar": [
           {
            "error_x": {
             "color": "#2a3f5f"
            },
            "error_y": {
             "color": "#2a3f5f"
            },
            "marker": {
             "line": {
              "color": "#E5ECF6",
              "width": 0.5
             },
             "pattern": {
              "fillmode": "overlay",
              "size": 10,
              "solidity": 0.2
             }
            },
            "type": "bar"
           }
          ],
          "barpolar": [
           {
            "marker": {
             "line": {
              "color": "#E5ECF6",
              "width": 0.5
             },
             "pattern": {
              "fillmode": "overlay",
              "size": 10,
              "solidity": 0.2
             }
            },
            "type": "barpolar"
           }
          ],
          "carpet": [
           {
            "aaxis": {
             "endlinecolor": "#2a3f5f",
             "gridcolor": "white",
             "linecolor": "white",
             "minorgridcolor": "white",
             "startlinecolor": "#2a3f5f"
            },
            "baxis": {
             "endlinecolor": "#2a3f5f",
             "gridcolor": "white",
             "linecolor": "white",
             "minorgridcolor": "white",
             "startlinecolor": "#2a3f5f"
            },
            "type": "carpet"
           }
          ],
          "choropleth": [
           {
            "colorbar": {
             "outlinewidth": 0,
             "ticks": ""
            },
            "type": "choropleth"
           }
          ],
          "contour": [
           {
            "colorbar": {
             "outlinewidth": 0,
             "ticks": ""
            },
            "colorscale": [
             [
              0,
              "#0d0887"
             ],
             [
              0.1111111111111111,
              "#46039f"
             ],
             [
              0.2222222222222222,
              "#7201a8"
             ],
             [
              0.3333333333333333,
              "#9c179e"
             ],
             [
              0.4444444444444444,
              "#bd3786"
             ],
             [
              0.5555555555555556,
              "#d8576b"
             ],
             [
              0.6666666666666666,
              "#ed7953"
             ],
             [
              0.7777777777777778,
              "#fb9f3a"
             ],
             [
              0.8888888888888888,
              "#fdca26"
             ],
             [
              1,
              "#f0f921"
             ]
            ],
            "type": "contour"
           }
          ],
          "contourcarpet": [
           {
            "colorbar": {
             "outlinewidth": 0,
             "ticks": ""
            },
            "type": "contourcarpet"
           }
          ],
          "heatmap": [
           {
            "colorbar": {
             "outlinewidth": 0,
             "ticks": ""
            },
            "colorscale": [
             [
              0,
              "#0d0887"
             ],
             [
              0.1111111111111111,
              "#46039f"
             ],
             [
              0.2222222222222222,
              "#7201a8"
             ],
             [
              0.3333333333333333,
              "#9c179e"
             ],
             [
              0.4444444444444444,
              "#bd3786"
             ],
             [
              0.5555555555555556,
              "#d8576b"
             ],
             [
              0.6666666666666666,
              "#ed7953"
             ],
             [
              0.7777777777777778,
              "#fb9f3a"
             ],
             [
              0.8888888888888888,
              "#fdca26"
             ],
             [
              1,
              "#f0f921"
             ]
            ],
            "type": "heatmap"
           }
          ],
          "heatmapgl": [
           {
            "colorbar": {
             "outlinewidth": 0,
             "ticks": ""
            },
            "colorscale": [
             [
              0,
              "#0d0887"
             ],
             [
              0.1111111111111111,
              "#46039f"
             ],
             [
              0.2222222222222222,
              "#7201a8"
             ],
             [
              0.3333333333333333,
              "#9c179e"
             ],
             [
              0.4444444444444444,
              "#bd3786"
             ],
             [
              0.5555555555555556,
              "#d8576b"
             ],
             [
              0.6666666666666666,
              "#ed7953"
             ],
             [
              0.7777777777777778,
              "#fb9f3a"
             ],
             [
              0.8888888888888888,
              "#fdca26"
             ],
             [
              1,
              "#f0f921"
             ]
            ],
            "type": "heatmapgl"
           }
          ],
          "histogram": [
           {
            "marker": {
             "pattern": {
              "fillmode": "overlay",
              "size": 10,
              "solidity": 0.2
             }
            },
            "type": "histogram"
           }
          ],
          "histogram2d": [
           {
            "colorbar": {
             "outlinewidth": 0,
             "ticks": ""
            },
            "colorscale": [
             [
              0,
              "#0d0887"
             ],
             [
              0.1111111111111111,
              "#46039f"
             ],
             [
              0.2222222222222222,
              "#7201a8"
             ],
             [
              0.3333333333333333,
              "#9c179e"
             ],
             [
              0.4444444444444444,
              "#bd3786"
             ],
             [
              0.5555555555555556,
              "#d8576b"
             ],
             [
              0.6666666666666666,
              "#ed7953"
             ],
             [
              0.7777777777777778,
              "#fb9f3a"
             ],
             [
              0.8888888888888888,
              "#fdca26"
             ],
             [
              1,
              "#f0f921"
             ]
            ],
            "type": "histogram2d"
           }
          ],
          "histogram2dcontour": [
           {
            "colorbar": {
             "outlinewidth": 0,
             "ticks": ""
            },
            "colorscale": [
             [
              0,
              "#0d0887"
             ],
             [
              0.1111111111111111,
              "#46039f"
             ],
             [
              0.2222222222222222,
              "#7201a8"
             ],
             [
              0.3333333333333333,
              "#9c179e"
             ],
             [
              0.4444444444444444,
              "#bd3786"
             ],
             [
              0.5555555555555556,
              "#d8576b"
             ],
             [
              0.6666666666666666,
              "#ed7953"
             ],
             [
              0.7777777777777778,
              "#fb9f3a"
             ],
             [
              0.8888888888888888,
              "#fdca26"
             ],
             [
              1,
              "#f0f921"
             ]
            ],
            "type": "histogram2dcontour"
           }
          ],
          "mesh3d": [
           {
            "colorbar": {
             "outlinewidth": 0,
             "ticks": ""
            },
            "type": "mesh3d"
           }
          ],
          "parcoords": [
           {
            "line": {
             "colorbar": {
              "outlinewidth": 0,
              "ticks": ""
             }
            },
            "type": "parcoords"
           }
          ],
          "pie": [
           {
            "automargin": true,
            "type": "pie"
           }
          ],
          "scatter": [
           {
            "fillpattern": {
             "fillmode": "overlay",
             "size": 10,
             "solidity": 0.2
            },
            "type": "scatter"
           }
          ],
          "scatter3d": [
           {
            "line": {
             "colorbar": {
              "outlinewidth": 0,
              "ticks": ""
             }
            },
            "marker": {
             "colorbar": {
              "outlinewidth": 0,
              "ticks": ""
             }
            },
            "type": "scatter3d"
           }
          ],
          "scattercarpet": [
           {
            "marker": {
             "colorbar": {
              "outlinewidth": 0,
              "ticks": ""
             }
            },
            "type": "scattercarpet"
           }
          ],
          "scattergeo": [
           {
            "marker": {
             "colorbar": {
              "outlinewidth": 0,
              "ticks": ""
             }
            },
            "type": "scattergeo"
           }
          ],
          "scattergl": [
           {
            "marker": {
             "colorbar": {
              "outlinewidth": 0,
              "ticks": ""
             }
            },
            "type": "scattergl"
           }
          ],
          "scattermapbox": [
           {
            "marker": {
             "colorbar": {
              "outlinewidth": 0,
              "ticks": ""
             }
            },
            "type": "scattermapbox"
           }
          ],
          "scatterpolar": [
           {
            "marker": {
             "colorbar": {
              "outlinewidth": 0,
              "ticks": ""
             }
            },
            "type": "scatterpolar"
           }
          ],
          "scatterpolargl": [
           {
            "marker": {
             "colorbar": {
              "outlinewidth": 0,
              "ticks": ""
             }
            },
            "type": "scatterpolargl"
           }
          ],
          "scatterternary": [
           {
            "marker": {
             "colorbar": {
              "outlinewidth": 0,
              "ticks": ""
             }
            },
            "type": "scatterternary"
           }
          ],
          "surface": [
           {
            "colorbar": {
             "outlinewidth": 0,
             "ticks": ""
            },
            "colorscale": [
             [
              0,
              "#0d0887"
             ],
             [
              0.1111111111111111,
              "#46039f"
             ],
             [
              0.2222222222222222,
              "#7201a8"
             ],
             [
              0.3333333333333333,
              "#9c179e"
             ],
             [
              0.4444444444444444,
              "#bd3786"
             ],
             [
              0.5555555555555556,
              "#d8576b"
             ],
             [
              0.6666666666666666,
              "#ed7953"
             ],
             [
              0.7777777777777778,
              "#fb9f3a"
             ],
             [
              0.8888888888888888,
              "#fdca26"
             ],
             [
              1,
              "#f0f921"
             ]
            ],
            "type": "surface"
           }
          ],
          "table": [
           {
            "cells": {
             "fill": {
              "color": "#EBF0F8"
             },
             "line": {
              "color": "white"
             }
            },
            "header": {
             "fill": {
              "color": "#C8D4E3"
             },
             "line": {
              "color": "white"
             }
            },
            "type": "table"
           }
          ]
         },
         "layout": {
          "annotationdefaults": {
           "arrowcolor": "#2a3f5f",
           "arrowhead": 0,
           "arrowwidth": 1
          },
          "autotypenumbers": "strict",
          "coloraxis": {
           "colorbar": {
            "outlinewidth": 0,
            "ticks": ""
           }
          },
          "colorscale": {
           "diverging": [
            [
             0,
             "#8e0152"
            ],
            [
             0.1,
             "#c51b7d"
            ],
            [
             0.2,
             "#de77ae"
            ],
            [
             0.3,
             "#f1b6da"
            ],
            [
             0.4,
             "#fde0ef"
            ],
            [
             0.5,
             "#f7f7f7"
            ],
            [
             0.6,
             "#e6f5d0"
            ],
            [
             0.7,
             "#b8e186"
            ],
            [
             0.8,
             "#7fbc41"
            ],
            [
             0.9,
             "#4d9221"
            ],
            [
             1,
             "#276419"
            ]
           ],
           "sequential": [
            [
             0,
             "#0d0887"
            ],
            [
             0.1111111111111111,
             "#46039f"
            ],
            [
             0.2222222222222222,
             "#7201a8"
            ],
            [
             0.3333333333333333,
             "#9c179e"
            ],
            [
             0.4444444444444444,
             "#bd3786"
            ],
            [
             0.5555555555555556,
             "#d8576b"
            ],
            [
             0.6666666666666666,
             "#ed7953"
            ],
            [
             0.7777777777777778,
             "#fb9f3a"
            ],
            [
             0.8888888888888888,
             "#fdca26"
            ],
            [
             1,
             "#f0f921"
            ]
           ],
           "sequentialminus": [
            [
             0,
             "#0d0887"
            ],
            [
             0.1111111111111111,
             "#46039f"
            ],
            [
             0.2222222222222222,
             "#7201a8"
            ],
            [
             0.3333333333333333,
             "#9c179e"
            ],
            [
             0.4444444444444444,
             "#bd3786"
            ],
            [
             0.5555555555555556,
             "#d8576b"
            ],
            [
             0.6666666666666666,
             "#ed7953"
            ],
            [
             0.7777777777777778,
             "#fb9f3a"
            ],
            [
             0.8888888888888888,
             "#fdca26"
            ],
            [
             1,
             "#f0f921"
            ]
           ]
          },
          "colorway": [
           "#636efa",
           "#EF553B",
           "#00cc96",
           "#ab63fa",
           "#FFA15A",
           "#19d3f3",
           "#FF6692",
           "#B6E880",
           "#FF97FF",
           "#FECB52"
          ],
          "font": {
           "color": "#2a3f5f"
          },
          "geo": {
           "bgcolor": "white",
           "lakecolor": "white",
           "landcolor": "#E5ECF6",
           "showlakes": true,
           "showland": true,
           "subunitcolor": "white"
          },
          "hoverlabel": {
           "align": "left"
          },
          "hovermode": "closest",
          "mapbox": {
           "style": "light"
          },
          "paper_bgcolor": "white",
          "plot_bgcolor": "#E5ECF6",
          "polar": {
           "angularaxis": {
            "gridcolor": "white",
            "linecolor": "white",
            "ticks": ""
           },
           "bgcolor": "#E5ECF6",
           "radialaxis": {
            "gridcolor": "white",
            "linecolor": "white",
            "ticks": ""
           }
          },
          "scene": {
           "xaxis": {
            "backgroundcolor": "#E5ECF6",
            "gridcolor": "white",
            "gridwidth": 2,
            "linecolor": "white",
            "showbackground": true,
            "ticks": "",
            "zerolinecolor": "white"
           },
           "yaxis": {
            "backgroundcolor": "#E5ECF6",
            "gridcolor": "white",
            "gridwidth": 2,
            "linecolor": "white",
            "showbackground": true,
            "ticks": "",
            "zerolinecolor": "white"
           },
           "zaxis": {
            "backgroundcolor": "#E5ECF6",
            "gridcolor": "white",
            "gridwidth": 2,
            "linecolor": "white",
            "showbackground": true,
            "ticks": "",
            "zerolinecolor": "white"
           }
          },
          "shapedefaults": {
           "line": {
            "color": "#2a3f5f"
           }
          },
          "ternary": {
           "aaxis": {
            "gridcolor": "white",
            "linecolor": "white",
            "ticks": ""
           },
           "baxis": {
            "gridcolor": "white",
            "linecolor": "white",
            "ticks": ""
           },
           "bgcolor": "#E5ECF6",
           "caxis": {
            "gridcolor": "white",
            "linecolor": "white",
            "ticks": ""
           }
          },
          "title": {
           "x": 0.05
          },
          "xaxis": {
           "automargin": true,
           "gridcolor": "white",
           "linecolor": "white",
           "ticks": "",
           "title": {
            "standoff": 15
           },
           "zerolinecolor": "white",
           "zerolinewidth": 2
          },
          "yaxis": {
           "automargin": true,
           "gridcolor": "white",
           "linecolor": "white",
           "ticks": "",
           "title": {
            "standoff": 15
           },
           "zerolinecolor": "white",
           "zerolinewidth": 2
          }
         }
        },
        "title": {
         "font": {
          "color": "#4D5663"
         },
         "text": "CPI Indexes"
        },
        "xaxis": {
         "gridcolor": "#E1E5ED",
         "showgrid": true,
         "tickfont": {
          "color": "#4D5663"
         },
         "title": {
          "font": {
           "color": "#4D5663"
          },
          "text": "Years"
         },
         "zerolinecolor": "#E1E5ED"
        },
        "yaxis": {
         "gridcolor": "#E1E5ED",
         "showgrid": true,
         "tickfont": {
          "color": "#4D5663"
         },
         "title": {
          "font": {
           "color": "#4D5663"
          },
          "text": "Index"
         },
         "zerolinecolor": "#E1E5ED"
        }
       }
      },
      "text/html": [
       "<div>                            <div id=\"9497fbf3-122f-4a7e-ac18-e6130a79d921\" class=\"plotly-graph-div\" style=\"height:525px; width:100%;\"></div>            <script type=\"text/javascript\">                require([\"plotly\"], function(Plotly) {                    window.PLOTLYENV=window.PLOTLYENV || {};\n",
       "                    window.PLOTLYENV.BASE_URL='https://plot.ly';                                    if (document.getElementById(\"9497fbf3-122f-4a7e-ac18-e6130a79d921\")) {                    Plotly.newPlot(                        \"9497fbf3-122f-4a7e-ac18-e6130a79d921\",                        [{\"line\":{\"color\":\"rgba(255, 153, 51, 1.0)\",\"dash\":\"solid\",\"shape\":\"linear\",\"width\":1.3},\"mode\":\"lines\",\"name\":\"All Items\",\"text\":\"\",\"x\":[1961,1962,1963,1964,1965,1966,1967,1968,1969,1970,1971,1972,1973,1974,1975,1976,1977,1978,1979,1980,1981,1982,1983,1984,1985,1986,1987,1988,1989,1990,1991,1992,1993,1994,1995,1996,1997,1998,1999,2000,2001,2002,2003,2004,2005,2006,2007,2008,2009,2010,2011,2012,2013,2014,2015,2016,2017,2018,2019,2020],\"y\":[24.401,24.513,25.033,25.448,25.513,26.028,26.874,27.058,26.989,27.079,27.589,28.18,33.708,41.247,42.311,41.508,42.831,44.573,46.358,50.317,54.437,56.57,57.157,58.645,58.933,58.12,58.401,59.29,60.65,62.743,64.901,66.357,67.878,69.978,71.185,72.167,73.627,73.428,73.445,74.435,75.19,74.896,75.261,76.518,76.877,77.617,79.251,84.504,85.008,87.408,91.995,96.205,98.474,99.483,98.963,98.436,99.004,99.438,100.0,99.818],\"type\":\"scatter\"}],                        {\"legend\":{\"bgcolor\":\"#F5F6F9\",\"font\":{\"color\":\"#4D5663\"}},\"paper_bgcolor\":\"#F5F6F9\",\"plot_bgcolor\":\"#F5F6F9\",\"template\":{\"data\":{\"barpolar\":[{\"marker\":{\"line\":{\"color\":\"#E5ECF6\",\"width\":0.5},\"pattern\":{\"fillmode\":\"overlay\",\"size\":10,\"solidity\":0.2}},\"type\":\"barpolar\"}],\"bar\":[{\"error_x\":{\"color\":\"#2a3f5f\"},\"error_y\":{\"color\":\"#2a3f5f\"},\"marker\":{\"line\":{\"color\":\"#E5ECF6\",\"width\":0.5},\"pattern\":{\"fillmode\":\"overlay\",\"size\":10,\"solidity\":0.2}},\"type\":\"bar\"}],\"carpet\":[{\"aaxis\":{\"endlinecolor\":\"#2a3f5f\",\"gridcolor\":\"white\",\"linecolor\":\"white\",\"minorgridcolor\":\"white\",\"startlinecolor\":\"#2a3f5f\"},\"baxis\":{\"endlinecolor\":\"#2a3f5f\",\"gridcolor\":\"white\",\"linecolor\":\"white\",\"minorgridcolor\":\"white\",\"startlinecolor\":\"#2a3f5f\"},\"type\":\"carpet\"}],\"choropleth\":[{\"colorbar\":{\"outlinewidth\":0,\"ticks\":\"\"},\"type\":\"choropleth\"}],\"contourcarpet\":[{\"colorbar\":{\"outlinewidth\":0,\"ticks\":\"\"},\"type\":\"contourcarpet\"}],\"contour\":[{\"colorbar\":{\"outlinewidth\":0,\"ticks\":\"\"},\"colorscale\":[[0.0,\"#0d0887\"],[0.1111111111111111,\"#46039f\"],[0.2222222222222222,\"#7201a8\"],[0.3333333333333333,\"#9c179e\"],[0.4444444444444444,\"#bd3786\"],[0.5555555555555556,\"#d8576b\"],[0.6666666666666666,\"#ed7953\"],[0.7777777777777778,\"#fb9f3a\"],[0.8888888888888888,\"#fdca26\"],[1.0,\"#f0f921\"]],\"type\":\"contour\"}],\"heatmapgl\":[{\"colorbar\":{\"outlinewidth\":0,\"ticks\":\"\"},\"colorscale\":[[0.0,\"#0d0887\"],[0.1111111111111111,\"#46039f\"],[0.2222222222222222,\"#7201a8\"],[0.3333333333333333,\"#9c179e\"],[0.4444444444444444,\"#bd3786\"],[0.5555555555555556,\"#d8576b\"],[0.6666666666666666,\"#ed7953\"],[0.7777777777777778,\"#fb9f3a\"],[0.8888888888888888,\"#fdca26\"],[1.0,\"#f0f921\"]],\"type\":\"heatmapgl\"}],\"heatmap\":[{\"colorbar\":{\"outlinewidth\":0,\"ticks\":\"\"},\"colorscale\":[[0.0,\"#0d0887\"],[0.1111111111111111,\"#46039f\"],[0.2222222222222222,\"#7201a8\"],[0.3333333333333333,\"#9c179e\"],[0.4444444444444444,\"#bd3786\"],[0.5555555555555556,\"#d8576b\"],[0.6666666666666666,\"#ed7953\"],[0.7777777777777778,\"#fb9f3a\"],[0.8888888888888888,\"#fdca26\"],[1.0,\"#f0f921\"]],\"type\":\"heatmap\"}],\"histogram2dcontour\":[{\"colorbar\":{\"outlinewidth\":0,\"ticks\":\"\"},\"colorscale\":[[0.0,\"#0d0887\"],[0.1111111111111111,\"#46039f\"],[0.2222222222222222,\"#7201a8\"],[0.3333333333333333,\"#9c179e\"],[0.4444444444444444,\"#bd3786\"],[0.5555555555555556,\"#d8576b\"],[0.6666666666666666,\"#ed7953\"],[0.7777777777777778,\"#fb9f3a\"],[0.8888888888888888,\"#fdca26\"],[1.0,\"#f0f921\"]],\"type\":\"histogram2dcontour\"}],\"histogram2d\":[{\"colorbar\":{\"outlinewidth\":0,\"ticks\":\"\"},\"colorscale\":[[0.0,\"#0d0887\"],[0.1111111111111111,\"#46039f\"],[0.2222222222222222,\"#7201a8\"],[0.3333333333333333,\"#9c179e\"],[0.4444444444444444,\"#bd3786\"],[0.5555555555555556,\"#d8576b\"],[0.6666666666666666,\"#ed7953\"],[0.7777777777777778,\"#fb9f3a\"],[0.8888888888888888,\"#fdca26\"],[1.0,\"#f0f921\"]],\"type\":\"histogram2d\"}],\"histogram\":[{\"marker\":{\"pattern\":{\"fillmode\":\"overlay\",\"size\":10,\"solidity\":0.2}},\"type\":\"histogram\"}],\"mesh3d\":[{\"colorbar\":{\"outlinewidth\":0,\"ticks\":\"\"},\"type\":\"mesh3d\"}],\"parcoords\":[{\"line\":{\"colorbar\":{\"outlinewidth\":0,\"ticks\":\"\"}},\"type\":\"parcoords\"}],\"pie\":[{\"automargin\":true,\"type\":\"pie\"}],\"scatter3d\":[{\"line\":{\"colorbar\":{\"outlinewidth\":0,\"ticks\":\"\"}},\"marker\":{\"colorbar\":{\"outlinewidth\":0,\"ticks\":\"\"}},\"type\":\"scatter3d\"}],\"scattercarpet\":[{\"marker\":{\"colorbar\":{\"outlinewidth\":0,\"ticks\":\"\"}},\"type\":\"scattercarpet\"}],\"scattergeo\":[{\"marker\":{\"colorbar\":{\"outlinewidth\":0,\"ticks\":\"\"}},\"type\":\"scattergeo\"}],\"scattergl\":[{\"marker\":{\"colorbar\":{\"outlinewidth\":0,\"ticks\":\"\"}},\"type\":\"scattergl\"}],\"scattermapbox\":[{\"marker\":{\"colorbar\":{\"outlinewidth\":0,\"ticks\":\"\"}},\"type\":\"scattermapbox\"}],\"scatterpolargl\":[{\"marker\":{\"colorbar\":{\"outlinewidth\":0,\"ticks\":\"\"}},\"type\":\"scatterpolargl\"}],\"scatterpolar\":[{\"marker\":{\"colorbar\":{\"outlinewidth\":0,\"ticks\":\"\"}},\"type\":\"scatterpolar\"}],\"scatter\":[{\"fillpattern\":{\"fillmode\":\"overlay\",\"size\":10,\"solidity\":0.2},\"type\":\"scatter\"}],\"scatterternary\":[{\"marker\":{\"colorbar\":{\"outlinewidth\":0,\"ticks\":\"\"}},\"type\":\"scatterternary\"}],\"surface\":[{\"colorbar\":{\"outlinewidth\":0,\"ticks\":\"\"},\"colorscale\":[[0.0,\"#0d0887\"],[0.1111111111111111,\"#46039f\"],[0.2222222222222222,\"#7201a8\"],[0.3333333333333333,\"#9c179e\"],[0.4444444444444444,\"#bd3786\"],[0.5555555555555556,\"#d8576b\"],[0.6666666666666666,\"#ed7953\"],[0.7777777777777778,\"#fb9f3a\"],[0.8888888888888888,\"#fdca26\"],[1.0,\"#f0f921\"]],\"type\":\"surface\"}],\"table\":[{\"cells\":{\"fill\":{\"color\":\"#EBF0F8\"},\"line\":{\"color\":\"white\"}},\"header\":{\"fill\":{\"color\":\"#C8D4E3\"},\"line\":{\"color\":\"white\"}},\"type\":\"table\"}]},\"layout\":{\"annotationdefaults\":{\"arrowcolor\":\"#2a3f5f\",\"arrowhead\":0,\"arrowwidth\":1},\"autotypenumbers\":\"strict\",\"coloraxis\":{\"colorbar\":{\"outlinewidth\":0,\"ticks\":\"\"}},\"colorscale\":{\"diverging\":[[0,\"#8e0152\"],[0.1,\"#c51b7d\"],[0.2,\"#de77ae\"],[0.3,\"#f1b6da\"],[0.4,\"#fde0ef\"],[0.5,\"#f7f7f7\"],[0.6,\"#e6f5d0\"],[0.7,\"#b8e186\"],[0.8,\"#7fbc41\"],[0.9,\"#4d9221\"],[1,\"#276419\"]],\"sequential\":[[0.0,\"#0d0887\"],[0.1111111111111111,\"#46039f\"],[0.2222222222222222,\"#7201a8\"],[0.3333333333333333,\"#9c179e\"],[0.4444444444444444,\"#bd3786\"],[0.5555555555555556,\"#d8576b\"],[0.6666666666666666,\"#ed7953\"],[0.7777777777777778,\"#fb9f3a\"],[0.8888888888888888,\"#fdca26\"],[1.0,\"#f0f921\"]],\"sequentialminus\":[[0.0,\"#0d0887\"],[0.1111111111111111,\"#46039f\"],[0.2222222222222222,\"#7201a8\"],[0.3333333333333333,\"#9c179e\"],[0.4444444444444444,\"#bd3786\"],[0.5555555555555556,\"#d8576b\"],[0.6666666666666666,\"#ed7953\"],[0.7777777777777778,\"#fb9f3a\"],[0.8888888888888888,\"#fdca26\"],[1.0,\"#f0f921\"]]},\"colorway\":[\"#636efa\",\"#EF553B\",\"#00cc96\",\"#ab63fa\",\"#FFA15A\",\"#19d3f3\",\"#FF6692\",\"#B6E880\",\"#FF97FF\",\"#FECB52\"],\"font\":{\"color\":\"#2a3f5f\"},\"geo\":{\"bgcolor\":\"white\",\"lakecolor\":\"white\",\"landcolor\":\"#E5ECF6\",\"showlakes\":true,\"showland\":true,\"subunitcolor\":\"white\"},\"hoverlabel\":{\"align\":\"left\"},\"hovermode\":\"closest\",\"mapbox\":{\"style\":\"light\"},\"paper_bgcolor\":\"white\",\"plot_bgcolor\":\"#E5ECF6\",\"polar\":{\"angularaxis\":{\"gridcolor\":\"white\",\"linecolor\":\"white\",\"ticks\":\"\"},\"bgcolor\":\"#E5ECF6\",\"radialaxis\":{\"gridcolor\":\"white\",\"linecolor\":\"white\",\"ticks\":\"\"}},\"scene\":{\"xaxis\":{\"backgroundcolor\":\"#E5ECF6\",\"gridcolor\":\"white\",\"gridwidth\":2,\"linecolor\":\"white\",\"showbackground\":true,\"ticks\":\"\",\"zerolinecolor\":\"white\"},\"yaxis\":{\"backgroundcolor\":\"#E5ECF6\",\"gridcolor\":\"white\",\"gridwidth\":2,\"linecolor\":\"white\",\"showbackground\":true,\"ticks\":\"\",\"zerolinecolor\":\"white\"},\"zaxis\":{\"backgroundcolor\":\"#E5ECF6\",\"gridcolor\":\"white\",\"gridwidth\":2,\"linecolor\":\"white\",\"showbackground\":true,\"ticks\":\"\",\"zerolinecolor\":\"white\"}},\"shapedefaults\":{\"line\":{\"color\":\"#2a3f5f\"}},\"ternary\":{\"aaxis\":{\"gridcolor\":\"white\",\"linecolor\":\"white\",\"ticks\":\"\"},\"baxis\":{\"gridcolor\":\"white\",\"linecolor\":\"white\",\"ticks\":\"\"},\"bgcolor\":\"#E5ECF6\",\"caxis\":{\"gridcolor\":\"white\",\"linecolor\":\"white\",\"ticks\":\"\"}},\"title\":{\"x\":0.05},\"xaxis\":{\"automargin\":true,\"gridcolor\":\"white\",\"linecolor\":\"white\",\"ticks\":\"\",\"title\":{\"standoff\":15},\"zerolinecolor\":\"white\",\"zerolinewidth\":2},\"yaxis\":{\"automargin\":true,\"gridcolor\":\"white\",\"linecolor\":\"white\",\"ticks\":\"\",\"title\":{\"standoff\":15},\"zerolinecolor\":\"white\",\"zerolinewidth\":2}}},\"title\":{\"font\":{\"color\":\"#4D5663\"},\"text\":\"CPI Indexes\"},\"xaxis\":{\"gridcolor\":\"#E1E5ED\",\"showgrid\":true,\"tickfont\":{\"color\":\"#4D5663\"},\"title\":{\"font\":{\"color\":\"#4D5663\"},\"text\":\"Years\"},\"zerolinecolor\":\"#E1E5ED\"},\"yaxis\":{\"gridcolor\":\"#E1E5ED\",\"showgrid\":true,\"tickfont\":{\"color\":\"#4D5663\"},\"title\":{\"font\":{\"color\":\"#4D5663\"},\"text\":\"Index\"},\"zerolinecolor\":\"#E1E5ED\"}},                        {\"showLink\": true, \"linkText\": \"Export to plot.ly\", \"plotlyServerURL\": \"https://plot.ly\", \"responsive\": true}                    ).then(function(){\n",
       "                            \n",
       "var gd = document.getElementById('9497fbf3-122f-4a7e-ac18-e6130a79d921');\n",
       "var x = new MutationObserver(function (mutations, observer) {{\n",
       "        var display = window.getComputedStyle(gd).display;\n",
       "        if (!display || display === 'none') {{\n",
       "            console.log([gd, 'removed!']);\n",
       "            Plotly.purge(gd);\n",
       "            observer.disconnect();\n",
       "        }}\n",
       "}});\n",
       "\n",
       "// Listen for the removal of the full notebook cells\n",
       "var notebookContainer = gd.closest('#notebook-container');\n",
       "if (notebookContainer) {{\n",
       "    x.observe(notebookContainer, {childList: true});\n",
       "}}\n",
       "\n",
       "// Listen for the clearing of the current output cell\n",
       "var outputEl = gd.closest('.output');\n",
       "if (outputEl) {{\n",
       "    x.observe(outputEl, {childList: true});\n",
       "}}\n",
       "\n",
       "                        })                };                });            </script>        </div>"
      ]
     },
     "metadata": {},
     "output_type": "display_data"
    },
    {
     "name": "stdout",
     "output_type": "stream",
     "text": [
      "\n"
     ]
    },
    {
     "data": {
      "text/markdown": [
       "<u>**My thoughts, comments and analysis on the above chart:**</u>"
      ],
      "text/plain": [
       "<IPython.core.display.Markdown object>"
      ]
     },
     "metadata": {},
     "output_type": "display_data"
    },
    {
     "data": {
      "text/markdown": [
       "The chart shows the CPI Index performance over the years, with the CPI representing prices of general consumer goods. As seen the from the chart surprisingly during the financial crisis in 1997 and 2008 with the CPI increasing a relatively stable rate over the years."
      ],
      "text/plain": [
       "<IPython.core.display.Markdown object>"
      ]
     },
     "metadata": {},
     "output_type": "display_data"
    },
    {
     "data": {
      "application/vnd.plotly.v1+json": {
       "config": {
        "linkText": "Export to plot.ly",
        "plotlyServerURL": "https://plot.ly",
        "showLink": true
       },
       "data": [
        {
         "marker": {
          "color": "rgba(30, 144, 255, 0.6)",
          "line": {
           "color": "rgba(30, 144, 255, 1.0)",
           "width": 1
          }
         },
         "name": "value",
         "orientation": "v",
         "text": "",
         "type": "bar",
         "x": [
          "All Items",
          "All Items Less Imputed Rentals",
          "All Items Less Accommodation"
         ],
         "y": [
          99.818,
          99.683,
          99.657
         ]
        }
       ],
       "layout": {
        "bargap": 0.5,
        "height": 900,
        "legend": {
         "bgcolor": "#FFFFFF",
         "font": {
          "color": "#666666"
         }
        },
        "paper_bgcolor": "#FFFFFF",
        "plot_bgcolor": "#E5E5E5",
        "template": {
         "data": {
          "bar": [
           {
            "error_x": {
             "color": "#2a3f5f"
            },
            "error_y": {
             "color": "#2a3f5f"
            },
            "marker": {
             "line": {
              "color": "#E5ECF6",
              "width": 0.5
             },
             "pattern": {
              "fillmode": "overlay",
              "size": 10,
              "solidity": 0.2
             }
            },
            "type": "bar"
           }
          ],
          "barpolar": [
           {
            "marker": {
             "line": {
              "color": "#E5ECF6",
              "width": 0.5
             },
             "pattern": {
              "fillmode": "overlay",
              "size": 10,
              "solidity": 0.2
             }
            },
            "type": "barpolar"
           }
          ],
          "carpet": [
           {
            "aaxis": {
             "endlinecolor": "#2a3f5f",
             "gridcolor": "white",
             "linecolor": "white",
             "minorgridcolor": "white",
             "startlinecolor": "#2a3f5f"
            },
            "baxis": {
             "endlinecolor": "#2a3f5f",
             "gridcolor": "white",
             "linecolor": "white",
             "minorgridcolor": "white",
             "startlinecolor": "#2a3f5f"
            },
            "type": "carpet"
           }
          ],
          "choropleth": [
           {
            "colorbar": {
             "outlinewidth": 0,
             "ticks": ""
            },
            "type": "choropleth"
           }
          ],
          "contour": [
           {
            "colorbar": {
             "outlinewidth": 0,
             "ticks": ""
            },
            "colorscale": [
             [
              0,
              "#0d0887"
             ],
             [
              0.1111111111111111,
              "#46039f"
             ],
             [
              0.2222222222222222,
              "#7201a8"
             ],
             [
              0.3333333333333333,
              "#9c179e"
             ],
             [
              0.4444444444444444,
              "#bd3786"
             ],
             [
              0.5555555555555556,
              "#d8576b"
             ],
             [
              0.6666666666666666,
              "#ed7953"
             ],
             [
              0.7777777777777778,
              "#fb9f3a"
             ],
             [
              0.8888888888888888,
              "#fdca26"
             ],
             [
              1,
              "#f0f921"
             ]
            ],
            "type": "contour"
           }
          ],
          "contourcarpet": [
           {
            "colorbar": {
             "outlinewidth": 0,
             "ticks": ""
            },
            "type": "contourcarpet"
           }
          ],
          "heatmap": [
           {
            "colorbar": {
             "outlinewidth": 0,
             "ticks": ""
            },
            "colorscale": [
             [
              0,
              "#0d0887"
             ],
             [
              0.1111111111111111,
              "#46039f"
             ],
             [
              0.2222222222222222,
              "#7201a8"
             ],
             [
              0.3333333333333333,
              "#9c179e"
             ],
             [
              0.4444444444444444,
              "#bd3786"
             ],
             [
              0.5555555555555556,
              "#d8576b"
             ],
             [
              0.6666666666666666,
              "#ed7953"
             ],
             [
              0.7777777777777778,
              "#fb9f3a"
             ],
             [
              0.8888888888888888,
              "#fdca26"
             ],
             [
              1,
              "#f0f921"
             ]
            ],
            "type": "heatmap"
           }
          ],
          "heatmapgl": [
           {
            "colorbar": {
             "outlinewidth": 0,
             "ticks": ""
            },
            "colorscale": [
             [
              0,
              "#0d0887"
             ],
             [
              0.1111111111111111,
              "#46039f"
             ],
             [
              0.2222222222222222,
              "#7201a8"
             ],
             [
              0.3333333333333333,
              "#9c179e"
             ],
             [
              0.4444444444444444,
              "#bd3786"
             ],
             [
              0.5555555555555556,
              "#d8576b"
             ],
             [
              0.6666666666666666,
              "#ed7953"
             ],
             [
              0.7777777777777778,
              "#fb9f3a"
             ],
             [
              0.8888888888888888,
              "#fdca26"
             ],
             [
              1,
              "#f0f921"
             ]
            ],
            "type": "heatmapgl"
           }
          ],
          "histogram": [
           {
            "marker": {
             "pattern": {
              "fillmode": "overlay",
              "size": 10,
              "solidity": 0.2
             }
            },
            "type": "histogram"
           }
          ],
          "histogram2d": [
           {
            "colorbar": {
             "outlinewidth": 0,
             "ticks": ""
            },
            "colorscale": [
             [
              0,
              "#0d0887"
             ],
             [
              0.1111111111111111,
              "#46039f"
             ],
             [
              0.2222222222222222,
              "#7201a8"
             ],
             [
              0.3333333333333333,
              "#9c179e"
             ],
             [
              0.4444444444444444,
              "#bd3786"
             ],
             [
              0.5555555555555556,
              "#d8576b"
             ],
             [
              0.6666666666666666,
              "#ed7953"
             ],
             [
              0.7777777777777778,
              "#fb9f3a"
             ],
             [
              0.8888888888888888,
              "#fdca26"
             ],
             [
              1,
              "#f0f921"
             ]
            ],
            "type": "histogram2d"
           }
          ],
          "histogram2dcontour": [
           {
            "colorbar": {
             "outlinewidth": 0,
             "ticks": ""
            },
            "colorscale": [
             [
              0,
              "#0d0887"
             ],
             [
              0.1111111111111111,
              "#46039f"
             ],
             [
              0.2222222222222222,
              "#7201a8"
             ],
             [
              0.3333333333333333,
              "#9c179e"
             ],
             [
              0.4444444444444444,
              "#bd3786"
             ],
             [
              0.5555555555555556,
              "#d8576b"
             ],
             [
              0.6666666666666666,
              "#ed7953"
             ],
             [
              0.7777777777777778,
              "#fb9f3a"
             ],
             [
              0.8888888888888888,
              "#fdca26"
             ],
             [
              1,
              "#f0f921"
             ]
            ],
            "type": "histogram2dcontour"
           }
          ],
          "mesh3d": [
           {
            "colorbar": {
             "outlinewidth": 0,
             "ticks": ""
            },
            "type": "mesh3d"
           }
          ],
          "parcoords": [
           {
            "line": {
             "colorbar": {
              "outlinewidth": 0,
              "ticks": ""
             }
            },
            "type": "parcoords"
           }
          ],
          "pie": [
           {
            "automargin": true,
            "type": "pie"
           }
          ],
          "scatter": [
           {
            "fillpattern": {
             "fillmode": "overlay",
             "size": 10,
             "solidity": 0.2
            },
            "type": "scatter"
           }
          ],
          "scatter3d": [
           {
            "line": {
             "colorbar": {
              "outlinewidth": 0,
              "ticks": ""
             }
            },
            "marker": {
             "colorbar": {
              "outlinewidth": 0,
              "ticks": ""
             }
            },
            "type": "scatter3d"
           }
          ],
          "scattercarpet": [
           {
            "marker": {
             "colorbar": {
              "outlinewidth": 0,
              "ticks": ""
             }
            },
            "type": "scattercarpet"
           }
          ],
          "scattergeo": [
           {
            "marker": {
             "colorbar": {
              "outlinewidth": 0,
              "ticks": ""
             }
            },
            "type": "scattergeo"
           }
          ],
          "scattergl": [
           {
            "marker": {
             "colorbar": {
              "outlinewidth": 0,
              "ticks": ""
             }
            },
            "type": "scattergl"
           }
          ],
          "scattermapbox": [
           {
            "marker": {
             "colorbar": {
              "outlinewidth": 0,
              "ticks": ""
             }
            },
            "type": "scattermapbox"
           }
          ],
          "scatterpolar": [
           {
            "marker": {
             "colorbar": {
              "outlinewidth": 0,
              "ticks": ""
             }
            },
            "type": "scatterpolar"
           }
          ],
          "scatterpolargl": [
           {
            "marker": {
             "colorbar": {
              "outlinewidth": 0,
              "ticks": ""
             }
            },
            "type": "scatterpolargl"
           }
          ],
          "scatterternary": [
           {
            "marker": {
             "colorbar": {
              "outlinewidth": 0,
              "ticks": ""
             }
            },
            "type": "scatterternary"
           }
          ],
          "surface": [
           {
            "colorbar": {
             "outlinewidth": 0,
             "ticks": ""
            },
            "colorscale": [
             [
              0,
              "#0d0887"
             ],
             [
              0.1111111111111111,
              "#46039f"
             ],
             [
              0.2222222222222222,
              "#7201a8"
             ],
             [
              0.3333333333333333,
              "#9c179e"
             ],
             [
              0.4444444444444444,
              "#bd3786"
             ],
             [
              0.5555555555555556,
              "#d8576b"
             ],
             [
              0.6666666666666666,
              "#ed7953"
             ],
             [
              0.7777777777777778,
              "#fb9f3a"
             ],
             [
              0.8888888888888888,
              "#fdca26"
             ],
             [
              1,
              "#f0f921"
             ]
            ],
            "type": "surface"
           }
          ],
          "table": [
           {
            "cells": {
             "fill": {
              "color": "#EBF0F8"
             },
             "line": {
              "color": "white"
             }
            },
            "header": {
             "fill": {
              "color": "#C8D4E3"
             },
             "line": {
              "color": "white"
             }
            },
            "type": "table"
           }
          ]
         },
         "layout": {
          "annotationdefaults": {
           "arrowcolor": "#2a3f5f",
           "arrowhead": 0,
           "arrowwidth": 1
          },
          "autotypenumbers": "strict",
          "coloraxis": {
           "colorbar": {
            "outlinewidth": 0,
            "ticks": ""
           }
          },
          "colorscale": {
           "diverging": [
            [
             0,
             "#8e0152"
            ],
            [
             0.1,
             "#c51b7d"
            ],
            [
             0.2,
             "#de77ae"
            ],
            [
             0.3,
             "#f1b6da"
            ],
            [
             0.4,
             "#fde0ef"
            ],
            [
             0.5,
             "#f7f7f7"
            ],
            [
             0.6,
             "#e6f5d0"
            ],
            [
             0.7,
             "#b8e186"
            ],
            [
             0.8,
             "#7fbc41"
            ],
            [
             0.9,
             "#4d9221"
            ],
            [
             1,
             "#276419"
            ]
           ],
           "sequential": [
            [
             0,
             "#0d0887"
            ],
            [
             0.1111111111111111,
             "#46039f"
            ],
            [
             0.2222222222222222,
             "#7201a8"
            ],
            [
             0.3333333333333333,
             "#9c179e"
            ],
            [
             0.4444444444444444,
             "#bd3786"
            ],
            [
             0.5555555555555556,
             "#d8576b"
            ],
            [
             0.6666666666666666,
             "#ed7953"
            ],
            [
             0.7777777777777778,
             "#fb9f3a"
            ],
            [
             0.8888888888888888,
             "#fdca26"
            ],
            [
             1,
             "#f0f921"
            ]
           ],
           "sequentialminus": [
            [
             0,
             "#0d0887"
            ],
            [
             0.1111111111111111,
             "#46039f"
            ],
            [
             0.2222222222222222,
             "#7201a8"
            ],
            [
             0.3333333333333333,
             "#9c179e"
            ],
            [
             0.4444444444444444,
             "#bd3786"
            ],
            [
             0.5555555555555556,
             "#d8576b"
            ],
            [
             0.6666666666666666,
             "#ed7953"
            ],
            [
             0.7777777777777778,
             "#fb9f3a"
            ],
            [
             0.8888888888888888,
             "#fdca26"
            ],
            [
             1,
             "#f0f921"
            ]
           ]
          },
          "colorway": [
           "#636efa",
           "#EF553B",
           "#00cc96",
           "#ab63fa",
           "#FFA15A",
           "#19d3f3",
           "#FF6692",
           "#B6E880",
           "#FF97FF",
           "#FECB52"
          ],
          "font": {
           "color": "#2a3f5f"
          },
          "geo": {
           "bgcolor": "white",
           "lakecolor": "white",
           "landcolor": "#E5ECF6",
           "showlakes": true,
           "showland": true,
           "subunitcolor": "white"
          },
          "hoverlabel": {
           "align": "left"
          },
          "hovermode": "closest",
          "mapbox": {
           "style": "light"
          },
          "paper_bgcolor": "white",
          "plot_bgcolor": "#E5ECF6",
          "polar": {
           "angularaxis": {
            "gridcolor": "white",
            "linecolor": "white",
            "ticks": ""
           },
           "bgcolor": "#E5ECF6",
           "radialaxis": {
            "gridcolor": "white",
            "linecolor": "white",
            "ticks": ""
           }
          },
          "scene": {
           "xaxis": {
            "backgroundcolor": "#E5ECF6",
            "gridcolor": "white",
            "gridwidth": 2,
            "linecolor": "white",
            "showbackground": true,
            "ticks": "",
            "zerolinecolor": "white"
           },
           "yaxis": {
            "backgroundcolor": "#E5ECF6",
            "gridcolor": "white",
            "gridwidth": 2,
            "linecolor": "white",
            "showbackground": true,
            "ticks": "",
            "zerolinecolor": "white"
           },
           "zaxis": {
            "backgroundcolor": "#E5ECF6",
            "gridcolor": "white",
            "gridwidth": 2,
            "linecolor": "white",
            "showbackground": true,
            "ticks": "",
            "zerolinecolor": "white"
           }
          },
          "shapedefaults": {
           "line": {
            "color": "#2a3f5f"
           }
          },
          "ternary": {
           "aaxis": {
            "gridcolor": "white",
            "linecolor": "white",
            "ticks": ""
           },
           "baxis": {
            "gridcolor": "white",
            "linecolor": "white",
            "ticks": ""
           },
           "bgcolor": "#E5ECF6",
           "caxis": {
            "gridcolor": "white",
            "linecolor": "white",
            "ticks": ""
           }
          },
          "title": {
           "x": 0.05
          },
          "xaxis": {
           "automargin": true,
           "gridcolor": "white",
           "linecolor": "white",
           "ticks": "",
           "title": {
            "standoff": 15
           },
           "zerolinecolor": "white",
           "zerolinewidth": 2
          },
          "yaxis": {
           "automargin": true,
           "gridcolor": "white",
           "linecolor": "white",
           "ticks": "",
           "title": {
            "standoff": 15
           },
           "zerolinecolor": "white",
           "zerolinewidth": 2
          }
         }
        },
        "title": {
         "font": {
          "color": "#151516"
         },
         "text": "2020 CPI Index Comparison(2019=100%)"
        },
        "width": 900,
        "xaxis": {
         "gridcolor": "#F6F6F6",
         "showgrid": true,
         "tickfont": {
          "color": "#666666"
         },
         "title": {
          "font": {
           "color": "#666666"
          },
          "text": "CPI Index"
         },
         "zerolinecolor": "#F6F6F6"
        },
        "yaxis": {
         "gridcolor": "#F6F6F6",
         "showgrid": true,
         "tickfont": {
          "color": "#666666"
         },
         "title": {
          "font": {
           "color": "#666666"
          },
          "text": "CPI(2019=100%)"
         },
         "zerolinecolor": "#F6F6F6"
        }
       }
      },
      "text/html": [
       "<div>                            <div id=\"01e092fd-5a36-4106-8ff8-8ff2ea98f910\" class=\"plotly-graph-div\" style=\"height:900px; width:900px;\"></div>            <script type=\"text/javascript\">                require([\"plotly\"], function(Plotly) {                    window.PLOTLYENV=window.PLOTLYENV || {};\n",
       "                    window.PLOTLYENV.BASE_URL='https://plot.ly';                                    if (document.getElementById(\"01e092fd-5a36-4106-8ff8-8ff2ea98f910\")) {                    Plotly.newPlot(                        \"01e092fd-5a36-4106-8ff8-8ff2ea98f910\",                        [{\"marker\":{\"color\":\"rgba(30, 144, 255, 0.6)\",\"line\":{\"color\":\"rgba(30, 144, 255, 1.0)\",\"width\":1}},\"name\":\"value\",\"orientation\":\"v\",\"text\":\"\",\"x\":[\"All Items\",\"All Items Less Imputed Rentals\",\"All Items Less Accommodation\"],\"y\":[99.818,99.683,99.657],\"type\":\"bar\"}],                        {\"bargap\":0.5,\"height\":900,\"legend\":{\"bgcolor\":\"#FFFFFF\",\"font\":{\"color\":\"#666666\"}},\"paper_bgcolor\":\"#FFFFFF\",\"plot_bgcolor\":\"#E5E5E5\",\"template\":{\"data\":{\"barpolar\":[{\"marker\":{\"line\":{\"color\":\"#E5ECF6\",\"width\":0.5},\"pattern\":{\"fillmode\":\"overlay\",\"size\":10,\"solidity\":0.2}},\"type\":\"barpolar\"}],\"bar\":[{\"error_x\":{\"color\":\"#2a3f5f\"},\"error_y\":{\"color\":\"#2a3f5f\"},\"marker\":{\"line\":{\"color\":\"#E5ECF6\",\"width\":0.5},\"pattern\":{\"fillmode\":\"overlay\",\"size\":10,\"solidity\":0.2}},\"type\":\"bar\"}],\"carpet\":[{\"aaxis\":{\"endlinecolor\":\"#2a3f5f\",\"gridcolor\":\"white\",\"linecolor\":\"white\",\"minorgridcolor\":\"white\",\"startlinecolor\":\"#2a3f5f\"},\"baxis\":{\"endlinecolor\":\"#2a3f5f\",\"gridcolor\":\"white\",\"linecolor\":\"white\",\"minorgridcolor\":\"white\",\"startlinecolor\":\"#2a3f5f\"},\"type\":\"carpet\"}],\"choropleth\":[{\"colorbar\":{\"outlinewidth\":0,\"ticks\":\"\"},\"type\":\"choropleth\"}],\"contourcarpet\":[{\"colorbar\":{\"outlinewidth\":0,\"ticks\":\"\"},\"type\":\"contourcarpet\"}],\"contour\":[{\"colorbar\":{\"outlinewidth\":0,\"ticks\":\"\"},\"colorscale\":[[0.0,\"#0d0887\"],[0.1111111111111111,\"#46039f\"],[0.2222222222222222,\"#7201a8\"],[0.3333333333333333,\"#9c179e\"],[0.4444444444444444,\"#bd3786\"],[0.5555555555555556,\"#d8576b\"],[0.6666666666666666,\"#ed7953\"],[0.7777777777777778,\"#fb9f3a\"],[0.8888888888888888,\"#fdca26\"],[1.0,\"#f0f921\"]],\"type\":\"contour\"}],\"heatmapgl\":[{\"colorbar\":{\"outlinewidth\":0,\"ticks\":\"\"},\"colorscale\":[[0.0,\"#0d0887\"],[0.1111111111111111,\"#46039f\"],[0.2222222222222222,\"#7201a8\"],[0.3333333333333333,\"#9c179e\"],[0.4444444444444444,\"#bd3786\"],[0.5555555555555556,\"#d8576b\"],[0.6666666666666666,\"#ed7953\"],[0.7777777777777778,\"#fb9f3a\"],[0.8888888888888888,\"#fdca26\"],[1.0,\"#f0f921\"]],\"type\":\"heatmapgl\"}],\"heatmap\":[{\"colorbar\":{\"outlinewidth\":0,\"ticks\":\"\"},\"colorscale\":[[0.0,\"#0d0887\"],[0.1111111111111111,\"#46039f\"],[0.2222222222222222,\"#7201a8\"],[0.3333333333333333,\"#9c179e\"],[0.4444444444444444,\"#bd3786\"],[0.5555555555555556,\"#d8576b\"],[0.6666666666666666,\"#ed7953\"],[0.7777777777777778,\"#fb9f3a\"],[0.8888888888888888,\"#fdca26\"],[1.0,\"#f0f921\"]],\"type\":\"heatmap\"}],\"histogram2dcontour\":[{\"colorbar\":{\"outlinewidth\":0,\"ticks\":\"\"},\"colorscale\":[[0.0,\"#0d0887\"],[0.1111111111111111,\"#46039f\"],[0.2222222222222222,\"#7201a8\"],[0.3333333333333333,\"#9c179e\"],[0.4444444444444444,\"#bd3786\"],[0.5555555555555556,\"#d8576b\"],[0.6666666666666666,\"#ed7953\"],[0.7777777777777778,\"#fb9f3a\"],[0.8888888888888888,\"#fdca26\"],[1.0,\"#f0f921\"]],\"type\":\"histogram2dcontour\"}],\"histogram2d\":[{\"colorbar\":{\"outlinewidth\":0,\"ticks\":\"\"},\"colorscale\":[[0.0,\"#0d0887\"],[0.1111111111111111,\"#46039f\"],[0.2222222222222222,\"#7201a8\"],[0.3333333333333333,\"#9c179e\"],[0.4444444444444444,\"#bd3786\"],[0.5555555555555556,\"#d8576b\"],[0.6666666666666666,\"#ed7953\"],[0.7777777777777778,\"#fb9f3a\"],[0.8888888888888888,\"#fdca26\"],[1.0,\"#f0f921\"]],\"type\":\"histogram2d\"}],\"histogram\":[{\"marker\":{\"pattern\":{\"fillmode\":\"overlay\",\"size\":10,\"solidity\":0.2}},\"type\":\"histogram\"}],\"mesh3d\":[{\"colorbar\":{\"outlinewidth\":0,\"ticks\":\"\"},\"type\":\"mesh3d\"}],\"parcoords\":[{\"line\":{\"colorbar\":{\"outlinewidth\":0,\"ticks\":\"\"}},\"type\":\"parcoords\"}],\"pie\":[{\"automargin\":true,\"type\":\"pie\"}],\"scatter3d\":[{\"line\":{\"colorbar\":{\"outlinewidth\":0,\"ticks\":\"\"}},\"marker\":{\"colorbar\":{\"outlinewidth\":0,\"ticks\":\"\"}},\"type\":\"scatter3d\"}],\"scattercarpet\":[{\"marker\":{\"colorbar\":{\"outlinewidth\":0,\"ticks\":\"\"}},\"type\":\"scattercarpet\"}],\"scattergeo\":[{\"marker\":{\"colorbar\":{\"outlinewidth\":0,\"ticks\":\"\"}},\"type\":\"scattergeo\"}],\"scattergl\":[{\"marker\":{\"colorbar\":{\"outlinewidth\":0,\"ticks\":\"\"}},\"type\":\"scattergl\"}],\"scattermapbox\":[{\"marker\":{\"colorbar\":{\"outlinewidth\":0,\"ticks\":\"\"}},\"type\":\"scattermapbox\"}],\"scatterpolargl\":[{\"marker\":{\"colorbar\":{\"outlinewidth\":0,\"ticks\":\"\"}},\"type\":\"scatterpolargl\"}],\"scatterpolar\":[{\"marker\":{\"colorbar\":{\"outlinewidth\":0,\"ticks\":\"\"}},\"type\":\"scatterpolar\"}],\"scatter\":[{\"fillpattern\":{\"fillmode\":\"overlay\",\"size\":10,\"solidity\":0.2},\"type\":\"scatter\"}],\"scatterternary\":[{\"marker\":{\"colorbar\":{\"outlinewidth\":0,\"ticks\":\"\"}},\"type\":\"scatterternary\"}],\"surface\":[{\"colorbar\":{\"outlinewidth\":0,\"ticks\":\"\"},\"colorscale\":[[0.0,\"#0d0887\"],[0.1111111111111111,\"#46039f\"],[0.2222222222222222,\"#7201a8\"],[0.3333333333333333,\"#9c179e\"],[0.4444444444444444,\"#bd3786\"],[0.5555555555555556,\"#d8576b\"],[0.6666666666666666,\"#ed7953\"],[0.7777777777777778,\"#fb9f3a\"],[0.8888888888888888,\"#fdca26\"],[1.0,\"#f0f921\"]],\"type\":\"surface\"}],\"table\":[{\"cells\":{\"fill\":{\"color\":\"#EBF0F8\"},\"line\":{\"color\":\"white\"}},\"header\":{\"fill\":{\"color\":\"#C8D4E3\"},\"line\":{\"color\":\"white\"}},\"type\":\"table\"}]},\"layout\":{\"annotationdefaults\":{\"arrowcolor\":\"#2a3f5f\",\"arrowhead\":0,\"arrowwidth\":1},\"autotypenumbers\":\"strict\",\"coloraxis\":{\"colorbar\":{\"outlinewidth\":0,\"ticks\":\"\"}},\"colorscale\":{\"diverging\":[[0,\"#8e0152\"],[0.1,\"#c51b7d\"],[0.2,\"#de77ae\"],[0.3,\"#f1b6da\"],[0.4,\"#fde0ef\"],[0.5,\"#f7f7f7\"],[0.6,\"#e6f5d0\"],[0.7,\"#b8e186\"],[0.8,\"#7fbc41\"],[0.9,\"#4d9221\"],[1,\"#276419\"]],\"sequential\":[[0.0,\"#0d0887\"],[0.1111111111111111,\"#46039f\"],[0.2222222222222222,\"#7201a8\"],[0.3333333333333333,\"#9c179e\"],[0.4444444444444444,\"#bd3786\"],[0.5555555555555556,\"#d8576b\"],[0.6666666666666666,\"#ed7953\"],[0.7777777777777778,\"#fb9f3a\"],[0.8888888888888888,\"#fdca26\"],[1.0,\"#f0f921\"]],\"sequentialminus\":[[0.0,\"#0d0887\"],[0.1111111111111111,\"#46039f\"],[0.2222222222222222,\"#7201a8\"],[0.3333333333333333,\"#9c179e\"],[0.4444444444444444,\"#bd3786\"],[0.5555555555555556,\"#d8576b\"],[0.6666666666666666,\"#ed7953\"],[0.7777777777777778,\"#fb9f3a\"],[0.8888888888888888,\"#fdca26\"],[1.0,\"#f0f921\"]]},\"colorway\":[\"#636efa\",\"#EF553B\",\"#00cc96\",\"#ab63fa\",\"#FFA15A\",\"#19d3f3\",\"#FF6692\",\"#B6E880\",\"#FF97FF\",\"#FECB52\"],\"font\":{\"color\":\"#2a3f5f\"},\"geo\":{\"bgcolor\":\"white\",\"lakecolor\":\"white\",\"landcolor\":\"#E5ECF6\",\"showlakes\":true,\"showland\":true,\"subunitcolor\":\"white\"},\"hoverlabel\":{\"align\":\"left\"},\"hovermode\":\"closest\",\"mapbox\":{\"style\":\"light\"},\"paper_bgcolor\":\"white\",\"plot_bgcolor\":\"#E5ECF6\",\"polar\":{\"angularaxis\":{\"gridcolor\":\"white\",\"linecolor\":\"white\",\"ticks\":\"\"},\"bgcolor\":\"#E5ECF6\",\"radialaxis\":{\"gridcolor\":\"white\",\"linecolor\":\"white\",\"ticks\":\"\"}},\"scene\":{\"xaxis\":{\"backgroundcolor\":\"#E5ECF6\",\"gridcolor\":\"white\",\"gridwidth\":2,\"linecolor\":\"white\",\"showbackground\":true,\"ticks\":\"\",\"zerolinecolor\":\"white\"},\"yaxis\":{\"backgroundcolor\":\"#E5ECF6\",\"gridcolor\":\"white\",\"gridwidth\":2,\"linecolor\":\"white\",\"showbackground\":true,\"ticks\":\"\",\"zerolinecolor\":\"white\"},\"zaxis\":{\"backgroundcolor\":\"#E5ECF6\",\"gridcolor\":\"white\",\"gridwidth\":2,\"linecolor\":\"white\",\"showbackground\":true,\"ticks\":\"\",\"zerolinecolor\":\"white\"}},\"shapedefaults\":{\"line\":{\"color\":\"#2a3f5f\"}},\"ternary\":{\"aaxis\":{\"gridcolor\":\"white\",\"linecolor\":\"white\",\"ticks\":\"\"},\"baxis\":{\"gridcolor\":\"white\",\"linecolor\":\"white\",\"ticks\":\"\"},\"bgcolor\":\"#E5ECF6\",\"caxis\":{\"gridcolor\":\"white\",\"linecolor\":\"white\",\"ticks\":\"\"}},\"title\":{\"x\":0.05},\"xaxis\":{\"automargin\":true,\"gridcolor\":\"white\",\"linecolor\":\"white\",\"ticks\":\"\",\"title\":{\"standoff\":15},\"zerolinecolor\":\"white\",\"zerolinewidth\":2},\"yaxis\":{\"automargin\":true,\"gridcolor\":\"white\",\"linecolor\":\"white\",\"ticks\":\"\",\"title\":{\"standoff\":15},\"zerolinecolor\":\"white\",\"zerolinewidth\":2}}},\"title\":{\"font\":{\"color\":\"#151516\"},\"text\":\"2020 CPI Index Comparison(2019=100%)\"},\"width\":900,\"xaxis\":{\"gridcolor\":\"#F6F6F6\",\"showgrid\":true,\"tickfont\":{\"color\":\"#666666\"},\"title\":{\"font\":{\"color\":\"#666666\"},\"text\":\"CPI Index\"},\"zerolinecolor\":\"#F6F6F6\"},\"yaxis\":{\"gridcolor\":\"#F6F6F6\",\"showgrid\":true,\"tickfont\":{\"color\":\"#666666\"},\"title\":{\"font\":{\"color\":\"#666666\"},\"text\":\"CPI(2019=100%)\"},\"zerolinecolor\":\"#F6F6F6\"}},                        {\"showLink\": true, \"linkText\": \"Export to plot.ly\", \"plotlyServerURL\": \"https://plot.ly\", \"responsive\": true}                    ).then(function(){\n",
       "                            \n",
       "var gd = document.getElementById('01e092fd-5a36-4106-8ff8-8ff2ea98f910');\n",
       "var x = new MutationObserver(function (mutations, observer) {{\n",
       "        var display = window.getComputedStyle(gd).display;\n",
       "        if (!display || display === 'none') {{\n",
       "            console.log([gd, 'removed!']);\n",
       "            Plotly.purge(gd);\n",
       "            observer.disconnect();\n",
       "        }}\n",
       "}});\n",
       "\n",
       "// Listen for the removal of the full notebook cells\n",
       "var notebookContainer = gd.closest('#notebook-container');\n",
       "if (notebookContainer) {{\n",
       "    x.observe(notebookContainer, {childList: true});\n",
       "}}\n",
       "\n",
       "// Listen for the clearing of the current output cell\n",
       "var outputEl = gd.closest('.output');\n",
       "if (outputEl) {{\n",
       "    x.observe(outputEl, {childList: true});\n",
       "}}\n",
       "\n",
       "                        })                };                });            </script>        </div>"
      ]
     },
     "metadata": {},
     "output_type": "display_data"
    },
    {
     "data": {
      "text/markdown": [
       "<u>**My thoughts, comments and analysis on the above chart:**</u>"
      ],
      "text/plain": [
       "<IPython.core.display.Markdown object>"
      ]
     },
     "metadata": {},
     "output_type": "display_data"
    },
    {
     "data": {
      "text/markdown": [
       "The bar chart shows the breakdown of the CPI indicators for 2020, which as can be seen had very little differences between each other with house prices during this period reaching all time highs in the news, I expected the All Items Less Accomodation indicator to be significantly less which would indicate that house prices were rising at a much higher price compared to the rest of consumer products. However, as seen from the graph that is not the case and it is more likely that ALL goods were at very high prices at that time."
      ],
      "text/plain": [
       "<IPython.core.display.Markdown object>"
      ]
     },
     "metadata": {},
     "output_type": "display_data"
    },
    {
     "name": "stdout",
     "output_type": "stream",
     "text": [
      "\n"
     ]
    },
    {
     "data": {
      "application/vnd.plotly.v1+json": {
       "config": {
        "linkText": "Export to plot.ly",
        "plotlyServerURL": "https://plot.ly",
        "showLink": true
       },
       "data": [
        {
         "line": {
          "color": "rgba(255, 153, 51, 1.0)",
          "dash": "solid",
          "shape": "linear",
          "width": 2
         },
         "mode": "lines",
         "name": "Food",
         "text": "",
         "type": "scatter",
         "x": [
          1993,
          1994,
          1995,
          1996,
          1997,
          1998,
          1999,
          2000,
          2001,
          2002,
          2003,
          2004,
          2005,
          2006,
          2007,
          2008,
          2009,
          2010,
          2011,
          2012,
          2013,
          2014,
          2015,
          2016,
          2017,
          2018,
          2019,
          2020
         ],
         "xaxis": "x",
         "y": [
          60.885,
          63.04,
          64.474,
          65.864,
          67.211,
          67.352,
          67.919,
          68.26,
          68.547,
          68.584,
          69.004,
          70.342,
          71.218,
          72.31,
          74.412,
          80.175,
          82.005,
          83.124,
          85.669,
          87.629,
          89.468,
          92.112,
          93.844,
          95.734,
          97.115,
          98.512,
          100,
          101.835
         ],
         "yaxis": "y"
        },
        {
         "line": {
          "color": "rgba(55, 128, 191, 1.0)",
          "dash": "solid",
          "shape": "linear",
          "width": 2
         },
         "mode": "lines",
         "name": "Food Excl Food Serving Services",
         "text": "",
         "type": "scatter",
         "x": [
          1993,
          1994,
          1995,
          1996,
          1997,
          1998,
          1999,
          2000,
          2001,
          2002,
          2003,
          2004,
          2005,
          2006,
          2007,
          2008,
          2009,
          2010,
          2011,
          2012,
          2013,
          2014,
          2015,
          2016,
          2017,
          2018,
          2019,
          2020
         ],
         "xaxis": "x2",
         "y": [
          59.462,
          61.333,
          62.273,
          63.321,
          64.879,
          64.218,
          65.015,
          65.333,
          65.037,
          64.31,
          64.718,
          66.795,
          68.146,
          69.455,
          72.235,
          79.351,
          81.295,
          83.193,
          86.148,
          88.285,
          90.335,
          92.995,
          94.194,
          96.319,
          97.565,
          98.861,
          100,
          102.851
         ],
         "yaxis": "y2"
        },
        {
         "line": {
          "color": "rgba(50, 171, 96, 1.0)",
          "dash": "solid",
          "shape": "linear",
          "width": 2
         },
         "mode": "lines",
         "name": "Food Serving Services",
         "text": "",
         "type": "scatter",
         "x": [
          1993,
          1994,
          1995,
          1996,
          1997,
          1998,
          1999,
          2000,
          2001,
          2002,
          2003,
          2004,
          2005,
          2006,
          2007,
          2008,
          2009,
          2010,
          2011,
          2012,
          2013,
          2014,
          2015,
          2016,
          2017,
          2018,
          2019,
          2020
         ],
         "xaxis": "x3",
         "y": [
          61.672,
          64.088,
          66.003,
          67.719,
          68.84,
          69.759,
          70.141,
          70.499,
          71.254,
          71.901,
          72.33,
          73.075,
          73.573,
          74.49,
          76.041,
          80.731,
          82.491,
          83.131,
          85.424,
          87.276,
          88.986,
          91.621,
          93.649,
          95.409,
          96.865,
          98.317,
          100,
          101.348
         ],
         "yaxis": "y3"
        },
        {
         "line": {
          "color": "rgba(128, 0, 128, 1.0)",
          "dash": "solid",
          "shape": "linear",
          "width": 2
         },
         "mode": "lines",
         "name": "Clothing & Footwear",
         "text": "",
         "type": "scatter",
         "x": [
          1993,
          1994,
          1995,
          1996,
          1997,
          1998,
          1999,
          2000,
          2001,
          2002,
          2003,
          2004,
          2005,
          2006,
          2007,
          2008,
          2009,
          2010,
          2011,
          2012,
          2013,
          2014,
          2015,
          2016,
          2017,
          2018,
          2019,
          2020
         ],
         "xaxis": "x4",
         "y": [
          91.231,
          93.357,
          94.764,
          95.295,
          96.065,
          94.79,
          92.919,
          92.046,
          92.339,
          92.817,
          93.315,
          93.421,
          93.488,
          94.185,
          94.84,
          96.227,
          97.119,
          97.702,
          97.764,
          99.144,
          99.404,
          98.517,
          98.677,
          98.862,
          99.348,
          100.711,
          100,
          95.976
         ],
         "yaxis": "y4"
        },
        {
         "line": {
          "color": "rgba(219, 64, 82, 1.0)",
          "dash": "solid",
          "shape": "linear",
          "width": 2
         },
         "mode": "lines",
         "name": "Housing & Utilities",
         "text": "",
         "type": "scatter",
         "x": [
          1993,
          1994,
          1995,
          1996,
          1997,
          1998,
          1999,
          2000,
          2001,
          2002,
          2003,
          2004,
          2005,
          2006,
          2007,
          2008,
          2009,
          2010,
          2011,
          2012,
          2013,
          2014,
          2015,
          2016,
          2017,
          2018,
          2019,
          2020
         ],
         "xaxis": "x5",
         "y": [
          64.56,
          65.264,
          65.886,
          66.465,
          67.921,
          69.494,
          69.326,
          71.791,
          73.051,
          71.636,
          71.788,
          71.939,
          72.933,
          75.465,
          75.397,
          86.639,
          89.221,
          91.639,
          100.517,
          109.942,
          113.646,
          114.123,
          110.083,
          105.428,
          102.676,
          101.17,
          100,
          99.671
         ],
         "yaxis": "y5"
        },
        {
         "line": {
          "color": "rgba(0, 128, 128, 1.0)",
          "dash": "solid",
          "shape": "linear",
          "width": 2
         },
         "mode": "lines",
         "name": "Household Durables & Services",
         "text": "",
         "type": "scatter",
         "x": [
          1993,
          1994,
          1995,
          1996,
          1997,
          1998,
          1999,
          2000,
          2001,
          2002,
          2003,
          2004,
          2005,
          2006,
          2007,
          2008,
          2009,
          2010,
          2011,
          2012,
          2013,
          2014,
          2015,
          2016,
          2017,
          2018,
          2019,
          2020
         ],
         "xaxis": "x6",
         "y": [
          80.094,
          80.838,
          84.321,
          84.835,
          84.706,
          85.078,
          84.947,
          84.386,
          84.012,
          83.358,
          82.932,
          82.586,
          80.511,
          80.057,
          80.365,
          82.328,
          83.202,
          84.007,
          89.203,
          91.236,
          95.486,
          96.886,
          96.296,
          97.939,
          98.769,
          99.424,
          100,
          100.289
         ],
         "yaxis": "y6"
        },
        {
         "line": {
          "color": "rgba(255, 255, 51, 1.0)",
          "dash": "solid",
          "shape": "linear",
          "width": 2
         },
         "mode": "lines",
         "name": "Health Care",
         "text": "",
         "type": "scatter",
         "x": [
          1993,
          1994,
          1995,
          1996,
          1997,
          1998,
          1999,
          2000,
          2001,
          2002,
          2003,
          2004,
          2005,
          2006,
          2007,
          2008,
          2009,
          2010,
          2011,
          2012,
          2013,
          2014,
          2015,
          2016,
          2017,
          2018,
          2019,
          2020
         ],
         "xaxis": "x7",
         "y": [
          53.898,
          55.38,
          56.165,
          57.242,
          59.22,
          61.509,
          61.447,
          62.266,
          64.117,
          66.047,
          67.226,
          71.272,
          71.631,
          72.326,
          75.327,
          79.472,
          80.896,
          82.388,
          84.246,
          87.952,
          91.308,
          93.804,
          93.502,
          94.483,
          96.952,
          98.992,
          100,
          97.962
         ],
         "yaxis": "y7"
        },
        {
         "line": {
          "color": "rgba(128, 128, 0, 1.0)",
          "dash": "solid",
          "shape": "linear",
          "width": 2
         },
         "mode": "lines",
         "name": "Transport",
         "text": "",
         "type": "scatter",
         "x": [
          1993,
          1994,
          1995,
          1996,
          1997,
          1998,
          1999,
          2000,
          2001,
          2002,
          2003,
          2004,
          2005,
          2006,
          2007,
          2008,
          2009,
          2010,
          2011,
          2012,
          2013,
          2014,
          2015,
          2016,
          2017,
          2018,
          2019,
          2020
         ],
         "xaxis": "x8",
         "y": [
          71.245,
          73.8,
          75.286,
          76.24,
          78.768,
          77.075,
          78.009,
          79.866,
          76.921,
          76.312,
          75.969,
          75.724,
          74.102,
          73.201,
          75.127,
          78.459,
          76.06,
          83.324,
          92.655,
          99.168,
          101.435,
          100.326,
          99.982,
          98.025,
          100.307,
          99.601,
          100,
          99.576
         ],
         "yaxis": "y8"
        },
        {
         "line": {
          "color": "rgba(251, 128, 114, 1.0)",
          "dash": "solid",
          "shape": "linear",
          "width": 2
         },
         "mode": "lines",
         "name": "Communication",
         "text": "",
         "type": "scatter",
         "x": [
          1993,
          1994,
          1995,
          1996,
          1997,
          1998,
          1999,
          2000,
          2001,
          2002,
          2003,
          2004,
          2005,
          2006,
          2007,
          2008,
          2009,
          2010,
          2011,
          2012,
          2013,
          2014,
          2015,
          2016,
          2017,
          2018,
          2019,
          2020
         ],
         "xaxis": "x9",
         "y": [
          124.695,
          125.043,
          122.419,
          121.693,
          119.182,
          115.143,
          113.757,
          110.161,
          107.257,
          107.027,
          108.392,
          108.312,
          107.024,
          105.915,
          106.783,
          106.998,
          107.203,
          104.807,
          103.262,
          103.168,
          101.699,
          101.483,
          101.782,
          101.368,
          101.949,
          100.913,
          100,
          100.689
         ],
         "yaxis": "y9"
        },
        {
         "line": {
          "color": "rgba(128, 177, 211, 1.0)",
          "dash": "solid",
          "shape": "linear",
          "width": 2
         },
         "mode": "lines",
         "name": "Recreation & Culture",
         "text": "",
         "type": "scatter",
         "x": [
          1993,
          1994,
          1995,
          1996,
          1997,
          1998,
          1999,
          2000,
          2001,
          2002,
          2003,
          2004,
          2005,
          2006,
          2007,
          2008,
          2009,
          2010,
          2011,
          2012,
          2013,
          2014,
          2015,
          2016,
          2017,
          2018,
          2019,
          2020
         ],
         "xaxis": "x10",
         "y": [
          88.147,
          89.414,
          90.412,
          91.494,
          90.575,
          87.404,
          86.613,
          87.333,
          89.311,
          89.362,
          87.988,
          89.284,
          90.027,
          89.399,
          91.823,
          95.037,
          94.141,
          94.785,
          92.487,
          93.395,
          94.601,
          96.43,
          96.821,
          97.644,
          97.871,
          98.971,
          100,
          98.45
         ],
         "yaxis": "y10"
        },
        {
         "line": {
          "color": "rgba(128, 177, 211, 0.8999999999999999)",
          "dash": "solid",
          "shape": "linear",
          "width": 2
         },
         "mode": "lines",
         "name": "Education",
         "text": "",
         "type": "scatter",
         "x": [
          1993,
          1994,
          1995,
          1996,
          1997,
          1998,
          1999,
          2000,
          2001,
          2002,
          2003,
          2004,
          2005,
          2006,
          2007,
          2008,
          2009,
          2010,
          2011,
          2012,
          2013,
          2014,
          2015,
          2016,
          2017,
          2018,
          2019,
          2020
         ],
         "xaxis": "x11",
         "y": [
          42.896,
          44.391,
          46.238,
          48.271,
          49.592,
          51.942,
          54.143,
          55.63,
          57.78,
          59.097,
          61.021,
          63.133,
          65.174,
          67.191,
          69.089,
          72.265,
          72.571,
          75.102,
          77.874,
          81.034,
          83.914,
          86.767,
          89.525,
          92.247,
          94.979,
          97.698,
          100,
          98.93
         ],
         "yaxis": "y11"
        },
        {
         "line": {
          "color": "rgba(255, 153, 51, 0.8999999999999999)",
          "dash": "solid",
          "shape": "linear",
          "width": 2
         },
         "mode": "lines",
         "name": "Miscellaneous Goods & Services",
         "text": "",
         "type": "scatter",
         "x": [
          1993,
          1994,
          1995,
          1996,
          1997,
          1998,
          1999,
          2000,
          2001,
          2002,
          2003,
          2004,
          2005,
          2006,
          2007,
          2008,
          2009,
          2010,
          2011,
          2012,
          2013,
          2014,
          2015,
          2016,
          2017,
          2018,
          2019,
          2020
         ],
         "xaxis": "x12",
         "y": [
          62.43,
          64.323,
          65.343,
          66.412,
          67.47,
          68.775,
          70.031,
          71.514,
          74.349,
          74.245,
          78.207,
          83.428,
          87.183,
          89.326,
          91.324,
          93.085,
          93.366,
          94.028,
          94.825,
          95.522,
          96.684,
          98.033,
          98.119,
          98.322,
          98.239,
          99.569,
          100,
          98.861
         ],
         "yaxis": "y12"
        }
       ],
       "layout": {
        "legend": {
         "bgcolor": "#F5F6F9",
         "font": {
          "color": "#4D5663"
         }
        },
        "paper_bgcolor": "#F5F6F9",
        "plot_bgcolor": "#F5F6F9",
        "template": {
         "data": {
          "bar": [
           {
            "error_x": {
             "color": "#2a3f5f"
            },
            "error_y": {
             "color": "#2a3f5f"
            },
            "marker": {
             "line": {
              "color": "#E5ECF6",
              "width": 0.5
             },
             "pattern": {
              "fillmode": "overlay",
              "size": 10,
              "solidity": 0.2
             }
            },
            "type": "bar"
           }
          ],
          "barpolar": [
           {
            "marker": {
             "line": {
              "color": "#E5ECF6",
              "width": 0.5
             },
             "pattern": {
              "fillmode": "overlay",
              "size": 10,
              "solidity": 0.2
             }
            },
            "type": "barpolar"
           }
          ],
          "carpet": [
           {
            "aaxis": {
             "endlinecolor": "#2a3f5f",
             "gridcolor": "white",
             "linecolor": "white",
             "minorgridcolor": "white",
             "startlinecolor": "#2a3f5f"
            },
            "baxis": {
             "endlinecolor": "#2a3f5f",
             "gridcolor": "white",
             "linecolor": "white",
             "minorgridcolor": "white",
             "startlinecolor": "#2a3f5f"
            },
            "type": "carpet"
           }
          ],
          "choropleth": [
           {
            "colorbar": {
             "outlinewidth": 0,
             "ticks": ""
            },
            "type": "choropleth"
           }
          ],
          "contour": [
           {
            "colorbar": {
             "outlinewidth": 0,
             "ticks": ""
            },
            "colorscale": [
             [
              0,
              "#0d0887"
             ],
             [
              0.1111111111111111,
              "#46039f"
             ],
             [
              0.2222222222222222,
              "#7201a8"
             ],
             [
              0.3333333333333333,
              "#9c179e"
             ],
             [
              0.4444444444444444,
              "#bd3786"
             ],
             [
              0.5555555555555556,
              "#d8576b"
             ],
             [
              0.6666666666666666,
              "#ed7953"
             ],
             [
              0.7777777777777778,
              "#fb9f3a"
             ],
             [
              0.8888888888888888,
              "#fdca26"
             ],
             [
              1,
              "#f0f921"
             ]
            ],
            "type": "contour"
           }
          ],
          "contourcarpet": [
           {
            "colorbar": {
             "outlinewidth": 0,
             "ticks": ""
            },
            "type": "contourcarpet"
           }
          ],
          "heatmap": [
           {
            "colorbar": {
             "outlinewidth": 0,
             "ticks": ""
            },
            "colorscale": [
             [
              0,
              "#0d0887"
             ],
             [
              0.1111111111111111,
              "#46039f"
             ],
             [
              0.2222222222222222,
              "#7201a8"
             ],
             [
              0.3333333333333333,
              "#9c179e"
             ],
             [
              0.4444444444444444,
              "#bd3786"
             ],
             [
              0.5555555555555556,
              "#d8576b"
             ],
             [
              0.6666666666666666,
              "#ed7953"
             ],
             [
              0.7777777777777778,
              "#fb9f3a"
             ],
             [
              0.8888888888888888,
              "#fdca26"
             ],
             [
              1,
              "#f0f921"
             ]
            ],
            "type": "heatmap"
           }
          ],
          "heatmapgl": [
           {
            "colorbar": {
             "outlinewidth": 0,
             "ticks": ""
            },
            "colorscale": [
             [
              0,
              "#0d0887"
             ],
             [
              0.1111111111111111,
              "#46039f"
             ],
             [
              0.2222222222222222,
              "#7201a8"
             ],
             [
              0.3333333333333333,
              "#9c179e"
             ],
             [
              0.4444444444444444,
              "#bd3786"
             ],
             [
              0.5555555555555556,
              "#d8576b"
             ],
             [
              0.6666666666666666,
              "#ed7953"
             ],
             [
              0.7777777777777778,
              "#fb9f3a"
             ],
             [
              0.8888888888888888,
              "#fdca26"
             ],
             [
              1,
              "#f0f921"
             ]
            ],
            "type": "heatmapgl"
           }
          ],
          "histogram": [
           {
            "marker": {
             "pattern": {
              "fillmode": "overlay",
              "size": 10,
              "solidity": 0.2
             }
            },
            "type": "histogram"
           }
          ],
          "histogram2d": [
           {
            "colorbar": {
             "outlinewidth": 0,
             "ticks": ""
            },
            "colorscale": [
             [
              0,
              "#0d0887"
             ],
             [
              0.1111111111111111,
              "#46039f"
             ],
             [
              0.2222222222222222,
              "#7201a8"
             ],
             [
              0.3333333333333333,
              "#9c179e"
             ],
             [
              0.4444444444444444,
              "#bd3786"
             ],
             [
              0.5555555555555556,
              "#d8576b"
             ],
             [
              0.6666666666666666,
              "#ed7953"
             ],
             [
              0.7777777777777778,
              "#fb9f3a"
             ],
             [
              0.8888888888888888,
              "#fdca26"
             ],
             [
              1,
              "#f0f921"
             ]
            ],
            "type": "histogram2d"
           }
          ],
          "histogram2dcontour": [
           {
            "colorbar": {
             "outlinewidth": 0,
             "ticks": ""
            },
            "colorscale": [
             [
              0,
              "#0d0887"
             ],
             [
              0.1111111111111111,
              "#46039f"
             ],
             [
              0.2222222222222222,
              "#7201a8"
             ],
             [
              0.3333333333333333,
              "#9c179e"
             ],
             [
              0.4444444444444444,
              "#bd3786"
             ],
             [
              0.5555555555555556,
              "#d8576b"
             ],
             [
              0.6666666666666666,
              "#ed7953"
             ],
             [
              0.7777777777777778,
              "#fb9f3a"
             ],
             [
              0.8888888888888888,
              "#fdca26"
             ],
             [
              1,
              "#f0f921"
             ]
            ],
            "type": "histogram2dcontour"
           }
          ],
          "mesh3d": [
           {
            "colorbar": {
             "outlinewidth": 0,
             "ticks": ""
            },
            "type": "mesh3d"
           }
          ],
          "parcoords": [
           {
            "line": {
             "colorbar": {
              "outlinewidth": 0,
              "ticks": ""
             }
            },
            "type": "parcoords"
           }
          ],
          "pie": [
           {
            "automargin": true,
            "type": "pie"
           }
          ],
          "scatter": [
           {
            "fillpattern": {
             "fillmode": "overlay",
             "size": 10,
             "solidity": 0.2
            },
            "type": "scatter"
           }
          ],
          "scatter3d": [
           {
            "line": {
             "colorbar": {
              "outlinewidth": 0,
              "ticks": ""
             }
            },
            "marker": {
             "colorbar": {
              "outlinewidth": 0,
              "ticks": ""
             }
            },
            "type": "scatter3d"
           }
          ],
          "scattercarpet": [
           {
            "marker": {
             "colorbar": {
              "outlinewidth": 0,
              "ticks": ""
             }
            },
            "type": "scattercarpet"
           }
          ],
          "scattergeo": [
           {
            "marker": {
             "colorbar": {
              "outlinewidth": 0,
              "ticks": ""
             }
            },
            "type": "scattergeo"
           }
          ],
          "scattergl": [
           {
            "marker": {
             "colorbar": {
              "outlinewidth": 0,
              "ticks": ""
             }
            },
            "type": "scattergl"
           }
          ],
          "scattermapbox": [
           {
            "marker": {
             "colorbar": {
              "outlinewidth": 0,
              "ticks": ""
             }
            },
            "type": "scattermapbox"
           }
          ],
          "scatterpolar": [
           {
            "marker": {
             "colorbar": {
              "outlinewidth": 0,
              "ticks": ""
             }
            },
            "type": "scatterpolar"
           }
          ],
          "scatterpolargl": [
           {
            "marker": {
             "colorbar": {
              "outlinewidth": 0,
              "ticks": ""
             }
            },
            "type": "scatterpolargl"
           }
          ],
          "scatterternary": [
           {
            "marker": {
             "colorbar": {
              "outlinewidth": 0,
              "ticks": ""
             }
            },
            "type": "scatterternary"
           }
          ],
          "surface": [
           {
            "colorbar": {
             "outlinewidth": 0,
             "ticks": ""
            },
            "colorscale": [
             [
              0,
              "#0d0887"
             ],
             [
              0.1111111111111111,
              "#46039f"
             ],
             [
              0.2222222222222222,
              "#7201a8"
             ],
             [
              0.3333333333333333,
              "#9c179e"
             ],
             [
              0.4444444444444444,
              "#bd3786"
             ],
             [
              0.5555555555555556,
              "#d8576b"
             ],
             [
              0.6666666666666666,
              "#ed7953"
             ],
             [
              0.7777777777777778,
              "#fb9f3a"
             ],
             [
              0.8888888888888888,
              "#fdca26"
             ],
             [
              1,
              "#f0f921"
             ]
            ],
            "type": "surface"
           }
          ],
          "table": [
           {
            "cells": {
             "fill": {
              "color": "#EBF0F8"
             },
             "line": {
              "color": "white"
             }
            },
            "header": {
             "fill": {
              "color": "#C8D4E3"
             },
             "line": {
              "color": "white"
             }
            },
            "type": "table"
           }
          ]
         },
         "layout": {
          "annotationdefaults": {
           "arrowcolor": "#2a3f5f",
           "arrowhead": 0,
           "arrowwidth": 1
          },
          "autotypenumbers": "strict",
          "coloraxis": {
           "colorbar": {
            "outlinewidth": 0,
            "ticks": ""
           }
          },
          "colorscale": {
           "diverging": [
            [
             0,
             "#8e0152"
            ],
            [
             0.1,
             "#c51b7d"
            ],
            [
             0.2,
             "#de77ae"
            ],
            [
             0.3,
             "#f1b6da"
            ],
            [
             0.4,
             "#fde0ef"
            ],
            [
             0.5,
             "#f7f7f7"
            ],
            [
             0.6,
             "#e6f5d0"
            ],
            [
             0.7,
             "#b8e186"
            ],
            [
             0.8,
             "#7fbc41"
            ],
            [
             0.9,
             "#4d9221"
            ],
            [
             1,
             "#276419"
            ]
           ],
           "sequential": [
            [
             0,
             "#0d0887"
            ],
            [
             0.1111111111111111,
             "#46039f"
            ],
            [
             0.2222222222222222,
             "#7201a8"
            ],
            [
             0.3333333333333333,
             "#9c179e"
            ],
            [
             0.4444444444444444,
             "#bd3786"
            ],
            [
             0.5555555555555556,
             "#d8576b"
            ],
            [
             0.6666666666666666,
             "#ed7953"
            ],
            [
             0.7777777777777778,
             "#fb9f3a"
            ],
            [
             0.8888888888888888,
             "#fdca26"
            ],
            [
             1,
             "#f0f921"
            ]
           ],
           "sequentialminus": [
            [
             0,
             "#0d0887"
            ],
            [
             0.1111111111111111,
             "#46039f"
            ],
            [
             0.2222222222222222,
             "#7201a8"
            ],
            [
             0.3333333333333333,
             "#9c179e"
            ],
            [
             0.4444444444444444,
             "#bd3786"
            ],
            [
             0.5555555555555556,
             "#d8576b"
            ],
            [
             0.6666666666666666,
             "#ed7953"
            ],
            [
             0.7777777777777778,
             "#fb9f3a"
            ],
            [
             0.8888888888888888,
             "#fdca26"
            ],
            [
             1,
             "#f0f921"
            ]
           ]
          },
          "colorway": [
           "#636efa",
           "#EF553B",
           "#00cc96",
           "#ab63fa",
           "#FFA15A",
           "#19d3f3",
           "#FF6692",
           "#B6E880",
           "#FF97FF",
           "#FECB52"
          ],
          "font": {
           "color": "#2a3f5f"
          },
          "geo": {
           "bgcolor": "white",
           "lakecolor": "white",
           "landcolor": "#E5ECF6",
           "showlakes": true,
           "showland": true,
           "subunitcolor": "white"
          },
          "hoverlabel": {
           "align": "left"
          },
          "hovermode": "closest",
          "mapbox": {
           "style": "light"
          },
          "paper_bgcolor": "white",
          "plot_bgcolor": "#E5ECF6",
          "polar": {
           "angularaxis": {
            "gridcolor": "white",
            "linecolor": "white",
            "ticks": ""
           },
           "bgcolor": "#E5ECF6",
           "radialaxis": {
            "gridcolor": "white",
            "linecolor": "white",
            "ticks": ""
           }
          },
          "scene": {
           "xaxis": {
            "backgroundcolor": "#E5ECF6",
            "gridcolor": "white",
            "gridwidth": 2,
            "linecolor": "white",
            "showbackground": true,
            "ticks": "",
            "zerolinecolor": "white"
           },
           "yaxis": {
            "backgroundcolor": "#E5ECF6",
            "gridcolor": "white",
            "gridwidth": 2,
            "linecolor": "white",
            "showbackground": true,
            "ticks": "",
            "zerolinecolor": "white"
           },
           "zaxis": {
            "backgroundcolor": "#E5ECF6",
            "gridcolor": "white",
            "gridwidth": 2,
            "linecolor": "white",
            "showbackground": true,
            "ticks": "",
            "zerolinecolor": "white"
           }
          },
          "shapedefaults": {
           "line": {
            "color": "#2a3f5f"
           }
          },
          "ternary": {
           "aaxis": {
            "gridcolor": "white",
            "linecolor": "white",
            "ticks": ""
           },
           "baxis": {
            "gridcolor": "white",
            "linecolor": "white",
            "ticks": ""
           },
           "bgcolor": "#E5ECF6",
           "caxis": {
            "gridcolor": "white",
            "linecolor": "white",
            "ticks": ""
           }
          },
          "title": {
           "x": 0.05
          },
          "xaxis": {
           "automargin": true,
           "gridcolor": "white",
           "linecolor": "white",
           "ticks": "",
           "title": {
            "standoff": 15
           },
           "zerolinecolor": "white",
           "zerolinewidth": 2
          },
          "yaxis": {
           "automargin": true,
           "gridcolor": "white",
           "linecolor": "white",
           "ticks": "",
           "title": {
            "standoff": 15
           },
           "zerolinecolor": "white",
           "zerolinewidth": 2
          }
         }
        },
        "title": {
         "font": {
          "color": "#4D5663"
         },
         "text": "CPI Index Additional Indicators (2019=100)"
        },
        "xaxis": {
         "anchor": "y",
         "domain": [
          0,
          0.45
         ],
         "gridcolor": "#E1E5ED",
         "showgrid": true,
         "tickfont": {
          "color": "#4D5663"
         },
         "title": {
          "font": {
           "color": "#4D5663"
          },
          "text": "Year"
         },
         "zerolinecolor": "#E1E5ED"
        },
        "xaxis10": {
         "anchor": "y10",
         "domain": [
          0.55,
          1
         ],
         "gridcolor": "#E1E5ED",
         "showgrid": true,
         "tickfont": {
          "color": "#4D5663"
         },
         "title": {
          "font": {
           "color": "#4D5663"
          },
          "text": "Year"
         },
         "zerolinecolor": "#E1E5ED"
        },
        "xaxis11": {
         "anchor": "y11",
         "domain": [
          0,
          0.45
         ],
         "gridcolor": "#E1E5ED",
         "showgrid": true,
         "tickfont": {
          "color": "#4D5663"
         },
         "title": {
          "font": {
           "color": "#4D5663"
          },
          "text": "Year"
         },
         "zerolinecolor": "#E1E5ED"
        },
        "xaxis12": {
         "anchor": "y12",
         "domain": [
          0.55,
          1
         ],
         "gridcolor": "#E1E5ED",
         "showgrid": true,
         "tickfont": {
          "color": "#4D5663"
         },
         "title": {
          "font": {
           "color": "#4D5663"
          },
          "text": "Year"
         },
         "zerolinecolor": "#E1E5ED"
        },
        "xaxis2": {
         "anchor": "y2",
         "domain": [
          0.55,
          1
         ],
         "gridcolor": "#E1E5ED",
         "showgrid": true,
         "tickfont": {
          "color": "#4D5663"
         },
         "title": {
          "font": {
           "color": "#4D5663"
          },
          "text": "Year"
         },
         "zerolinecolor": "#E1E5ED"
        },
        "xaxis3": {
         "anchor": "y3",
         "domain": [
          0,
          0.45
         ],
         "gridcolor": "#E1E5ED",
         "showgrid": true,
         "tickfont": {
          "color": "#4D5663"
         },
         "title": {
          "font": {
           "color": "#4D5663"
          },
          "text": "Year"
         },
         "zerolinecolor": "#E1E5ED"
        },
        "xaxis4": {
         "anchor": "y4",
         "domain": [
          0.55,
          1
         ],
         "gridcolor": "#E1E5ED",
         "showgrid": true,
         "tickfont": {
          "color": "#4D5663"
         },
         "title": {
          "font": {
           "color": "#4D5663"
          },
          "text": "Year"
         },
         "zerolinecolor": "#E1E5ED"
        },
        "xaxis5": {
         "anchor": "y5",
         "domain": [
          0,
          0.45
         ],
         "gridcolor": "#E1E5ED",
         "showgrid": true,
         "tickfont": {
          "color": "#4D5663"
         },
         "title": {
          "font": {
           "color": "#4D5663"
          },
          "text": "Year"
         },
         "zerolinecolor": "#E1E5ED"
        },
        "xaxis6": {
         "anchor": "y6",
         "domain": [
          0.55,
          1
         ],
         "gridcolor": "#E1E5ED",
         "showgrid": true,
         "tickfont": {
          "color": "#4D5663"
         },
         "title": {
          "font": {
           "color": "#4D5663"
          },
          "text": "Year"
         },
         "zerolinecolor": "#E1E5ED"
        },
        "xaxis7": {
         "anchor": "y7",
         "domain": [
          0,
          0.45
         ],
         "gridcolor": "#E1E5ED",
         "showgrid": true,
         "tickfont": {
          "color": "#4D5663"
         },
         "title": {
          "font": {
           "color": "#4D5663"
          },
          "text": "Year"
         },
         "zerolinecolor": "#E1E5ED"
        },
        "xaxis8": {
         "anchor": "y8",
         "domain": [
          0.55,
          1
         ],
         "gridcolor": "#E1E5ED",
         "showgrid": true,
         "tickfont": {
          "color": "#4D5663"
         },
         "title": {
          "font": {
           "color": "#4D5663"
          },
          "text": "Year"
         },
         "zerolinecolor": "#E1E5ED"
        },
        "xaxis9": {
         "anchor": "y9",
         "domain": [
          0,
          0.45
         ],
         "gridcolor": "#E1E5ED",
         "showgrid": true,
         "tickfont": {
          "color": "#4D5663"
         },
         "title": {
          "font": {
           "color": "#4D5663"
          },
          "text": "Year"
         },
         "zerolinecolor": "#E1E5ED"
        },
        "yaxis": {
         "anchor": "x",
         "domain": [
          0.875,
          1
         ],
         "gridcolor": "#E1E5ED",
         "showgrid": true,
         "tickfont": {
          "color": "#4D5663"
         },
         "title": {
          "font": {
           "color": "#4D5663"
          },
          "text": ""
         },
         "zerolinecolor": "#E1E5ED"
        },
        "yaxis10": {
         "anchor": "x10",
         "domain": [
          0.175,
          0.3
         ],
         "gridcolor": "#E1E5ED",
         "showgrid": true,
         "tickfont": {
          "color": "#4D5663"
         },
         "title": {
          "font": {
           "color": "#4D5663"
          },
          "text": ""
         },
         "zerolinecolor": "#E1E5ED"
        },
        "yaxis11": {
         "anchor": "x11",
         "domain": [
          0,
          0.125
         ],
         "gridcolor": "#E1E5ED",
         "showgrid": true,
         "tickfont": {
          "color": "#4D5663"
         },
         "title": {
          "font": {
           "color": "#4D5663"
          },
          "text": ""
         },
         "zerolinecolor": "#E1E5ED"
        },
        "yaxis12": {
         "anchor": "x12",
         "domain": [
          0,
          0.125
         ],
         "gridcolor": "#E1E5ED",
         "showgrid": true,
         "tickfont": {
          "color": "#4D5663"
         },
         "title": {
          "font": {
           "color": "#4D5663"
          },
          "text": ""
         },
         "zerolinecolor": "#E1E5ED"
        },
        "yaxis2": {
         "anchor": "x2",
         "domain": [
          0.875,
          1
         ],
         "gridcolor": "#E1E5ED",
         "showgrid": true,
         "tickfont": {
          "color": "#4D5663"
         },
         "title": {
          "font": {
           "color": "#4D5663"
          },
          "text": ""
         },
         "zerolinecolor": "#E1E5ED"
        },
        "yaxis3": {
         "anchor": "x3",
         "domain": [
          0.7,
          0.825
         ],
         "gridcolor": "#E1E5ED",
         "showgrid": true,
         "tickfont": {
          "color": "#4D5663"
         },
         "title": {
          "font": {
           "color": "#4D5663"
          },
          "text": ""
         },
         "zerolinecolor": "#E1E5ED"
        },
        "yaxis4": {
         "anchor": "x4",
         "domain": [
          0.7,
          0.825
         ],
         "gridcolor": "#E1E5ED",
         "showgrid": true,
         "tickfont": {
          "color": "#4D5663"
         },
         "title": {
          "font": {
           "color": "#4D5663"
          },
          "text": ""
         },
         "zerolinecolor": "#E1E5ED"
        },
        "yaxis5": {
         "anchor": "x5",
         "domain": [
          0.525,
          0.65
         ],
         "gridcolor": "#E1E5ED",
         "showgrid": true,
         "tickfont": {
          "color": "#4D5663"
         },
         "title": {
          "font": {
           "color": "#4D5663"
          },
          "text": ""
         },
         "zerolinecolor": "#E1E5ED"
        },
        "yaxis6": {
         "anchor": "x6",
         "domain": [
          0.525,
          0.65
         ],
         "gridcolor": "#E1E5ED",
         "showgrid": true,
         "tickfont": {
          "color": "#4D5663"
         },
         "title": {
          "font": {
           "color": "#4D5663"
          },
          "text": ""
         },
         "zerolinecolor": "#E1E5ED"
        },
        "yaxis7": {
         "anchor": "x7",
         "domain": [
          0.35,
          0.475
         ],
         "gridcolor": "#E1E5ED",
         "showgrid": true,
         "tickfont": {
          "color": "#4D5663"
         },
         "title": {
          "font": {
           "color": "#4D5663"
          },
          "text": ""
         },
         "zerolinecolor": "#E1E5ED"
        },
        "yaxis8": {
         "anchor": "x8",
         "domain": [
          0.35,
          0.475
         ],
         "gridcolor": "#E1E5ED",
         "showgrid": true,
         "tickfont": {
          "color": "#4D5663"
         },
         "title": {
          "font": {
           "color": "#4D5663"
          },
          "text": ""
         },
         "zerolinecolor": "#E1E5ED"
        },
        "yaxis9": {
         "anchor": "x9",
         "domain": [
          0.175,
          0.3
         ],
         "gridcolor": "#E1E5ED",
         "showgrid": true,
         "tickfont": {
          "color": "#4D5663"
         },
         "title": {
          "font": {
           "color": "#4D5663"
          },
          "text": ""
         },
         "zerolinecolor": "#E1E5ED"
        }
       }
      },
      "text/html": [
       "<div>                            <div id=\"2247fdd9-447e-45f6-800c-52bf539dda22\" class=\"plotly-graph-div\" style=\"height:525px; width:100%;\"></div>            <script type=\"text/javascript\">                require([\"plotly\"], function(Plotly) {                    window.PLOTLYENV=window.PLOTLYENV || {};\n",
       "                    window.PLOTLYENV.BASE_URL='https://plot.ly';                                    if (document.getElementById(\"2247fdd9-447e-45f6-800c-52bf539dda22\")) {                    Plotly.newPlot(                        \"2247fdd9-447e-45f6-800c-52bf539dda22\",                        [{\"line\":{\"color\":\"rgba(255, 153, 51, 1.0)\",\"dash\":\"solid\",\"shape\":\"linear\",\"width\":2.0},\"mode\":\"lines\",\"name\":\"Food\",\"text\":\"\",\"x\":[1993,1994,1995,1996,1997,1998,1999,2000,2001,2002,2003,2004,2005,2006,2007,2008,2009,2010,2011,2012,2013,2014,2015,2016,2017,2018,2019,2020],\"xaxis\":\"x\",\"y\":[60.885,63.04,64.474,65.864,67.211,67.352,67.919,68.26,68.547,68.584,69.004,70.342,71.218,72.31,74.412,80.175,82.005,83.124,85.669,87.629,89.468,92.112,93.844,95.734,97.115,98.512,100.0,101.835],\"yaxis\":\"y\",\"type\":\"scatter\"},{\"line\":{\"color\":\"rgba(55, 128, 191, 1.0)\",\"dash\":\"solid\",\"shape\":\"linear\",\"width\":2.0},\"mode\":\"lines\",\"name\":\"Food Excl Food Serving Services\",\"text\":\"\",\"x\":[1993,1994,1995,1996,1997,1998,1999,2000,2001,2002,2003,2004,2005,2006,2007,2008,2009,2010,2011,2012,2013,2014,2015,2016,2017,2018,2019,2020],\"xaxis\":\"x2\",\"y\":[59.462,61.333,62.273,63.321,64.879,64.218,65.015,65.333,65.037,64.31,64.718,66.795,68.146,69.455,72.235,79.351,81.295,83.193,86.148,88.285,90.335,92.995,94.194,96.319,97.565,98.861,100.0,102.851],\"yaxis\":\"y2\",\"type\":\"scatter\"},{\"line\":{\"color\":\"rgba(50, 171, 96, 1.0)\",\"dash\":\"solid\",\"shape\":\"linear\",\"width\":2.0},\"mode\":\"lines\",\"name\":\"Food Serving Services\",\"text\":\"\",\"x\":[1993,1994,1995,1996,1997,1998,1999,2000,2001,2002,2003,2004,2005,2006,2007,2008,2009,2010,2011,2012,2013,2014,2015,2016,2017,2018,2019,2020],\"xaxis\":\"x3\",\"y\":[61.672,64.088,66.003,67.719,68.84,69.759,70.141,70.499,71.254,71.901,72.33,73.075,73.573,74.49,76.041,80.731,82.491,83.131,85.424,87.276,88.986,91.621,93.649,95.409,96.865,98.317,100.0,101.348],\"yaxis\":\"y3\",\"type\":\"scatter\"},{\"line\":{\"color\":\"rgba(128, 0, 128, 1.0)\",\"dash\":\"solid\",\"shape\":\"linear\",\"width\":2.0},\"mode\":\"lines\",\"name\":\"Clothing & Footwear\",\"text\":\"\",\"x\":[1993,1994,1995,1996,1997,1998,1999,2000,2001,2002,2003,2004,2005,2006,2007,2008,2009,2010,2011,2012,2013,2014,2015,2016,2017,2018,2019,2020],\"xaxis\":\"x4\",\"y\":[91.231,93.357,94.764,95.295,96.065,94.79,92.919,92.046,92.339,92.817,93.315,93.421,93.488,94.185,94.84,96.227,97.119,97.702,97.764,99.144,99.404,98.517,98.677,98.862,99.348,100.711,100.0,95.976],\"yaxis\":\"y4\",\"type\":\"scatter\"},{\"line\":{\"color\":\"rgba(219, 64, 82, 1.0)\",\"dash\":\"solid\",\"shape\":\"linear\",\"width\":2.0},\"mode\":\"lines\",\"name\":\"Housing & Utilities\",\"text\":\"\",\"x\":[1993,1994,1995,1996,1997,1998,1999,2000,2001,2002,2003,2004,2005,2006,2007,2008,2009,2010,2011,2012,2013,2014,2015,2016,2017,2018,2019,2020],\"xaxis\":\"x5\",\"y\":[64.56,65.264,65.886,66.465,67.921,69.494,69.326,71.791,73.051,71.636,71.788,71.939,72.933,75.465,75.397,86.639,89.221,91.639,100.517,109.942,113.646,114.123,110.083,105.428,102.676,101.17,100.0,99.671],\"yaxis\":\"y5\",\"type\":\"scatter\"},{\"line\":{\"color\":\"rgba(0, 128, 128, 1.0)\",\"dash\":\"solid\",\"shape\":\"linear\",\"width\":2.0},\"mode\":\"lines\",\"name\":\"Household Durables & Services\",\"text\":\"\",\"x\":[1993,1994,1995,1996,1997,1998,1999,2000,2001,2002,2003,2004,2005,2006,2007,2008,2009,2010,2011,2012,2013,2014,2015,2016,2017,2018,2019,2020],\"xaxis\":\"x6\",\"y\":[80.094,80.838,84.321,84.835,84.706,85.078,84.947,84.386,84.012,83.358,82.932,82.586,80.511,80.057,80.365,82.328,83.202,84.007,89.203,91.236,95.486,96.886,96.296,97.939,98.769,99.424,100.0,100.289],\"yaxis\":\"y6\",\"type\":\"scatter\"},{\"line\":{\"color\":\"rgba(255, 255, 51, 1.0)\",\"dash\":\"solid\",\"shape\":\"linear\",\"width\":2.0},\"mode\":\"lines\",\"name\":\"Health Care\",\"text\":\"\",\"x\":[1993,1994,1995,1996,1997,1998,1999,2000,2001,2002,2003,2004,2005,2006,2007,2008,2009,2010,2011,2012,2013,2014,2015,2016,2017,2018,2019,2020],\"xaxis\":\"x7\",\"y\":[53.898,55.38,56.165,57.242,59.22,61.509,61.447,62.266,64.117,66.047,67.226,71.272,71.631,72.326,75.327,79.472,80.896,82.388,84.246,87.952,91.308,93.804,93.502,94.483,96.952,98.992,100.0,97.962],\"yaxis\":\"y7\",\"type\":\"scatter\"},{\"line\":{\"color\":\"rgba(128, 128, 0, 1.0)\",\"dash\":\"solid\",\"shape\":\"linear\",\"width\":2.0},\"mode\":\"lines\",\"name\":\"Transport\",\"text\":\"\",\"x\":[1993,1994,1995,1996,1997,1998,1999,2000,2001,2002,2003,2004,2005,2006,2007,2008,2009,2010,2011,2012,2013,2014,2015,2016,2017,2018,2019,2020],\"xaxis\":\"x8\",\"y\":[71.245,73.8,75.286,76.24,78.768,77.075,78.009,79.866,76.921,76.312,75.969,75.724,74.102,73.201,75.127,78.459,76.06,83.324,92.655,99.168,101.435,100.326,99.982,98.025,100.307,99.601,100.0,99.576],\"yaxis\":\"y8\",\"type\":\"scatter\"},{\"line\":{\"color\":\"rgba(251, 128, 114, 1.0)\",\"dash\":\"solid\",\"shape\":\"linear\",\"width\":2.0},\"mode\":\"lines\",\"name\":\"Communication\",\"text\":\"\",\"x\":[1993,1994,1995,1996,1997,1998,1999,2000,2001,2002,2003,2004,2005,2006,2007,2008,2009,2010,2011,2012,2013,2014,2015,2016,2017,2018,2019,2020],\"xaxis\":\"x9\",\"y\":[124.695,125.043,122.419,121.693,119.182,115.143,113.757,110.161,107.257,107.027,108.392,108.312,107.024,105.915,106.783,106.998,107.203,104.807,103.262,103.168,101.699,101.483,101.782,101.368,101.949,100.913,100.0,100.689],\"yaxis\":\"y9\",\"type\":\"scatter\"},{\"line\":{\"color\":\"rgba(128, 177, 211, 1.0)\",\"dash\":\"solid\",\"shape\":\"linear\",\"width\":2.0},\"mode\":\"lines\",\"name\":\"Recreation & Culture\",\"text\":\"\",\"x\":[1993,1994,1995,1996,1997,1998,1999,2000,2001,2002,2003,2004,2005,2006,2007,2008,2009,2010,2011,2012,2013,2014,2015,2016,2017,2018,2019,2020],\"xaxis\":\"x10\",\"y\":[88.147,89.414,90.412,91.494,90.575,87.404,86.613,87.333,89.311,89.362,87.988,89.284,90.027,89.399,91.823,95.037,94.141,94.785,92.487,93.395,94.601,96.43,96.821,97.644,97.871,98.971,100.0,98.45],\"yaxis\":\"y10\",\"type\":\"scatter\"},{\"line\":{\"color\":\"rgba(128, 177, 211, 0.8999999999999999)\",\"dash\":\"solid\",\"shape\":\"linear\",\"width\":2.0},\"mode\":\"lines\",\"name\":\"Education\",\"text\":\"\",\"x\":[1993,1994,1995,1996,1997,1998,1999,2000,2001,2002,2003,2004,2005,2006,2007,2008,2009,2010,2011,2012,2013,2014,2015,2016,2017,2018,2019,2020],\"xaxis\":\"x11\",\"y\":[42.896,44.391,46.238,48.271,49.592,51.942,54.143,55.63,57.78,59.097,61.021,63.133,65.174,67.191,69.089,72.265,72.571,75.102,77.874,81.034,83.914,86.767,89.525,92.247,94.979,97.698,100.0,98.93],\"yaxis\":\"y11\",\"type\":\"scatter\"},{\"line\":{\"color\":\"rgba(255, 153, 51, 0.8999999999999999)\",\"dash\":\"solid\",\"shape\":\"linear\",\"width\":2.0},\"mode\":\"lines\",\"name\":\"Miscellaneous Goods & Services\",\"text\":\"\",\"x\":[1993,1994,1995,1996,1997,1998,1999,2000,2001,2002,2003,2004,2005,2006,2007,2008,2009,2010,2011,2012,2013,2014,2015,2016,2017,2018,2019,2020],\"xaxis\":\"x12\",\"y\":[62.43,64.323,65.343,66.412,67.47,68.775,70.031,71.514,74.349,74.245,78.207,83.428,87.183,89.326,91.324,93.085,93.366,94.028,94.825,95.522,96.684,98.033,98.119,98.322,98.239,99.569,100.0,98.861],\"yaxis\":\"y12\",\"type\":\"scatter\"}],                        {\"legend\":{\"bgcolor\":\"#F5F6F9\",\"font\":{\"color\":\"#4D5663\"}},\"paper_bgcolor\":\"#F5F6F9\",\"plot_bgcolor\":\"#F5F6F9\",\"template\":{\"data\":{\"barpolar\":[{\"marker\":{\"line\":{\"color\":\"#E5ECF6\",\"width\":0.5},\"pattern\":{\"fillmode\":\"overlay\",\"size\":10,\"solidity\":0.2}},\"type\":\"barpolar\"}],\"bar\":[{\"error_x\":{\"color\":\"#2a3f5f\"},\"error_y\":{\"color\":\"#2a3f5f\"},\"marker\":{\"line\":{\"color\":\"#E5ECF6\",\"width\":0.5},\"pattern\":{\"fillmode\":\"overlay\",\"size\":10,\"solidity\":0.2}},\"type\":\"bar\"}],\"carpet\":[{\"aaxis\":{\"endlinecolor\":\"#2a3f5f\",\"gridcolor\":\"white\",\"linecolor\":\"white\",\"minorgridcolor\":\"white\",\"startlinecolor\":\"#2a3f5f\"},\"baxis\":{\"endlinecolor\":\"#2a3f5f\",\"gridcolor\":\"white\",\"linecolor\":\"white\",\"minorgridcolor\":\"white\",\"startlinecolor\":\"#2a3f5f\"},\"type\":\"carpet\"}],\"choropleth\":[{\"colorbar\":{\"outlinewidth\":0,\"ticks\":\"\"},\"type\":\"choropleth\"}],\"contourcarpet\":[{\"colorbar\":{\"outlinewidth\":0,\"ticks\":\"\"},\"type\":\"contourcarpet\"}],\"contour\":[{\"colorbar\":{\"outlinewidth\":0,\"ticks\":\"\"},\"colorscale\":[[0.0,\"#0d0887\"],[0.1111111111111111,\"#46039f\"],[0.2222222222222222,\"#7201a8\"],[0.3333333333333333,\"#9c179e\"],[0.4444444444444444,\"#bd3786\"],[0.5555555555555556,\"#d8576b\"],[0.6666666666666666,\"#ed7953\"],[0.7777777777777778,\"#fb9f3a\"],[0.8888888888888888,\"#fdca26\"],[1.0,\"#f0f921\"]],\"type\":\"contour\"}],\"heatmapgl\":[{\"colorbar\":{\"outlinewidth\":0,\"ticks\":\"\"},\"colorscale\":[[0.0,\"#0d0887\"],[0.1111111111111111,\"#46039f\"],[0.2222222222222222,\"#7201a8\"],[0.3333333333333333,\"#9c179e\"],[0.4444444444444444,\"#bd3786\"],[0.5555555555555556,\"#d8576b\"],[0.6666666666666666,\"#ed7953\"],[0.7777777777777778,\"#fb9f3a\"],[0.8888888888888888,\"#fdca26\"],[1.0,\"#f0f921\"]],\"type\":\"heatmapgl\"}],\"heatmap\":[{\"colorbar\":{\"outlinewidth\":0,\"ticks\":\"\"},\"colorscale\":[[0.0,\"#0d0887\"],[0.1111111111111111,\"#46039f\"],[0.2222222222222222,\"#7201a8\"],[0.3333333333333333,\"#9c179e\"],[0.4444444444444444,\"#bd3786\"],[0.5555555555555556,\"#d8576b\"],[0.6666666666666666,\"#ed7953\"],[0.7777777777777778,\"#fb9f3a\"],[0.8888888888888888,\"#fdca26\"],[1.0,\"#f0f921\"]],\"type\":\"heatmap\"}],\"histogram2dcontour\":[{\"colorbar\":{\"outlinewidth\":0,\"ticks\":\"\"},\"colorscale\":[[0.0,\"#0d0887\"],[0.1111111111111111,\"#46039f\"],[0.2222222222222222,\"#7201a8\"],[0.3333333333333333,\"#9c179e\"],[0.4444444444444444,\"#bd3786\"],[0.5555555555555556,\"#d8576b\"],[0.6666666666666666,\"#ed7953\"],[0.7777777777777778,\"#fb9f3a\"],[0.8888888888888888,\"#fdca26\"],[1.0,\"#f0f921\"]],\"type\":\"histogram2dcontour\"}],\"histogram2d\":[{\"colorbar\":{\"outlinewidth\":0,\"ticks\":\"\"},\"colorscale\":[[0.0,\"#0d0887\"],[0.1111111111111111,\"#46039f\"],[0.2222222222222222,\"#7201a8\"],[0.3333333333333333,\"#9c179e\"],[0.4444444444444444,\"#bd3786\"],[0.5555555555555556,\"#d8576b\"],[0.6666666666666666,\"#ed7953\"],[0.7777777777777778,\"#fb9f3a\"],[0.8888888888888888,\"#fdca26\"],[1.0,\"#f0f921\"]],\"type\":\"histogram2d\"}],\"histogram\":[{\"marker\":{\"pattern\":{\"fillmode\":\"overlay\",\"size\":10,\"solidity\":0.2}},\"type\":\"histogram\"}],\"mesh3d\":[{\"colorbar\":{\"outlinewidth\":0,\"ticks\":\"\"},\"type\":\"mesh3d\"}],\"parcoords\":[{\"line\":{\"colorbar\":{\"outlinewidth\":0,\"ticks\":\"\"}},\"type\":\"parcoords\"}],\"pie\":[{\"automargin\":true,\"type\":\"pie\"}],\"scatter3d\":[{\"line\":{\"colorbar\":{\"outlinewidth\":0,\"ticks\":\"\"}},\"marker\":{\"colorbar\":{\"outlinewidth\":0,\"ticks\":\"\"}},\"type\":\"scatter3d\"}],\"scattercarpet\":[{\"marker\":{\"colorbar\":{\"outlinewidth\":0,\"ticks\":\"\"}},\"type\":\"scattercarpet\"}],\"scattergeo\":[{\"marker\":{\"colorbar\":{\"outlinewidth\":0,\"ticks\":\"\"}},\"type\":\"scattergeo\"}],\"scattergl\":[{\"marker\":{\"colorbar\":{\"outlinewidth\":0,\"ticks\":\"\"}},\"type\":\"scattergl\"}],\"scattermapbox\":[{\"marker\":{\"colorbar\":{\"outlinewidth\":0,\"ticks\":\"\"}},\"type\":\"scattermapbox\"}],\"scatterpolargl\":[{\"marker\":{\"colorbar\":{\"outlinewidth\":0,\"ticks\":\"\"}},\"type\":\"scatterpolargl\"}],\"scatterpolar\":[{\"marker\":{\"colorbar\":{\"outlinewidth\":0,\"ticks\":\"\"}},\"type\":\"scatterpolar\"}],\"scatter\":[{\"fillpattern\":{\"fillmode\":\"overlay\",\"size\":10,\"solidity\":0.2},\"type\":\"scatter\"}],\"scatterternary\":[{\"marker\":{\"colorbar\":{\"outlinewidth\":0,\"ticks\":\"\"}},\"type\":\"scatterternary\"}],\"surface\":[{\"colorbar\":{\"outlinewidth\":0,\"ticks\":\"\"},\"colorscale\":[[0.0,\"#0d0887\"],[0.1111111111111111,\"#46039f\"],[0.2222222222222222,\"#7201a8\"],[0.3333333333333333,\"#9c179e\"],[0.4444444444444444,\"#bd3786\"],[0.5555555555555556,\"#d8576b\"],[0.6666666666666666,\"#ed7953\"],[0.7777777777777778,\"#fb9f3a\"],[0.8888888888888888,\"#fdca26\"],[1.0,\"#f0f921\"]],\"type\":\"surface\"}],\"table\":[{\"cells\":{\"fill\":{\"color\":\"#EBF0F8\"},\"line\":{\"color\":\"white\"}},\"header\":{\"fill\":{\"color\":\"#C8D4E3\"},\"line\":{\"color\":\"white\"}},\"type\":\"table\"}]},\"layout\":{\"annotationdefaults\":{\"arrowcolor\":\"#2a3f5f\",\"arrowhead\":0,\"arrowwidth\":1},\"autotypenumbers\":\"strict\",\"coloraxis\":{\"colorbar\":{\"outlinewidth\":0,\"ticks\":\"\"}},\"colorscale\":{\"diverging\":[[0,\"#8e0152\"],[0.1,\"#c51b7d\"],[0.2,\"#de77ae\"],[0.3,\"#f1b6da\"],[0.4,\"#fde0ef\"],[0.5,\"#f7f7f7\"],[0.6,\"#e6f5d0\"],[0.7,\"#b8e186\"],[0.8,\"#7fbc41\"],[0.9,\"#4d9221\"],[1,\"#276419\"]],\"sequential\":[[0.0,\"#0d0887\"],[0.1111111111111111,\"#46039f\"],[0.2222222222222222,\"#7201a8\"],[0.3333333333333333,\"#9c179e\"],[0.4444444444444444,\"#bd3786\"],[0.5555555555555556,\"#d8576b\"],[0.6666666666666666,\"#ed7953\"],[0.7777777777777778,\"#fb9f3a\"],[0.8888888888888888,\"#fdca26\"],[1.0,\"#f0f921\"]],\"sequentialminus\":[[0.0,\"#0d0887\"],[0.1111111111111111,\"#46039f\"],[0.2222222222222222,\"#7201a8\"],[0.3333333333333333,\"#9c179e\"],[0.4444444444444444,\"#bd3786\"],[0.5555555555555556,\"#d8576b\"],[0.6666666666666666,\"#ed7953\"],[0.7777777777777778,\"#fb9f3a\"],[0.8888888888888888,\"#fdca26\"],[1.0,\"#f0f921\"]]},\"colorway\":[\"#636efa\",\"#EF553B\",\"#00cc96\",\"#ab63fa\",\"#FFA15A\",\"#19d3f3\",\"#FF6692\",\"#B6E880\",\"#FF97FF\",\"#FECB52\"],\"font\":{\"color\":\"#2a3f5f\"},\"geo\":{\"bgcolor\":\"white\",\"lakecolor\":\"white\",\"landcolor\":\"#E5ECF6\",\"showlakes\":true,\"showland\":true,\"subunitcolor\":\"white\"},\"hoverlabel\":{\"align\":\"left\"},\"hovermode\":\"closest\",\"mapbox\":{\"style\":\"light\"},\"paper_bgcolor\":\"white\",\"plot_bgcolor\":\"#E5ECF6\",\"polar\":{\"angularaxis\":{\"gridcolor\":\"white\",\"linecolor\":\"white\",\"ticks\":\"\"},\"bgcolor\":\"#E5ECF6\",\"radialaxis\":{\"gridcolor\":\"white\",\"linecolor\":\"white\",\"ticks\":\"\"}},\"scene\":{\"xaxis\":{\"backgroundcolor\":\"#E5ECF6\",\"gridcolor\":\"white\",\"gridwidth\":2,\"linecolor\":\"white\",\"showbackground\":true,\"ticks\":\"\",\"zerolinecolor\":\"white\"},\"yaxis\":{\"backgroundcolor\":\"#E5ECF6\",\"gridcolor\":\"white\",\"gridwidth\":2,\"linecolor\":\"white\",\"showbackground\":true,\"ticks\":\"\",\"zerolinecolor\":\"white\"},\"zaxis\":{\"backgroundcolor\":\"#E5ECF6\",\"gridcolor\":\"white\",\"gridwidth\":2,\"linecolor\":\"white\",\"showbackground\":true,\"ticks\":\"\",\"zerolinecolor\":\"white\"}},\"shapedefaults\":{\"line\":{\"color\":\"#2a3f5f\"}},\"ternary\":{\"aaxis\":{\"gridcolor\":\"white\",\"linecolor\":\"white\",\"ticks\":\"\"},\"baxis\":{\"gridcolor\":\"white\",\"linecolor\":\"white\",\"ticks\":\"\"},\"bgcolor\":\"#E5ECF6\",\"caxis\":{\"gridcolor\":\"white\",\"linecolor\":\"white\",\"ticks\":\"\"}},\"title\":{\"x\":0.05},\"xaxis\":{\"automargin\":true,\"gridcolor\":\"white\",\"linecolor\":\"white\",\"ticks\":\"\",\"title\":{\"standoff\":15},\"zerolinecolor\":\"white\",\"zerolinewidth\":2},\"yaxis\":{\"automargin\":true,\"gridcolor\":\"white\",\"linecolor\":\"white\",\"ticks\":\"\",\"title\":{\"standoff\":15},\"zerolinecolor\":\"white\",\"zerolinewidth\":2}}},\"title\":{\"font\":{\"color\":\"#4D5663\"},\"text\":\"CPI Index Additional Indicators (2019=100)\"},\"xaxis\":{\"anchor\":\"y\",\"domain\":[0.0,0.45],\"gridcolor\":\"#E1E5ED\",\"showgrid\":true,\"tickfont\":{\"color\":\"#4D5663\"},\"title\":{\"font\":{\"color\":\"#4D5663\"},\"text\":\"Year\"},\"zerolinecolor\":\"#E1E5ED\"},\"yaxis\":{\"anchor\":\"x\",\"domain\":[0.875,1.0],\"gridcolor\":\"#E1E5ED\",\"showgrid\":true,\"tickfont\":{\"color\":\"#4D5663\"},\"title\":{\"font\":{\"color\":\"#4D5663\"},\"text\":\"\"},\"zerolinecolor\":\"#E1E5ED\"},\"xaxis2\":{\"anchor\":\"y2\",\"domain\":[0.55,1.0],\"gridcolor\":\"#E1E5ED\",\"showgrid\":true,\"tickfont\":{\"color\":\"#4D5663\"},\"title\":{\"font\":{\"color\":\"#4D5663\"},\"text\":\"Year\"},\"zerolinecolor\":\"#E1E5ED\"},\"yaxis2\":{\"anchor\":\"x2\",\"domain\":[0.875,1.0],\"gridcolor\":\"#E1E5ED\",\"showgrid\":true,\"tickfont\":{\"color\":\"#4D5663\"},\"title\":{\"font\":{\"color\":\"#4D5663\"},\"text\":\"\"},\"zerolinecolor\":\"#E1E5ED\"},\"xaxis3\":{\"anchor\":\"y3\",\"domain\":[0.0,0.45],\"gridcolor\":\"#E1E5ED\",\"showgrid\":true,\"tickfont\":{\"color\":\"#4D5663\"},\"title\":{\"font\":{\"color\":\"#4D5663\"},\"text\":\"Year\"},\"zerolinecolor\":\"#E1E5ED\"},\"yaxis3\":{\"anchor\":\"x3\",\"domain\":[0.7,0.825],\"gridcolor\":\"#E1E5ED\",\"showgrid\":true,\"tickfont\":{\"color\":\"#4D5663\"},\"title\":{\"font\":{\"color\":\"#4D5663\"},\"text\":\"\"},\"zerolinecolor\":\"#E1E5ED\"},\"xaxis4\":{\"anchor\":\"y4\",\"domain\":[0.55,1.0],\"gridcolor\":\"#E1E5ED\",\"showgrid\":true,\"tickfont\":{\"color\":\"#4D5663\"},\"title\":{\"font\":{\"color\":\"#4D5663\"},\"text\":\"Year\"},\"zerolinecolor\":\"#E1E5ED\"},\"yaxis4\":{\"anchor\":\"x4\",\"domain\":[0.7,0.825],\"gridcolor\":\"#E1E5ED\",\"showgrid\":true,\"tickfont\":{\"color\":\"#4D5663\"},\"title\":{\"font\":{\"color\":\"#4D5663\"},\"text\":\"\"},\"zerolinecolor\":\"#E1E5ED\"},\"xaxis5\":{\"anchor\":\"y5\",\"domain\":[0.0,0.45],\"gridcolor\":\"#E1E5ED\",\"showgrid\":true,\"tickfont\":{\"color\":\"#4D5663\"},\"title\":{\"font\":{\"color\":\"#4D5663\"},\"text\":\"Year\"},\"zerolinecolor\":\"#E1E5ED\"},\"yaxis5\":{\"anchor\":\"x5\",\"domain\":[0.525,0.65],\"gridcolor\":\"#E1E5ED\",\"showgrid\":true,\"tickfont\":{\"color\":\"#4D5663\"},\"title\":{\"font\":{\"color\":\"#4D5663\"},\"text\":\"\"},\"zerolinecolor\":\"#E1E5ED\"},\"xaxis6\":{\"anchor\":\"y6\",\"domain\":[0.55,1.0],\"gridcolor\":\"#E1E5ED\",\"showgrid\":true,\"tickfont\":{\"color\":\"#4D5663\"},\"title\":{\"font\":{\"color\":\"#4D5663\"},\"text\":\"Year\"},\"zerolinecolor\":\"#E1E5ED\"},\"yaxis6\":{\"anchor\":\"x6\",\"domain\":[0.525,0.65],\"gridcolor\":\"#E1E5ED\",\"showgrid\":true,\"tickfont\":{\"color\":\"#4D5663\"},\"title\":{\"font\":{\"color\":\"#4D5663\"},\"text\":\"\"},\"zerolinecolor\":\"#E1E5ED\"},\"xaxis7\":{\"anchor\":\"y7\",\"domain\":[0.0,0.45],\"gridcolor\":\"#E1E5ED\",\"showgrid\":true,\"tickfont\":{\"color\":\"#4D5663\"},\"title\":{\"font\":{\"color\":\"#4D5663\"},\"text\":\"Year\"},\"zerolinecolor\":\"#E1E5ED\"},\"yaxis7\":{\"anchor\":\"x7\",\"domain\":[0.35,0.475],\"gridcolor\":\"#E1E5ED\",\"showgrid\":true,\"tickfont\":{\"color\":\"#4D5663\"},\"title\":{\"font\":{\"color\":\"#4D5663\"},\"text\":\"\"},\"zerolinecolor\":\"#E1E5ED\"},\"xaxis8\":{\"anchor\":\"y8\",\"domain\":[0.55,1.0],\"gridcolor\":\"#E1E5ED\",\"showgrid\":true,\"tickfont\":{\"color\":\"#4D5663\"},\"title\":{\"font\":{\"color\":\"#4D5663\"},\"text\":\"Year\"},\"zerolinecolor\":\"#E1E5ED\"},\"yaxis8\":{\"anchor\":\"x8\",\"domain\":[0.35,0.475],\"gridcolor\":\"#E1E5ED\",\"showgrid\":true,\"tickfont\":{\"color\":\"#4D5663\"},\"title\":{\"font\":{\"color\":\"#4D5663\"},\"text\":\"\"},\"zerolinecolor\":\"#E1E5ED\"},\"xaxis9\":{\"anchor\":\"y9\",\"domain\":[0.0,0.45],\"gridcolor\":\"#E1E5ED\",\"showgrid\":true,\"tickfont\":{\"color\":\"#4D5663\"},\"title\":{\"font\":{\"color\":\"#4D5663\"},\"text\":\"Year\"},\"zerolinecolor\":\"#E1E5ED\"},\"yaxis9\":{\"anchor\":\"x9\",\"domain\":[0.175,0.3],\"gridcolor\":\"#E1E5ED\",\"showgrid\":true,\"tickfont\":{\"color\":\"#4D5663\"},\"title\":{\"font\":{\"color\":\"#4D5663\"},\"text\":\"\"},\"zerolinecolor\":\"#E1E5ED\"},\"xaxis10\":{\"anchor\":\"y10\",\"domain\":[0.55,1.0],\"gridcolor\":\"#E1E5ED\",\"showgrid\":true,\"tickfont\":{\"color\":\"#4D5663\"},\"title\":{\"font\":{\"color\":\"#4D5663\"},\"text\":\"Year\"},\"zerolinecolor\":\"#E1E5ED\"},\"yaxis10\":{\"anchor\":\"x10\",\"domain\":[0.175,0.3],\"gridcolor\":\"#E1E5ED\",\"showgrid\":true,\"tickfont\":{\"color\":\"#4D5663\"},\"title\":{\"font\":{\"color\":\"#4D5663\"},\"text\":\"\"},\"zerolinecolor\":\"#E1E5ED\"},\"xaxis11\":{\"anchor\":\"y11\",\"domain\":[0.0,0.45],\"gridcolor\":\"#E1E5ED\",\"showgrid\":true,\"tickfont\":{\"color\":\"#4D5663\"},\"title\":{\"font\":{\"color\":\"#4D5663\"},\"text\":\"Year\"},\"zerolinecolor\":\"#E1E5ED\"},\"yaxis11\":{\"anchor\":\"x11\",\"domain\":[0.0,0.125],\"gridcolor\":\"#E1E5ED\",\"showgrid\":true,\"tickfont\":{\"color\":\"#4D5663\"},\"title\":{\"font\":{\"color\":\"#4D5663\"},\"text\":\"\"},\"zerolinecolor\":\"#E1E5ED\"},\"xaxis12\":{\"anchor\":\"y12\",\"domain\":[0.55,1.0],\"gridcolor\":\"#E1E5ED\",\"showgrid\":true,\"tickfont\":{\"color\":\"#4D5663\"},\"title\":{\"font\":{\"color\":\"#4D5663\"},\"text\":\"Year\"},\"zerolinecolor\":\"#E1E5ED\"},\"yaxis12\":{\"anchor\":\"x12\",\"domain\":[0.0,0.125],\"gridcolor\":\"#E1E5ED\",\"showgrid\":true,\"tickfont\":{\"color\":\"#4D5663\"},\"title\":{\"font\":{\"color\":\"#4D5663\"},\"text\":\"\"},\"zerolinecolor\":\"#E1E5ED\"}},                        {\"showLink\": true, \"linkText\": \"Export to plot.ly\", \"plotlyServerURL\": \"https://plot.ly\", \"responsive\": true}                    ).then(function(){\n",
       "                            \n",
       "var gd = document.getElementById('2247fdd9-447e-45f6-800c-52bf539dda22');\n",
       "var x = new MutationObserver(function (mutations, observer) {{\n",
       "        var display = window.getComputedStyle(gd).display;\n",
       "        if (!display || display === 'none') {{\n",
       "            console.log([gd, 'removed!']);\n",
       "            Plotly.purge(gd);\n",
       "            observer.disconnect();\n",
       "        }}\n",
       "}});\n",
       "\n",
       "// Listen for the removal of the full notebook cells\n",
       "var notebookContainer = gd.closest('#notebook-container');\n",
       "if (notebookContainer) {{\n",
       "    x.observe(notebookContainer, {childList: true});\n",
       "}}\n",
       "\n",
       "// Listen for the clearing of the current output cell\n",
       "var outputEl = gd.closest('.output');\n",
       "if (outputEl) {{\n",
       "    x.observe(outputEl, {childList: true});\n",
       "}}\n",
       "\n",
       "                        })                };                });            </script>        </div>"
      ]
     },
     "metadata": {},
     "output_type": "display_data"
    },
    {
     "data": {
      "text/markdown": [
       "<u>**My thoughts, comments and analysis on the above chart:**</u>"
      ],
      "text/plain": [
       "<IPython.core.display.Markdown object>"
      ]
     },
     "metadata": {},
     "output_type": "display_data"
    },
    {
     "data": {
      "text/markdown": [
       "This chart is very interesting to me since it breaks down the CPI indicators into alot more detail compared to the previous datasets. As can be seen there was a significant increase in housing and utilities prices around the 2014 period which slowly tapered off to present time. What else is interesting is that communication was much more expensive in the past than it is now, this could be due to technology advancements, improvements in operational efficiency or economies of scale of the 3 big telecom companies, Singtel, M1, and Starhub that resulted in overall reduced prices."
      ],
      "text/plain": [
       "<IPython.core.display.Markdown object>"
      ]
     },
     "metadata": {},
     "output_type": "display_data"
    },
    {
     "name": "stdout",
     "output_type": "stream",
     "text": [
      "\n",
      "Generally the rest of the other indicators experienced similair slow but steady increases in price however, it is noted that transport prices were at 73% of 2019 levels which scares me as I would soon be paying adult fares on public transport.\n",
      "\n"
     ]
    },
    {
     "data": {
      "application/vnd.plotly.v1+json": {
       "config": {
        "linkText": "Export to plot.ly",
        "plotlyServerURL": "https://plot.ly",
        "showLink": true
       },
       "data": [
        {
         "line": {
          "color": "rgba(255, 153, 51, 1.0)",
          "dash": "solid",
          "shape": "linear",
          "width": 2
         },
         "mode": "lines",
         "name": "MAS Core Inflation Measure",
         "text": "",
         "type": "scatter",
         "x": [
          1990,
          1991,
          1992,
          1993,
          1994,
          1995,
          1996,
          1997,
          1998,
          1999,
          2000,
          2001,
          2002,
          2003,
          2004,
          2005,
          2006,
          2007,
          2008,
          2009,
          2010,
          2011,
          2012,
          2013,
          2014,
          2015,
          2016,
          2017,
          2018,
          2019,
          2020,
          2021
         ],
         "xaxis": "x",
         "y": [
          62.094,
          64.359,
          65.398,
          66.562,
          68.246,
          69.744,
          70.997,
          72.091,
          72.376,
          72.736,
          73.818,
          74.965,
          74.927,
          75.631,
          77.135,
          78.104,
          79.445,
          81.195,
          85.802,
          85.783,
          87.083,
          88.97,
          91.238,
          92.799,
          94.607,
          95.076,
          95.933,
          97.327,
          98.966,
          100,
          99.845,
          100.769
         ],
         "yaxis": "y"
        },
        {
         "line": {
          "color": "rgba(55, 128, 191, 1.0)",
          "dash": "solid",
          "shape": "linear",
          "width": 2
         },
         "mode": "lines",
         "name": "Services Inflation Measure",
         "text": "",
         "type": "scatter",
         "x": [
          1990,
          1991,
          1992,
          1993,
          1994,
          1995,
          1996,
          1997,
          1998,
          1999,
          2000,
          2001,
          2002,
          2003,
          2004,
          2005,
          2006,
          2007,
          2008,
          2009,
          2010,
          2011,
          2012,
          2013,
          2014,
          2015,
          2016,
          2017,
          2018,
          2019,
          2020,
          2021
         ],
         "xaxis": "x2",
         "y": [
          "",
          "",
          "",
          "",
          "",
          "",
          "",
          "",
          "",
          "",
          "",
          "",
          "",
          "",
          "",
          "",
          "",
          "",
          "",
          "",
          "",
          "",
          "",
          "",
          93.602,
          94.435,
          95.577,
          97.033,
          98.448,
          100,
          99.46,
          100.71
         ],
         "yaxis": "y2"
        },
        {
         "line": {
          "color": "rgba(50, 171, 96, 1.0)",
          "dash": "solid",
          "shape": "linear",
          "width": 2
         },
         "mode": "lines",
         "name": "Retail & Other Goods Inflation Measure",
         "text": "",
         "type": "scatter",
         "x": [
          1990,
          1991,
          1992,
          1993,
          1994,
          1995,
          1996,
          1997,
          1998,
          1999,
          2000,
          2001,
          2002,
          2003,
          2004,
          2005,
          2006,
          2007,
          2008,
          2009,
          2010,
          2011,
          2012,
          2013,
          2014,
          2015,
          2016,
          2017,
          2018,
          2019,
          2020,
          2021
         ],
         "xaxis": "x3",
         "y": [
          "",
          "",
          "",
          "",
          "",
          "",
          "",
          "",
          "",
          "",
          "",
          "",
          "",
          "",
          "",
          "",
          "",
          "",
          "",
          "",
          "",
          "",
          "",
          "",
          98.245,
          98.304,
          98.577,
          98.769,
          100.14,
          100,
          98.501,
          97.387
         ],
         "yaxis": "y3"
        },
        {
         "line": {
          "color": "rgba(128, 0, 128, 1.0)",
          "dash": "solid",
          "shape": "linear",
          "width": 2
         },
         "mode": "lines",
         "name": "Electricity & Gas Inflation Measure",
         "text": "",
         "type": "scatter",
         "x": [
          1990,
          1991,
          1992,
          1993,
          1994,
          1995,
          1996,
          1997,
          1998,
          1999,
          2000,
          2001,
          2002,
          2003,
          2004,
          2005,
          2006,
          2007,
          2008,
          2009,
          2010,
          2011,
          2012,
          2013,
          2014,
          2015,
          2016,
          2017,
          2018,
          2019,
          2020,
          2021
         ],
         "xaxis": "x4",
         "y": [
          "",
          "",
          "",
          "",
          "",
          "",
          "",
          "",
          "",
          "",
          "",
          "",
          "",
          "",
          "",
          "",
          "",
          "",
          "",
          "",
          "",
          "",
          "",
          "",
          116.547,
          99.649,
          87.893,
          95.831,
          105.006,
          100,
          91.638,
          93.026
         ],
         "yaxis": "y4"
        }
       ],
       "layout": {
        "legend": {
         "bgcolor": "#F5F6F9",
         "font": {
          "color": "#4D5663"
         }
        },
        "paper_bgcolor": "#F5F6F9",
        "plot_bgcolor": "#F5F6F9",
        "template": {
         "data": {
          "bar": [
           {
            "error_x": {
             "color": "#2a3f5f"
            },
            "error_y": {
             "color": "#2a3f5f"
            },
            "marker": {
             "line": {
              "color": "#E5ECF6",
              "width": 0.5
             },
             "pattern": {
              "fillmode": "overlay",
              "size": 10,
              "solidity": 0.2
             }
            },
            "type": "bar"
           }
          ],
          "barpolar": [
           {
            "marker": {
             "line": {
              "color": "#E5ECF6",
              "width": 0.5
             },
             "pattern": {
              "fillmode": "overlay",
              "size": 10,
              "solidity": 0.2
             }
            },
            "type": "barpolar"
           }
          ],
          "carpet": [
           {
            "aaxis": {
             "endlinecolor": "#2a3f5f",
             "gridcolor": "white",
             "linecolor": "white",
             "minorgridcolor": "white",
             "startlinecolor": "#2a3f5f"
            },
            "baxis": {
             "endlinecolor": "#2a3f5f",
             "gridcolor": "white",
             "linecolor": "white",
             "minorgridcolor": "white",
             "startlinecolor": "#2a3f5f"
            },
            "type": "carpet"
           }
          ],
          "choropleth": [
           {
            "colorbar": {
             "outlinewidth": 0,
             "ticks": ""
            },
            "type": "choropleth"
           }
          ],
          "contour": [
           {
            "colorbar": {
             "outlinewidth": 0,
             "ticks": ""
            },
            "colorscale": [
             [
              0,
              "#0d0887"
             ],
             [
              0.1111111111111111,
              "#46039f"
             ],
             [
              0.2222222222222222,
              "#7201a8"
             ],
             [
              0.3333333333333333,
              "#9c179e"
             ],
             [
              0.4444444444444444,
              "#bd3786"
             ],
             [
              0.5555555555555556,
              "#d8576b"
             ],
             [
              0.6666666666666666,
              "#ed7953"
             ],
             [
              0.7777777777777778,
              "#fb9f3a"
             ],
             [
              0.8888888888888888,
              "#fdca26"
             ],
             [
              1,
              "#f0f921"
             ]
            ],
            "type": "contour"
           }
          ],
          "contourcarpet": [
           {
            "colorbar": {
             "outlinewidth": 0,
             "ticks": ""
            },
            "type": "contourcarpet"
           }
          ],
          "heatmap": [
           {
            "colorbar": {
             "outlinewidth": 0,
             "ticks": ""
            },
            "colorscale": [
             [
              0,
              "#0d0887"
             ],
             [
              0.1111111111111111,
              "#46039f"
             ],
             [
              0.2222222222222222,
              "#7201a8"
             ],
             [
              0.3333333333333333,
              "#9c179e"
             ],
             [
              0.4444444444444444,
              "#bd3786"
             ],
             [
              0.5555555555555556,
              "#d8576b"
             ],
             [
              0.6666666666666666,
              "#ed7953"
             ],
             [
              0.7777777777777778,
              "#fb9f3a"
             ],
             [
              0.8888888888888888,
              "#fdca26"
             ],
             [
              1,
              "#f0f921"
             ]
            ],
            "type": "heatmap"
           }
          ],
          "heatmapgl": [
           {
            "colorbar": {
             "outlinewidth": 0,
             "ticks": ""
            },
            "colorscale": [
             [
              0,
              "#0d0887"
             ],
             [
              0.1111111111111111,
              "#46039f"
             ],
             [
              0.2222222222222222,
              "#7201a8"
             ],
             [
              0.3333333333333333,
              "#9c179e"
             ],
             [
              0.4444444444444444,
              "#bd3786"
             ],
             [
              0.5555555555555556,
              "#d8576b"
             ],
             [
              0.6666666666666666,
              "#ed7953"
             ],
             [
              0.7777777777777778,
              "#fb9f3a"
             ],
             [
              0.8888888888888888,
              "#fdca26"
             ],
             [
              1,
              "#f0f921"
             ]
            ],
            "type": "heatmapgl"
           }
          ],
          "histogram": [
           {
            "marker": {
             "pattern": {
              "fillmode": "overlay",
              "size": 10,
              "solidity": 0.2
             }
            },
            "type": "histogram"
           }
          ],
          "histogram2d": [
           {
            "colorbar": {
             "outlinewidth": 0,
             "ticks": ""
            },
            "colorscale": [
             [
              0,
              "#0d0887"
             ],
             [
              0.1111111111111111,
              "#46039f"
             ],
             [
              0.2222222222222222,
              "#7201a8"
             ],
             [
              0.3333333333333333,
              "#9c179e"
             ],
             [
              0.4444444444444444,
              "#bd3786"
             ],
             [
              0.5555555555555556,
              "#d8576b"
             ],
             [
              0.6666666666666666,
              "#ed7953"
             ],
             [
              0.7777777777777778,
              "#fb9f3a"
             ],
             [
              0.8888888888888888,
              "#fdca26"
             ],
             [
              1,
              "#f0f921"
             ]
            ],
            "type": "histogram2d"
           }
          ],
          "histogram2dcontour": [
           {
            "colorbar": {
             "outlinewidth": 0,
             "ticks": ""
            },
            "colorscale": [
             [
              0,
              "#0d0887"
             ],
             [
              0.1111111111111111,
              "#46039f"
             ],
             [
              0.2222222222222222,
              "#7201a8"
             ],
             [
              0.3333333333333333,
              "#9c179e"
             ],
             [
              0.4444444444444444,
              "#bd3786"
             ],
             [
              0.5555555555555556,
              "#d8576b"
             ],
             [
              0.6666666666666666,
              "#ed7953"
             ],
             [
              0.7777777777777778,
              "#fb9f3a"
             ],
             [
              0.8888888888888888,
              "#fdca26"
             ],
             [
              1,
              "#f0f921"
             ]
            ],
            "type": "histogram2dcontour"
           }
          ],
          "mesh3d": [
           {
            "colorbar": {
             "outlinewidth": 0,
             "ticks": ""
            },
            "type": "mesh3d"
           }
          ],
          "parcoords": [
           {
            "line": {
             "colorbar": {
              "outlinewidth": 0,
              "ticks": ""
             }
            },
            "type": "parcoords"
           }
          ],
          "pie": [
           {
            "automargin": true,
            "type": "pie"
           }
          ],
          "scatter": [
           {
            "fillpattern": {
             "fillmode": "overlay",
             "size": 10,
             "solidity": 0.2
            },
            "type": "scatter"
           }
          ],
          "scatter3d": [
           {
            "line": {
             "colorbar": {
              "outlinewidth": 0,
              "ticks": ""
             }
            },
            "marker": {
             "colorbar": {
              "outlinewidth": 0,
              "ticks": ""
             }
            },
            "type": "scatter3d"
           }
          ],
          "scattercarpet": [
           {
            "marker": {
             "colorbar": {
              "outlinewidth": 0,
              "ticks": ""
             }
            },
            "type": "scattercarpet"
           }
          ],
          "scattergeo": [
           {
            "marker": {
             "colorbar": {
              "outlinewidth": 0,
              "ticks": ""
             }
            },
            "type": "scattergeo"
           }
          ],
          "scattergl": [
           {
            "marker": {
             "colorbar": {
              "outlinewidth": 0,
              "ticks": ""
             }
            },
            "type": "scattergl"
           }
          ],
          "scattermapbox": [
           {
            "marker": {
             "colorbar": {
              "outlinewidth": 0,
              "ticks": ""
             }
            },
            "type": "scattermapbox"
           }
          ],
          "scatterpolar": [
           {
            "marker": {
             "colorbar": {
              "outlinewidth": 0,
              "ticks": ""
             }
            },
            "type": "scatterpolar"
           }
          ],
          "scatterpolargl": [
           {
            "marker": {
             "colorbar": {
              "outlinewidth": 0,
              "ticks": ""
             }
            },
            "type": "scatterpolargl"
           }
          ],
          "scatterternary": [
           {
            "marker": {
             "colorbar": {
              "outlinewidth": 0,
              "ticks": ""
             }
            },
            "type": "scatterternary"
           }
          ],
          "surface": [
           {
            "colorbar": {
             "outlinewidth": 0,
             "ticks": ""
            },
            "colorscale": [
             [
              0,
              "#0d0887"
             ],
             [
              0.1111111111111111,
              "#46039f"
             ],
             [
              0.2222222222222222,
              "#7201a8"
             ],
             [
              0.3333333333333333,
              "#9c179e"
             ],
             [
              0.4444444444444444,
              "#bd3786"
             ],
             [
              0.5555555555555556,
              "#d8576b"
             ],
             [
              0.6666666666666666,
              "#ed7953"
             ],
             [
              0.7777777777777778,
              "#fb9f3a"
             ],
             [
              0.8888888888888888,
              "#fdca26"
             ],
             [
              1,
              "#f0f921"
             ]
            ],
            "type": "surface"
           }
          ],
          "table": [
           {
            "cells": {
             "fill": {
              "color": "#EBF0F8"
             },
             "line": {
              "color": "white"
             }
            },
            "header": {
             "fill": {
              "color": "#C8D4E3"
             },
             "line": {
              "color": "white"
             }
            },
            "type": "table"
           }
          ]
         },
         "layout": {
          "annotationdefaults": {
           "arrowcolor": "#2a3f5f",
           "arrowhead": 0,
           "arrowwidth": 1
          },
          "autotypenumbers": "strict",
          "coloraxis": {
           "colorbar": {
            "outlinewidth": 0,
            "ticks": ""
           }
          },
          "colorscale": {
           "diverging": [
            [
             0,
             "#8e0152"
            ],
            [
             0.1,
             "#c51b7d"
            ],
            [
             0.2,
             "#de77ae"
            ],
            [
             0.3,
             "#f1b6da"
            ],
            [
             0.4,
             "#fde0ef"
            ],
            [
             0.5,
             "#f7f7f7"
            ],
            [
             0.6,
             "#e6f5d0"
            ],
            [
             0.7,
             "#b8e186"
            ],
            [
             0.8,
             "#7fbc41"
            ],
            [
             0.9,
             "#4d9221"
            ],
            [
             1,
             "#276419"
            ]
           ],
           "sequential": [
            [
             0,
             "#0d0887"
            ],
            [
             0.1111111111111111,
             "#46039f"
            ],
            [
             0.2222222222222222,
             "#7201a8"
            ],
            [
             0.3333333333333333,
             "#9c179e"
            ],
            [
             0.4444444444444444,
             "#bd3786"
            ],
            [
             0.5555555555555556,
             "#d8576b"
            ],
            [
             0.6666666666666666,
             "#ed7953"
            ],
            [
             0.7777777777777778,
             "#fb9f3a"
            ],
            [
             0.8888888888888888,
             "#fdca26"
            ],
            [
             1,
             "#f0f921"
            ]
           ],
           "sequentialminus": [
            [
             0,
             "#0d0887"
            ],
            [
             0.1111111111111111,
             "#46039f"
            ],
            [
             0.2222222222222222,
             "#7201a8"
            ],
            [
             0.3333333333333333,
             "#9c179e"
            ],
            [
             0.4444444444444444,
             "#bd3786"
            ],
            [
             0.5555555555555556,
             "#d8576b"
            ],
            [
             0.6666666666666666,
             "#ed7953"
            ],
            [
             0.7777777777777778,
             "#fb9f3a"
            ],
            [
             0.8888888888888888,
             "#fdca26"
            ],
            [
             1,
             "#f0f921"
            ]
           ]
          },
          "colorway": [
           "#636efa",
           "#EF553B",
           "#00cc96",
           "#ab63fa",
           "#FFA15A",
           "#19d3f3",
           "#FF6692",
           "#B6E880",
           "#FF97FF",
           "#FECB52"
          ],
          "font": {
           "color": "#2a3f5f"
          },
          "geo": {
           "bgcolor": "white",
           "lakecolor": "white",
           "landcolor": "#E5ECF6",
           "showlakes": true,
           "showland": true,
           "subunitcolor": "white"
          },
          "hoverlabel": {
           "align": "left"
          },
          "hovermode": "closest",
          "mapbox": {
           "style": "light"
          },
          "paper_bgcolor": "white",
          "plot_bgcolor": "#E5ECF6",
          "polar": {
           "angularaxis": {
            "gridcolor": "white",
            "linecolor": "white",
            "ticks": ""
           },
           "bgcolor": "#E5ECF6",
           "radialaxis": {
            "gridcolor": "white",
            "linecolor": "white",
            "ticks": ""
           }
          },
          "scene": {
           "xaxis": {
            "backgroundcolor": "#E5ECF6",
            "gridcolor": "white",
            "gridwidth": 2,
            "linecolor": "white",
            "showbackground": true,
            "ticks": "",
            "zerolinecolor": "white"
           },
           "yaxis": {
            "backgroundcolor": "#E5ECF6",
            "gridcolor": "white",
            "gridwidth": 2,
            "linecolor": "white",
            "showbackground": true,
            "ticks": "",
            "zerolinecolor": "white"
           },
           "zaxis": {
            "backgroundcolor": "#E5ECF6",
            "gridcolor": "white",
            "gridwidth": 2,
            "linecolor": "white",
            "showbackground": true,
            "ticks": "",
            "zerolinecolor": "white"
           }
          },
          "shapedefaults": {
           "line": {
            "color": "#2a3f5f"
           }
          },
          "ternary": {
           "aaxis": {
            "gridcolor": "white",
            "linecolor": "white",
            "ticks": ""
           },
           "baxis": {
            "gridcolor": "white",
            "linecolor": "white",
            "ticks": ""
           },
           "bgcolor": "#E5ECF6",
           "caxis": {
            "gridcolor": "white",
            "linecolor": "white",
            "ticks": ""
           }
          },
          "title": {
           "x": 0.05
          },
          "xaxis": {
           "automargin": true,
           "gridcolor": "white",
           "linecolor": "white",
           "ticks": "",
           "title": {
            "standoff": 15
           },
           "zerolinecolor": "white",
           "zerolinewidth": 2
          },
          "yaxis": {
           "automargin": true,
           "gridcolor": "white",
           "linecolor": "white",
           "ticks": "",
           "title": {
            "standoff": 15
           },
           "zerolinecolor": "white",
           "zerolinewidth": 2
          }
         }
        },
        "title": {
         "font": {
          "color": "#4D5663"
         },
         "text": "CPI Index Additional Indicators"
        },
        "xaxis": {
         "anchor": "y",
         "domain": [
          0,
          0.45
         ],
         "gridcolor": "#E1E5ED",
         "showgrid": true,
         "tickfont": {
          "color": "#4D5663"
         },
         "title": {
          "font": {
           "color": "#4D5663"
          },
          "text": "Year"
         },
         "zerolinecolor": "#E1E5ED"
        },
        "xaxis2": {
         "anchor": "y2",
         "domain": [
          0.55,
          1
         ],
         "gridcolor": "#E1E5ED",
         "showgrid": true,
         "tickfont": {
          "color": "#4D5663"
         },
         "title": {
          "font": {
           "color": "#4D5663"
          },
          "text": "Year"
         },
         "zerolinecolor": "#E1E5ED"
        },
        "xaxis3": {
         "anchor": "y3",
         "domain": [
          0,
          0.45
         ],
         "gridcolor": "#E1E5ED",
         "showgrid": true,
         "tickfont": {
          "color": "#4D5663"
         },
         "title": {
          "font": {
           "color": "#4D5663"
          },
          "text": "Year"
         },
         "zerolinecolor": "#E1E5ED"
        },
        "xaxis4": {
         "anchor": "y4",
         "domain": [
          0.55,
          1
         ],
         "gridcolor": "#E1E5ED",
         "showgrid": true,
         "tickfont": {
          "color": "#4D5663"
         },
         "title": {
          "font": {
           "color": "#4D5663"
          },
          "text": "Year"
         },
         "zerolinecolor": "#E1E5ED"
        },
        "yaxis": {
         "anchor": "x",
         "domain": [
          0.575,
          1
         ],
         "gridcolor": "#E1E5ED",
         "showgrid": true,
         "tickfont": {
          "color": "#4D5663"
         },
         "title": {
          "font": {
           "color": "#4D5663"
          },
          "text": "Index (2019=100)"
         },
         "zerolinecolor": "#E1E5ED"
        },
        "yaxis2": {
         "anchor": "x2",
         "domain": [
          0.575,
          1
         ],
         "gridcolor": "#E1E5ED",
         "showgrid": true,
         "tickfont": {
          "color": "#4D5663"
         },
         "title": {
          "font": {
           "color": "#4D5663"
          },
          "text": "Index (2019=100)"
         },
         "zerolinecolor": "#E1E5ED"
        },
        "yaxis3": {
         "anchor": "x3",
         "domain": [
          0,
          0.425
         ],
         "gridcolor": "#E1E5ED",
         "showgrid": true,
         "tickfont": {
          "color": "#4D5663"
         },
         "title": {
          "font": {
           "color": "#4D5663"
          },
          "text": "Index (2019=100)"
         },
         "zerolinecolor": "#E1E5ED"
        },
        "yaxis4": {
         "anchor": "x4",
         "domain": [
          0,
          0.425
         ],
         "gridcolor": "#E1E5ED",
         "showgrid": true,
         "tickfont": {
          "color": "#4D5663"
         },
         "title": {
          "font": {
           "color": "#4D5663"
          },
          "text": "Index (2019=100)"
         },
         "zerolinecolor": "#E1E5ED"
        }
       }
      },
      "text/html": [
       "<div>                            <div id=\"901370ec-fb9f-498d-8fc1-f92fca931364\" class=\"plotly-graph-div\" style=\"height:525px; width:100%;\"></div>            <script type=\"text/javascript\">                require([\"plotly\"], function(Plotly) {                    window.PLOTLYENV=window.PLOTLYENV || {};\n",
       "                    window.PLOTLYENV.BASE_URL='https://plot.ly';                                    if (document.getElementById(\"901370ec-fb9f-498d-8fc1-f92fca931364\")) {                    Plotly.newPlot(                        \"901370ec-fb9f-498d-8fc1-f92fca931364\",                        [{\"line\":{\"color\":\"rgba(255, 153, 51, 1.0)\",\"dash\":\"solid\",\"shape\":\"linear\",\"width\":2.0},\"mode\":\"lines\",\"name\":\"MAS Core Inflation Measure\",\"text\":\"\",\"x\":[1990,1991,1992,1993,1994,1995,1996,1997,1998,1999,2000,2001,2002,2003,2004,2005,2006,2007,2008,2009,2010,2011,2012,2013,2014,2015,2016,2017,2018,2019,2020,2021],\"xaxis\":\"x\",\"y\":[62.094,64.359,65.398,66.562,68.246,69.744,70.997,72.091,72.376,72.736,73.818,74.965,74.927,75.631,77.135,78.104,79.445,81.195,85.802,85.783,87.083,88.97,91.238,92.799,94.607,95.076,95.933,97.327,98.966,100.0,99.845,100.769],\"yaxis\":\"y\",\"type\":\"scatter\"},{\"line\":{\"color\":\"rgba(55, 128, 191, 1.0)\",\"dash\":\"solid\",\"shape\":\"linear\",\"width\":2.0},\"mode\":\"lines\",\"name\":\"Services Inflation Measure\",\"text\":\"\",\"x\":[1990,1991,1992,1993,1994,1995,1996,1997,1998,1999,2000,2001,2002,2003,2004,2005,2006,2007,2008,2009,2010,2011,2012,2013,2014,2015,2016,2017,2018,2019,2020,2021],\"xaxis\":\"x2\",\"y\":[\"\",\"\",\"\",\"\",\"\",\"\",\"\",\"\",\"\",\"\",\"\",\"\",\"\",\"\",\"\",\"\",\"\",\"\",\"\",\"\",\"\",\"\",\"\",\"\",93.602,94.435,95.577,97.033,98.448,100.0,99.46,100.71],\"yaxis\":\"y2\",\"type\":\"scatter\"},{\"line\":{\"color\":\"rgba(50, 171, 96, 1.0)\",\"dash\":\"solid\",\"shape\":\"linear\",\"width\":2.0},\"mode\":\"lines\",\"name\":\"Retail & Other Goods Inflation Measure\",\"text\":\"\",\"x\":[1990,1991,1992,1993,1994,1995,1996,1997,1998,1999,2000,2001,2002,2003,2004,2005,2006,2007,2008,2009,2010,2011,2012,2013,2014,2015,2016,2017,2018,2019,2020,2021],\"xaxis\":\"x3\",\"y\":[\"\",\"\",\"\",\"\",\"\",\"\",\"\",\"\",\"\",\"\",\"\",\"\",\"\",\"\",\"\",\"\",\"\",\"\",\"\",\"\",\"\",\"\",\"\",\"\",98.245,98.304,98.577,98.769,100.14,100.0,98.501,97.387],\"yaxis\":\"y3\",\"type\":\"scatter\"},{\"line\":{\"color\":\"rgba(128, 0, 128, 1.0)\",\"dash\":\"solid\",\"shape\":\"linear\",\"width\":2.0},\"mode\":\"lines\",\"name\":\"Electricity & Gas Inflation Measure\",\"text\":\"\",\"x\":[1990,1991,1992,1993,1994,1995,1996,1997,1998,1999,2000,2001,2002,2003,2004,2005,2006,2007,2008,2009,2010,2011,2012,2013,2014,2015,2016,2017,2018,2019,2020,2021],\"xaxis\":\"x4\",\"y\":[\"\",\"\",\"\",\"\",\"\",\"\",\"\",\"\",\"\",\"\",\"\",\"\",\"\",\"\",\"\",\"\",\"\",\"\",\"\",\"\",\"\",\"\",\"\",\"\",116.547,99.649,87.893,95.831,105.006,100.0,91.638,93.026],\"yaxis\":\"y4\",\"type\":\"scatter\"}],                        {\"legend\":{\"bgcolor\":\"#F5F6F9\",\"font\":{\"color\":\"#4D5663\"}},\"paper_bgcolor\":\"#F5F6F9\",\"plot_bgcolor\":\"#F5F6F9\",\"template\":{\"data\":{\"barpolar\":[{\"marker\":{\"line\":{\"color\":\"#E5ECF6\",\"width\":0.5},\"pattern\":{\"fillmode\":\"overlay\",\"size\":10,\"solidity\":0.2}},\"type\":\"barpolar\"}],\"bar\":[{\"error_x\":{\"color\":\"#2a3f5f\"},\"error_y\":{\"color\":\"#2a3f5f\"},\"marker\":{\"line\":{\"color\":\"#E5ECF6\",\"width\":0.5},\"pattern\":{\"fillmode\":\"overlay\",\"size\":10,\"solidity\":0.2}},\"type\":\"bar\"}],\"carpet\":[{\"aaxis\":{\"endlinecolor\":\"#2a3f5f\",\"gridcolor\":\"white\",\"linecolor\":\"white\",\"minorgridcolor\":\"white\",\"startlinecolor\":\"#2a3f5f\"},\"baxis\":{\"endlinecolor\":\"#2a3f5f\",\"gridcolor\":\"white\",\"linecolor\":\"white\",\"minorgridcolor\":\"white\",\"startlinecolor\":\"#2a3f5f\"},\"type\":\"carpet\"}],\"choropleth\":[{\"colorbar\":{\"outlinewidth\":0,\"ticks\":\"\"},\"type\":\"choropleth\"}],\"contourcarpet\":[{\"colorbar\":{\"outlinewidth\":0,\"ticks\":\"\"},\"type\":\"contourcarpet\"}],\"contour\":[{\"colorbar\":{\"outlinewidth\":0,\"ticks\":\"\"},\"colorscale\":[[0.0,\"#0d0887\"],[0.1111111111111111,\"#46039f\"],[0.2222222222222222,\"#7201a8\"],[0.3333333333333333,\"#9c179e\"],[0.4444444444444444,\"#bd3786\"],[0.5555555555555556,\"#d8576b\"],[0.6666666666666666,\"#ed7953\"],[0.7777777777777778,\"#fb9f3a\"],[0.8888888888888888,\"#fdca26\"],[1.0,\"#f0f921\"]],\"type\":\"contour\"}],\"heatmapgl\":[{\"colorbar\":{\"outlinewidth\":0,\"ticks\":\"\"},\"colorscale\":[[0.0,\"#0d0887\"],[0.1111111111111111,\"#46039f\"],[0.2222222222222222,\"#7201a8\"],[0.3333333333333333,\"#9c179e\"],[0.4444444444444444,\"#bd3786\"],[0.5555555555555556,\"#d8576b\"],[0.6666666666666666,\"#ed7953\"],[0.7777777777777778,\"#fb9f3a\"],[0.8888888888888888,\"#fdca26\"],[1.0,\"#f0f921\"]],\"type\":\"heatmapgl\"}],\"heatmap\":[{\"colorbar\":{\"outlinewidth\":0,\"ticks\":\"\"},\"colorscale\":[[0.0,\"#0d0887\"],[0.1111111111111111,\"#46039f\"],[0.2222222222222222,\"#7201a8\"],[0.3333333333333333,\"#9c179e\"],[0.4444444444444444,\"#bd3786\"],[0.5555555555555556,\"#d8576b\"],[0.6666666666666666,\"#ed7953\"],[0.7777777777777778,\"#fb9f3a\"],[0.8888888888888888,\"#fdca26\"],[1.0,\"#f0f921\"]],\"type\":\"heatmap\"}],\"histogram2dcontour\":[{\"colorbar\":{\"outlinewidth\":0,\"ticks\":\"\"},\"colorscale\":[[0.0,\"#0d0887\"],[0.1111111111111111,\"#46039f\"],[0.2222222222222222,\"#7201a8\"],[0.3333333333333333,\"#9c179e\"],[0.4444444444444444,\"#bd3786\"],[0.5555555555555556,\"#d8576b\"],[0.6666666666666666,\"#ed7953\"],[0.7777777777777778,\"#fb9f3a\"],[0.8888888888888888,\"#fdca26\"],[1.0,\"#f0f921\"]],\"type\":\"histogram2dcontour\"}],\"histogram2d\":[{\"colorbar\":{\"outlinewidth\":0,\"ticks\":\"\"},\"colorscale\":[[0.0,\"#0d0887\"],[0.1111111111111111,\"#46039f\"],[0.2222222222222222,\"#7201a8\"],[0.3333333333333333,\"#9c179e\"],[0.4444444444444444,\"#bd3786\"],[0.5555555555555556,\"#d8576b\"],[0.6666666666666666,\"#ed7953\"],[0.7777777777777778,\"#fb9f3a\"],[0.8888888888888888,\"#fdca26\"],[1.0,\"#f0f921\"]],\"type\":\"histogram2d\"}],\"histogram\":[{\"marker\":{\"pattern\":{\"fillmode\":\"overlay\",\"size\":10,\"solidity\":0.2}},\"type\":\"histogram\"}],\"mesh3d\":[{\"colorbar\":{\"outlinewidth\":0,\"ticks\":\"\"},\"type\":\"mesh3d\"}],\"parcoords\":[{\"line\":{\"colorbar\":{\"outlinewidth\":0,\"ticks\":\"\"}},\"type\":\"parcoords\"}],\"pie\":[{\"automargin\":true,\"type\":\"pie\"}],\"scatter3d\":[{\"line\":{\"colorbar\":{\"outlinewidth\":0,\"ticks\":\"\"}},\"marker\":{\"colorbar\":{\"outlinewidth\":0,\"ticks\":\"\"}},\"type\":\"scatter3d\"}],\"scattercarpet\":[{\"marker\":{\"colorbar\":{\"outlinewidth\":0,\"ticks\":\"\"}},\"type\":\"scattercarpet\"}],\"scattergeo\":[{\"marker\":{\"colorbar\":{\"outlinewidth\":0,\"ticks\":\"\"}},\"type\":\"scattergeo\"}],\"scattergl\":[{\"marker\":{\"colorbar\":{\"outlinewidth\":0,\"ticks\":\"\"}},\"type\":\"scattergl\"}],\"scattermapbox\":[{\"marker\":{\"colorbar\":{\"outlinewidth\":0,\"ticks\":\"\"}},\"type\":\"scattermapbox\"}],\"scatterpolargl\":[{\"marker\":{\"colorbar\":{\"outlinewidth\":0,\"ticks\":\"\"}},\"type\":\"scatterpolargl\"}],\"scatterpolar\":[{\"marker\":{\"colorbar\":{\"outlinewidth\":0,\"ticks\":\"\"}},\"type\":\"scatterpolar\"}],\"scatter\":[{\"fillpattern\":{\"fillmode\":\"overlay\",\"size\":10,\"solidity\":0.2},\"type\":\"scatter\"}],\"scatterternary\":[{\"marker\":{\"colorbar\":{\"outlinewidth\":0,\"ticks\":\"\"}},\"type\":\"scatterternary\"}],\"surface\":[{\"colorbar\":{\"outlinewidth\":0,\"ticks\":\"\"},\"colorscale\":[[0.0,\"#0d0887\"],[0.1111111111111111,\"#46039f\"],[0.2222222222222222,\"#7201a8\"],[0.3333333333333333,\"#9c179e\"],[0.4444444444444444,\"#bd3786\"],[0.5555555555555556,\"#d8576b\"],[0.6666666666666666,\"#ed7953\"],[0.7777777777777778,\"#fb9f3a\"],[0.8888888888888888,\"#fdca26\"],[1.0,\"#f0f921\"]],\"type\":\"surface\"}],\"table\":[{\"cells\":{\"fill\":{\"color\":\"#EBF0F8\"},\"line\":{\"color\":\"white\"}},\"header\":{\"fill\":{\"color\":\"#C8D4E3\"},\"line\":{\"color\":\"white\"}},\"type\":\"table\"}]},\"layout\":{\"annotationdefaults\":{\"arrowcolor\":\"#2a3f5f\",\"arrowhead\":0,\"arrowwidth\":1},\"autotypenumbers\":\"strict\",\"coloraxis\":{\"colorbar\":{\"outlinewidth\":0,\"ticks\":\"\"}},\"colorscale\":{\"diverging\":[[0,\"#8e0152\"],[0.1,\"#c51b7d\"],[0.2,\"#de77ae\"],[0.3,\"#f1b6da\"],[0.4,\"#fde0ef\"],[0.5,\"#f7f7f7\"],[0.6,\"#e6f5d0\"],[0.7,\"#b8e186\"],[0.8,\"#7fbc41\"],[0.9,\"#4d9221\"],[1,\"#276419\"]],\"sequential\":[[0.0,\"#0d0887\"],[0.1111111111111111,\"#46039f\"],[0.2222222222222222,\"#7201a8\"],[0.3333333333333333,\"#9c179e\"],[0.4444444444444444,\"#bd3786\"],[0.5555555555555556,\"#d8576b\"],[0.6666666666666666,\"#ed7953\"],[0.7777777777777778,\"#fb9f3a\"],[0.8888888888888888,\"#fdca26\"],[1.0,\"#f0f921\"]],\"sequentialminus\":[[0.0,\"#0d0887\"],[0.1111111111111111,\"#46039f\"],[0.2222222222222222,\"#7201a8\"],[0.3333333333333333,\"#9c179e\"],[0.4444444444444444,\"#bd3786\"],[0.5555555555555556,\"#d8576b\"],[0.6666666666666666,\"#ed7953\"],[0.7777777777777778,\"#fb9f3a\"],[0.8888888888888888,\"#fdca26\"],[1.0,\"#f0f921\"]]},\"colorway\":[\"#636efa\",\"#EF553B\",\"#00cc96\",\"#ab63fa\",\"#FFA15A\",\"#19d3f3\",\"#FF6692\",\"#B6E880\",\"#FF97FF\",\"#FECB52\"],\"font\":{\"color\":\"#2a3f5f\"},\"geo\":{\"bgcolor\":\"white\",\"lakecolor\":\"white\",\"landcolor\":\"#E5ECF6\",\"showlakes\":true,\"showland\":true,\"subunitcolor\":\"white\"},\"hoverlabel\":{\"align\":\"left\"},\"hovermode\":\"closest\",\"mapbox\":{\"style\":\"light\"},\"paper_bgcolor\":\"white\",\"plot_bgcolor\":\"#E5ECF6\",\"polar\":{\"angularaxis\":{\"gridcolor\":\"white\",\"linecolor\":\"white\",\"ticks\":\"\"},\"bgcolor\":\"#E5ECF6\",\"radialaxis\":{\"gridcolor\":\"white\",\"linecolor\":\"white\",\"ticks\":\"\"}},\"scene\":{\"xaxis\":{\"backgroundcolor\":\"#E5ECF6\",\"gridcolor\":\"white\",\"gridwidth\":2,\"linecolor\":\"white\",\"showbackground\":true,\"ticks\":\"\",\"zerolinecolor\":\"white\"},\"yaxis\":{\"backgroundcolor\":\"#E5ECF6\",\"gridcolor\":\"white\",\"gridwidth\":2,\"linecolor\":\"white\",\"showbackground\":true,\"ticks\":\"\",\"zerolinecolor\":\"white\"},\"zaxis\":{\"backgroundcolor\":\"#E5ECF6\",\"gridcolor\":\"white\",\"gridwidth\":2,\"linecolor\":\"white\",\"showbackground\":true,\"ticks\":\"\",\"zerolinecolor\":\"white\"}},\"shapedefaults\":{\"line\":{\"color\":\"#2a3f5f\"}},\"ternary\":{\"aaxis\":{\"gridcolor\":\"white\",\"linecolor\":\"white\",\"ticks\":\"\"},\"baxis\":{\"gridcolor\":\"white\",\"linecolor\":\"white\",\"ticks\":\"\"},\"bgcolor\":\"#E5ECF6\",\"caxis\":{\"gridcolor\":\"white\",\"linecolor\":\"white\",\"ticks\":\"\"}},\"title\":{\"x\":0.05},\"xaxis\":{\"automargin\":true,\"gridcolor\":\"white\",\"linecolor\":\"white\",\"ticks\":\"\",\"title\":{\"standoff\":15},\"zerolinecolor\":\"white\",\"zerolinewidth\":2},\"yaxis\":{\"automargin\":true,\"gridcolor\":\"white\",\"linecolor\":\"white\",\"ticks\":\"\",\"title\":{\"standoff\":15},\"zerolinecolor\":\"white\",\"zerolinewidth\":2}}},\"title\":{\"font\":{\"color\":\"#4D5663\"},\"text\":\"CPI Index Additional Indicators\"},\"xaxis\":{\"anchor\":\"y\",\"domain\":[0.0,0.45],\"gridcolor\":\"#E1E5ED\",\"showgrid\":true,\"tickfont\":{\"color\":\"#4D5663\"},\"title\":{\"font\":{\"color\":\"#4D5663\"},\"text\":\"Year\"},\"zerolinecolor\":\"#E1E5ED\"},\"yaxis\":{\"anchor\":\"x\",\"domain\":[0.575,1.0],\"gridcolor\":\"#E1E5ED\",\"showgrid\":true,\"tickfont\":{\"color\":\"#4D5663\"},\"title\":{\"font\":{\"color\":\"#4D5663\"},\"text\":\"Index (2019=100)\"},\"zerolinecolor\":\"#E1E5ED\"},\"xaxis2\":{\"anchor\":\"y2\",\"domain\":[0.55,1.0],\"gridcolor\":\"#E1E5ED\",\"showgrid\":true,\"tickfont\":{\"color\":\"#4D5663\"},\"title\":{\"font\":{\"color\":\"#4D5663\"},\"text\":\"Year\"},\"zerolinecolor\":\"#E1E5ED\"},\"yaxis2\":{\"anchor\":\"x2\",\"domain\":[0.575,1.0],\"gridcolor\":\"#E1E5ED\",\"showgrid\":true,\"tickfont\":{\"color\":\"#4D5663\"},\"title\":{\"font\":{\"color\":\"#4D5663\"},\"text\":\"Index (2019=100)\"},\"zerolinecolor\":\"#E1E5ED\"},\"xaxis3\":{\"anchor\":\"y3\",\"domain\":[0.0,0.45],\"gridcolor\":\"#E1E5ED\",\"showgrid\":true,\"tickfont\":{\"color\":\"#4D5663\"},\"title\":{\"font\":{\"color\":\"#4D5663\"},\"text\":\"Year\"},\"zerolinecolor\":\"#E1E5ED\"},\"yaxis3\":{\"anchor\":\"x3\",\"domain\":[0.0,0.425],\"gridcolor\":\"#E1E5ED\",\"showgrid\":true,\"tickfont\":{\"color\":\"#4D5663\"},\"title\":{\"font\":{\"color\":\"#4D5663\"},\"text\":\"Index (2019=100)\"},\"zerolinecolor\":\"#E1E5ED\"},\"xaxis4\":{\"anchor\":\"y4\",\"domain\":[0.55,1.0],\"gridcolor\":\"#E1E5ED\",\"showgrid\":true,\"tickfont\":{\"color\":\"#4D5663\"},\"title\":{\"font\":{\"color\":\"#4D5663\"},\"text\":\"Year\"},\"zerolinecolor\":\"#E1E5ED\"},\"yaxis4\":{\"anchor\":\"x4\",\"domain\":[0.0,0.425],\"gridcolor\":\"#E1E5ED\",\"showgrid\":true,\"tickfont\":{\"color\":\"#4D5663\"},\"title\":{\"font\":{\"color\":\"#4D5663\"},\"text\":\"Index (2019=100)\"},\"zerolinecolor\":\"#E1E5ED\"}},                        {\"showLink\": true, \"linkText\": \"Export to plot.ly\", \"plotlyServerURL\": \"https://plot.ly\", \"responsive\": true}                    ).then(function(){\n",
       "                            \n",
       "var gd = document.getElementById('901370ec-fb9f-498d-8fc1-f92fca931364');\n",
       "var x = new MutationObserver(function (mutations, observer) {{\n",
       "        var display = window.getComputedStyle(gd).display;\n",
       "        if (!display || display === 'none') {{\n",
       "            console.log([gd, 'removed!']);\n",
       "            Plotly.purge(gd);\n",
       "            observer.disconnect();\n",
       "        }}\n",
       "}});\n",
       "\n",
       "// Listen for the removal of the full notebook cells\n",
       "var notebookContainer = gd.closest('#notebook-container');\n",
       "if (notebookContainer) {{\n",
       "    x.observe(notebookContainer, {childList: true});\n",
       "}}\n",
       "\n",
       "// Listen for the clearing of the current output cell\n",
       "var outputEl = gd.closest('.output');\n",
       "if (outputEl) {{\n",
       "    x.observe(outputEl, {childList: true});\n",
       "}}\n",
       "\n",
       "                        })                };                });            </script>        </div>"
      ]
     },
     "metadata": {},
     "output_type": "display_data"
    },
    {
     "data": {
      "text/markdown": [
       "<u>**My thoughts, comments and analysis on the above chart:**</u>"
      ],
      "text/plain": [
       "<IPython.core.display.Markdown object>"
      ]
     },
     "metadata": {},
     "output_type": "display_data"
    },
    {
     "data": {
      "text/markdown": [
       "This chart shows us some more additional indicators, and first thing you will notice is that besides the MAS Core Inflation, the rest of the indicators are very weird looking. This is because, there was no data in the earlier years for the other indicators. I suspect it was due to the data not being recorded in their systems during that period which resulted in this data lapse."
      ],
      "text/plain": [
       "<IPython.core.display.Markdown object>"
      ]
     },
     "metadata": {},
     "output_type": "display_data"
    },
    {
     "name": "stdout",
     "output_type": "stream",
     "text": [
      "\n",
      "Looking at the charts, the MAS Core inflation has steadily been increasing but thankfully, electricity and retail costs have decreased in 2020.\n",
      "\n"
     ]
    }
   ],
   "source": [
    "#barchart of 2020 CPI\n",
    "#filtering out only 2020 data to identify what are the differences between the 3 indexes before going into historical\n",
    "dfCPI_2020 = dfCPI[dfCPI['year'] == 2020]\n",
    "\n",
    "\n",
    "\n",
    "#displaying CPI index bar graph\n",
    "#converting data to numeric\n",
    "dfCPI_2020['value'] = dfCPI_2020['value'].apply(pd.to_numeric)\n",
    "\n",
    "\n",
    "#line chart of CPI \n",
    "#dropping NA values \n",
    "dfCPI_drop = dfCPI[~dfCPI.value.str.contains(\"na\")] #excludes all rows from the dataframe that contain the string \"na\" in the value column\n",
    "\n",
    "#converting data type to numeric\n",
    "dfCPI_drop['value'] = dfCPI_drop['value'].apply(pd.to_numeric)\n",
    "\n",
    "#reshaping the dataframe\n",
    "dfCPI_drop_shaped = dfCPI_drop.pivot(index='year', columns='level_1',\n",
    "                                    values='value')\n",
    "\n",
    "#displaying CPI index line graph\n",
    "dfCPI_drop_shaped_allitems = dfCPI_drop_shaped['All Items']\n",
    "\n",
    "\n",
    "#detailed line chart of CPI \n",
    "#reshaping the dataframe\n",
    "dfDetailed_CPI_Annual_shaped = dfDetailed_CPI_Annual.pivot(index='year', columns='level_2',\n",
    "                                    values='value')\n",
    "\n",
    "\n",
    "#line chart of MAS Core Inflation\n",
    "#dropping NA values\n",
    "dfInflation_drop = dfInflation_drop = dfInflation[~dfInflation.value.str.contains(\"na\")] #excludes all rows from the dataframe that contain the string \"na\" in the value column\n",
    "\n",
    "dfInflation_drop['value'] = dfInflation_drop['value'].apply(pd.to_numeric)\n",
    "\n",
    "dfInflation_drop_shaped = dfInflation_drop.pivot(index='year', columns='level_1',\n",
    "                                    values='value')\n",
    "\n",
    "dfCPI_drop_shaped_allitems.iplot(kind='line', xTitle='Years', yTitle='Index',\n",
    "                    title='CPI Indexes')\n",
    "print()\n",
    "\n",
    "printmd(f'<u>**My thoughts, comments and analysis on the above chart:**</u>')\n",
    "\n",
    "printmd(f'The chart shows the CPI Index performance over the years, with the CPI representing prices of general consumer goods. \\\n",
    "As seen the from the chart surprisingly during the financial crisis in 1997 and 2008 with the CPI increasing a relatively stable rate \\\n",
    "over the years.')\n",
    "\n",
    "#displaying bar chart CPI\n",
    "dfCPI_2020.iplot(kind=\"bar\", x='level_1', y=\"value\",\n",
    "                  colors=[\"dodgerblue\"],\n",
    "                  bargap=0.5,\n",
    "                  dimensions=(900,900),\n",
    "                  theme=\"ggplot\",\n",
    "                  xTitle=\"CPI Index\", yTitle=\"CPI(2019=100%)\", title=\"2020 CPI Index Comparison(2019=100%)\")\n",
    "\n",
    "printmd(f'<u>**My thoughts, comments and analysis on the above chart:**</u>')\n",
    "\n",
    "printmd(f'The bar chart shows the breakdown of the CPI indicators for 2020, which as can be seen had very little differences between each other \\\n",
    "with house prices during this period reaching all time highs in the news, I expected the All Items Less Accomodation indicator to be significantly less \\\n",
    "which would indicate that house prices were rising at a much higher price compared to the rest of consumer products. However, as seen from the graph \\\n",
    "that is not the case and it is more likely that ALL goods were at very high prices at that time.')\n",
    "print()\n",
    "\n",
    "\n",
    "#displaying detailed CPI index line graph\n",
    "dfDetailed_CPI_Annual_shaped.iplot(y=['Food', 'Food Excl Food Serving Services', 'Food Serving Services', 'Clothing & Footwear', 'Housing & Utilities', 'Household Durables & Services', 'Health Care', 'Transport', 'Communication', 'Recreation & Culture', 'Education', 'Miscellaneous Goods & Services'],\n",
    "               width=2.0,\n",
    "               subplots=True,\n",
    "               xTitle=\"Year\", title=\"CPI Index Additional Indicators (2019=100)\")\n",
    "        \n",
    "\n",
    "printmd(f'<u>**My thoughts, comments and analysis on the above chart:**</u>')\n",
    "\n",
    "printmd(f'This chart is very interesting to me since it breaks down the CPI indicators into alot more detail compared to the previous datasets. \\\n",
    "As can be seen there was a significant increase in housing and utilities prices around the 2014 period which slowly tapered off to present time. \\\n",
    "What else is interesting is that communication was much more expensive in the past than it is now, this could be due to technology advancements, improvements \\\n",
    "in operational efficiency or economies of scale of the 3 big telecom companies, Singtel, M1, and Starhub that resulted in overall reduced prices.')\n",
    "print()\n",
    "print('Generally the rest of the other indicators experienced similair slow but steady increases in price however, it is noted that transport prices \\\n",
    "were at 73% of 2019 levels which scares me as I would soon be paying adult fares on public transport.')\n",
    "print()\n",
    "\n",
    "\n",
    "#displaying CPI Index line graph\n",
    "dfInflation_drop_shaped.iplot(y=['MAS Core Inflation Measure', 'Services Inflation Measure', 'Retail & Other Goods Inflation Measure', 'Electricity & Gas Inflation Measure'],\n",
    "               width=2.0,\n",
    "               subplots=True,\n",
    "               xTitle=\"Year\", yTitle=\"Index (2019=100)\", title=\"CPI Index Additional Indicators\")\n",
    "\n",
    "\n",
    "\n",
    "printmd(f'<u>**My thoughts, comments and analysis on the above chart:**</u>')\n",
    "\n",
    "printmd(f'This chart shows us some more additional indicators, and first thing you will notice is that besides the MAS Core Inflation, \\\n",
    "the rest of the indicators are very weird looking. This is because, there was no data in the earlier years for the other indicators. I suspect it was due \\\n",
    "to the data not being recorded in their systems during that period which resulted in this data lapse.')\n",
    "print()\n",
    "print('Looking at the charts, the MAS Core inflation has steadily been increasing but thankfully, electricity and retail costs have decreased \\\n",
    "in 2020.')\n",
    "\n",
    "print()\n"
   ]
  },
  {
   "cell_type": "code",
   "execution_count": 15,
   "metadata": {
    "scrolled": false
   },
   "outputs": [
    {
     "data": {
      "application/vnd.plotly.v1+json": {
       "config": {
        "linkText": "Export to plot.ly",
        "plotlyServerURL": "https://plot.ly",
        "showLink": true
       },
       "data": [
        {
         "hole": 0.4,
         "labels": [
          "Corporate Income Tax",
          "Personal Income Tax",
          "Withholding Tax",
          "Statutory Boards' Contributions",
          "Assets Taxes",
          "Customs, Excise and Carbon Taxes",
          "Goods and Services Tax",
          "Motor Vehicle Taxes",
          "Vehicle Quota Premiums",
          "Betting Taxes",
          "Stamp Duty",
          "Other Taxes",
          "Fees and Charges (Excluding Vehicle Quota Premiums)",
          "Others",
          "Corporate Income Tax",
          "Personal Income Tax",
          "Withholding Tax",
          "Statutory Boards' Contributions",
          "Assets Taxes",
          "Customs, Excise and Carbon Taxes",
          "Goods and Services Tax",
          "Motor Vehicle Taxes",
          "Vehicle Quota Premiums",
          "Betting Taxes",
          "Stamp Duty",
          "Other Taxes",
          "Fees and Charges (Excluding Vehicle Quota Premiums)",
          "Others",
          "Corporate Income Tax",
          "Personal Income Tax",
          "Withholding Tax",
          "Statutory Boards' Contributions",
          "Assets Taxes",
          "Customs, Excise and Carbon Taxes",
          "Goods and Services Tax",
          "Motor Vehicle Taxes",
          "Vehicle Quota Premiums",
          "Betting Taxes",
          "Stamp Duty",
          "Other Taxes",
          "Fees and Charges (Excluding Vehicle Quota Premiums)",
          "Others",
          "Corporate Income Tax",
          "Personal Income Tax",
          "Withholding Tax",
          "Statutory Boards' Contributions",
          "Assets Taxes",
          "Customs, Excise and Carbon Taxes",
          "Goods and Services Tax",
          "Motor Vehicle Taxes",
          "Vehicle Quota Premiums",
          "Betting Taxes",
          "Stamp Duty",
          "Other Taxes",
          "Fees and Charges (Excluding Vehicle Quota Premiums)",
          "Others",
          "Corporate Income Tax",
          "Personal Income Tax",
          "Withholding Tax",
          "Statutory Boards' Contributions",
          "Assets Taxes",
          "Customs, Excise and Carbon Taxes",
          "Goods and Services Tax",
          "Motor Vehicle Taxes",
          "Vehicle Quota Premiums",
          "Betting Taxes",
          "Stamp Duty",
          "Other Taxes",
          "Fees and Charges (Excluding Vehicle Quota Premiums)",
          "Others",
          "Corporate Income Tax",
          "Personal Income Tax",
          "Withholding Tax",
          "Statutory Boards' Contributions",
          "Assets Taxes",
          "Customs, Excise and Carbon Taxes",
          "Goods and Services Tax",
          "Motor Vehicle Taxes",
          "Vehicle Quota Premiums",
          "Betting Taxes",
          "Stamp Duty",
          "Other Taxes",
          "Fees and Charges (Excluding Vehicle Quota Premiums)",
          "Others",
          "Corporate Income Tax",
          "Personal Income Tax",
          "Withholding Tax",
          "Statutory Boards' Contributions",
          "Assets Taxes",
          "Customs, Excise and Carbon Taxes",
          "Goods and Services Tax",
          "Motor Vehicle Taxes",
          "Vehicle Quota Premiums",
          "Betting Taxes",
          "Stamp Duty",
          "Other Taxes",
          "Fees and Charges (Excluding Vehicle Quota Premiums)",
          "Others",
          "Corporate Income Tax",
          "Personal Income Tax",
          "Withholding Tax",
          "Statutory Boards' Contributions",
          "Assets Taxes",
          "Customs, Excise and Carbon Taxes",
          "Goods and Services Tax",
          "Motor Vehicle Taxes",
          "Vehicle Quota Premiums",
          "Betting Taxes",
          "Stamp Duty",
          "Other Taxes",
          "Fees and Charges (Excluding Vehicle Quota Premiums)",
          "Others",
          "Corporate Income Tax",
          "Personal Income Tax",
          "Withholding Tax",
          "Statutory Boards' Contributions",
          "Assets Taxes",
          "Customs, Excise and Carbon Taxes",
          "Goods and Services Tax",
          "Motor Vehicle Taxes",
          "Vehicle Quota Premiums",
          "Betting Taxes",
          "Stamp Duty",
          "Other Taxes",
          "Fees and Charges (Excluding Vehicle Quota Premiums)",
          "Others",
          "Corporate Income Tax",
          "Personal Income Tax",
          "Withholding Tax",
          "Statutory Boards' Contributions",
          "Assets Taxes",
          "Customs, Excise and Carbon Taxes",
          "Goods and Services Tax",
          "Motor Vehicle Taxes",
          "Vehicle Quota Premiums",
          "Betting Taxes",
          "Stamp Duty",
          "Other Taxes",
          "Fees and Charges (Excluding Vehicle Quota Premiums)",
          "Others",
          "Corporate Income Tax",
          "Personal Income Tax",
          "Withholding Tax",
          "Statutory Boards' Contributions",
          "Assets Taxes",
          "Customs, Excise and Carbon Taxes",
          "Goods and Services Tax",
          "Motor Vehicle Taxes",
          "Vehicle Quota Premiums",
          "Betting Taxes",
          "Stamp Duty",
          "Other Taxes",
          "Fees and Charges (Excluding Vehicle Quota Premiums)",
          "Others",
          "Corporate Income Tax",
          "Personal Income Tax",
          "Withholding Tax",
          "Statutory Boards' Contributions",
          "Assets Taxes",
          "Customs, Excise and Carbon Taxes",
          "Goods and Services Tax",
          "Motor Vehicle Taxes",
          "Vehicle Quota Premiums",
          "Betting Taxes",
          "Stamp Duty",
          "Other Taxes",
          "Fees and Charges (Excluding Vehicle Quota Premiums)",
          "Others",
          "Corporate Income Tax",
          "Personal Income Tax",
          "Withholding Tax",
          "Statutory Boards' Contributions",
          "Assets Taxes",
          "Customs, Excise and Carbon Taxes",
          "Goods and Services Tax",
          "Motor Vehicle Taxes",
          "Vehicle Quota Premiums",
          "Betting Taxes",
          "Stamp Duty",
          "Other Taxes",
          "Fees and Charges (Excluding Vehicle Quota Premiums)",
          "Others",
          "Corporate Income Tax",
          "Personal Income Tax",
          "Withholding Tax",
          "Statutory Boards' Contributions",
          "Assets Taxes",
          "Customs, Excise and Carbon Taxes",
          "Goods and Services Tax",
          "Motor Vehicle Taxes",
          "Vehicle Quota Premiums",
          "Betting Taxes",
          "Stamp Duty",
          "Other Taxes",
          "Fees and Charges (Excluding Vehicle Quota Premiums)",
          "Others",
          "Corporate Income Tax",
          "Personal Income Tax",
          "Withholding Tax",
          "Statutory Boards' Contributions",
          "Assets Taxes",
          "Customs, Excise and Carbon Taxes",
          "Goods and Services Tax",
          "Motor Vehicle Taxes",
          "Vehicle Quota Premiums",
          "Betting Taxes",
          "Stamp Duty",
          "Other Taxes",
          "Fees and Charges (Excluding Vehicle Quota Premiums)",
          "Others",
          "Corporate Income Tax",
          "Personal Income Tax",
          "Withholding Tax",
          "Statutory Boards' Contributions",
          "Assets Taxes",
          "Customs, Excise and Carbon Taxes",
          "Goods and Services Tax",
          "Motor Vehicle Taxes",
          "Vehicle Quota Premiums",
          "Betting Taxes",
          "Stamp Duty",
          "Other Taxes",
          "Fees and Charges (Excluding Vehicle Quota Premiums)",
          "Others",
          "Corporate Income Tax",
          "Personal Income Tax",
          "Withholding Tax",
          "Statutory Boards' Contributions",
          "Assets Taxes",
          "Customs, Excise and Carbon Taxes",
          "Goods and Services Tax",
          "Motor Vehicle Taxes",
          "Vehicle Quota Premiums",
          "Betting Taxes",
          "Stamp Duty",
          "Other Taxes",
          "Fees and Charges (Excluding Vehicle Quota Premiums)",
          "Others",
          "Corporate Income Tax",
          "Personal Income Tax",
          "Withholding Tax",
          "Statutory Boards' Contributions",
          "Assets Taxes",
          "Customs, Excise and Carbon Taxes",
          "Goods and Services Tax",
          "Motor Vehicle Taxes",
          "Vehicle Quota Premiums",
          "Betting Taxes",
          "Stamp Duty",
          "Other Taxes",
          "Fees and Charges (Excluding Vehicle Quota Premiums)",
          "Others",
          "Corporate Income Tax",
          "Personal Income Tax",
          "Withholding Tax",
          "Statutory Boards' Contributions",
          "Assets Taxes",
          "Customs, Excise and Carbon Taxes",
          "Goods and Services Tax",
          "Motor Vehicle Taxes",
          "Vehicle Quota Premiums",
          "Betting Taxes",
          "Stamp Duty",
          "Other Taxes",
          "Fees and Charges (Excluding Vehicle Quota Premiums)",
          "Others",
          "Corporate Income Tax",
          "Personal Income Tax",
          "Withholding Tax",
          "Statutory Boards' Contributions",
          "Assets Taxes",
          "Customs, Excise and Carbon Taxes",
          "Goods and Services Tax",
          "Motor Vehicle Taxes",
          "Vehicle Quota Premiums",
          "Betting Taxes",
          "Stamp Duty",
          "Other Taxes",
          "Fees and Charges (Excluding Vehicle Quota Premiums)",
          "Others",
          "Corporate Income Tax",
          "Personal Income Tax",
          "Withholding Tax",
          "Statutory Boards' Contributions",
          "Assets Taxes",
          "Customs, Excise and Carbon Taxes",
          "Goods and Services Tax",
          "Motor Vehicle Taxes",
          "Vehicle Quota Premiums",
          "Betting Taxes",
          "Stamp Duty",
          "Other Taxes",
          "Fees and Charges (Excluding Vehicle Quota Premiums)",
          "Others",
          "Corporate Income Tax",
          "Personal Income Tax",
          "Withholding Tax",
          "Statutory Boards' Contributions",
          "Assets Taxes",
          "Customs, Excise and Carbon Taxes",
          "Goods and Services Tax",
          "Motor Vehicle Taxes",
          "Vehicle Quota Premiums",
          "Betting Taxes",
          "Stamp Duty",
          "Other Taxes",
          "Fees and Charges (Excluding Vehicle Quota Premiums)",
          "Others",
          "Corporate Income Tax",
          "Personal Income Tax",
          "Withholding Tax",
          "Statutory Boards' Contributions",
          "Assets Taxes",
          "Customs, Excise and Carbon Taxes",
          "Goods and Services Tax",
          "Motor Vehicle Taxes",
          "Vehicle Quota Premiums",
          "Betting Taxes",
          "Stamp Duty",
          "Other Taxes",
          "Fees and Charges (Excluding Vehicle Quota Premiums)",
          "Others",
          "Corporate Income Tax",
          "Personal Income Tax",
          "Withholding Tax",
          "Statutory Boards' Contributions",
          "Assets Taxes",
          "Customs, Excise and Carbon Taxes",
          "Goods and Services Tax",
          "Motor Vehicle Taxes",
          "Vehicle Quota Premiums",
          "Betting Taxes",
          "Stamp Duty",
          "Other Taxes",
          "Fees and Charges (Excluding Vehicle Quota Premiums)",
          "Others",
          "Corporate Income Tax",
          "Personal Income Tax",
          "Withholding Tax",
          "Statutory Boards' Contributions",
          "Assets Taxes",
          "Customs, Excise and Carbon Taxes",
          "Goods and Services Tax",
          "Motor Vehicle Taxes",
          "Vehicle Quota Premiums",
          "Betting Taxes",
          "Stamp Duty",
          "Other Taxes",
          "Fees and Charges (Excluding Vehicle Quota Premiums)",
          "Others"
         ],
         "marker": {
          "colors": [
           "rgba(255, 153, 51, 1.0)",
           "rgba(55, 128, 191, 1.0)",
           "rgba(50, 171, 96, 1.0)",
           "rgba(128, 0, 128, 1.0)",
           "rgba(219, 64, 82, 1.0)",
           "rgba(0, 128, 128, 1.0)",
           "rgba(255, 255, 51, 1.0)",
           "rgba(128, 128, 0, 1.0)",
           "rgba(251, 128, 114, 1.0)",
           "rgba(128, 177, 211, 1.0)",
           "rgba(128, 177, 211, 0.9771428571428571)",
           "rgba(255, 153, 51, 0.9771428571428571)",
           "rgba(55, 128, 191, 0.9771428571428571)",
           "rgba(50, 171, 96, 0.9771428571428571)",
           "rgba(128, 0, 128, 0.9771428571428571)",
           "rgba(219, 64, 82, 0.9771428571428571)",
           "rgba(0, 128, 128, 0.9771428571428571)",
           "rgba(255, 255, 51, 0.9771428571428571)",
           "rgba(128, 128, 0, 0.9771428571428571)",
           "rgba(251, 128, 114, 0.9771428571428571)",
           "rgba(251, 128, 114, 0.9542857142857142)",
           "rgba(128, 177, 211, 0.9542857142857142)",
           "rgba(255, 153, 51, 0.9542857142857142)",
           "rgba(55, 128, 191, 0.9542857142857142)",
           "rgba(50, 171, 96, 0.9542857142857142)",
           "rgba(128, 0, 128, 0.9542857142857142)",
           "rgba(219, 64, 82, 0.9542857142857142)",
           "rgba(0, 128, 128, 0.9542857142857142)",
           "rgba(255, 255, 51, 0.9542857142857142)",
           "rgba(128, 128, 0, 0.9542857142857142)",
           "rgba(128, 128, 0, 0.9314285714285715)",
           "rgba(251, 128, 114, 0.9314285714285715)",
           "rgba(128, 177, 211, 0.9314285714285715)",
           "rgba(255, 153, 51, 0.9314285714285715)",
           "rgba(55, 128, 191, 0.9314285714285715)",
           "rgba(50, 171, 96, 0.9314285714285715)",
           "rgba(128, 0, 128, 0.9314285714285715)",
           "rgba(219, 64, 82, 0.9314285714285715)",
           "rgba(0, 128, 128, 0.9314285714285715)",
           "rgba(255, 255, 51, 0.9314285714285715)",
           "rgba(255, 255, 51, 0.9085714285714286)",
           "rgba(128, 128, 0, 0.9085714285714286)",
           "rgba(251, 128, 114, 0.9085714285714286)",
           "rgba(128, 177, 211, 0.9085714285714286)",
           "rgba(255, 153, 51, 0.9085714285714286)",
           "rgba(55, 128, 191, 0.9085714285714286)",
           "rgba(50, 171, 96, 0.9085714285714286)",
           "rgba(128, 0, 128, 0.9085714285714286)",
           "rgba(219, 64, 82, 0.9085714285714286)",
           "rgba(0, 128, 128, 0.9085714285714286)",
           "rgba(0, 128, 128, 0.8857142857142857)",
           "rgba(255, 255, 51, 0.8857142857142857)",
           "rgba(128, 128, 0, 0.8857142857142857)",
           "rgba(251, 128, 114, 0.8857142857142857)",
           "rgba(128, 177, 211, 0.8857142857142857)",
           "rgba(255, 153, 51, 0.8857142857142857)",
           "rgba(55, 128, 191, 0.8857142857142857)",
           "rgba(50, 171, 96, 0.8857142857142857)",
           "rgba(128, 0, 128, 0.8857142857142857)",
           "rgba(219, 64, 82, 0.8857142857142857)",
           "rgba(219, 64, 82, 0.8628571428571428)",
           "rgba(0, 128, 128, 0.8628571428571428)",
           "rgba(255, 255, 51, 0.8628571428571428)",
           "rgba(128, 128, 0, 0.8628571428571428)",
           "rgba(251, 128, 114, 0.8628571428571428)",
           "rgba(128, 177, 211, 0.8628571428571428)",
           "rgba(255, 153, 51, 0.8628571428571428)",
           "rgba(55, 128, 191, 0.8628571428571428)",
           "rgba(50, 171, 96, 0.8628571428571428)",
           "rgba(128, 0, 128, 0.8628571428571428)",
           "rgba(128, 0, 128, 0.8400000000000001)",
           "rgba(219, 64, 82, 0.8400000000000001)",
           "rgba(0, 128, 128, 0.8400000000000001)",
           "rgba(255, 255, 51, 0.8400000000000001)",
           "rgba(128, 128, 0, 0.8400000000000001)",
           "rgba(251, 128, 114, 0.8400000000000001)",
           "rgba(128, 177, 211, 0.8400000000000001)",
           "rgba(255, 153, 51, 0.8400000000000001)",
           "rgba(55, 128, 191, 0.8400000000000001)",
           "rgba(50, 171, 96, 0.8400000000000001)",
           "rgba(50, 171, 96, 0.8171428571428572)",
           "rgba(128, 0, 128, 0.8171428571428572)",
           "rgba(219, 64, 82, 0.8171428571428572)",
           "rgba(0, 128, 128, 0.8171428571428572)",
           "rgba(255, 255, 51, 0.8171428571428572)",
           "rgba(128, 128, 0, 0.8171428571428572)",
           "rgba(251, 128, 114, 0.8171428571428572)",
           "rgba(128, 177, 211, 0.8171428571428572)",
           "rgba(255, 153, 51, 0.8171428571428572)",
           "rgba(55, 128, 191, 0.8171428571428572)",
           "rgba(55, 128, 191, 0.7942857142857143)",
           "rgba(50, 171, 96, 0.7942857142857143)",
           "rgba(128, 0, 128, 0.7942857142857143)",
           "rgba(219, 64, 82, 0.7942857142857143)",
           "rgba(0, 128, 128, 0.7942857142857143)",
           "rgba(255, 255, 51, 0.7942857142857143)",
           "rgba(128, 128, 0, 0.7942857142857143)",
           "rgba(251, 128, 114, 0.7942857142857143)",
           "rgba(128, 177, 211, 0.7942857142857143)",
           "rgba(255, 153, 51, 0.7942857142857143)",
           "rgba(255, 153, 51, 0.7714285714285714)",
           "rgba(55, 128, 191, 0.7714285714285714)",
           "rgba(50, 171, 96, 0.7714285714285714)",
           "rgba(128, 0, 128, 0.7714285714285714)",
           "rgba(219, 64, 82, 0.7714285714285714)",
           "rgba(0, 128, 128, 0.7714285714285714)",
           "rgba(255, 255, 51, 0.7714285714285714)",
           "rgba(128, 128, 0, 0.7714285714285714)",
           "rgba(251, 128, 114, 0.7714285714285714)",
           "rgba(128, 177, 211, 0.7714285714285714)",
           "rgba(128, 177, 211, 0.7485714285714287)",
           "rgba(255, 153, 51, 0.7485714285714287)",
           "rgba(55, 128, 191, 0.7485714285714287)",
           "rgba(50, 171, 96, 0.7485714285714287)",
           "rgba(128, 0, 128, 0.7485714285714287)",
           "rgba(219, 64, 82, 0.7485714285714287)",
           "rgba(0, 128, 128, 0.7485714285714287)",
           "rgba(255, 255, 51, 0.7485714285714287)",
           "rgba(128, 128, 0, 0.7485714285714287)",
           "rgba(251, 128, 114, 0.7485714285714287)",
           "rgba(251, 128, 114, 0.7257142857142858)",
           "rgba(128, 177, 211, 0.7257142857142858)",
           "rgba(255, 153, 51, 0.7257142857142858)",
           "rgba(55, 128, 191, 0.7257142857142858)",
           "rgba(50, 171, 96, 0.7257142857142858)",
           "rgba(128, 0, 128, 0.7257142857142858)",
           "rgba(219, 64, 82, 0.7257142857142858)",
           "rgba(0, 128, 128, 0.7257142857142858)",
           "rgba(255, 255, 51, 0.7257142857142858)",
           "rgba(128, 128, 0, 0.7257142857142858)",
           "rgba(128, 128, 0, 0.7028571428571428)",
           "rgba(251, 128, 114, 0.7028571428571428)",
           "rgba(128, 177, 211, 0.7028571428571428)",
           "rgba(255, 153, 51, 0.7028571428571428)",
           "rgba(55, 128, 191, 0.7028571428571428)",
           "rgba(50, 171, 96, 0.7028571428571428)",
           "rgba(128, 0, 128, 0.7028571428571428)",
           "rgba(219, 64, 82, 0.7028571428571428)",
           "rgba(0, 128, 128, 0.7028571428571428)",
           "rgba(255, 255, 51, 0.7028571428571428)",
           "rgba(255, 255, 51, 0.6799999999999999)",
           "rgba(128, 128, 0, 0.6799999999999999)",
           "rgba(251, 128, 114, 0.6799999999999999)",
           "rgba(128, 177, 211, 0.6799999999999999)",
           "rgba(255, 153, 51, 0.6799999999999999)",
           "rgba(55, 128, 191, 0.6799999999999999)",
           "rgba(50, 171, 96, 0.6799999999999999)",
           "rgba(128, 0, 128, 0.6799999999999999)",
           "rgba(219, 64, 82, 0.6799999999999999)",
           "rgba(0, 128, 128, 0.6799999999999999)",
           "rgba(0, 128, 128, 0.6571428571428573)",
           "rgba(255, 255, 51, 0.6571428571428573)",
           "rgba(128, 128, 0, 0.6571428571428573)",
           "rgba(251, 128, 114, 0.6571428571428573)",
           "rgba(128, 177, 211, 0.6571428571428573)",
           "rgba(255, 153, 51, 0.6571428571428573)",
           "rgba(55, 128, 191, 0.6571428571428573)",
           "rgba(50, 171, 96, 0.6571428571428573)",
           "rgba(128, 0, 128, 0.6571428571428573)",
           "rgba(219, 64, 82, 0.6571428571428573)",
           "rgba(219, 64, 82, 0.6342857142857143)",
           "rgba(0, 128, 128, 0.6342857142857143)",
           "rgba(255, 255, 51, 0.6342857142857143)",
           "rgba(128, 128, 0, 0.6342857142857143)",
           "rgba(251, 128, 114, 0.6342857142857143)",
           "rgba(128, 177, 211, 0.6342857142857143)",
           "rgba(255, 153, 51, 0.6342857142857143)",
           "rgba(55, 128, 191, 0.6342857142857143)",
           "rgba(50, 171, 96, 0.6342857142857143)",
           "rgba(128, 0, 128, 0.6342857142857143)",
           "rgba(128, 0, 128, 0.6114285714285714)",
           "rgba(219, 64, 82, 0.6114285714285714)",
           "rgba(0, 128, 128, 0.6114285714285714)",
           "rgba(255, 255, 51, 0.6114285714285714)",
           "rgba(128, 128, 0, 0.6114285714285714)",
           "rgba(251, 128, 114, 0.6114285714285714)",
           "rgba(128, 177, 211, 0.6114285714285714)",
           "rgba(255, 153, 51, 0.6114285714285714)",
           "rgba(55, 128, 191, 0.6114285714285714)",
           "rgba(50, 171, 96, 0.6114285714285714)",
           "rgba(50, 171, 96, 0.5885714285714285)",
           "rgba(128, 0, 128, 0.5885714285714285)",
           "rgba(219, 64, 82, 0.5885714285714285)",
           "rgba(0, 128, 128, 0.5885714285714285)",
           "rgba(255, 255, 51, 0.5885714285714285)",
           "rgba(128, 128, 0, 0.5885714285714285)",
           "rgba(251, 128, 114, 0.5885714285714285)",
           "rgba(128, 177, 211, 0.5885714285714285)",
           "rgba(255, 153, 51, 0.5885714285714285)",
           "rgba(55, 128, 191, 0.5885714285714285)",
           "rgba(55, 128, 191, 0.5657142857142858)",
           "rgba(50, 171, 96, 0.5657142857142858)",
           "rgba(128, 0, 128, 0.5657142857142858)",
           "rgba(219, 64, 82, 0.5657142857142858)",
           "rgba(0, 128, 128, 0.5657142857142858)",
           "rgba(255, 255, 51, 0.5657142857142858)",
           "rgba(128, 128, 0, 0.5657142857142858)",
           "rgba(251, 128, 114, 0.5657142857142858)",
           "rgba(128, 177, 211, 0.5657142857142858)",
           "rgba(255, 153, 51, 0.5657142857142858)",
           "rgba(255, 153, 51, 0.5428571428571429)",
           "rgba(55, 128, 191, 0.5428571428571429)",
           "rgba(50, 171, 96, 0.5428571428571429)",
           "rgba(128, 0, 128, 0.5428571428571429)",
           "rgba(219, 64, 82, 0.5428571428571429)",
           "rgba(0, 128, 128, 0.5428571428571429)",
           "rgba(255, 255, 51, 0.5428571428571429)",
           "rgba(128, 128, 0, 0.5428571428571429)",
           "rgba(251, 128, 114, 0.5428571428571429)",
           "rgba(128, 177, 211, 0.5428571428571429)",
           "rgba(128, 177, 211, 0.52)",
           "rgba(255, 153, 51, 0.52)",
           "rgba(55, 128, 191, 0.52)",
           "rgba(50, 171, 96, 0.52)",
           "rgba(128, 0, 128, 0.52)",
           "rgba(219, 64, 82, 0.52)",
           "rgba(0, 128, 128, 0.52)",
           "rgba(255, 255, 51, 0.52)",
           "rgba(128, 128, 0, 0.52)",
           "rgba(251, 128, 114, 0.52)",
           "rgba(251, 128, 114, 0.49714285714285716)",
           "rgba(128, 177, 211, 0.49714285714285716)",
           "rgba(255, 153, 51, 0.49714285714285716)",
           "rgba(55, 128, 191, 0.49714285714285716)",
           "rgba(50, 171, 96, 0.49714285714285716)",
           "rgba(128, 0, 128, 0.49714285714285716)",
           "rgba(219, 64, 82, 0.49714285714285716)",
           "rgba(0, 128, 128, 0.49714285714285716)",
           "rgba(255, 255, 51, 0.49714285714285716)",
           "rgba(128, 128, 0, 0.49714285714285716)",
           "rgba(128, 128, 0, 0.4742857142857145)",
           "rgba(251, 128, 114, 0.4742857142857145)",
           "rgba(128, 177, 211, 0.4742857142857145)",
           "rgba(255, 153, 51, 0.4742857142857145)",
           "rgba(55, 128, 191, 0.4742857142857145)",
           "rgba(50, 171, 96, 0.4742857142857145)",
           "rgba(128, 0, 128, 0.4742857142857145)",
           "rgba(219, 64, 82, 0.4742857142857145)",
           "rgba(0, 128, 128, 0.4742857142857145)",
           "rgba(255, 255, 51, 0.4742857142857145)",
           "rgba(255, 255, 51, 0.45142857142857157)",
           "rgba(128, 128, 0, 0.45142857142857157)",
           "rgba(251, 128, 114, 0.45142857142857157)",
           "rgba(128, 177, 211, 0.45142857142857157)",
           "rgba(255, 153, 51, 0.45142857142857157)",
           "rgba(55, 128, 191, 0.45142857142857157)",
           "rgba(50, 171, 96, 0.45142857142857157)",
           "rgba(128, 0, 128, 0.45142857142857157)",
           "rgba(219, 64, 82, 0.45142857142857157)",
           "rgba(0, 128, 128, 0.45142857142857157)",
           "rgba(0, 128, 128, 0.42857142857142866)",
           "rgba(255, 255, 51, 0.42857142857142866)",
           "rgba(128, 128, 0, 0.42857142857142866)",
           "rgba(251, 128, 114, 0.42857142857142866)",
           "rgba(128, 177, 211, 0.42857142857142866)",
           "rgba(255, 153, 51, 0.42857142857142866)",
           "rgba(55, 128, 191, 0.42857142857142866)",
           "rgba(50, 171, 96, 0.42857142857142866)",
           "rgba(128, 0, 128, 0.42857142857142866)",
           "rgba(219, 64, 82, 0.42857142857142866)",
           "rgba(219, 64, 82, 0.40571428571428575)",
           "rgba(0, 128, 128, 0.40571428571428575)",
           "rgba(255, 255, 51, 0.40571428571428575)",
           "rgba(128, 128, 0, 0.40571428571428575)",
           "rgba(251, 128, 114, 0.40571428571428575)",
           "rgba(128, 177, 211, 0.40571428571428575)",
           "rgba(255, 153, 51, 0.40571428571428575)",
           "rgba(55, 128, 191, 0.40571428571428575)",
           "rgba(50, 171, 96, 0.40571428571428575)",
           "rgba(128, 0, 128, 0.40571428571428575)",
           "rgba(128, 0, 128, 0.38285714285714306)",
           "rgba(219, 64, 82, 0.38285714285714306)",
           "rgba(0, 128, 128, 0.38285714285714306)",
           "rgba(255, 255, 51, 0.38285714285714306)",
           "rgba(128, 128, 0, 0.38285714285714306)",
           "rgba(251, 128, 114, 0.38285714285714306)",
           "rgba(128, 177, 211, 0.38285714285714306)",
           "rgba(255, 153, 51, 0.38285714285714306)",
           "rgba(55, 128, 191, 0.38285714285714306)",
           "rgba(50, 171, 96, 0.38285714285714306)",
           "rgba(50, 171, 96, 0.36000000000000015)",
           "rgba(128, 0, 128, 0.36000000000000015)",
           "rgba(219, 64, 82, 0.36000000000000015)",
           "rgba(0, 128, 128, 0.36000000000000015)",
           "rgba(255, 255, 51, 0.36000000000000015)",
           "rgba(128, 128, 0, 0.36000000000000015)",
           "rgba(251, 128, 114, 0.36000000000000015)",
           "rgba(128, 177, 211, 0.36000000000000015)",
           "rgba(255, 153, 51, 0.36000000000000015)",
           "rgba(55, 128, 191, 0.36000000000000015)",
           "rgba(55, 128, 191, 0.33714285714285724)",
           "rgba(50, 171, 96, 0.33714285714285724)",
           "rgba(128, 0, 128, 0.33714285714285724)",
           "rgba(219, 64, 82, 0.33714285714285724)",
           "rgba(0, 128, 128, 0.33714285714285724)",
           "rgba(255, 255, 51, 0.33714285714285724)",
           "rgba(128, 128, 0, 0.33714285714285724)",
           "rgba(251, 128, 114, 0.33714285714285724)",
           "rgba(128, 177, 211, 0.33714285714285724)",
           "rgba(255, 153, 51, 0.33714285714285724)",
           "rgba(255, 153, 51, 0.31428571428571433)",
           "rgba(55, 128, 191, 0.31428571428571433)",
           "rgba(50, 171, 96, 0.31428571428571433)",
           "rgba(128, 0, 128, 0.31428571428571433)",
           "rgba(219, 64, 82, 0.31428571428571433)",
           "rgba(0, 128, 128, 0.31428571428571433)",
           "rgba(255, 255, 51, 0.31428571428571433)",
           "rgba(128, 128, 0, 0.31428571428571433)",
           "rgba(251, 128, 114, 0.31428571428571433)",
           "rgba(128, 177, 211, 0.31428571428571433)",
           "rgba(128, 177, 211, 0.29142857142857165)",
           "rgba(255, 153, 51, 0.29142857142857165)",
           "rgba(55, 128, 191, 0.29142857142857165)",
           "rgba(50, 171, 96, 0.29142857142857165)",
           "rgba(128, 0, 128, 0.29142857142857165)",
           "rgba(219, 64, 82, 0.29142857142857165)",
           "rgba(0, 128, 128, 0.29142857142857165)",
           "rgba(255, 255, 51, 0.29142857142857165)",
           "rgba(128, 128, 0, 0.29142857142857165)",
           "rgba(251, 128, 114, 0.29142857142857165)",
           "rgba(251, 128, 114, 0.26857142857142874)",
           "rgba(128, 177, 211, 0.26857142857142874)",
           "rgba(255, 153, 51, 0.26857142857142874)",
           "rgba(55, 128, 191, 0.26857142857142874)",
           "rgba(50, 171, 96, 0.26857142857142874)",
           "rgba(128, 0, 128, 0.26857142857142874)",
           "rgba(219, 64, 82, 0.26857142857142874)",
           "rgba(0, 128, 128, 0.26857142857142874)",
           "rgba(255, 255, 51, 0.26857142857142874)",
           "rgba(128, 128, 0, 0.26857142857142874)",
           "rgba(128, 128, 0, 0.24571428571428583)",
           "rgba(251, 128, 114, 0.24571428571428583)",
           "rgba(128, 177, 211, 0.24571428571428583)",
           "rgba(255, 153, 51, 0.24571428571428583)",
           "rgba(55, 128, 191, 0.24571428571428583)",
           "rgba(50, 171, 96, 0.24571428571428583)",
           "rgba(128, 0, 128, 0.24571428571428583)",
           "rgba(219, 64, 82, 0.24571428571428583)",
           "rgba(0, 128, 128, 0.24571428571428583)",
           "rgba(255, 255, 51, 0.24571428571428583)",
           "rgba(255, 255, 51, 0.22285714285714292)",
           "rgba(128, 128, 0, 0.22285714285714292)",
           "rgba(251, 128, 114, 0.22285714285714292)",
           "rgba(128, 177, 211, 0.22285714285714292)",
           "rgba(255, 153, 51, 0.22285714285714292)",
           "rgba(55, 128, 191, 0.22285714285714292)",
           "rgba(50, 171, 96, 0.22285714285714292)",
           "rgba(128, 0, 128, 0.22285714285714292)",
           "rgba(219, 64, 82, 0.22285714285714292)",
           "rgba(0, 128, 128, 0.22285714285714292)"
          ]
         },
         "name": "",
         "textinfo": "percent+label",
         "type": "pie",
         "values": [
          6809,
          2347,
          337,
          702,
          2335,
          1633,
          1927,
          1743,
          1799,
          1296,
          1688,
          2194,
          2201,
          2170,
          6256,
          2960,
          316,
          1800,
          1529,
          1566,
          1657,
          1205,
          1271,
          1272,
          953,
          2037,
          1881,
          3208,
          6565,
          3040,
          467,
          1676,
          1314,
          1574,
          1995,
          1719,
          2513,
          1373,
          1413,
          1489,
          2051,
          3458,
          8316,
          3543,
          486,
          1192,
          1606,
          1847,
          2121,
          2506,
          3105,
          1494,
          1257,
          1259,
          2545,
          162,
          7821,
          3732,
          815,
          862,
          1517,
          1803,
          2134,
          1972,
          2089,
          1575,
          758,
          1181,
          2045,
          190,
          6822,
          3423,
          626,
          625,
          1308,
          1730,
          2165,
          1446,
          1778,
          1550,
          695,
          1114,
          2027,
          162,
          5921,
          3133,
          729,
          488,
          1512,
          1901,
          2957,
          1486,
          1543,
          1524,
          743,
          1108,
          1949,
          321,
          6107,
          3132,
          824,
          1405,
          2058,
          1924,
          3470,
          1392,
          1257,
          1534,
          815,
          1137,
          2109,
          305,
          7340,
          3425,
          898,
          1249,
          1910,
          1973,
          3815,
          1432,
          321,
          1501,
          967,
          1177,
          1925,
          238,
          8474,
          3743,
          964,
          955,
          2112,
          1887,
          3978,
          1745,
          93,
          1571,
          2015,
          1384,
          2109,
          259,
          9250,
          4537,
          1150,
          1683,
          2582,
          1985,
          6165,
          2189,
          673,
          1713,
          3677,
          1698,
          2956,
          115,
          10554,
          5414,
          1176,
          2143,
          2904,
          2065,
          6487,
          1835,
          367,
          1771,
          1432,
          1929,
          2845,
          165,
          9551,
          6114,
          1137,
          410,
          1987,
          2125,
          6914,
          1856,
          623,
          1727,
          2386,
          2410,
          2142,
          165,
          10687,
          6470,
          957,
          573,
          2803,
          2048,
          8198,
          1851,
          1602,
          2279,
          3277,
          2706,
          2384,
          226,
          12096,
          6871,
          1258,
          353,
          3902,
          2133,
          8687,
          1920,
          2112,
          2373,
          3175,
          3307,
          2587,
          302,
          12821,
          7714,
          1337,
          539,
          3768,
          2142,
          9038,
          1803,
          2572,
          2305,
          4309,
          4342,
          2708,
          416,
          12680,
          7688,
          1152,
          530,
          4182,
          2189,
          9513,
          1655,
          2722,
          2379,
          3930,
          5248,
          2903,
          250,
          13371,
          8927,
          1126,
          516,
          4341,
          2540,
          10215,
          1603,
          3394,
          2591,
          2784,
          6097,
          3010,
          324,
          13815,
          9235,
          1402,
          438,
          4455,
          2833,
          10345,
          1760,
          5425,
          2719,
          2769,
          5876,
          3249,
          502,
          13602,
          10526,
          1474,
          775,
          4360,
          2730,
          11078,
          2148,
          6551,
          2682,
          3278,
          6045,
          3209,
          506,
          14944,
          10724,
          1532,
          4866,
          4440,
          3133,
          10960,
          2153,
          5796,
          2688,
          4905,
          6019,
          3279,
          378,
          16032,
          11706,
          1590,
          1490,
          4649,
          3075,
          11137,
          2623,
          3616,
          2664,
          4607,
          6629,
          3490,
          430,
          16732,
          12368,
          1637,
          1798,
          4762,
          3264,
          11164,
          2419,
          2865,
          2620,
          4199,
          6683,
          3409,
          354,
          13744,
          12773,
          1536,
          2519,
          3095,
          3506,
          9898,
          2208,
          2279,
          1847,
          3662,
          3776,
          3316,
          449,
          17968,
          12373,
          1648,
          2505,
          4742,
          3773,
          11344,
          2516,
          2276,
          2408,
          4253,
          6434,
          3909,
          487
         ]
        }
       ],
       "layout": {
        "legend": {
         "bgcolor": "#F5F6F9",
         "font": {
          "color": "#4D5663"
         }
        },
        "paper_bgcolor": "#F5F6F9",
        "plot_bgcolor": "#F5F6F9",
        "title": "Government Operating Revenue 2021",
        "titlefont": {
         "color": "#4D5663"
        }
       }
      },
      "text/html": [
       "<div>                            <div id=\"a632e82f-b060-43e6-97bc-728e92967fe0\" class=\"plotly-graph-div\" style=\"height:525px; width:100%;\"></div>            <script type=\"text/javascript\">                require([\"plotly\"], function(Plotly) {                    window.PLOTLYENV=window.PLOTLYENV || {};\n",
       "                    window.PLOTLYENV.BASE_URL='https://plot.ly';                                    if (document.getElementById(\"a632e82f-b060-43e6-97bc-728e92967fe0\")) {                    Plotly.newPlot(                        \"a632e82f-b060-43e6-97bc-728e92967fe0\",                        [{\"hole\":0.4,\"labels\":[\"Corporate Income Tax\",\"Personal Income Tax\",\"Withholding Tax\",\"Statutory Boards' Contributions\",\"Assets Taxes\",\"Customs, Excise and Carbon Taxes\",\"Goods and Services Tax\",\"Motor Vehicle Taxes\",\"Vehicle Quota Premiums\",\"Betting Taxes\",\"Stamp Duty\",\"Other Taxes\",\"Fees and Charges (Excluding Vehicle Quota Premiums)\",\"Others\",\"Corporate Income Tax\",\"Personal Income Tax\",\"Withholding Tax\",\"Statutory Boards' Contributions\",\"Assets Taxes\",\"Customs, Excise and Carbon Taxes\",\"Goods and Services Tax\",\"Motor Vehicle Taxes\",\"Vehicle Quota Premiums\",\"Betting Taxes\",\"Stamp Duty\",\"Other Taxes\",\"Fees and Charges (Excluding Vehicle Quota Premiums)\",\"Others\",\"Corporate Income Tax\",\"Personal Income Tax\",\"Withholding Tax\",\"Statutory Boards' Contributions\",\"Assets Taxes\",\"Customs, Excise and Carbon Taxes\",\"Goods and Services Tax\",\"Motor Vehicle Taxes\",\"Vehicle Quota Premiums\",\"Betting Taxes\",\"Stamp Duty\",\"Other Taxes\",\"Fees and Charges (Excluding Vehicle Quota Premiums)\",\"Others\",\"Corporate Income Tax\",\"Personal Income Tax\",\"Withholding Tax\",\"Statutory Boards' Contributions\",\"Assets Taxes\",\"Customs, Excise and Carbon Taxes\",\"Goods and Services Tax\",\"Motor Vehicle Taxes\",\"Vehicle Quota Premiums\",\"Betting Taxes\",\"Stamp Duty\",\"Other Taxes\",\"Fees and Charges (Excluding Vehicle Quota Premiums)\",\"Others\",\"Corporate Income Tax\",\"Personal Income Tax\",\"Withholding Tax\",\"Statutory Boards' Contributions\",\"Assets Taxes\",\"Customs, Excise and Carbon Taxes\",\"Goods and Services Tax\",\"Motor Vehicle Taxes\",\"Vehicle Quota Premiums\",\"Betting Taxes\",\"Stamp Duty\",\"Other Taxes\",\"Fees and Charges (Excluding Vehicle Quota Premiums)\",\"Others\",\"Corporate Income Tax\",\"Personal Income Tax\",\"Withholding Tax\",\"Statutory Boards' Contributions\",\"Assets Taxes\",\"Customs, Excise and Carbon Taxes\",\"Goods and Services Tax\",\"Motor Vehicle Taxes\",\"Vehicle Quota Premiums\",\"Betting Taxes\",\"Stamp Duty\",\"Other Taxes\",\"Fees and Charges (Excluding Vehicle Quota Premiums)\",\"Others\",\"Corporate Income Tax\",\"Personal Income Tax\",\"Withholding Tax\",\"Statutory Boards' Contributions\",\"Assets Taxes\",\"Customs, Excise and Carbon Taxes\",\"Goods and Services Tax\",\"Motor Vehicle Taxes\",\"Vehicle Quota Premiums\",\"Betting Taxes\",\"Stamp Duty\",\"Other Taxes\",\"Fees and Charges (Excluding Vehicle Quota Premiums)\",\"Others\",\"Corporate Income Tax\",\"Personal Income Tax\",\"Withholding Tax\",\"Statutory Boards' Contributions\",\"Assets Taxes\",\"Customs, Excise and Carbon Taxes\",\"Goods and Services Tax\",\"Motor Vehicle Taxes\",\"Vehicle Quota Premiums\",\"Betting Taxes\",\"Stamp Duty\",\"Other Taxes\",\"Fees and Charges (Excluding Vehicle Quota Premiums)\",\"Others\",\"Corporate Income Tax\",\"Personal Income Tax\",\"Withholding Tax\",\"Statutory Boards' Contributions\",\"Assets Taxes\",\"Customs, Excise and Carbon Taxes\",\"Goods and Services Tax\",\"Motor Vehicle Taxes\",\"Vehicle Quota Premiums\",\"Betting Taxes\",\"Stamp Duty\",\"Other Taxes\",\"Fees and Charges (Excluding Vehicle Quota Premiums)\",\"Others\",\"Corporate Income Tax\",\"Personal Income Tax\",\"Withholding Tax\",\"Statutory Boards' Contributions\",\"Assets Taxes\",\"Customs, Excise and Carbon Taxes\",\"Goods and Services Tax\",\"Motor Vehicle Taxes\",\"Vehicle Quota Premiums\",\"Betting Taxes\",\"Stamp Duty\",\"Other Taxes\",\"Fees and Charges (Excluding Vehicle Quota Premiums)\",\"Others\",\"Corporate Income Tax\",\"Personal Income Tax\",\"Withholding Tax\",\"Statutory Boards' Contributions\",\"Assets Taxes\",\"Customs, Excise and Carbon Taxes\",\"Goods and Services Tax\",\"Motor Vehicle Taxes\",\"Vehicle Quota Premiums\",\"Betting Taxes\",\"Stamp Duty\",\"Other Taxes\",\"Fees and Charges (Excluding Vehicle Quota Premiums)\",\"Others\",\"Corporate Income Tax\",\"Personal Income Tax\",\"Withholding Tax\",\"Statutory Boards' Contributions\",\"Assets Taxes\",\"Customs, Excise and Carbon Taxes\",\"Goods and Services Tax\",\"Motor Vehicle Taxes\",\"Vehicle Quota Premiums\",\"Betting Taxes\",\"Stamp Duty\",\"Other Taxes\",\"Fees and Charges (Excluding Vehicle Quota Premiums)\",\"Others\",\"Corporate Income Tax\",\"Personal Income Tax\",\"Withholding Tax\",\"Statutory Boards' Contributions\",\"Assets Taxes\",\"Customs, Excise and Carbon Taxes\",\"Goods and Services Tax\",\"Motor Vehicle Taxes\",\"Vehicle Quota Premiums\",\"Betting Taxes\",\"Stamp Duty\",\"Other Taxes\",\"Fees and Charges (Excluding Vehicle Quota Premiums)\",\"Others\",\"Corporate Income Tax\",\"Personal Income Tax\",\"Withholding Tax\",\"Statutory Boards' Contributions\",\"Assets Taxes\",\"Customs, Excise and Carbon Taxes\",\"Goods and Services Tax\",\"Motor Vehicle Taxes\",\"Vehicle Quota Premiums\",\"Betting Taxes\",\"Stamp Duty\",\"Other Taxes\",\"Fees and Charges (Excluding Vehicle Quota Premiums)\",\"Others\",\"Corporate Income Tax\",\"Personal Income Tax\",\"Withholding Tax\",\"Statutory Boards' Contributions\",\"Assets Taxes\",\"Customs, Excise and Carbon Taxes\",\"Goods and Services Tax\",\"Motor Vehicle Taxes\",\"Vehicle Quota Premiums\",\"Betting Taxes\",\"Stamp Duty\",\"Other Taxes\",\"Fees and Charges (Excluding Vehicle Quota Premiums)\",\"Others\",\"Corporate Income Tax\",\"Personal Income Tax\",\"Withholding Tax\",\"Statutory Boards' Contributions\",\"Assets Taxes\",\"Customs, Excise and Carbon Taxes\",\"Goods and Services Tax\",\"Motor Vehicle Taxes\",\"Vehicle Quota Premiums\",\"Betting Taxes\",\"Stamp Duty\",\"Other Taxes\",\"Fees and Charges (Excluding Vehicle Quota Premiums)\",\"Others\",\"Corporate Income Tax\",\"Personal Income Tax\",\"Withholding Tax\",\"Statutory Boards' Contributions\",\"Assets Taxes\",\"Customs, Excise and Carbon Taxes\",\"Goods and Services Tax\",\"Motor Vehicle Taxes\",\"Vehicle Quota Premiums\",\"Betting Taxes\",\"Stamp Duty\",\"Other Taxes\",\"Fees and Charges (Excluding Vehicle Quota Premiums)\",\"Others\",\"Corporate Income Tax\",\"Personal Income Tax\",\"Withholding Tax\",\"Statutory Boards' Contributions\",\"Assets Taxes\",\"Customs, Excise and Carbon Taxes\",\"Goods and Services Tax\",\"Motor Vehicle Taxes\",\"Vehicle Quota Premiums\",\"Betting Taxes\",\"Stamp Duty\",\"Other Taxes\",\"Fees and Charges (Excluding Vehicle Quota Premiums)\",\"Others\",\"Corporate Income Tax\",\"Personal Income Tax\",\"Withholding Tax\",\"Statutory Boards' Contributions\",\"Assets Taxes\",\"Customs, Excise and Carbon Taxes\",\"Goods and Services Tax\",\"Motor Vehicle Taxes\",\"Vehicle Quota Premiums\",\"Betting Taxes\",\"Stamp Duty\",\"Other Taxes\",\"Fees and Charges (Excluding Vehicle Quota Premiums)\",\"Others\",\"Corporate Income Tax\",\"Personal Income Tax\",\"Withholding Tax\",\"Statutory Boards' Contributions\",\"Assets Taxes\",\"Customs, Excise and Carbon Taxes\",\"Goods and Services Tax\",\"Motor Vehicle Taxes\",\"Vehicle Quota Premiums\",\"Betting Taxes\",\"Stamp Duty\",\"Other Taxes\",\"Fees and Charges (Excluding Vehicle Quota Premiums)\",\"Others\",\"Corporate Income Tax\",\"Personal Income Tax\",\"Withholding Tax\",\"Statutory Boards' Contributions\",\"Assets Taxes\",\"Customs, Excise and Carbon Taxes\",\"Goods and Services Tax\",\"Motor Vehicle Taxes\",\"Vehicle Quota Premiums\",\"Betting Taxes\",\"Stamp Duty\",\"Other Taxes\",\"Fees and Charges (Excluding Vehicle Quota Premiums)\",\"Others\",\"Corporate Income Tax\",\"Personal Income Tax\",\"Withholding Tax\",\"Statutory Boards' Contributions\",\"Assets Taxes\",\"Customs, Excise and Carbon Taxes\",\"Goods and Services Tax\",\"Motor Vehicle Taxes\",\"Vehicle Quota Premiums\",\"Betting Taxes\",\"Stamp Duty\",\"Other Taxes\",\"Fees and Charges (Excluding Vehicle Quota Premiums)\",\"Others\",\"Corporate Income Tax\",\"Personal Income Tax\",\"Withholding Tax\",\"Statutory Boards' Contributions\",\"Assets Taxes\",\"Customs, Excise and Carbon Taxes\",\"Goods and Services Tax\",\"Motor Vehicle Taxes\",\"Vehicle Quota Premiums\",\"Betting Taxes\",\"Stamp Duty\",\"Other Taxes\",\"Fees and Charges (Excluding Vehicle Quota Premiums)\",\"Others\",\"Corporate Income Tax\",\"Personal Income Tax\",\"Withholding Tax\",\"Statutory Boards' Contributions\",\"Assets Taxes\",\"Customs, Excise and Carbon Taxes\",\"Goods and Services Tax\",\"Motor Vehicle Taxes\",\"Vehicle Quota Premiums\",\"Betting Taxes\",\"Stamp Duty\",\"Other Taxes\",\"Fees and Charges (Excluding Vehicle Quota Premiums)\",\"Others\",\"Corporate Income Tax\",\"Personal Income Tax\",\"Withholding Tax\",\"Statutory Boards' Contributions\",\"Assets Taxes\",\"Customs, Excise and Carbon Taxes\",\"Goods and Services Tax\",\"Motor Vehicle Taxes\",\"Vehicle Quota Premiums\",\"Betting Taxes\",\"Stamp Duty\",\"Other Taxes\",\"Fees and Charges (Excluding Vehicle Quota Premiums)\",\"Others\"],\"marker\":{\"colors\":[\"rgba(255, 153, 51, 1.0)\",\"rgba(55, 128, 191, 1.0)\",\"rgba(50, 171, 96, 1.0)\",\"rgba(128, 0, 128, 1.0)\",\"rgba(219, 64, 82, 1.0)\",\"rgba(0, 128, 128, 1.0)\",\"rgba(255, 255, 51, 1.0)\",\"rgba(128, 128, 0, 1.0)\",\"rgba(251, 128, 114, 1.0)\",\"rgba(128, 177, 211, 1.0)\",\"rgba(128, 177, 211, 0.9771428571428571)\",\"rgba(255, 153, 51, 0.9771428571428571)\",\"rgba(55, 128, 191, 0.9771428571428571)\",\"rgba(50, 171, 96, 0.9771428571428571)\",\"rgba(128, 0, 128, 0.9771428571428571)\",\"rgba(219, 64, 82, 0.9771428571428571)\",\"rgba(0, 128, 128, 0.9771428571428571)\",\"rgba(255, 255, 51, 0.9771428571428571)\",\"rgba(128, 128, 0, 0.9771428571428571)\",\"rgba(251, 128, 114, 0.9771428571428571)\",\"rgba(251, 128, 114, 0.9542857142857142)\",\"rgba(128, 177, 211, 0.9542857142857142)\",\"rgba(255, 153, 51, 0.9542857142857142)\",\"rgba(55, 128, 191, 0.9542857142857142)\",\"rgba(50, 171, 96, 0.9542857142857142)\",\"rgba(128, 0, 128, 0.9542857142857142)\",\"rgba(219, 64, 82, 0.9542857142857142)\",\"rgba(0, 128, 128, 0.9542857142857142)\",\"rgba(255, 255, 51, 0.9542857142857142)\",\"rgba(128, 128, 0, 0.9542857142857142)\",\"rgba(128, 128, 0, 0.9314285714285715)\",\"rgba(251, 128, 114, 0.9314285714285715)\",\"rgba(128, 177, 211, 0.9314285714285715)\",\"rgba(255, 153, 51, 0.9314285714285715)\",\"rgba(55, 128, 191, 0.9314285714285715)\",\"rgba(50, 171, 96, 0.9314285714285715)\",\"rgba(128, 0, 128, 0.9314285714285715)\",\"rgba(219, 64, 82, 0.9314285714285715)\",\"rgba(0, 128, 128, 0.9314285714285715)\",\"rgba(255, 255, 51, 0.9314285714285715)\",\"rgba(255, 255, 51, 0.9085714285714286)\",\"rgba(128, 128, 0, 0.9085714285714286)\",\"rgba(251, 128, 114, 0.9085714285714286)\",\"rgba(128, 177, 211, 0.9085714285714286)\",\"rgba(255, 153, 51, 0.9085714285714286)\",\"rgba(55, 128, 191, 0.9085714285714286)\",\"rgba(50, 171, 96, 0.9085714285714286)\",\"rgba(128, 0, 128, 0.9085714285714286)\",\"rgba(219, 64, 82, 0.9085714285714286)\",\"rgba(0, 128, 128, 0.9085714285714286)\",\"rgba(0, 128, 128, 0.8857142857142857)\",\"rgba(255, 255, 51, 0.8857142857142857)\",\"rgba(128, 128, 0, 0.8857142857142857)\",\"rgba(251, 128, 114, 0.8857142857142857)\",\"rgba(128, 177, 211, 0.8857142857142857)\",\"rgba(255, 153, 51, 0.8857142857142857)\",\"rgba(55, 128, 191, 0.8857142857142857)\",\"rgba(50, 171, 96, 0.8857142857142857)\",\"rgba(128, 0, 128, 0.8857142857142857)\",\"rgba(219, 64, 82, 0.8857142857142857)\",\"rgba(219, 64, 82, 0.8628571428571428)\",\"rgba(0, 128, 128, 0.8628571428571428)\",\"rgba(255, 255, 51, 0.8628571428571428)\",\"rgba(128, 128, 0, 0.8628571428571428)\",\"rgba(251, 128, 114, 0.8628571428571428)\",\"rgba(128, 177, 211, 0.8628571428571428)\",\"rgba(255, 153, 51, 0.8628571428571428)\",\"rgba(55, 128, 191, 0.8628571428571428)\",\"rgba(50, 171, 96, 0.8628571428571428)\",\"rgba(128, 0, 128, 0.8628571428571428)\",\"rgba(128, 0, 128, 0.8400000000000001)\",\"rgba(219, 64, 82, 0.8400000000000001)\",\"rgba(0, 128, 128, 0.8400000000000001)\",\"rgba(255, 255, 51, 0.8400000000000001)\",\"rgba(128, 128, 0, 0.8400000000000001)\",\"rgba(251, 128, 114, 0.8400000000000001)\",\"rgba(128, 177, 211, 0.8400000000000001)\",\"rgba(255, 153, 51, 0.8400000000000001)\",\"rgba(55, 128, 191, 0.8400000000000001)\",\"rgba(50, 171, 96, 0.8400000000000001)\",\"rgba(50, 171, 96, 0.8171428571428572)\",\"rgba(128, 0, 128, 0.8171428571428572)\",\"rgba(219, 64, 82, 0.8171428571428572)\",\"rgba(0, 128, 128, 0.8171428571428572)\",\"rgba(255, 255, 51, 0.8171428571428572)\",\"rgba(128, 128, 0, 0.8171428571428572)\",\"rgba(251, 128, 114, 0.8171428571428572)\",\"rgba(128, 177, 211, 0.8171428571428572)\",\"rgba(255, 153, 51, 0.8171428571428572)\",\"rgba(55, 128, 191, 0.8171428571428572)\",\"rgba(55, 128, 191, 0.7942857142857143)\",\"rgba(50, 171, 96, 0.7942857142857143)\",\"rgba(128, 0, 128, 0.7942857142857143)\",\"rgba(219, 64, 82, 0.7942857142857143)\",\"rgba(0, 128, 128, 0.7942857142857143)\",\"rgba(255, 255, 51, 0.7942857142857143)\",\"rgba(128, 128, 0, 0.7942857142857143)\",\"rgba(251, 128, 114, 0.7942857142857143)\",\"rgba(128, 177, 211, 0.7942857142857143)\",\"rgba(255, 153, 51, 0.7942857142857143)\",\"rgba(255, 153, 51, 0.7714285714285714)\",\"rgba(55, 128, 191, 0.7714285714285714)\",\"rgba(50, 171, 96, 0.7714285714285714)\",\"rgba(128, 0, 128, 0.7714285714285714)\",\"rgba(219, 64, 82, 0.7714285714285714)\",\"rgba(0, 128, 128, 0.7714285714285714)\",\"rgba(255, 255, 51, 0.7714285714285714)\",\"rgba(128, 128, 0, 0.7714285714285714)\",\"rgba(251, 128, 114, 0.7714285714285714)\",\"rgba(128, 177, 211, 0.7714285714285714)\",\"rgba(128, 177, 211, 0.7485714285714287)\",\"rgba(255, 153, 51, 0.7485714285714287)\",\"rgba(55, 128, 191, 0.7485714285714287)\",\"rgba(50, 171, 96, 0.7485714285714287)\",\"rgba(128, 0, 128, 0.7485714285714287)\",\"rgba(219, 64, 82, 0.7485714285714287)\",\"rgba(0, 128, 128, 0.7485714285714287)\",\"rgba(255, 255, 51, 0.7485714285714287)\",\"rgba(128, 128, 0, 0.7485714285714287)\",\"rgba(251, 128, 114, 0.7485714285714287)\",\"rgba(251, 128, 114, 0.7257142857142858)\",\"rgba(128, 177, 211, 0.7257142857142858)\",\"rgba(255, 153, 51, 0.7257142857142858)\",\"rgba(55, 128, 191, 0.7257142857142858)\",\"rgba(50, 171, 96, 0.7257142857142858)\",\"rgba(128, 0, 128, 0.7257142857142858)\",\"rgba(219, 64, 82, 0.7257142857142858)\",\"rgba(0, 128, 128, 0.7257142857142858)\",\"rgba(255, 255, 51, 0.7257142857142858)\",\"rgba(128, 128, 0, 0.7257142857142858)\",\"rgba(128, 128, 0, 0.7028571428571428)\",\"rgba(251, 128, 114, 0.7028571428571428)\",\"rgba(128, 177, 211, 0.7028571428571428)\",\"rgba(255, 153, 51, 0.7028571428571428)\",\"rgba(55, 128, 191, 0.7028571428571428)\",\"rgba(50, 171, 96, 0.7028571428571428)\",\"rgba(128, 0, 128, 0.7028571428571428)\",\"rgba(219, 64, 82, 0.7028571428571428)\",\"rgba(0, 128, 128, 0.7028571428571428)\",\"rgba(255, 255, 51, 0.7028571428571428)\",\"rgba(255, 255, 51, 0.6799999999999999)\",\"rgba(128, 128, 0, 0.6799999999999999)\",\"rgba(251, 128, 114, 0.6799999999999999)\",\"rgba(128, 177, 211, 0.6799999999999999)\",\"rgba(255, 153, 51, 0.6799999999999999)\",\"rgba(55, 128, 191, 0.6799999999999999)\",\"rgba(50, 171, 96, 0.6799999999999999)\",\"rgba(128, 0, 128, 0.6799999999999999)\",\"rgba(219, 64, 82, 0.6799999999999999)\",\"rgba(0, 128, 128, 0.6799999999999999)\",\"rgba(0, 128, 128, 0.6571428571428573)\",\"rgba(255, 255, 51, 0.6571428571428573)\",\"rgba(128, 128, 0, 0.6571428571428573)\",\"rgba(251, 128, 114, 0.6571428571428573)\",\"rgba(128, 177, 211, 0.6571428571428573)\",\"rgba(255, 153, 51, 0.6571428571428573)\",\"rgba(55, 128, 191, 0.6571428571428573)\",\"rgba(50, 171, 96, 0.6571428571428573)\",\"rgba(128, 0, 128, 0.6571428571428573)\",\"rgba(219, 64, 82, 0.6571428571428573)\",\"rgba(219, 64, 82, 0.6342857142857143)\",\"rgba(0, 128, 128, 0.6342857142857143)\",\"rgba(255, 255, 51, 0.6342857142857143)\",\"rgba(128, 128, 0, 0.6342857142857143)\",\"rgba(251, 128, 114, 0.6342857142857143)\",\"rgba(128, 177, 211, 0.6342857142857143)\",\"rgba(255, 153, 51, 0.6342857142857143)\",\"rgba(55, 128, 191, 0.6342857142857143)\",\"rgba(50, 171, 96, 0.6342857142857143)\",\"rgba(128, 0, 128, 0.6342857142857143)\",\"rgba(128, 0, 128, 0.6114285714285714)\",\"rgba(219, 64, 82, 0.6114285714285714)\",\"rgba(0, 128, 128, 0.6114285714285714)\",\"rgba(255, 255, 51, 0.6114285714285714)\",\"rgba(128, 128, 0, 0.6114285714285714)\",\"rgba(251, 128, 114, 0.6114285714285714)\",\"rgba(128, 177, 211, 0.6114285714285714)\",\"rgba(255, 153, 51, 0.6114285714285714)\",\"rgba(55, 128, 191, 0.6114285714285714)\",\"rgba(50, 171, 96, 0.6114285714285714)\",\"rgba(50, 171, 96, 0.5885714285714285)\",\"rgba(128, 0, 128, 0.5885714285714285)\",\"rgba(219, 64, 82, 0.5885714285714285)\",\"rgba(0, 128, 128, 0.5885714285714285)\",\"rgba(255, 255, 51, 0.5885714285714285)\",\"rgba(128, 128, 0, 0.5885714285714285)\",\"rgba(251, 128, 114, 0.5885714285714285)\",\"rgba(128, 177, 211, 0.5885714285714285)\",\"rgba(255, 153, 51, 0.5885714285714285)\",\"rgba(55, 128, 191, 0.5885714285714285)\",\"rgba(55, 128, 191, 0.5657142857142858)\",\"rgba(50, 171, 96, 0.5657142857142858)\",\"rgba(128, 0, 128, 0.5657142857142858)\",\"rgba(219, 64, 82, 0.5657142857142858)\",\"rgba(0, 128, 128, 0.5657142857142858)\",\"rgba(255, 255, 51, 0.5657142857142858)\",\"rgba(128, 128, 0, 0.5657142857142858)\",\"rgba(251, 128, 114, 0.5657142857142858)\",\"rgba(128, 177, 211, 0.5657142857142858)\",\"rgba(255, 153, 51, 0.5657142857142858)\",\"rgba(255, 153, 51, 0.5428571428571429)\",\"rgba(55, 128, 191, 0.5428571428571429)\",\"rgba(50, 171, 96, 0.5428571428571429)\",\"rgba(128, 0, 128, 0.5428571428571429)\",\"rgba(219, 64, 82, 0.5428571428571429)\",\"rgba(0, 128, 128, 0.5428571428571429)\",\"rgba(255, 255, 51, 0.5428571428571429)\",\"rgba(128, 128, 0, 0.5428571428571429)\",\"rgba(251, 128, 114, 0.5428571428571429)\",\"rgba(128, 177, 211, 0.5428571428571429)\",\"rgba(128, 177, 211, 0.52)\",\"rgba(255, 153, 51, 0.52)\",\"rgba(55, 128, 191, 0.52)\",\"rgba(50, 171, 96, 0.52)\",\"rgba(128, 0, 128, 0.52)\",\"rgba(219, 64, 82, 0.52)\",\"rgba(0, 128, 128, 0.52)\",\"rgba(255, 255, 51, 0.52)\",\"rgba(128, 128, 0, 0.52)\",\"rgba(251, 128, 114, 0.52)\",\"rgba(251, 128, 114, 0.49714285714285716)\",\"rgba(128, 177, 211, 0.49714285714285716)\",\"rgba(255, 153, 51, 0.49714285714285716)\",\"rgba(55, 128, 191, 0.49714285714285716)\",\"rgba(50, 171, 96, 0.49714285714285716)\",\"rgba(128, 0, 128, 0.49714285714285716)\",\"rgba(219, 64, 82, 0.49714285714285716)\",\"rgba(0, 128, 128, 0.49714285714285716)\",\"rgba(255, 255, 51, 0.49714285714285716)\",\"rgba(128, 128, 0, 0.49714285714285716)\",\"rgba(128, 128, 0, 0.4742857142857145)\",\"rgba(251, 128, 114, 0.4742857142857145)\",\"rgba(128, 177, 211, 0.4742857142857145)\",\"rgba(255, 153, 51, 0.4742857142857145)\",\"rgba(55, 128, 191, 0.4742857142857145)\",\"rgba(50, 171, 96, 0.4742857142857145)\",\"rgba(128, 0, 128, 0.4742857142857145)\",\"rgba(219, 64, 82, 0.4742857142857145)\",\"rgba(0, 128, 128, 0.4742857142857145)\",\"rgba(255, 255, 51, 0.4742857142857145)\",\"rgba(255, 255, 51, 0.45142857142857157)\",\"rgba(128, 128, 0, 0.45142857142857157)\",\"rgba(251, 128, 114, 0.45142857142857157)\",\"rgba(128, 177, 211, 0.45142857142857157)\",\"rgba(255, 153, 51, 0.45142857142857157)\",\"rgba(55, 128, 191, 0.45142857142857157)\",\"rgba(50, 171, 96, 0.45142857142857157)\",\"rgba(128, 0, 128, 0.45142857142857157)\",\"rgba(219, 64, 82, 0.45142857142857157)\",\"rgba(0, 128, 128, 0.45142857142857157)\",\"rgba(0, 128, 128, 0.42857142857142866)\",\"rgba(255, 255, 51, 0.42857142857142866)\",\"rgba(128, 128, 0, 0.42857142857142866)\",\"rgba(251, 128, 114, 0.42857142857142866)\",\"rgba(128, 177, 211, 0.42857142857142866)\",\"rgba(255, 153, 51, 0.42857142857142866)\",\"rgba(55, 128, 191, 0.42857142857142866)\",\"rgba(50, 171, 96, 0.42857142857142866)\",\"rgba(128, 0, 128, 0.42857142857142866)\",\"rgba(219, 64, 82, 0.42857142857142866)\",\"rgba(219, 64, 82, 0.40571428571428575)\",\"rgba(0, 128, 128, 0.40571428571428575)\",\"rgba(255, 255, 51, 0.40571428571428575)\",\"rgba(128, 128, 0, 0.40571428571428575)\",\"rgba(251, 128, 114, 0.40571428571428575)\",\"rgba(128, 177, 211, 0.40571428571428575)\",\"rgba(255, 153, 51, 0.40571428571428575)\",\"rgba(55, 128, 191, 0.40571428571428575)\",\"rgba(50, 171, 96, 0.40571428571428575)\",\"rgba(128, 0, 128, 0.40571428571428575)\",\"rgba(128, 0, 128, 0.38285714285714306)\",\"rgba(219, 64, 82, 0.38285714285714306)\",\"rgba(0, 128, 128, 0.38285714285714306)\",\"rgba(255, 255, 51, 0.38285714285714306)\",\"rgba(128, 128, 0, 0.38285714285714306)\",\"rgba(251, 128, 114, 0.38285714285714306)\",\"rgba(128, 177, 211, 0.38285714285714306)\",\"rgba(255, 153, 51, 0.38285714285714306)\",\"rgba(55, 128, 191, 0.38285714285714306)\",\"rgba(50, 171, 96, 0.38285714285714306)\",\"rgba(50, 171, 96, 0.36000000000000015)\",\"rgba(128, 0, 128, 0.36000000000000015)\",\"rgba(219, 64, 82, 0.36000000000000015)\",\"rgba(0, 128, 128, 0.36000000000000015)\",\"rgba(255, 255, 51, 0.36000000000000015)\",\"rgba(128, 128, 0, 0.36000000000000015)\",\"rgba(251, 128, 114, 0.36000000000000015)\",\"rgba(128, 177, 211, 0.36000000000000015)\",\"rgba(255, 153, 51, 0.36000000000000015)\",\"rgba(55, 128, 191, 0.36000000000000015)\",\"rgba(55, 128, 191, 0.33714285714285724)\",\"rgba(50, 171, 96, 0.33714285714285724)\",\"rgba(128, 0, 128, 0.33714285714285724)\",\"rgba(219, 64, 82, 0.33714285714285724)\",\"rgba(0, 128, 128, 0.33714285714285724)\",\"rgba(255, 255, 51, 0.33714285714285724)\",\"rgba(128, 128, 0, 0.33714285714285724)\",\"rgba(251, 128, 114, 0.33714285714285724)\",\"rgba(128, 177, 211, 0.33714285714285724)\",\"rgba(255, 153, 51, 0.33714285714285724)\",\"rgba(255, 153, 51, 0.31428571428571433)\",\"rgba(55, 128, 191, 0.31428571428571433)\",\"rgba(50, 171, 96, 0.31428571428571433)\",\"rgba(128, 0, 128, 0.31428571428571433)\",\"rgba(219, 64, 82, 0.31428571428571433)\",\"rgba(0, 128, 128, 0.31428571428571433)\",\"rgba(255, 255, 51, 0.31428571428571433)\",\"rgba(128, 128, 0, 0.31428571428571433)\",\"rgba(251, 128, 114, 0.31428571428571433)\",\"rgba(128, 177, 211, 0.31428571428571433)\",\"rgba(128, 177, 211, 0.29142857142857165)\",\"rgba(255, 153, 51, 0.29142857142857165)\",\"rgba(55, 128, 191, 0.29142857142857165)\",\"rgba(50, 171, 96, 0.29142857142857165)\",\"rgba(128, 0, 128, 0.29142857142857165)\",\"rgba(219, 64, 82, 0.29142857142857165)\",\"rgba(0, 128, 128, 0.29142857142857165)\",\"rgba(255, 255, 51, 0.29142857142857165)\",\"rgba(128, 128, 0, 0.29142857142857165)\",\"rgba(251, 128, 114, 0.29142857142857165)\",\"rgba(251, 128, 114, 0.26857142857142874)\",\"rgba(128, 177, 211, 0.26857142857142874)\",\"rgba(255, 153, 51, 0.26857142857142874)\",\"rgba(55, 128, 191, 0.26857142857142874)\",\"rgba(50, 171, 96, 0.26857142857142874)\",\"rgba(128, 0, 128, 0.26857142857142874)\",\"rgba(219, 64, 82, 0.26857142857142874)\",\"rgba(0, 128, 128, 0.26857142857142874)\",\"rgba(255, 255, 51, 0.26857142857142874)\",\"rgba(128, 128, 0, 0.26857142857142874)\",\"rgba(128, 128, 0, 0.24571428571428583)\",\"rgba(251, 128, 114, 0.24571428571428583)\",\"rgba(128, 177, 211, 0.24571428571428583)\",\"rgba(255, 153, 51, 0.24571428571428583)\",\"rgba(55, 128, 191, 0.24571428571428583)\",\"rgba(50, 171, 96, 0.24571428571428583)\",\"rgba(128, 0, 128, 0.24571428571428583)\",\"rgba(219, 64, 82, 0.24571428571428583)\",\"rgba(0, 128, 128, 0.24571428571428583)\",\"rgba(255, 255, 51, 0.24571428571428583)\",\"rgba(255, 255, 51, 0.22285714285714292)\",\"rgba(128, 128, 0, 0.22285714285714292)\",\"rgba(251, 128, 114, 0.22285714285714292)\",\"rgba(128, 177, 211, 0.22285714285714292)\",\"rgba(255, 153, 51, 0.22285714285714292)\",\"rgba(55, 128, 191, 0.22285714285714292)\",\"rgba(50, 171, 96, 0.22285714285714292)\",\"rgba(128, 0, 128, 0.22285714285714292)\",\"rgba(219, 64, 82, 0.22285714285714292)\",\"rgba(0, 128, 128, 0.22285714285714292)\"]},\"name\":\"\",\"textinfo\":\"percent+label\",\"values\":[6809,2347,337,702,2335,1633,1927,1743,1799,1296,1688,2194,2201,2170,6256,2960,316,1800,1529,1566,1657,1205,1271,1272,953,2037,1881,3208,6565,3040,467,1676,1314,1574,1995,1719,2513,1373,1413,1489,2051,3458,8316,3543,486,1192,1606,1847,2121,2506,3105,1494,1257,1259,2545,162,7821,3732,815,862,1517,1803,2134,1972,2089,1575,758,1181,2045,190,6822,3423,626,625,1308,1730,2165,1446,1778,1550,695,1114,2027,162,5921,3133,729,488,1512,1901,2957,1486,1543,1524,743,1108,1949,321,6107,3132,824,1405,2058,1924,3470,1392,1257,1534,815,1137,2109,305,7340,3425,898,1249,1910,1973,3815,1432,321,1501,967,1177,1925,238,8474,3743,964,955,2112,1887,3978,1745,93,1571,2015,1384,2109,259,9250,4537,1150,1683,2582,1985,6165,2189,673,1713,3677,1698,2956,115,10554,5414,1176,2143,2904,2065,6487,1835,367,1771,1432,1929,2845,165,9551,6114,1137,410,1987,2125,6914,1856,623,1727,2386,2410,2142,165,10687,6470,957,573,2803,2048,8198,1851,1602,2279,3277,2706,2384,226,12096,6871,1258,353,3902,2133,8687,1920,2112,2373,3175,3307,2587,302,12821,7714,1337,539,3768,2142,9038,1803,2572,2305,4309,4342,2708,416,12680,7688,1152,530,4182,2189,9513,1655,2722,2379,3930,5248,2903,250,13371,8927,1126,516,4341,2540,10215,1603,3394,2591,2784,6097,3010,324,13815,9235,1402,438,4455,2833,10345,1760,5425,2719,2769,5876,3249,502,13602,10526,1474,775,4360,2730,11078,2148,6551,2682,3278,6045,3209,506,14944,10724,1532,4866,4440,3133,10960,2153,5796,2688,4905,6019,3279,378,16032,11706,1590,1490,4649,3075,11137,2623,3616,2664,4607,6629,3490,430,16732,12368,1637,1798,4762,3264,11164,2419,2865,2620,4199,6683,3409,354,13744,12773,1536,2519,3095,3506,9898,2208,2279,1847,3662,3776,3316,449,17968,12373,1648,2505,4742,3773,11344,2516,2276,2408,4253,6434,3909,487],\"type\":\"pie\"}],                        {\"legend\":{\"bgcolor\":\"#F5F6F9\",\"font\":{\"color\":\"#4D5663\"}},\"paper_bgcolor\":\"#F5F6F9\",\"plot_bgcolor\":\"#F5F6F9\",\"titlefont\":{\"color\":\"#4D5663\"},\"title\":\"Government Operating Revenue 2021\"},                        {\"showLink\": true, \"linkText\": \"Export to plot.ly\", \"plotlyServerURL\": \"https://plot.ly\", \"responsive\": true}                    ).then(function(){\n",
       "                            \n",
       "var gd = document.getElementById('a632e82f-b060-43e6-97bc-728e92967fe0');\n",
       "var x = new MutationObserver(function (mutations, observer) {{\n",
       "        var display = window.getComputedStyle(gd).display;\n",
       "        if (!display || display === 'none') {{\n",
       "            console.log([gd, 'removed!']);\n",
       "            Plotly.purge(gd);\n",
       "            observer.disconnect();\n",
       "        }}\n",
       "}});\n",
       "\n",
       "// Listen for the removal of the full notebook cells\n",
       "var notebookContainer = gd.closest('#notebook-container');\n",
       "if (notebookContainer) {{\n",
       "    x.observe(notebookContainer, {childList: true});\n",
       "}}\n",
       "\n",
       "// Listen for the clearing of the current output cell\n",
       "var outputEl = gd.closest('.output');\n",
       "if (outputEl) {{\n",
       "    x.observe(outputEl, {childList: true});\n",
       "}}\n",
       "\n",
       "                        })                };                });            </script>        </div>"
      ]
     },
     "metadata": {},
     "output_type": "display_data"
    },
    {
     "data": {
      "text/markdown": [
       "<u>**My thoughts, comments and analysis on the above chart:**</u>"
      ],
      "text/plain": [
       "<IPython.core.display.Markdown object>"
      ]
     },
     "metadata": {},
     "output_type": "display_data"
    },
    {
     "data": {
      "text/markdown": [
       "This pie chart allows us to easily analyze the breakdown of the government's operating revenue for the year of 2021 and as shown in the graph the government's revenue is largely dominated by Corporate Income Tax, GST, Personal Income Tax, and Other Taxes. Something I found interesting is that Motor Vehicle Taxes only took up 4% of the chart. Considering how much taxes and costs are involved in owning a motor vehicle I would have expected this to be much larger."
      ],
      "text/plain": [
       "<IPython.core.display.Markdown object>"
      ]
     },
     "metadata": {},
     "output_type": "display_data"
    },
    {
     "name": "stdout",
     "output_type": "stream",
     "text": [
      "\n"
     ]
    },
    {
     "data": {
      "application/vnd.plotly.v1+json": {
       "config": {
        "linkText": "Export to plot.ly",
        "plotlyServerURL": "https://plot.ly",
        "showLink": true
       },
       "data": [
        {
         "hole": 0.4,
         "labels": [
          "Social Development",
          "Social Development",
          "Social Development",
          "Social Development",
          "Social Development",
          "Social Development",
          "Social Development",
          "Social Development",
          "Social Development",
          "Social Development",
          "Social Development",
          "Social Development",
          "Social Development",
          "Social Development",
          "Social Development",
          "Social Development",
          "Security and External Relations",
          "Security and External Relations",
          "Security and External Relations",
          "Security and External Relations",
          "Security and External Relations",
          "Security and External Relations",
          "Economic Development",
          "Economic Development",
          "Economic Development",
          "Economic Development",
          "Economic Development",
          "Economic Development",
          "Economic Development",
          "Economic Development",
          "Government Administration",
          "Government Administration",
          "Government Administration",
          "Government Administration",
          "Government Administration",
          "Government Administration",
          "Government Administration",
          "Government Administration"
         ],
         "marker": {
          "colors": [
           "rgba(255, 153, 51, 1.0)",
           "rgba(55, 128, 191, 1.0)",
           "rgba(50, 171, 96, 1.0)",
           "rgba(128, 0, 128, 1.0)",
           "rgba(219, 64, 82, 1.0)",
           "rgba(0, 128, 128, 1.0)",
           "rgba(255, 255, 51, 1.0)",
           "rgba(128, 128, 0, 1.0)",
           "rgba(251, 128, 114, 1.0)",
           "rgba(128, 177, 211, 1.0)",
           "rgba(128, 177, 211, 0.8999999999999999)",
           "rgba(255, 153, 51, 0.8999999999999999)",
           "rgba(55, 128, 191, 0.8999999999999999)",
           "rgba(50, 171, 96, 0.8999999999999999)",
           "rgba(128, 0, 128, 0.8999999999999999)",
           "rgba(219, 64, 82, 0.8999999999999999)",
           "rgba(0, 128, 128, 0.8999999999999999)",
           "rgba(255, 255, 51, 0.8999999999999999)",
           "rgba(128, 128, 0, 0.8999999999999999)",
           "rgba(251, 128, 114, 0.8999999999999999)",
           "rgba(251, 128, 114, 0.7999999999999998)",
           "rgba(128, 177, 211, 0.7999999999999998)",
           "rgba(255, 153, 51, 0.7999999999999998)",
           "rgba(55, 128, 191, 0.7999999999999998)",
           "rgba(50, 171, 96, 0.7999999999999998)",
           "rgba(128, 0, 128, 0.7999999999999998)",
           "rgba(219, 64, 82, 0.7999999999999998)",
           "rgba(0, 128, 128, 0.7999999999999998)",
           "rgba(255, 255, 51, 0.7999999999999998)",
           "rgba(128, 128, 0, 0.7999999999999998)",
           "rgba(128, 128, 0, 0.7)",
           "rgba(251, 128, 114, 0.7)",
           "rgba(128, 177, 211, 0.7)",
           "rgba(255, 153, 51, 0.7)",
           "rgba(55, 128, 191, 0.7)",
           "rgba(50, 171, 96, 0.7)",
           "rgba(128, 0, 128, 0.7)",
           "rgba(219, 64, 82, 0.7)"
          ]
         },
         "name": "",
         "textinfo": "percent+label",
         "type": "pie",
         "values": [
          13090,
          530,
          4149,
          1380,
          17355,
          1490,
          1849,
          1055,
          1914,
          358,
          4014,
          99,
          590,
          39,
          1556,
          4,
          14803,
          558,
          6544,
          1332,
          421,
          13,
          5519,
          98,
          4051,
          7015,
          2052,
          5123,
          790,
          22,
          1928,
          140,
          261,
          220,
          607,
          104,
          973,
          293
         ]
        }
       ],
       "layout": {
        "legend": {
         "bgcolor": "#F5F6F9",
         "font": {
          "color": "#4D5663"
         }
        },
        "paper_bgcolor": "#F5F6F9",
        "plot_bgcolor": "#F5F6F9",
        "title": "Government Total Expenditure 2021",
        "titlefont": {
         "color": "#4D5663"
        }
       }
      },
      "text/html": [
       "<div>                            <div id=\"4c904ac5-8890-4b4e-bab4-5224f33c5e56\" class=\"plotly-graph-div\" style=\"height:525px; width:100%;\"></div>            <script type=\"text/javascript\">                require([\"plotly\"], function(Plotly) {                    window.PLOTLYENV=window.PLOTLYENV || {};\n",
       "                    window.PLOTLYENV.BASE_URL='https://plot.ly';                                    if (document.getElementById(\"4c904ac5-8890-4b4e-bab4-5224f33c5e56\")) {                    Plotly.newPlot(                        \"4c904ac5-8890-4b4e-bab4-5224f33c5e56\",                        [{\"hole\":0.4,\"labels\":[\"Social Development\",\"Social Development\",\"Social Development\",\"Social Development\",\"Social Development\",\"Social Development\",\"Social Development\",\"Social Development\",\"Social Development\",\"Social Development\",\"Social Development\",\"Social Development\",\"Social Development\",\"Social Development\",\"Social Development\",\"Social Development\",\"Security and External Relations\",\"Security and External Relations\",\"Security and External Relations\",\"Security and External Relations\",\"Security and External Relations\",\"Security and External Relations\",\"Economic Development\",\"Economic Development\",\"Economic Development\",\"Economic Development\",\"Economic Development\",\"Economic Development\",\"Economic Development\",\"Economic Development\",\"Government Administration\",\"Government Administration\",\"Government Administration\",\"Government Administration\",\"Government Administration\",\"Government Administration\",\"Government Administration\",\"Government Administration\"],\"marker\":{\"colors\":[\"rgba(255, 153, 51, 1.0)\",\"rgba(55, 128, 191, 1.0)\",\"rgba(50, 171, 96, 1.0)\",\"rgba(128, 0, 128, 1.0)\",\"rgba(219, 64, 82, 1.0)\",\"rgba(0, 128, 128, 1.0)\",\"rgba(255, 255, 51, 1.0)\",\"rgba(128, 128, 0, 1.0)\",\"rgba(251, 128, 114, 1.0)\",\"rgba(128, 177, 211, 1.0)\",\"rgba(128, 177, 211, 0.8999999999999999)\",\"rgba(255, 153, 51, 0.8999999999999999)\",\"rgba(55, 128, 191, 0.8999999999999999)\",\"rgba(50, 171, 96, 0.8999999999999999)\",\"rgba(128, 0, 128, 0.8999999999999999)\",\"rgba(219, 64, 82, 0.8999999999999999)\",\"rgba(0, 128, 128, 0.8999999999999999)\",\"rgba(255, 255, 51, 0.8999999999999999)\",\"rgba(128, 128, 0, 0.8999999999999999)\",\"rgba(251, 128, 114, 0.8999999999999999)\",\"rgba(251, 128, 114, 0.7999999999999998)\",\"rgba(128, 177, 211, 0.7999999999999998)\",\"rgba(255, 153, 51, 0.7999999999999998)\",\"rgba(55, 128, 191, 0.7999999999999998)\",\"rgba(50, 171, 96, 0.7999999999999998)\",\"rgba(128, 0, 128, 0.7999999999999998)\",\"rgba(219, 64, 82, 0.7999999999999998)\",\"rgba(0, 128, 128, 0.7999999999999998)\",\"rgba(255, 255, 51, 0.7999999999999998)\",\"rgba(128, 128, 0, 0.7999999999999998)\",\"rgba(128, 128, 0, 0.7)\",\"rgba(251, 128, 114, 0.7)\",\"rgba(128, 177, 211, 0.7)\",\"rgba(255, 153, 51, 0.7)\",\"rgba(55, 128, 191, 0.7)\",\"rgba(50, 171, 96, 0.7)\",\"rgba(128, 0, 128, 0.7)\",\"rgba(219, 64, 82, 0.7)\"]},\"name\":\"\",\"textinfo\":\"percent+label\",\"values\":[13090,530,4149,1380,17355,1490,1849,1055,1914,358,4014,99,590,39,1556,4,14803,558,6544,1332,421,13,5519,98,4051,7015,2052,5123,790,22,1928,140,261,220,607,104,973,293],\"type\":\"pie\"}],                        {\"legend\":{\"bgcolor\":\"#F5F6F9\",\"font\":{\"color\":\"#4D5663\"}},\"paper_bgcolor\":\"#F5F6F9\",\"plot_bgcolor\":\"#F5F6F9\",\"titlefont\":{\"color\":\"#4D5663\"},\"title\":\"Government Total Expenditure 2021\"},                        {\"showLink\": true, \"linkText\": \"Export to plot.ly\", \"plotlyServerURL\": \"https://plot.ly\", \"responsive\": true}                    ).then(function(){\n",
       "                            \n",
       "var gd = document.getElementById('4c904ac5-8890-4b4e-bab4-5224f33c5e56');\n",
       "var x = new MutationObserver(function (mutations, observer) {{\n",
       "        var display = window.getComputedStyle(gd).display;\n",
       "        if (!display || display === 'none') {{\n",
       "            console.log([gd, 'removed!']);\n",
       "            Plotly.purge(gd);\n",
       "            observer.disconnect();\n",
       "        }}\n",
       "}});\n",
       "\n",
       "// Listen for the removal of the full notebook cells\n",
       "var notebookContainer = gd.closest('#notebook-container');\n",
       "if (notebookContainer) {{\n",
       "    x.observe(notebookContainer, {childList: true});\n",
       "}}\n",
       "\n",
       "// Listen for the clearing of the current output cell\n",
       "var outputEl = gd.closest('.output');\n",
       "if (outputEl) {{\n",
       "    x.observe(outputEl, {childList: true});\n",
       "}}\n",
       "\n",
       "                        })                };                });            </script>        </div>"
      ]
     },
     "metadata": {},
     "output_type": "display_data"
    },
    {
     "data": {
      "text/markdown": [
       "<u>**My thoughts, comments and analysis on the above chart:**</u>"
      ],
      "text/plain": [
       "<IPython.core.display.Markdown object>"
      ]
     },
     "metadata": {},
     "output_type": "display_data"
    },
    {
     "data": {
      "text/markdown": [
       "This pie chart allows ut to easily analyze the breakdwn of the government's expenditures for the year of 2021, and as shown in the graph Costs into Social Development dwarfed all the other expenses by a long shot, with the category taking up close to 50% of costs for the year."
      ],
      "text/plain": [
       "<IPython.core.display.Markdown object>"
      ]
     },
     "metadata": {},
     "output_type": "display_data"
    },
    {
     "name": "stdout",
     "output_type": "stream",
     "text": [
      "\n"
     ]
    },
    {
     "data": {
      "application/vnd.plotly.v1+json": {
       "config": {
        "linkText": "Export to plot.ly",
        "plotlyServerURL": "https://plot.ly",
        "showLink": true
       },
       "data": [
        {
         "line": {
          "color": "rgba(255, 153, 51, 1.0)",
          "dash": "solid",
          "shape": "linear",
          "width": 1.3
         },
         "mode": "lines",
         "name": "Revenue",
         "text": "",
         "type": "scatter",
         "x": [
          1997,
          1998,
          1999,
          2000,
          2001,
          2002,
          2003,
          2004,
          2005,
          2006,
          2007,
          2008,
          2009,
          2010,
          2011,
          2012,
          2013,
          2014,
          2015,
          2016,
          2017,
          2018,
          2019,
          2020,
          2021
         ],
         "y": [
          29181,
          27911,
          30647,
          31439,
          28494,
          25471,
          25315,
          27469,
          28171,
          31289,
          40373,
          41087,
          39547,
          46061,
          51076,
          55814,
          57021,
          60839,
          64823,
          68964,
          75817,
          73738,
          74274,
          64608,
          76636
         ]
        },
        {
         "line": {
          "color": "rgba(55, 128, 191, 1.0)",
          "dash": "solid",
          "shape": "linear",
          "width": 1.3
         },
         "mode": "lines",
         "name": "Expenditure",
         "text": "",
         "type": "scatter",
         "x": [
          1997,
          1998,
          1999,
          2000,
          2001,
          2002,
          2003,
          2004,
          2005,
          2006,
          2007,
          2008,
          2009,
          2010,
          2011,
          2012,
          2013,
          2014,
          2015,
          2016,
          2017,
          2018,
          2019,
          2020,
          2021
         ],
         "y": [
          23040,
          26934,
          25079,
          27909,
          27306,
          27150,
          28499,
          28956,
          28634,
          29905,
          32980,
          38092,
          41889,
          45339,
          46563,
          49004,
          51727,
          56652,
          67446,
          71045,
          73554,
          77825,
          75341,
          94056,
          102339
         ]
        }
       ],
       "layout": {
        "legend": {
         "bgcolor": "#F5F6F9",
         "font": {
          "color": "#4D5663"
         }
        },
        "paper_bgcolor": "#F5F6F9",
        "plot_bgcolor": "#F5F6F9",
        "template": {
         "data": {
          "bar": [
           {
            "error_x": {
             "color": "#2a3f5f"
            },
            "error_y": {
             "color": "#2a3f5f"
            },
            "marker": {
             "line": {
              "color": "#E5ECF6",
              "width": 0.5
             },
             "pattern": {
              "fillmode": "overlay",
              "size": 10,
              "solidity": 0.2
             }
            },
            "type": "bar"
           }
          ],
          "barpolar": [
           {
            "marker": {
             "line": {
              "color": "#E5ECF6",
              "width": 0.5
             },
             "pattern": {
              "fillmode": "overlay",
              "size": 10,
              "solidity": 0.2
             }
            },
            "type": "barpolar"
           }
          ],
          "carpet": [
           {
            "aaxis": {
             "endlinecolor": "#2a3f5f",
             "gridcolor": "white",
             "linecolor": "white",
             "minorgridcolor": "white",
             "startlinecolor": "#2a3f5f"
            },
            "baxis": {
             "endlinecolor": "#2a3f5f",
             "gridcolor": "white",
             "linecolor": "white",
             "minorgridcolor": "white",
             "startlinecolor": "#2a3f5f"
            },
            "type": "carpet"
           }
          ],
          "choropleth": [
           {
            "colorbar": {
             "outlinewidth": 0,
             "ticks": ""
            },
            "type": "choropleth"
           }
          ],
          "contour": [
           {
            "colorbar": {
             "outlinewidth": 0,
             "ticks": ""
            },
            "colorscale": [
             [
              0,
              "#0d0887"
             ],
             [
              0.1111111111111111,
              "#46039f"
             ],
             [
              0.2222222222222222,
              "#7201a8"
             ],
             [
              0.3333333333333333,
              "#9c179e"
             ],
             [
              0.4444444444444444,
              "#bd3786"
             ],
             [
              0.5555555555555556,
              "#d8576b"
             ],
             [
              0.6666666666666666,
              "#ed7953"
             ],
             [
              0.7777777777777778,
              "#fb9f3a"
             ],
             [
              0.8888888888888888,
              "#fdca26"
             ],
             [
              1,
              "#f0f921"
             ]
            ],
            "type": "contour"
           }
          ],
          "contourcarpet": [
           {
            "colorbar": {
             "outlinewidth": 0,
             "ticks": ""
            },
            "type": "contourcarpet"
           }
          ],
          "heatmap": [
           {
            "colorbar": {
             "outlinewidth": 0,
             "ticks": ""
            },
            "colorscale": [
             [
              0,
              "#0d0887"
             ],
             [
              0.1111111111111111,
              "#46039f"
             ],
             [
              0.2222222222222222,
              "#7201a8"
             ],
             [
              0.3333333333333333,
              "#9c179e"
             ],
             [
              0.4444444444444444,
              "#bd3786"
             ],
             [
              0.5555555555555556,
              "#d8576b"
             ],
             [
              0.6666666666666666,
              "#ed7953"
             ],
             [
              0.7777777777777778,
              "#fb9f3a"
             ],
             [
              0.8888888888888888,
              "#fdca26"
             ],
             [
              1,
              "#f0f921"
             ]
            ],
            "type": "heatmap"
           }
          ],
          "heatmapgl": [
           {
            "colorbar": {
             "outlinewidth": 0,
             "ticks": ""
            },
            "colorscale": [
             [
              0,
              "#0d0887"
             ],
             [
              0.1111111111111111,
              "#46039f"
             ],
             [
              0.2222222222222222,
              "#7201a8"
             ],
             [
              0.3333333333333333,
              "#9c179e"
             ],
             [
              0.4444444444444444,
              "#bd3786"
             ],
             [
              0.5555555555555556,
              "#d8576b"
             ],
             [
              0.6666666666666666,
              "#ed7953"
             ],
             [
              0.7777777777777778,
              "#fb9f3a"
             ],
             [
              0.8888888888888888,
              "#fdca26"
             ],
             [
              1,
              "#f0f921"
             ]
            ],
            "type": "heatmapgl"
           }
          ],
          "histogram": [
           {
            "marker": {
             "pattern": {
              "fillmode": "overlay",
              "size": 10,
              "solidity": 0.2
             }
            },
            "type": "histogram"
           }
          ],
          "histogram2d": [
           {
            "colorbar": {
             "outlinewidth": 0,
             "ticks": ""
            },
            "colorscale": [
             [
              0,
              "#0d0887"
             ],
             [
              0.1111111111111111,
              "#46039f"
             ],
             [
              0.2222222222222222,
              "#7201a8"
             ],
             [
              0.3333333333333333,
              "#9c179e"
             ],
             [
              0.4444444444444444,
              "#bd3786"
             ],
             [
              0.5555555555555556,
              "#d8576b"
             ],
             [
              0.6666666666666666,
              "#ed7953"
             ],
             [
              0.7777777777777778,
              "#fb9f3a"
             ],
             [
              0.8888888888888888,
              "#fdca26"
             ],
             [
              1,
              "#f0f921"
             ]
            ],
            "type": "histogram2d"
           }
          ],
          "histogram2dcontour": [
           {
            "colorbar": {
             "outlinewidth": 0,
             "ticks": ""
            },
            "colorscale": [
             [
              0,
              "#0d0887"
             ],
             [
              0.1111111111111111,
              "#46039f"
             ],
             [
              0.2222222222222222,
              "#7201a8"
             ],
             [
              0.3333333333333333,
              "#9c179e"
             ],
             [
              0.4444444444444444,
              "#bd3786"
             ],
             [
              0.5555555555555556,
              "#d8576b"
             ],
             [
              0.6666666666666666,
              "#ed7953"
             ],
             [
              0.7777777777777778,
              "#fb9f3a"
             ],
             [
              0.8888888888888888,
              "#fdca26"
             ],
             [
              1,
              "#f0f921"
             ]
            ],
            "type": "histogram2dcontour"
           }
          ],
          "mesh3d": [
           {
            "colorbar": {
             "outlinewidth": 0,
             "ticks": ""
            },
            "type": "mesh3d"
           }
          ],
          "parcoords": [
           {
            "line": {
             "colorbar": {
              "outlinewidth": 0,
              "ticks": ""
             }
            },
            "type": "parcoords"
           }
          ],
          "pie": [
           {
            "automargin": true,
            "type": "pie"
           }
          ],
          "scatter": [
           {
            "fillpattern": {
             "fillmode": "overlay",
             "size": 10,
             "solidity": 0.2
            },
            "type": "scatter"
           }
          ],
          "scatter3d": [
           {
            "line": {
             "colorbar": {
              "outlinewidth": 0,
              "ticks": ""
             }
            },
            "marker": {
             "colorbar": {
              "outlinewidth": 0,
              "ticks": ""
             }
            },
            "type": "scatter3d"
           }
          ],
          "scattercarpet": [
           {
            "marker": {
             "colorbar": {
              "outlinewidth": 0,
              "ticks": ""
             }
            },
            "type": "scattercarpet"
           }
          ],
          "scattergeo": [
           {
            "marker": {
             "colorbar": {
              "outlinewidth": 0,
              "ticks": ""
             }
            },
            "type": "scattergeo"
           }
          ],
          "scattergl": [
           {
            "marker": {
             "colorbar": {
              "outlinewidth": 0,
              "ticks": ""
             }
            },
            "type": "scattergl"
           }
          ],
          "scattermapbox": [
           {
            "marker": {
             "colorbar": {
              "outlinewidth": 0,
              "ticks": ""
             }
            },
            "type": "scattermapbox"
           }
          ],
          "scatterpolar": [
           {
            "marker": {
             "colorbar": {
              "outlinewidth": 0,
              "ticks": ""
             }
            },
            "type": "scatterpolar"
           }
          ],
          "scatterpolargl": [
           {
            "marker": {
             "colorbar": {
              "outlinewidth": 0,
              "ticks": ""
             }
            },
            "type": "scatterpolargl"
           }
          ],
          "scatterternary": [
           {
            "marker": {
             "colorbar": {
              "outlinewidth": 0,
              "ticks": ""
             }
            },
            "type": "scatterternary"
           }
          ],
          "surface": [
           {
            "colorbar": {
             "outlinewidth": 0,
             "ticks": ""
            },
            "colorscale": [
             [
              0,
              "#0d0887"
             ],
             [
              0.1111111111111111,
              "#46039f"
             ],
             [
              0.2222222222222222,
              "#7201a8"
             ],
             [
              0.3333333333333333,
              "#9c179e"
             ],
             [
              0.4444444444444444,
              "#bd3786"
             ],
             [
              0.5555555555555556,
              "#d8576b"
             ],
             [
              0.6666666666666666,
              "#ed7953"
             ],
             [
              0.7777777777777778,
              "#fb9f3a"
             ],
             [
              0.8888888888888888,
              "#fdca26"
             ],
             [
              1,
              "#f0f921"
             ]
            ],
            "type": "surface"
           }
          ],
          "table": [
           {
            "cells": {
             "fill": {
              "color": "#EBF0F8"
             },
             "line": {
              "color": "white"
             }
            },
            "header": {
             "fill": {
              "color": "#C8D4E3"
             },
             "line": {
              "color": "white"
             }
            },
            "type": "table"
           }
          ]
         },
         "layout": {
          "annotationdefaults": {
           "arrowcolor": "#2a3f5f",
           "arrowhead": 0,
           "arrowwidth": 1
          },
          "autotypenumbers": "strict",
          "coloraxis": {
           "colorbar": {
            "outlinewidth": 0,
            "ticks": ""
           }
          },
          "colorscale": {
           "diverging": [
            [
             0,
             "#8e0152"
            ],
            [
             0.1,
             "#c51b7d"
            ],
            [
             0.2,
             "#de77ae"
            ],
            [
             0.3,
             "#f1b6da"
            ],
            [
             0.4,
             "#fde0ef"
            ],
            [
             0.5,
             "#f7f7f7"
            ],
            [
             0.6,
             "#e6f5d0"
            ],
            [
             0.7,
             "#b8e186"
            ],
            [
             0.8,
             "#7fbc41"
            ],
            [
             0.9,
             "#4d9221"
            ],
            [
             1,
             "#276419"
            ]
           ],
           "sequential": [
            [
             0,
             "#0d0887"
            ],
            [
             0.1111111111111111,
             "#46039f"
            ],
            [
             0.2222222222222222,
             "#7201a8"
            ],
            [
             0.3333333333333333,
             "#9c179e"
            ],
            [
             0.4444444444444444,
             "#bd3786"
            ],
            [
             0.5555555555555556,
             "#d8576b"
            ],
            [
             0.6666666666666666,
             "#ed7953"
            ],
            [
             0.7777777777777778,
             "#fb9f3a"
            ],
            [
             0.8888888888888888,
             "#fdca26"
            ],
            [
             1,
             "#f0f921"
            ]
           ],
           "sequentialminus": [
            [
             0,
             "#0d0887"
            ],
            [
             0.1111111111111111,
             "#46039f"
            ],
            [
             0.2222222222222222,
             "#7201a8"
            ],
            [
             0.3333333333333333,
             "#9c179e"
            ],
            [
             0.4444444444444444,
             "#bd3786"
            ],
            [
             0.5555555555555556,
             "#d8576b"
            ],
            [
             0.6666666666666666,
             "#ed7953"
            ],
            [
             0.7777777777777778,
             "#fb9f3a"
            ],
            [
             0.8888888888888888,
             "#fdca26"
            ],
            [
             1,
             "#f0f921"
            ]
           ]
          },
          "colorway": [
           "#636efa",
           "#EF553B",
           "#00cc96",
           "#ab63fa",
           "#FFA15A",
           "#19d3f3",
           "#FF6692",
           "#B6E880",
           "#FF97FF",
           "#FECB52"
          ],
          "font": {
           "color": "#2a3f5f"
          },
          "geo": {
           "bgcolor": "white",
           "lakecolor": "white",
           "landcolor": "#E5ECF6",
           "showlakes": true,
           "showland": true,
           "subunitcolor": "white"
          },
          "hoverlabel": {
           "align": "left"
          },
          "hovermode": "closest",
          "mapbox": {
           "style": "light"
          },
          "paper_bgcolor": "white",
          "plot_bgcolor": "#E5ECF6",
          "polar": {
           "angularaxis": {
            "gridcolor": "white",
            "linecolor": "white",
            "ticks": ""
           },
           "bgcolor": "#E5ECF6",
           "radialaxis": {
            "gridcolor": "white",
            "linecolor": "white",
            "ticks": ""
           }
          },
          "scene": {
           "xaxis": {
            "backgroundcolor": "#E5ECF6",
            "gridcolor": "white",
            "gridwidth": 2,
            "linecolor": "white",
            "showbackground": true,
            "ticks": "",
            "zerolinecolor": "white"
           },
           "yaxis": {
            "backgroundcolor": "#E5ECF6",
            "gridcolor": "white",
            "gridwidth": 2,
            "linecolor": "white",
            "showbackground": true,
            "ticks": "",
            "zerolinecolor": "white"
           },
           "zaxis": {
            "backgroundcolor": "#E5ECF6",
            "gridcolor": "white",
            "gridwidth": 2,
            "linecolor": "white",
            "showbackground": true,
            "ticks": "",
            "zerolinecolor": "white"
           }
          },
          "shapedefaults": {
           "line": {
            "color": "#2a3f5f"
           }
          },
          "ternary": {
           "aaxis": {
            "gridcolor": "white",
            "linecolor": "white",
            "ticks": ""
           },
           "baxis": {
            "gridcolor": "white",
            "linecolor": "white",
            "ticks": ""
           },
           "bgcolor": "#E5ECF6",
           "caxis": {
            "gridcolor": "white",
            "linecolor": "white",
            "ticks": ""
           }
          },
          "title": {
           "x": 0.05
          },
          "xaxis": {
           "automargin": true,
           "gridcolor": "white",
           "linecolor": "white",
           "ticks": "",
           "title": {
            "standoff": 15
           },
           "zerolinecolor": "white",
           "zerolinewidth": 2
          },
          "yaxis": {
           "automargin": true,
           "gridcolor": "white",
           "linecolor": "white",
           "ticks": "",
           "title": {
            "standoff": 15
           },
           "zerolinecolor": "white",
           "zerolinewidth": 2
          }
         }
        },
        "title": {
         "font": {
          "color": "#4D5663"
         },
         "text": "Government Revenue vs Expenditure"
        },
        "xaxis": {
         "gridcolor": "#E1E5ED",
         "showgrid": true,
         "tickfont": {
          "color": "#4D5663"
         },
         "title": {
          "font": {
           "color": "#4D5663"
          },
          "text": "Years"
         },
         "zerolinecolor": "#E1E5ED"
        },
        "yaxis": {
         "gridcolor": "#E1E5ED",
         "showgrid": true,
         "tickfont": {
          "color": "#4D5663"
         },
         "title": {
          "font": {
           "color": "#4D5663"
          },
          "text": "Amount in millions"
         },
         "zerolinecolor": "#E1E5ED"
        }
       }
      },
      "text/html": [
       "<div>                            <div id=\"0d66cfad-0fda-404e-a7a7-0ac872048b9c\" class=\"plotly-graph-div\" style=\"height:525px; width:100%;\"></div>            <script type=\"text/javascript\">                require([\"plotly\"], function(Plotly) {                    window.PLOTLYENV=window.PLOTLYENV || {};\n",
       "                    window.PLOTLYENV.BASE_URL='https://plot.ly';                                    if (document.getElementById(\"0d66cfad-0fda-404e-a7a7-0ac872048b9c\")) {                    Plotly.newPlot(                        \"0d66cfad-0fda-404e-a7a7-0ac872048b9c\",                        [{\"line\":{\"color\":\"rgba(255, 153, 51, 1.0)\",\"dash\":\"solid\",\"shape\":\"linear\",\"width\":1.3},\"mode\":\"lines\",\"name\":\"Revenue\",\"text\":\"\",\"x\":[1997,1998,1999,2000,2001,2002,2003,2004,2005,2006,2007,2008,2009,2010,2011,2012,2013,2014,2015,2016,2017,2018,2019,2020,2021],\"y\":[29181,27911,30647,31439,28494,25471,25315,27469,28171,31289,40373,41087,39547,46061,51076,55814,57021,60839,64823,68964,75817,73738,74274,64608,76636],\"type\":\"scatter\"},{\"line\":{\"color\":\"rgba(55, 128, 191, 1.0)\",\"dash\":\"solid\",\"shape\":\"linear\",\"width\":1.3},\"mode\":\"lines\",\"name\":\"Expenditure\",\"text\":\"\",\"x\":[1997,1998,1999,2000,2001,2002,2003,2004,2005,2006,2007,2008,2009,2010,2011,2012,2013,2014,2015,2016,2017,2018,2019,2020,2021],\"y\":[23040,26934,25079,27909,27306,27150,28499,28956,28634,29905,32980,38092,41889,45339,46563,49004,51727,56652,67446,71045,73554,77825,75341,94056,102339],\"type\":\"scatter\"}],                        {\"legend\":{\"bgcolor\":\"#F5F6F9\",\"font\":{\"color\":\"#4D5663\"}},\"paper_bgcolor\":\"#F5F6F9\",\"plot_bgcolor\":\"#F5F6F9\",\"template\":{\"data\":{\"barpolar\":[{\"marker\":{\"line\":{\"color\":\"#E5ECF6\",\"width\":0.5},\"pattern\":{\"fillmode\":\"overlay\",\"size\":10,\"solidity\":0.2}},\"type\":\"barpolar\"}],\"bar\":[{\"error_x\":{\"color\":\"#2a3f5f\"},\"error_y\":{\"color\":\"#2a3f5f\"},\"marker\":{\"line\":{\"color\":\"#E5ECF6\",\"width\":0.5},\"pattern\":{\"fillmode\":\"overlay\",\"size\":10,\"solidity\":0.2}},\"type\":\"bar\"}],\"carpet\":[{\"aaxis\":{\"endlinecolor\":\"#2a3f5f\",\"gridcolor\":\"white\",\"linecolor\":\"white\",\"minorgridcolor\":\"white\",\"startlinecolor\":\"#2a3f5f\"},\"baxis\":{\"endlinecolor\":\"#2a3f5f\",\"gridcolor\":\"white\",\"linecolor\":\"white\",\"minorgridcolor\":\"white\",\"startlinecolor\":\"#2a3f5f\"},\"type\":\"carpet\"}],\"choropleth\":[{\"colorbar\":{\"outlinewidth\":0,\"ticks\":\"\"},\"type\":\"choropleth\"}],\"contourcarpet\":[{\"colorbar\":{\"outlinewidth\":0,\"ticks\":\"\"},\"type\":\"contourcarpet\"}],\"contour\":[{\"colorbar\":{\"outlinewidth\":0,\"ticks\":\"\"},\"colorscale\":[[0.0,\"#0d0887\"],[0.1111111111111111,\"#46039f\"],[0.2222222222222222,\"#7201a8\"],[0.3333333333333333,\"#9c179e\"],[0.4444444444444444,\"#bd3786\"],[0.5555555555555556,\"#d8576b\"],[0.6666666666666666,\"#ed7953\"],[0.7777777777777778,\"#fb9f3a\"],[0.8888888888888888,\"#fdca26\"],[1.0,\"#f0f921\"]],\"type\":\"contour\"}],\"heatmapgl\":[{\"colorbar\":{\"outlinewidth\":0,\"ticks\":\"\"},\"colorscale\":[[0.0,\"#0d0887\"],[0.1111111111111111,\"#46039f\"],[0.2222222222222222,\"#7201a8\"],[0.3333333333333333,\"#9c179e\"],[0.4444444444444444,\"#bd3786\"],[0.5555555555555556,\"#d8576b\"],[0.6666666666666666,\"#ed7953\"],[0.7777777777777778,\"#fb9f3a\"],[0.8888888888888888,\"#fdca26\"],[1.0,\"#f0f921\"]],\"type\":\"heatmapgl\"}],\"heatmap\":[{\"colorbar\":{\"outlinewidth\":0,\"ticks\":\"\"},\"colorscale\":[[0.0,\"#0d0887\"],[0.1111111111111111,\"#46039f\"],[0.2222222222222222,\"#7201a8\"],[0.3333333333333333,\"#9c179e\"],[0.4444444444444444,\"#bd3786\"],[0.5555555555555556,\"#d8576b\"],[0.6666666666666666,\"#ed7953\"],[0.7777777777777778,\"#fb9f3a\"],[0.8888888888888888,\"#fdca26\"],[1.0,\"#f0f921\"]],\"type\":\"heatmap\"}],\"histogram2dcontour\":[{\"colorbar\":{\"outlinewidth\":0,\"ticks\":\"\"},\"colorscale\":[[0.0,\"#0d0887\"],[0.1111111111111111,\"#46039f\"],[0.2222222222222222,\"#7201a8\"],[0.3333333333333333,\"#9c179e\"],[0.4444444444444444,\"#bd3786\"],[0.5555555555555556,\"#d8576b\"],[0.6666666666666666,\"#ed7953\"],[0.7777777777777778,\"#fb9f3a\"],[0.8888888888888888,\"#fdca26\"],[1.0,\"#f0f921\"]],\"type\":\"histogram2dcontour\"}],\"histogram2d\":[{\"colorbar\":{\"outlinewidth\":0,\"ticks\":\"\"},\"colorscale\":[[0.0,\"#0d0887\"],[0.1111111111111111,\"#46039f\"],[0.2222222222222222,\"#7201a8\"],[0.3333333333333333,\"#9c179e\"],[0.4444444444444444,\"#bd3786\"],[0.5555555555555556,\"#d8576b\"],[0.6666666666666666,\"#ed7953\"],[0.7777777777777778,\"#fb9f3a\"],[0.8888888888888888,\"#fdca26\"],[1.0,\"#f0f921\"]],\"type\":\"histogram2d\"}],\"histogram\":[{\"marker\":{\"pattern\":{\"fillmode\":\"overlay\",\"size\":10,\"solidity\":0.2}},\"type\":\"histogram\"}],\"mesh3d\":[{\"colorbar\":{\"outlinewidth\":0,\"ticks\":\"\"},\"type\":\"mesh3d\"}],\"parcoords\":[{\"line\":{\"colorbar\":{\"outlinewidth\":0,\"ticks\":\"\"}},\"type\":\"parcoords\"}],\"pie\":[{\"automargin\":true,\"type\":\"pie\"}],\"scatter3d\":[{\"line\":{\"colorbar\":{\"outlinewidth\":0,\"ticks\":\"\"}},\"marker\":{\"colorbar\":{\"outlinewidth\":0,\"ticks\":\"\"}},\"type\":\"scatter3d\"}],\"scattercarpet\":[{\"marker\":{\"colorbar\":{\"outlinewidth\":0,\"ticks\":\"\"}},\"type\":\"scattercarpet\"}],\"scattergeo\":[{\"marker\":{\"colorbar\":{\"outlinewidth\":0,\"ticks\":\"\"}},\"type\":\"scattergeo\"}],\"scattergl\":[{\"marker\":{\"colorbar\":{\"outlinewidth\":0,\"ticks\":\"\"}},\"type\":\"scattergl\"}],\"scattermapbox\":[{\"marker\":{\"colorbar\":{\"outlinewidth\":0,\"ticks\":\"\"}},\"type\":\"scattermapbox\"}],\"scatterpolargl\":[{\"marker\":{\"colorbar\":{\"outlinewidth\":0,\"ticks\":\"\"}},\"type\":\"scatterpolargl\"}],\"scatterpolar\":[{\"marker\":{\"colorbar\":{\"outlinewidth\":0,\"ticks\":\"\"}},\"type\":\"scatterpolar\"}],\"scatter\":[{\"fillpattern\":{\"fillmode\":\"overlay\",\"size\":10,\"solidity\":0.2},\"type\":\"scatter\"}],\"scatterternary\":[{\"marker\":{\"colorbar\":{\"outlinewidth\":0,\"ticks\":\"\"}},\"type\":\"scatterternary\"}],\"surface\":[{\"colorbar\":{\"outlinewidth\":0,\"ticks\":\"\"},\"colorscale\":[[0.0,\"#0d0887\"],[0.1111111111111111,\"#46039f\"],[0.2222222222222222,\"#7201a8\"],[0.3333333333333333,\"#9c179e\"],[0.4444444444444444,\"#bd3786\"],[0.5555555555555556,\"#d8576b\"],[0.6666666666666666,\"#ed7953\"],[0.7777777777777778,\"#fb9f3a\"],[0.8888888888888888,\"#fdca26\"],[1.0,\"#f0f921\"]],\"type\":\"surface\"}],\"table\":[{\"cells\":{\"fill\":{\"color\":\"#EBF0F8\"},\"line\":{\"color\":\"white\"}},\"header\":{\"fill\":{\"color\":\"#C8D4E3\"},\"line\":{\"color\":\"white\"}},\"type\":\"table\"}]},\"layout\":{\"annotationdefaults\":{\"arrowcolor\":\"#2a3f5f\",\"arrowhead\":0,\"arrowwidth\":1},\"autotypenumbers\":\"strict\",\"coloraxis\":{\"colorbar\":{\"outlinewidth\":0,\"ticks\":\"\"}},\"colorscale\":{\"diverging\":[[0,\"#8e0152\"],[0.1,\"#c51b7d\"],[0.2,\"#de77ae\"],[0.3,\"#f1b6da\"],[0.4,\"#fde0ef\"],[0.5,\"#f7f7f7\"],[0.6,\"#e6f5d0\"],[0.7,\"#b8e186\"],[0.8,\"#7fbc41\"],[0.9,\"#4d9221\"],[1,\"#276419\"]],\"sequential\":[[0.0,\"#0d0887\"],[0.1111111111111111,\"#46039f\"],[0.2222222222222222,\"#7201a8\"],[0.3333333333333333,\"#9c179e\"],[0.4444444444444444,\"#bd3786\"],[0.5555555555555556,\"#d8576b\"],[0.6666666666666666,\"#ed7953\"],[0.7777777777777778,\"#fb9f3a\"],[0.8888888888888888,\"#fdca26\"],[1.0,\"#f0f921\"]],\"sequentialminus\":[[0.0,\"#0d0887\"],[0.1111111111111111,\"#46039f\"],[0.2222222222222222,\"#7201a8\"],[0.3333333333333333,\"#9c179e\"],[0.4444444444444444,\"#bd3786\"],[0.5555555555555556,\"#d8576b\"],[0.6666666666666666,\"#ed7953\"],[0.7777777777777778,\"#fb9f3a\"],[0.8888888888888888,\"#fdca26\"],[1.0,\"#f0f921\"]]},\"colorway\":[\"#636efa\",\"#EF553B\",\"#00cc96\",\"#ab63fa\",\"#FFA15A\",\"#19d3f3\",\"#FF6692\",\"#B6E880\",\"#FF97FF\",\"#FECB52\"],\"font\":{\"color\":\"#2a3f5f\"},\"geo\":{\"bgcolor\":\"white\",\"lakecolor\":\"white\",\"landcolor\":\"#E5ECF6\",\"showlakes\":true,\"showland\":true,\"subunitcolor\":\"white\"},\"hoverlabel\":{\"align\":\"left\"},\"hovermode\":\"closest\",\"mapbox\":{\"style\":\"light\"},\"paper_bgcolor\":\"white\",\"plot_bgcolor\":\"#E5ECF6\",\"polar\":{\"angularaxis\":{\"gridcolor\":\"white\",\"linecolor\":\"white\",\"ticks\":\"\"},\"bgcolor\":\"#E5ECF6\",\"radialaxis\":{\"gridcolor\":\"white\",\"linecolor\":\"white\",\"ticks\":\"\"}},\"scene\":{\"xaxis\":{\"backgroundcolor\":\"#E5ECF6\",\"gridcolor\":\"white\",\"gridwidth\":2,\"linecolor\":\"white\",\"showbackground\":true,\"ticks\":\"\",\"zerolinecolor\":\"white\"},\"yaxis\":{\"backgroundcolor\":\"#E5ECF6\",\"gridcolor\":\"white\",\"gridwidth\":2,\"linecolor\":\"white\",\"showbackground\":true,\"ticks\":\"\",\"zerolinecolor\":\"white\"},\"zaxis\":{\"backgroundcolor\":\"#E5ECF6\",\"gridcolor\":\"white\",\"gridwidth\":2,\"linecolor\":\"white\",\"showbackground\":true,\"ticks\":\"\",\"zerolinecolor\":\"white\"}},\"shapedefaults\":{\"line\":{\"color\":\"#2a3f5f\"}},\"ternary\":{\"aaxis\":{\"gridcolor\":\"white\",\"linecolor\":\"white\",\"ticks\":\"\"},\"baxis\":{\"gridcolor\":\"white\",\"linecolor\":\"white\",\"ticks\":\"\"},\"bgcolor\":\"#E5ECF6\",\"caxis\":{\"gridcolor\":\"white\",\"linecolor\":\"white\",\"ticks\":\"\"}},\"title\":{\"x\":0.05},\"xaxis\":{\"automargin\":true,\"gridcolor\":\"white\",\"linecolor\":\"white\",\"ticks\":\"\",\"title\":{\"standoff\":15},\"zerolinecolor\":\"white\",\"zerolinewidth\":2},\"yaxis\":{\"automargin\":true,\"gridcolor\":\"white\",\"linecolor\":\"white\",\"ticks\":\"\",\"title\":{\"standoff\":15},\"zerolinecolor\":\"white\",\"zerolinewidth\":2}}},\"title\":{\"font\":{\"color\":\"#4D5663\"},\"text\":\"Government Revenue vs Expenditure\"},\"xaxis\":{\"gridcolor\":\"#E1E5ED\",\"showgrid\":true,\"tickfont\":{\"color\":\"#4D5663\"},\"title\":{\"font\":{\"color\":\"#4D5663\"},\"text\":\"Years\"},\"zerolinecolor\":\"#E1E5ED\"},\"yaxis\":{\"gridcolor\":\"#E1E5ED\",\"showgrid\":true,\"tickfont\":{\"color\":\"#4D5663\"},\"title\":{\"font\":{\"color\":\"#4D5663\"},\"text\":\"Amount in millions\"},\"zerolinecolor\":\"#E1E5ED\"}},                        {\"showLink\": true, \"linkText\": \"Export to plot.ly\", \"plotlyServerURL\": \"https://plot.ly\", \"responsive\": true}                    ).then(function(){\n",
       "                            \n",
       "var gd = document.getElementById('0d66cfad-0fda-404e-a7a7-0ac872048b9c');\n",
       "var x = new MutationObserver(function (mutations, observer) {{\n",
       "        var display = window.getComputedStyle(gd).display;\n",
       "        if (!display || display === 'none') {{\n",
       "            console.log([gd, 'removed!']);\n",
       "            Plotly.purge(gd);\n",
       "            observer.disconnect();\n",
       "        }}\n",
       "}});\n",
       "\n",
       "// Listen for the removal of the full notebook cells\n",
       "var notebookContainer = gd.closest('#notebook-container');\n",
       "if (notebookContainer) {{\n",
       "    x.observe(notebookContainer, {childList: true});\n",
       "}}\n",
       "\n",
       "// Listen for the clearing of the current output cell\n",
       "var outputEl = gd.closest('.output');\n",
       "if (outputEl) {{\n",
       "    x.observe(outputEl, {childList: true});\n",
       "}}\n",
       "\n",
       "                        })                };                });            </script>        </div>"
      ]
     },
     "metadata": {},
     "output_type": "display_data"
    },
    {
     "data": {
      "text/markdown": [
       "<u>**My thoughts, comments and analysis on the above chart:**</u>"
      ],
      "text/plain": [
       "<IPython.core.display.Markdown object>"
      ]
     },
     "metadata": {},
     "output_type": "display_data"
    },
    {
     "data": {
      "text/markdown": [
       "The above chart shows us the general trends for both government revenue and expenditure which details a generally increasing trend. As a business student, I can't help but be surprised that government spending did not fluctutate near the periods of financial crisis in 1997 and 2008. Surprisingly enough it is only in 2020 the COVID period that we can see that government spending shot up way above revenue indicating that the government was spending more than their budget entailed. This of course was to support the economy during the pandemic."
      ],
      "text/plain": [
       "<IPython.core.display.Markdown object>"
      ]
     },
     "metadata": {},
     "output_type": "display_data"
    },
    {
     "name": "stdout",
     "output_type": "stream",
     "text": [
      "\n"
     ]
    },
    {
     "data": {
      "application/vnd.plotly.v1+json": {
       "config": {
        "linkText": "Export to plot.ly",
        "plotlyServerURL": "https://plot.ly",
        "showLink": true
       },
       "data": [
        {
         "line": {
          "color": "rgba(255, 153, 51, 1.0)",
          "dash": "solid",
          "shape": "linear",
          "width": 1.3
         },
         "mode": "lines",
         "name": "index",
         "text": "",
         "type": "scatter",
         "x": [
          "1990-Q1",
          "1990-Q2",
          "1990-Q3",
          "1990-Q4",
          "1991-Q1",
          "1991-Q2",
          "1991-Q3",
          "1991-Q4",
          "1992-Q1",
          "1992-Q2",
          "1992-Q3",
          "1992-Q4",
          "1993-Q1",
          "1993-Q2",
          "1993-Q3",
          "1993-Q4",
          "1994-Q1",
          "1994-Q2",
          "1994-Q3",
          "1994-Q4",
          "1995-Q1",
          "1995-Q2",
          "1995-Q3",
          "1995-Q4",
          "1996-Q1",
          "1996-Q2",
          "1996-Q3",
          "1996-Q4",
          "1997-Q1",
          "1997-Q2",
          "1997-Q3",
          "1997-Q4",
          "1998-Q1",
          "1998-Q2",
          "1998-Q3",
          "1998-Q4",
          "1999-Q1",
          "1999-Q2",
          "1999-Q3",
          "1999-Q4",
          "2000-Q1",
          "2000-Q2",
          "2000-Q3",
          "2000-Q4",
          "2001-Q1",
          "2001-Q2",
          "2001-Q3",
          "2001-Q4",
          "2002-Q1",
          "2002-Q2",
          "2002-Q3",
          "2002-Q4",
          "2003-Q1",
          "2003-Q2",
          "2003-Q3",
          "2003-Q4",
          "2004-Q1",
          "2004-Q2",
          "2004-Q3",
          "2004-Q4",
          "2005-Q1",
          "2005-Q2",
          "2005-Q3",
          "2005-Q4",
          "2006-Q1",
          "2006-Q2",
          "2006-Q3",
          "2006-Q4",
          "2007-Q1",
          "2007-Q2",
          "2007-Q3",
          "2007-Q4",
          "2008-Q1",
          "2008-Q2",
          "2008-Q3",
          "2008-Q4",
          "2009-Q1",
          "2009-Q2",
          "2009-Q3",
          "2009-Q4",
          "2010-Q1",
          "2010-Q2",
          "2010-Q3",
          "2010-Q4",
          "2011-Q1",
          "2011-Q2",
          "2011-Q3",
          "2011-Q4",
          "2012-Q1",
          "2012-Q2",
          "2012-Q3",
          "2012-Q4",
          "2013-Q1",
          "2013-Q2",
          "2013-Q3",
          "2013-Q4",
          "2014-Q1",
          "2014-Q2",
          "2014-Q3",
          "2014-Q4",
          "2015-Q1",
          "2015-Q2",
          "2015-Q3",
          "2015-Q4",
          "2016-Q1",
          "2016-Q2",
          "2016-Q3",
          "2016-Q4",
          "2017-Q1",
          "2017-Q2",
          "2017-Q3",
          "2017-Q4",
          "2018-Q1",
          "2018-Q2",
          "2018-Q3",
          "2018-Q4",
          "2019-Q1",
          "2019-Q2",
          "2019-Q3",
          "2019-Q4",
          "2020-Q1",
          "2020-Q2",
          "2020-Q3",
          "2020-Q4",
          "2021-Q1",
          "2021-Q2",
          "2021-Q3",
          "2021-Q4",
          "2022-Q1",
          "2022-Q2",
          "2022-Q3"
         ],
         "y": [
          24.3,
          24.4,
          25,
          24.7,
          24.9,
          25.5,
          25.2,
          25.1,
          25.8,
          27.4,
          28,
          28.6,
          30.2,
          39.6,
          47.7,
          49,
          50.4,
          51.7,
          54.6,
          54.8,
          57.3,
          63.9,
          67.7,
          73.7,
          80.5,
          90.9,
          96.4,
          99,
          98.6,
          97.5,
          93.6,
          88,
          81.7,
          78.3,
          74.9,
          72.3,
          71.2,
          72.2,
          78.1,
          79.8,
          80.3,
          79.3,
          77.6,
          75.8,
          73.2,
          72.1,
          70.6,
          69.6,
          69.1,
          69.2,
          69.9,
          69.9,
          71,
          72.5,
          74.3,
          75.1,
          75.3,
          76.2,
          76.3,
          77.1,
          77.2,
          73.5,
          73.2,
          73.5,
          73.6,
          74.3,
          74.2,
          74.9,
          75.8,
          78.1,
          83.2,
          88,
          91.3,
          95.4,
          99.4,
          100.8,
          100,
          101.4,
          105,
          109,
          112.1,
          116.6,
          121.3,
          124.4,
          126.4,
          130.4,
          135.4,
          137.7,
          138.5,
          140.3,
          143.1,
          146.7,
          148.6,
          149.4,
          148.1,
          145.8,
          143.5,
          141.5,
          139.1,
          137,
          135.6,
          135,
          134.6,
          134.8,
          134.7,
          134.7,
          134.7,
          134.6,
          133.9,
          133.7,
          132.8,
          132.6,
          131.6,
          131.7,
          131.6,
          131.4,
          131,
          130.8,
          130.9,
          131.5,
          131.5,
          131.9,
          133.9,
          138.1,
          142.2,
          146.4,
          150.6,
          155.7,
          159.5,
          163.9,
          168.1
         ]
        }
       ],
       "layout": {
        "legend": {
         "bgcolor": "#F5F6F9",
         "font": {
          "color": "#4D5663"
         }
        },
        "paper_bgcolor": "#F5F6F9",
        "plot_bgcolor": "#F5F6F9",
        "template": {
         "data": {
          "bar": [
           {
            "error_x": {
             "color": "#2a3f5f"
            },
            "error_y": {
             "color": "#2a3f5f"
            },
            "marker": {
             "line": {
              "color": "#E5ECF6",
              "width": 0.5
             },
             "pattern": {
              "fillmode": "overlay",
              "size": 10,
              "solidity": 0.2
             }
            },
            "type": "bar"
           }
          ],
          "barpolar": [
           {
            "marker": {
             "line": {
              "color": "#E5ECF6",
              "width": 0.5
             },
             "pattern": {
              "fillmode": "overlay",
              "size": 10,
              "solidity": 0.2
             }
            },
            "type": "barpolar"
           }
          ],
          "carpet": [
           {
            "aaxis": {
             "endlinecolor": "#2a3f5f",
             "gridcolor": "white",
             "linecolor": "white",
             "minorgridcolor": "white",
             "startlinecolor": "#2a3f5f"
            },
            "baxis": {
             "endlinecolor": "#2a3f5f",
             "gridcolor": "white",
             "linecolor": "white",
             "minorgridcolor": "white",
             "startlinecolor": "#2a3f5f"
            },
            "type": "carpet"
           }
          ],
          "choropleth": [
           {
            "colorbar": {
             "outlinewidth": 0,
             "ticks": ""
            },
            "type": "choropleth"
           }
          ],
          "contour": [
           {
            "colorbar": {
             "outlinewidth": 0,
             "ticks": ""
            },
            "colorscale": [
             [
              0,
              "#0d0887"
             ],
             [
              0.1111111111111111,
              "#46039f"
             ],
             [
              0.2222222222222222,
              "#7201a8"
             ],
             [
              0.3333333333333333,
              "#9c179e"
             ],
             [
              0.4444444444444444,
              "#bd3786"
             ],
             [
              0.5555555555555556,
              "#d8576b"
             ],
             [
              0.6666666666666666,
              "#ed7953"
             ],
             [
              0.7777777777777778,
              "#fb9f3a"
             ],
             [
              0.8888888888888888,
              "#fdca26"
             ],
             [
              1,
              "#f0f921"
             ]
            ],
            "type": "contour"
           }
          ],
          "contourcarpet": [
           {
            "colorbar": {
             "outlinewidth": 0,
             "ticks": ""
            },
            "type": "contourcarpet"
           }
          ],
          "heatmap": [
           {
            "colorbar": {
             "outlinewidth": 0,
             "ticks": ""
            },
            "colorscale": [
             [
              0,
              "#0d0887"
             ],
             [
              0.1111111111111111,
              "#46039f"
             ],
             [
              0.2222222222222222,
              "#7201a8"
             ],
             [
              0.3333333333333333,
              "#9c179e"
             ],
             [
              0.4444444444444444,
              "#bd3786"
             ],
             [
              0.5555555555555556,
              "#d8576b"
             ],
             [
              0.6666666666666666,
              "#ed7953"
             ],
             [
              0.7777777777777778,
              "#fb9f3a"
             ],
             [
              0.8888888888888888,
              "#fdca26"
             ],
             [
              1,
              "#f0f921"
             ]
            ],
            "type": "heatmap"
           }
          ],
          "heatmapgl": [
           {
            "colorbar": {
             "outlinewidth": 0,
             "ticks": ""
            },
            "colorscale": [
             [
              0,
              "#0d0887"
             ],
             [
              0.1111111111111111,
              "#46039f"
             ],
             [
              0.2222222222222222,
              "#7201a8"
             ],
             [
              0.3333333333333333,
              "#9c179e"
             ],
             [
              0.4444444444444444,
              "#bd3786"
             ],
             [
              0.5555555555555556,
              "#d8576b"
             ],
             [
              0.6666666666666666,
              "#ed7953"
             ],
             [
              0.7777777777777778,
              "#fb9f3a"
             ],
             [
              0.8888888888888888,
              "#fdca26"
             ],
             [
              1,
              "#f0f921"
             ]
            ],
            "type": "heatmapgl"
           }
          ],
          "histogram": [
           {
            "marker": {
             "pattern": {
              "fillmode": "overlay",
              "size": 10,
              "solidity": 0.2
             }
            },
            "type": "histogram"
           }
          ],
          "histogram2d": [
           {
            "colorbar": {
             "outlinewidth": 0,
             "ticks": ""
            },
            "colorscale": [
             [
              0,
              "#0d0887"
             ],
             [
              0.1111111111111111,
              "#46039f"
             ],
             [
              0.2222222222222222,
              "#7201a8"
             ],
             [
              0.3333333333333333,
              "#9c179e"
             ],
             [
              0.4444444444444444,
              "#bd3786"
             ],
             [
              0.5555555555555556,
              "#d8576b"
             ],
             [
              0.6666666666666666,
              "#ed7953"
             ],
             [
              0.7777777777777778,
              "#fb9f3a"
             ],
             [
              0.8888888888888888,
              "#fdca26"
             ],
             [
              1,
              "#f0f921"
             ]
            ],
            "type": "histogram2d"
           }
          ],
          "histogram2dcontour": [
           {
            "colorbar": {
             "outlinewidth": 0,
             "ticks": ""
            },
            "colorscale": [
             [
              0,
              "#0d0887"
             ],
             [
              0.1111111111111111,
              "#46039f"
             ],
             [
              0.2222222222222222,
              "#7201a8"
             ],
             [
              0.3333333333333333,
              "#9c179e"
             ],
             [
              0.4444444444444444,
              "#bd3786"
             ],
             [
              0.5555555555555556,
              "#d8576b"
             ],
             [
              0.6666666666666666,
              "#ed7953"
             ],
             [
              0.7777777777777778,
              "#fb9f3a"
             ],
             [
              0.8888888888888888,
              "#fdca26"
             ],
             [
              1,
              "#f0f921"
             ]
            ],
            "type": "histogram2dcontour"
           }
          ],
          "mesh3d": [
           {
            "colorbar": {
             "outlinewidth": 0,
             "ticks": ""
            },
            "type": "mesh3d"
           }
          ],
          "parcoords": [
           {
            "line": {
             "colorbar": {
              "outlinewidth": 0,
              "ticks": ""
             }
            },
            "type": "parcoords"
           }
          ],
          "pie": [
           {
            "automargin": true,
            "type": "pie"
           }
          ],
          "scatter": [
           {
            "fillpattern": {
             "fillmode": "overlay",
             "size": 10,
             "solidity": 0.2
            },
            "type": "scatter"
           }
          ],
          "scatter3d": [
           {
            "line": {
             "colorbar": {
              "outlinewidth": 0,
              "ticks": ""
             }
            },
            "marker": {
             "colorbar": {
              "outlinewidth": 0,
              "ticks": ""
             }
            },
            "type": "scatter3d"
           }
          ],
          "scattercarpet": [
           {
            "marker": {
             "colorbar": {
              "outlinewidth": 0,
              "ticks": ""
             }
            },
            "type": "scattercarpet"
           }
          ],
          "scattergeo": [
           {
            "marker": {
             "colorbar": {
              "outlinewidth": 0,
              "ticks": ""
             }
            },
            "type": "scattergeo"
           }
          ],
          "scattergl": [
           {
            "marker": {
             "colorbar": {
              "outlinewidth": 0,
              "ticks": ""
             }
            },
            "type": "scattergl"
           }
          ],
          "scattermapbox": [
           {
            "marker": {
             "colorbar": {
              "outlinewidth": 0,
              "ticks": ""
             }
            },
            "type": "scattermapbox"
           }
          ],
          "scatterpolar": [
           {
            "marker": {
             "colorbar": {
              "outlinewidth": 0,
              "ticks": ""
             }
            },
            "type": "scatterpolar"
           }
          ],
          "scatterpolargl": [
           {
            "marker": {
             "colorbar": {
              "outlinewidth": 0,
              "ticks": ""
             }
            },
            "type": "scatterpolargl"
           }
          ],
          "scatterternary": [
           {
            "marker": {
             "colorbar": {
              "outlinewidth": 0,
              "ticks": ""
             }
            },
            "type": "scatterternary"
           }
          ],
          "surface": [
           {
            "colorbar": {
             "outlinewidth": 0,
             "ticks": ""
            },
            "colorscale": [
             [
              0,
              "#0d0887"
             ],
             [
              0.1111111111111111,
              "#46039f"
             ],
             [
              0.2222222222222222,
              "#7201a8"
             ],
             [
              0.3333333333333333,
              "#9c179e"
             ],
             [
              0.4444444444444444,
              "#bd3786"
             ],
             [
              0.5555555555555556,
              "#d8576b"
             ],
             [
              0.6666666666666666,
              "#ed7953"
             ],
             [
              0.7777777777777778,
              "#fb9f3a"
             ],
             [
              0.8888888888888888,
              "#fdca26"
             ],
             [
              1,
              "#f0f921"
             ]
            ],
            "type": "surface"
           }
          ],
          "table": [
           {
            "cells": {
             "fill": {
              "color": "#EBF0F8"
             },
             "line": {
              "color": "white"
             }
            },
            "header": {
             "fill": {
              "color": "#C8D4E3"
             },
             "line": {
              "color": "white"
             }
            },
            "type": "table"
           }
          ]
         },
         "layout": {
          "annotationdefaults": {
           "arrowcolor": "#2a3f5f",
           "arrowhead": 0,
           "arrowwidth": 1
          },
          "autotypenumbers": "strict",
          "coloraxis": {
           "colorbar": {
            "outlinewidth": 0,
            "ticks": ""
           }
          },
          "colorscale": {
           "diverging": [
            [
             0,
             "#8e0152"
            ],
            [
             0.1,
             "#c51b7d"
            ],
            [
             0.2,
             "#de77ae"
            ],
            [
             0.3,
             "#f1b6da"
            ],
            [
             0.4,
             "#fde0ef"
            ],
            [
             0.5,
             "#f7f7f7"
            ],
            [
             0.6,
             "#e6f5d0"
            ],
            [
             0.7,
             "#b8e186"
            ],
            [
             0.8,
             "#7fbc41"
            ],
            [
             0.9,
             "#4d9221"
            ],
            [
             1,
             "#276419"
            ]
           ],
           "sequential": [
            [
             0,
             "#0d0887"
            ],
            [
             0.1111111111111111,
             "#46039f"
            ],
            [
             0.2222222222222222,
             "#7201a8"
            ],
            [
             0.3333333333333333,
             "#9c179e"
            ],
            [
             0.4444444444444444,
             "#bd3786"
            ],
            [
             0.5555555555555556,
             "#d8576b"
            ],
            [
             0.6666666666666666,
             "#ed7953"
            ],
            [
             0.7777777777777778,
             "#fb9f3a"
            ],
            [
             0.8888888888888888,
             "#fdca26"
            ],
            [
             1,
             "#f0f921"
            ]
           ],
           "sequentialminus": [
            [
             0,
             "#0d0887"
            ],
            [
             0.1111111111111111,
             "#46039f"
            ],
            [
             0.2222222222222222,
             "#7201a8"
            ],
            [
             0.3333333333333333,
             "#9c179e"
            ],
            [
             0.4444444444444444,
             "#bd3786"
            ],
            [
             0.5555555555555556,
             "#d8576b"
            ],
            [
             0.6666666666666666,
             "#ed7953"
            ],
            [
             0.7777777777777778,
             "#fb9f3a"
            ],
            [
             0.8888888888888888,
             "#fdca26"
            ],
            [
             1,
             "#f0f921"
            ]
           ]
          },
          "colorway": [
           "#636efa",
           "#EF553B",
           "#00cc96",
           "#ab63fa",
           "#FFA15A",
           "#19d3f3",
           "#FF6692",
           "#B6E880",
           "#FF97FF",
           "#FECB52"
          ],
          "font": {
           "color": "#2a3f5f"
          },
          "geo": {
           "bgcolor": "white",
           "lakecolor": "white",
           "landcolor": "#E5ECF6",
           "showlakes": true,
           "showland": true,
           "subunitcolor": "white"
          },
          "hoverlabel": {
           "align": "left"
          },
          "hovermode": "closest",
          "mapbox": {
           "style": "light"
          },
          "paper_bgcolor": "white",
          "plot_bgcolor": "#E5ECF6",
          "polar": {
           "angularaxis": {
            "gridcolor": "white",
            "linecolor": "white",
            "ticks": ""
           },
           "bgcolor": "#E5ECF6",
           "radialaxis": {
            "gridcolor": "white",
            "linecolor": "white",
            "ticks": ""
           }
          },
          "scene": {
           "xaxis": {
            "backgroundcolor": "#E5ECF6",
            "gridcolor": "white",
            "gridwidth": 2,
            "linecolor": "white",
            "showbackground": true,
            "ticks": "",
            "zerolinecolor": "white"
           },
           "yaxis": {
            "backgroundcolor": "#E5ECF6",
            "gridcolor": "white",
            "gridwidth": 2,
            "linecolor": "white",
            "showbackground": true,
            "ticks": "",
            "zerolinecolor": "white"
           },
           "zaxis": {
            "backgroundcolor": "#E5ECF6",
            "gridcolor": "white",
            "gridwidth": 2,
            "linecolor": "white",
            "showbackground": true,
            "ticks": "",
            "zerolinecolor": "white"
           }
          },
          "shapedefaults": {
           "line": {
            "color": "#2a3f5f"
           }
          },
          "ternary": {
           "aaxis": {
            "gridcolor": "white",
            "linecolor": "white",
            "ticks": ""
           },
           "baxis": {
            "gridcolor": "white",
            "linecolor": "white",
            "ticks": ""
           },
           "bgcolor": "#E5ECF6",
           "caxis": {
            "gridcolor": "white",
            "linecolor": "white",
            "ticks": ""
           }
          },
          "title": {
           "x": 0.05
          },
          "xaxis": {
           "automargin": true,
           "gridcolor": "white",
           "linecolor": "white",
           "ticks": "",
           "title": {
            "standoff": 15
           },
           "zerolinecolor": "white",
           "zerolinewidth": 2
          },
          "yaxis": {
           "automargin": true,
           "gridcolor": "white",
           "linecolor": "white",
           "ticks": "",
           "title": {
            "standoff": 15
           },
           "zerolinecolor": "white",
           "zerolinewidth": 2
          }
         }
        },
        "title": {
         "font": {
          "color": "#4D5663"
         },
         "text": "HDB Index"
        },
        "xaxis": {
         "gridcolor": "#E1E5ED",
         "showgrid": true,
         "tickfont": {
          "color": "#4D5663"
         },
         "title": {
          "font": {
           "color": "#4D5663"
          },
          "text": "Quarters"
         },
         "zerolinecolor": "#E1E5ED"
        },
        "yaxis": {
         "gridcolor": "#E1E5ED",
         "showgrid": true,
         "tickfont": {
          "color": "#4D5663"
         },
         "title": {
          "font": {
           "color": "#4D5663"
          },
          "text": "HDB Index"
         },
         "zerolinecolor": "#E1E5ED"
        }
       }
      },
      "text/html": [
       "<div>                            <div id=\"f69cf326-cbc1-447c-9a85-91b4fd96f272\" class=\"plotly-graph-div\" style=\"height:525px; width:100%;\"></div>            <script type=\"text/javascript\">                require([\"plotly\"], function(Plotly) {                    window.PLOTLYENV=window.PLOTLYENV || {};\n",
       "                    window.PLOTLYENV.BASE_URL='https://plot.ly';                                    if (document.getElementById(\"f69cf326-cbc1-447c-9a85-91b4fd96f272\")) {                    Plotly.newPlot(                        \"f69cf326-cbc1-447c-9a85-91b4fd96f272\",                        [{\"line\":{\"color\":\"rgba(255, 153, 51, 1.0)\",\"dash\":\"solid\",\"shape\":\"linear\",\"width\":1.3},\"mode\":\"lines\",\"name\":\"index\",\"text\":\"\",\"x\":[\"1990-Q1\",\"1990-Q2\",\"1990-Q3\",\"1990-Q4\",\"1991-Q1\",\"1991-Q2\",\"1991-Q3\",\"1991-Q4\",\"1992-Q1\",\"1992-Q2\",\"1992-Q3\",\"1992-Q4\",\"1993-Q1\",\"1993-Q2\",\"1993-Q3\",\"1993-Q4\",\"1994-Q1\",\"1994-Q2\",\"1994-Q3\",\"1994-Q4\",\"1995-Q1\",\"1995-Q2\",\"1995-Q3\",\"1995-Q4\",\"1996-Q1\",\"1996-Q2\",\"1996-Q3\",\"1996-Q4\",\"1997-Q1\",\"1997-Q2\",\"1997-Q3\",\"1997-Q4\",\"1998-Q1\",\"1998-Q2\",\"1998-Q3\",\"1998-Q4\",\"1999-Q1\",\"1999-Q2\",\"1999-Q3\",\"1999-Q4\",\"2000-Q1\",\"2000-Q2\",\"2000-Q3\",\"2000-Q4\",\"2001-Q1\",\"2001-Q2\",\"2001-Q3\",\"2001-Q4\",\"2002-Q1\",\"2002-Q2\",\"2002-Q3\",\"2002-Q4\",\"2003-Q1\",\"2003-Q2\",\"2003-Q3\",\"2003-Q4\",\"2004-Q1\",\"2004-Q2\",\"2004-Q3\",\"2004-Q4\",\"2005-Q1\",\"2005-Q2\",\"2005-Q3\",\"2005-Q4\",\"2006-Q1\",\"2006-Q2\",\"2006-Q3\",\"2006-Q4\",\"2007-Q1\",\"2007-Q2\",\"2007-Q3\",\"2007-Q4\",\"2008-Q1\",\"2008-Q2\",\"2008-Q3\",\"2008-Q4\",\"2009-Q1\",\"2009-Q2\",\"2009-Q3\",\"2009-Q4\",\"2010-Q1\",\"2010-Q2\",\"2010-Q3\",\"2010-Q4\",\"2011-Q1\",\"2011-Q2\",\"2011-Q3\",\"2011-Q4\",\"2012-Q1\",\"2012-Q2\",\"2012-Q3\",\"2012-Q4\",\"2013-Q1\",\"2013-Q2\",\"2013-Q3\",\"2013-Q4\",\"2014-Q1\",\"2014-Q2\",\"2014-Q3\",\"2014-Q4\",\"2015-Q1\",\"2015-Q2\",\"2015-Q3\",\"2015-Q4\",\"2016-Q1\",\"2016-Q2\",\"2016-Q3\",\"2016-Q4\",\"2017-Q1\",\"2017-Q2\",\"2017-Q3\",\"2017-Q4\",\"2018-Q1\",\"2018-Q2\",\"2018-Q3\",\"2018-Q4\",\"2019-Q1\",\"2019-Q2\",\"2019-Q3\",\"2019-Q4\",\"2020-Q1\",\"2020-Q2\",\"2020-Q3\",\"2020-Q4\",\"2021-Q1\",\"2021-Q2\",\"2021-Q3\",\"2021-Q4\",\"2022-Q1\",\"2022-Q2\",\"2022-Q3\"],\"y\":[24.3,24.4,25.0,24.7,24.9,25.5,25.2,25.1,25.8,27.4,28.0,28.6,30.2,39.6,47.7,49.0,50.4,51.7,54.6,54.8,57.3,63.9,67.7,73.7,80.5,90.9,96.4,99.0,98.6,97.5,93.6,88.0,81.7,78.3,74.9,72.3,71.2,72.2,78.1,79.8,80.3,79.3,77.6,75.8,73.2,72.1,70.6,69.6,69.1,69.2,69.9,69.9,71.0,72.5,74.3,75.1,75.3,76.2,76.3,77.1,77.2,73.5,73.2,73.5,73.6,74.3,74.2,74.9,75.8,78.1,83.2,88.0,91.3,95.4,99.4,100.8,100.0,101.4,105.0,109.0,112.1,116.6,121.3,124.4,126.4,130.4,135.4,137.7,138.5,140.3,143.1,146.7,148.6,149.4,148.1,145.8,143.5,141.5,139.1,137.0,135.6,135.0,134.6,134.8,134.7,134.7,134.7,134.6,133.9,133.7,132.8,132.6,131.6,131.7,131.6,131.4,131.0,130.8,130.9,131.5,131.5,131.9,133.9,138.1,142.2,146.4,150.6,155.7,159.5,163.9,168.1],\"type\":\"scatter\"}],                        {\"legend\":{\"bgcolor\":\"#F5F6F9\",\"font\":{\"color\":\"#4D5663\"}},\"paper_bgcolor\":\"#F5F6F9\",\"plot_bgcolor\":\"#F5F6F9\",\"template\":{\"data\":{\"barpolar\":[{\"marker\":{\"line\":{\"color\":\"#E5ECF6\",\"width\":0.5},\"pattern\":{\"fillmode\":\"overlay\",\"size\":10,\"solidity\":0.2}},\"type\":\"barpolar\"}],\"bar\":[{\"error_x\":{\"color\":\"#2a3f5f\"},\"error_y\":{\"color\":\"#2a3f5f\"},\"marker\":{\"line\":{\"color\":\"#E5ECF6\",\"width\":0.5},\"pattern\":{\"fillmode\":\"overlay\",\"size\":10,\"solidity\":0.2}},\"type\":\"bar\"}],\"carpet\":[{\"aaxis\":{\"endlinecolor\":\"#2a3f5f\",\"gridcolor\":\"white\",\"linecolor\":\"white\",\"minorgridcolor\":\"white\",\"startlinecolor\":\"#2a3f5f\"},\"baxis\":{\"endlinecolor\":\"#2a3f5f\",\"gridcolor\":\"white\",\"linecolor\":\"white\",\"minorgridcolor\":\"white\",\"startlinecolor\":\"#2a3f5f\"},\"type\":\"carpet\"}],\"choropleth\":[{\"colorbar\":{\"outlinewidth\":0,\"ticks\":\"\"},\"type\":\"choropleth\"}],\"contourcarpet\":[{\"colorbar\":{\"outlinewidth\":0,\"ticks\":\"\"},\"type\":\"contourcarpet\"}],\"contour\":[{\"colorbar\":{\"outlinewidth\":0,\"ticks\":\"\"},\"colorscale\":[[0.0,\"#0d0887\"],[0.1111111111111111,\"#46039f\"],[0.2222222222222222,\"#7201a8\"],[0.3333333333333333,\"#9c179e\"],[0.4444444444444444,\"#bd3786\"],[0.5555555555555556,\"#d8576b\"],[0.6666666666666666,\"#ed7953\"],[0.7777777777777778,\"#fb9f3a\"],[0.8888888888888888,\"#fdca26\"],[1.0,\"#f0f921\"]],\"type\":\"contour\"}],\"heatmapgl\":[{\"colorbar\":{\"outlinewidth\":0,\"ticks\":\"\"},\"colorscale\":[[0.0,\"#0d0887\"],[0.1111111111111111,\"#46039f\"],[0.2222222222222222,\"#7201a8\"],[0.3333333333333333,\"#9c179e\"],[0.4444444444444444,\"#bd3786\"],[0.5555555555555556,\"#d8576b\"],[0.6666666666666666,\"#ed7953\"],[0.7777777777777778,\"#fb9f3a\"],[0.8888888888888888,\"#fdca26\"],[1.0,\"#f0f921\"]],\"type\":\"heatmapgl\"}],\"heatmap\":[{\"colorbar\":{\"outlinewidth\":0,\"ticks\":\"\"},\"colorscale\":[[0.0,\"#0d0887\"],[0.1111111111111111,\"#46039f\"],[0.2222222222222222,\"#7201a8\"],[0.3333333333333333,\"#9c179e\"],[0.4444444444444444,\"#bd3786\"],[0.5555555555555556,\"#d8576b\"],[0.6666666666666666,\"#ed7953\"],[0.7777777777777778,\"#fb9f3a\"],[0.8888888888888888,\"#fdca26\"],[1.0,\"#f0f921\"]],\"type\":\"heatmap\"}],\"histogram2dcontour\":[{\"colorbar\":{\"outlinewidth\":0,\"ticks\":\"\"},\"colorscale\":[[0.0,\"#0d0887\"],[0.1111111111111111,\"#46039f\"],[0.2222222222222222,\"#7201a8\"],[0.3333333333333333,\"#9c179e\"],[0.4444444444444444,\"#bd3786\"],[0.5555555555555556,\"#d8576b\"],[0.6666666666666666,\"#ed7953\"],[0.7777777777777778,\"#fb9f3a\"],[0.8888888888888888,\"#fdca26\"],[1.0,\"#f0f921\"]],\"type\":\"histogram2dcontour\"}],\"histogram2d\":[{\"colorbar\":{\"outlinewidth\":0,\"ticks\":\"\"},\"colorscale\":[[0.0,\"#0d0887\"],[0.1111111111111111,\"#46039f\"],[0.2222222222222222,\"#7201a8\"],[0.3333333333333333,\"#9c179e\"],[0.4444444444444444,\"#bd3786\"],[0.5555555555555556,\"#d8576b\"],[0.6666666666666666,\"#ed7953\"],[0.7777777777777778,\"#fb9f3a\"],[0.8888888888888888,\"#fdca26\"],[1.0,\"#f0f921\"]],\"type\":\"histogram2d\"}],\"histogram\":[{\"marker\":{\"pattern\":{\"fillmode\":\"overlay\",\"size\":10,\"solidity\":0.2}},\"type\":\"histogram\"}],\"mesh3d\":[{\"colorbar\":{\"outlinewidth\":0,\"ticks\":\"\"},\"type\":\"mesh3d\"}],\"parcoords\":[{\"line\":{\"colorbar\":{\"outlinewidth\":0,\"ticks\":\"\"}},\"type\":\"parcoords\"}],\"pie\":[{\"automargin\":true,\"type\":\"pie\"}],\"scatter3d\":[{\"line\":{\"colorbar\":{\"outlinewidth\":0,\"ticks\":\"\"}},\"marker\":{\"colorbar\":{\"outlinewidth\":0,\"ticks\":\"\"}},\"type\":\"scatter3d\"}],\"scattercarpet\":[{\"marker\":{\"colorbar\":{\"outlinewidth\":0,\"ticks\":\"\"}},\"type\":\"scattercarpet\"}],\"scattergeo\":[{\"marker\":{\"colorbar\":{\"outlinewidth\":0,\"ticks\":\"\"}},\"type\":\"scattergeo\"}],\"scattergl\":[{\"marker\":{\"colorbar\":{\"outlinewidth\":0,\"ticks\":\"\"}},\"type\":\"scattergl\"}],\"scattermapbox\":[{\"marker\":{\"colorbar\":{\"outlinewidth\":0,\"ticks\":\"\"}},\"type\":\"scattermapbox\"}],\"scatterpolargl\":[{\"marker\":{\"colorbar\":{\"outlinewidth\":0,\"ticks\":\"\"}},\"type\":\"scatterpolargl\"}],\"scatterpolar\":[{\"marker\":{\"colorbar\":{\"outlinewidth\":0,\"ticks\":\"\"}},\"type\":\"scatterpolar\"}],\"scatter\":[{\"fillpattern\":{\"fillmode\":\"overlay\",\"size\":10,\"solidity\":0.2},\"type\":\"scatter\"}],\"scatterternary\":[{\"marker\":{\"colorbar\":{\"outlinewidth\":0,\"ticks\":\"\"}},\"type\":\"scatterternary\"}],\"surface\":[{\"colorbar\":{\"outlinewidth\":0,\"ticks\":\"\"},\"colorscale\":[[0.0,\"#0d0887\"],[0.1111111111111111,\"#46039f\"],[0.2222222222222222,\"#7201a8\"],[0.3333333333333333,\"#9c179e\"],[0.4444444444444444,\"#bd3786\"],[0.5555555555555556,\"#d8576b\"],[0.6666666666666666,\"#ed7953\"],[0.7777777777777778,\"#fb9f3a\"],[0.8888888888888888,\"#fdca26\"],[1.0,\"#f0f921\"]],\"type\":\"surface\"}],\"table\":[{\"cells\":{\"fill\":{\"color\":\"#EBF0F8\"},\"line\":{\"color\":\"white\"}},\"header\":{\"fill\":{\"color\":\"#C8D4E3\"},\"line\":{\"color\":\"white\"}},\"type\":\"table\"}]},\"layout\":{\"annotationdefaults\":{\"arrowcolor\":\"#2a3f5f\",\"arrowhead\":0,\"arrowwidth\":1},\"autotypenumbers\":\"strict\",\"coloraxis\":{\"colorbar\":{\"outlinewidth\":0,\"ticks\":\"\"}},\"colorscale\":{\"diverging\":[[0,\"#8e0152\"],[0.1,\"#c51b7d\"],[0.2,\"#de77ae\"],[0.3,\"#f1b6da\"],[0.4,\"#fde0ef\"],[0.5,\"#f7f7f7\"],[0.6,\"#e6f5d0\"],[0.7,\"#b8e186\"],[0.8,\"#7fbc41\"],[0.9,\"#4d9221\"],[1,\"#276419\"]],\"sequential\":[[0.0,\"#0d0887\"],[0.1111111111111111,\"#46039f\"],[0.2222222222222222,\"#7201a8\"],[0.3333333333333333,\"#9c179e\"],[0.4444444444444444,\"#bd3786\"],[0.5555555555555556,\"#d8576b\"],[0.6666666666666666,\"#ed7953\"],[0.7777777777777778,\"#fb9f3a\"],[0.8888888888888888,\"#fdca26\"],[1.0,\"#f0f921\"]],\"sequentialminus\":[[0.0,\"#0d0887\"],[0.1111111111111111,\"#46039f\"],[0.2222222222222222,\"#7201a8\"],[0.3333333333333333,\"#9c179e\"],[0.4444444444444444,\"#bd3786\"],[0.5555555555555556,\"#d8576b\"],[0.6666666666666666,\"#ed7953\"],[0.7777777777777778,\"#fb9f3a\"],[0.8888888888888888,\"#fdca26\"],[1.0,\"#f0f921\"]]},\"colorway\":[\"#636efa\",\"#EF553B\",\"#00cc96\",\"#ab63fa\",\"#FFA15A\",\"#19d3f3\",\"#FF6692\",\"#B6E880\",\"#FF97FF\",\"#FECB52\"],\"font\":{\"color\":\"#2a3f5f\"},\"geo\":{\"bgcolor\":\"white\",\"lakecolor\":\"white\",\"landcolor\":\"#E5ECF6\",\"showlakes\":true,\"showland\":true,\"subunitcolor\":\"white\"},\"hoverlabel\":{\"align\":\"left\"},\"hovermode\":\"closest\",\"mapbox\":{\"style\":\"light\"},\"paper_bgcolor\":\"white\",\"plot_bgcolor\":\"#E5ECF6\",\"polar\":{\"angularaxis\":{\"gridcolor\":\"white\",\"linecolor\":\"white\",\"ticks\":\"\"},\"bgcolor\":\"#E5ECF6\",\"radialaxis\":{\"gridcolor\":\"white\",\"linecolor\":\"white\",\"ticks\":\"\"}},\"scene\":{\"xaxis\":{\"backgroundcolor\":\"#E5ECF6\",\"gridcolor\":\"white\",\"gridwidth\":2,\"linecolor\":\"white\",\"showbackground\":true,\"ticks\":\"\",\"zerolinecolor\":\"white\"},\"yaxis\":{\"backgroundcolor\":\"#E5ECF6\",\"gridcolor\":\"white\",\"gridwidth\":2,\"linecolor\":\"white\",\"showbackground\":true,\"ticks\":\"\",\"zerolinecolor\":\"white\"},\"zaxis\":{\"backgroundcolor\":\"#E5ECF6\",\"gridcolor\":\"white\",\"gridwidth\":2,\"linecolor\":\"white\",\"showbackground\":true,\"ticks\":\"\",\"zerolinecolor\":\"white\"}},\"shapedefaults\":{\"line\":{\"color\":\"#2a3f5f\"}},\"ternary\":{\"aaxis\":{\"gridcolor\":\"white\",\"linecolor\":\"white\",\"ticks\":\"\"},\"baxis\":{\"gridcolor\":\"white\",\"linecolor\":\"white\",\"ticks\":\"\"},\"bgcolor\":\"#E5ECF6\",\"caxis\":{\"gridcolor\":\"white\",\"linecolor\":\"white\",\"ticks\":\"\"}},\"title\":{\"x\":0.05},\"xaxis\":{\"automargin\":true,\"gridcolor\":\"white\",\"linecolor\":\"white\",\"ticks\":\"\",\"title\":{\"standoff\":15},\"zerolinecolor\":\"white\",\"zerolinewidth\":2},\"yaxis\":{\"automargin\":true,\"gridcolor\":\"white\",\"linecolor\":\"white\",\"ticks\":\"\",\"title\":{\"standoff\":15},\"zerolinecolor\":\"white\",\"zerolinewidth\":2}}},\"title\":{\"font\":{\"color\":\"#4D5663\"},\"text\":\"HDB Index\"},\"xaxis\":{\"gridcolor\":\"#E1E5ED\",\"showgrid\":true,\"tickfont\":{\"color\":\"#4D5663\"},\"title\":{\"font\":{\"color\":\"#4D5663\"},\"text\":\"Quarters\"},\"zerolinecolor\":\"#E1E5ED\"},\"yaxis\":{\"gridcolor\":\"#E1E5ED\",\"showgrid\":true,\"tickfont\":{\"color\":\"#4D5663\"},\"title\":{\"font\":{\"color\":\"#4D5663\"},\"text\":\"HDB Index\"},\"zerolinecolor\":\"#E1E5ED\"}},                        {\"showLink\": true, \"linkText\": \"Export to plot.ly\", \"plotlyServerURL\": \"https://plot.ly\", \"responsive\": true}                    ).then(function(){\n",
       "                            \n",
       "var gd = document.getElementById('f69cf326-cbc1-447c-9a85-91b4fd96f272');\n",
       "var x = new MutationObserver(function (mutations, observer) {{\n",
       "        var display = window.getComputedStyle(gd).display;\n",
       "        if (!display || display === 'none') {{\n",
       "            console.log([gd, 'removed!']);\n",
       "            Plotly.purge(gd);\n",
       "            observer.disconnect();\n",
       "        }}\n",
       "}});\n",
       "\n",
       "// Listen for the removal of the full notebook cells\n",
       "var notebookContainer = gd.closest('#notebook-container');\n",
       "if (notebookContainer) {{\n",
       "    x.observe(notebookContainer, {childList: true});\n",
       "}}\n",
       "\n",
       "// Listen for the clearing of the current output cell\n",
       "var outputEl = gd.closest('.output');\n",
       "if (outputEl) {{\n",
       "    x.observe(outputEl, {childList: true});\n",
       "}}\n",
       "\n",
       "                        })                };                });            </script>        </div>"
      ]
     },
     "metadata": {},
     "output_type": "display_data"
    },
    {
     "data": {
      "text/markdown": [
       "<u>**My thoughts, comments and analysis on the above chart:**</u>"
      ],
      "text/plain": [
       "<IPython.core.display.Markdown object>"
      ]
     },
     "metadata": {},
     "output_type": "display_data"
    },
    {
     "data": {
      "text/markdown": [
       "This chart shows us the HDB Index's which unfortunately for me a member of the younger generation is increasing. Thus I would eventually have to pay much higher prices for housing if the trend continues. As shown from the graph there was a huge spike in price near the 1997 financial crisis period, which may have been directly due to the fears of the economy reaching a all time high when the economy crashed."
      ],
      "text/plain": [
       "<IPython.core.display.Markdown object>"
      ]
     },
     "metadata": {},
     "output_type": "display_data"
    },
    {
     "name": "stdout",
     "output_type": "stream",
     "text": [
      "\n"
     ]
    },
    {
     "data": {
      "application/vnd.plotly.v1+json": {
       "config": {
        "linkText": "Export to plot.ly",
        "plotlyServerURL": "https://plot.ly",
        "showLink": true
       },
       "data": [
        {
         "line": {
          "color": "rgba(255, 99, 71, 1.0)",
          "dash": "solid",
          "shape": "linear",
          "width": 1.3
         },
         "marker": {
          "size": 8,
          "symbol": "circle-open-dot"
         },
         "mode": "markers",
         "name": "Expenditure",
         "text": "",
         "type": "scatter",
         "x": [
          29181,
          27911,
          30647,
          31439,
          28494,
          25471,
          25315,
          27469,
          28171,
          31289,
          40373,
          41087,
          39547,
          46061,
          51076,
          55814,
          57021,
          60839,
          64823,
          68964,
          75817,
          73738,
          74274,
          64608,
          76636
         ],
         "y": [
          23040,
          26934,
          25079,
          27909,
          27306,
          27150,
          28499,
          28956,
          28634,
          29905,
          32980,
          38092,
          41889,
          45339,
          46563,
          49004,
          51727,
          56652,
          67446,
          71045,
          73554,
          77825,
          75341,
          94056,
          102339
         ]
        },
        {
         "line": {
          "color": "rgba(30, 144, 255, 1.0)",
          "dash": "dash",
          "shape": "linear",
          "width": 3
         },
         "mode": "lines",
         "name": "1.18*x+-7593.42",
         "type": "scatter",
         "x": [
          29181,
          27911,
          30647,
          31439,
          28494,
          25471,
          25315,
          27469,
          28171,
          31289,
          40373,
          41087,
          39547,
          46061,
          51076,
          55814,
          57021,
          60839,
          64823,
          68964,
          75817,
          73738,
          74274,
          64608,
          76636
         ],
         "y": [
          26823.85273059282,
          25325.962383023336,
          28552.9135569998,
          29487.031002098254,
          26013.576613443027,
          22448.125809740228,
          22264.132979645077,
          24804.64936442041,
          25632.61709984858,
          29310.11481931445,
          40024.158848701234,
          40866.2798787521,
          39049.94040217178,
          46732.820499862835,
          52647.71821093446,
          58235.91070446535,
          59659.496255265636,
          64162.60282772257,
          68861.49664246023,
          73745.56272851159,
          81828.27339929402,
          79376.2151059106,
          80008.39559905803,
          68607.91678047011,
          82794.23575729356
         ]
        }
       ],
       "layout": {
        "legend": {
         "bgcolor": "#F5F6F9",
         "font": {
          "color": "#4D5663"
         }
        },
        "paper_bgcolor": "#F5F6F9",
        "plot_bgcolor": "#F5F6F9",
        "template": {
         "data": {
          "bar": [
           {
            "error_x": {
             "color": "#2a3f5f"
            },
            "error_y": {
             "color": "#2a3f5f"
            },
            "marker": {
             "line": {
              "color": "#E5ECF6",
              "width": 0.5
             },
             "pattern": {
              "fillmode": "overlay",
              "size": 10,
              "solidity": 0.2
             }
            },
            "type": "bar"
           }
          ],
          "barpolar": [
           {
            "marker": {
             "line": {
              "color": "#E5ECF6",
              "width": 0.5
             },
             "pattern": {
              "fillmode": "overlay",
              "size": 10,
              "solidity": 0.2
             }
            },
            "type": "barpolar"
           }
          ],
          "carpet": [
           {
            "aaxis": {
             "endlinecolor": "#2a3f5f",
             "gridcolor": "white",
             "linecolor": "white",
             "minorgridcolor": "white",
             "startlinecolor": "#2a3f5f"
            },
            "baxis": {
             "endlinecolor": "#2a3f5f",
             "gridcolor": "white",
             "linecolor": "white",
             "minorgridcolor": "white",
             "startlinecolor": "#2a3f5f"
            },
            "type": "carpet"
           }
          ],
          "choropleth": [
           {
            "colorbar": {
             "outlinewidth": 0,
             "ticks": ""
            },
            "type": "choropleth"
           }
          ],
          "contour": [
           {
            "colorbar": {
             "outlinewidth": 0,
             "ticks": ""
            },
            "colorscale": [
             [
              0,
              "#0d0887"
             ],
             [
              0.1111111111111111,
              "#46039f"
             ],
             [
              0.2222222222222222,
              "#7201a8"
             ],
             [
              0.3333333333333333,
              "#9c179e"
             ],
             [
              0.4444444444444444,
              "#bd3786"
             ],
             [
              0.5555555555555556,
              "#d8576b"
             ],
             [
              0.6666666666666666,
              "#ed7953"
             ],
             [
              0.7777777777777778,
              "#fb9f3a"
             ],
             [
              0.8888888888888888,
              "#fdca26"
             ],
             [
              1,
              "#f0f921"
             ]
            ],
            "type": "contour"
           }
          ],
          "contourcarpet": [
           {
            "colorbar": {
             "outlinewidth": 0,
             "ticks": ""
            },
            "type": "contourcarpet"
           }
          ],
          "heatmap": [
           {
            "colorbar": {
             "outlinewidth": 0,
             "ticks": ""
            },
            "colorscale": [
             [
              0,
              "#0d0887"
             ],
             [
              0.1111111111111111,
              "#46039f"
             ],
             [
              0.2222222222222222,
              "#7201a8"
             ],
             [
              0.3333333333333333,
              "#9c179e"
             ],
             [
              0.4444444444444444,
              "#bd3786"
             ],
             [
              0.5555555555555556,
              "#d8576b"
             ],
             [
              0.6666666666666666,
              "#ed7953"
             ],
             [
              0.7777777777777778,
              "#fb9f3a"
             ],
             [
              0.8888888888888888,
              "#fdca26"
             ],
             [
              1,
              "#f0f921"
             ]
            ],
            "type": "heatmap"
           }
          ],
          "heatmapgl": [
           {
            "colorbar": {
             "outlinewidth": 0,
             "ticks": ""
            },
            "colorscale": [
             [
              0,
              "#0d0887"
             ],
             [
              0.1111111111111111,
              "#46039f"
             ],
             [
              0.2222222222222222,
              "#7201a8"
             ],
             [
              0.3333333333333333,
              "#9c179e"
             ],
             [
              0.4444444444444444,
              "#bd3786"
             ],
             [
              0.5555555555555556,
              "#d8576b"
             ],
             [
              0.6666666666666666,
              "#ed7953"
             ],
             [
              0.7777777777777778,
              "#fb9f3a"
             ],
             [
              0.8888888888888888,
              "#fdca26"
             ],
             [
              1,
              "#f0f921"
             ]
            ],
            "type": "heatmapgl"
           }
          ],
          "histogram": [
           {
            "marker": {
             "pattern": {
              "fillmode": "overlay",
              "size": 10,
              "solidity": 0.2
             }
            },
            "type": "histogram"
           }
          ],
          "histogram2d": [
           {
            "colorbar": {
             "outlinewidth": 0,
             "ticks": ""
            },
            "colorscale": [
             [
              0,
              "#0d0887"
             ],
             [
              0.1111111111111111,
              "#46039f"
             ],
             [
              0.2222222222222222,
              "#7201a8"
             ],
             [
              0.3333333333333333,
              "#9c179e"
             ],
             [
              0.4444444444444444,
              "#bd3786"
             ],
             [
              0.5555555555555556,
              "#d8576b"
             ],
             [
              0.6666666666666666,
              "#ed7953"
             ],
             [
              0.7777777777777778,
              "#fb9f3a"
             ],
             [
              0.8888888888888888,
              "#fdca26"
             ],
             [
              1,
              "#f0f921"
             ]
            ],
            "type": "histogram2d"
           }
          ],
          "histogram2dcontour": [
           {
            "colorbar": {
             "outlinewidth": 0,
             "ticks": ""
            },
            "colorscale": [
             [
              0,
              "#0d0887"
             ],
             [
              0.1111111111111111,
              "#46039f"
             ],
             [
              0.2222222222222222,
              "#7201a8"
             ],
             [
              0.3333333333333333,
              "#9c179e"
             ],
             [
              0.4444444444444444,
              "#bd3786"
             ],
             [
              0.5555555555555556,
              "#d8576b"
             ],
             [
              0.6666666666666666,
              "#ed7953"
             ],
             [
              0.7777777777777778,
              "#fb9f3a"
             ],
             [
              0.8888888888888888,
              "#fdca26"
             ],
             [
              1,
              "#f0f921"
             ]
            ],
            "type": "histogram2dcontour"
           }
          ],
          "mesh3d": [
           {
            "colorbar": {
             "outlinewidth": 0,
             "ticks": ""
            },
            "type": "mesh3d"
           }
          ],
          "parcoords": [
           {
            "line": {
             "colorbar": {
              "outlinewidth": 0,
              "ticks": ""
             }
            },
            "type": "parcoords"
           }
          ],
          "pie": [
           {
            "automargin": true,
            "type": "pie"
           }
          ],
          "scatter": [
           {
            "fillpattern": {
             "fillmode": "overlay",
             "size": 10,
             "solidity": 0.2
            },
            "type": "scatter"
           }
          ],
          "scatter3d": [
           {
            "line": {
             "colorbar": {
              "outlinewidth": 0,
              "ticks": ""
             }
            },
            "marker": {
             "colorbar": {
              "outlinewidth": 0,
              "ticks": ""
             }
            },
            "type": "scatter3d"
           }
          ],
          "scattercarpet": [
           {
            "marker": {
             "colorbar": {
              "outlinewidth": 0,
              "ticks": ""
             }
            },
            "type": "scattercarpet"
           }
          ],
          "scattergeo": [
           {
            "marker": {
             "colorbar": {
              "outlinewidth": 0,
              "ticks": ""
             }
            },
            "type": "scattergeo"
           }
          ],
          "scattergl": [
           {
            "marker": {
             "colorbar": {
              "outlinewidth": 0,
              "ticks": ""
             }
            },
            "type": "scattergl"
           }
          ],
          "scattermapbox": [
           {
            "marker": {
             "colorbar": {
              "outlinewidth": 0,
              "ticks": ""
             }
            },
            "type": "scattermapbox"
           }
          ],
          "scatterpolar": [
           {
            "marker": {
             "colorbar": {
              "outlinewidth": 0,
              "ticks": ""
             }
            },
            "type": "scatterpolar"
           }
          ],
          "scatterpolargl": [
           {
            "marker": {
             "colorbar": {
              "outlinewidth": 0,
              "ticks": ""
             }
            },
            "type": "scatterpolargl"
           }
          ],
          "scatterternary": [
           {
            "marker": {
             "colorbar": {
              "outlinewidth": 0,
              "ticks": ""
             }
            },
            "type": "scatterternary"
           }
          ],
          "surface": [
           {
            "colorbar": {
             "outlinewidth": 0,
             "ticks": ""
            },
            "colorscale": [
             [
              0,
              "#0d0887"
             ],
             [
              0.1111111111111111,
              "#46039f"
             ],
             [
              0.2222222222222222,
              "#7201a8"
             ],
             [
              0.3333333333333333,
              "#9c179e"
             ],
             [
              0.4444444444444444,
              "#bd3786"
             ],
             [
              0.5555555555555556,
              "#d8576b"
             ],
             [
              0.6666666666666666,
              "#ed7953"
             ],
             [
              0.7777777777777778,
              "#fb9f3a"
             ],
             [
              0.8888888888888888,
              "#fdca26"
             ],
             [
              1,
              "#f0f921"
             ]
            ],
            "type": "surface"
           }
          ],
          "table": [
           {
            "cells": {
             "fill": {
              "color": "#EBF0F8"
             },
             "line": {
              "color": "white"
             }
            },
            "header": {
             "fill": {
              "color": "#C8D4E3"
             },
             "line": {
              "color": "white"
             }
            },
            "type": "table"
           }
          ]
         },
         "layout": {
          "annotationdefaults": {
           "arrowcolor": "#2a3f5f",
           "arrowhead": 0,
           "arrowwidth": 1
          },
          "autotypenumbers": "strict",
          "coloraxis": {
           "colorbar": {
            "outlinewidth": 0,
            "ticks": ""
           }
          },
          "colorscale": {
           "diverging": [
            [
             0,
             "#8e0152"
            ],
            [
             0.1,
             "#c51b7d"
            ],
            [
             0.2,
             "#de77ae"
            ],
            [
             0.3,
             "#f1b6da"
            ],
            [
             0.4,
             "#fde0ef"
            ],
            [
             0.5,
             "#f7f7f7"
            ],
            [
             0.6,
             "#e6f5d0"
            ],
            [
             0.7,
             "#b8e186"
            ],
            [
             0.8,
             "#7fbc41"
            ],
            [
             0.9,
             "#4d9221"
            ],
            [
             1,
             "#276419"
            ]
           ],
           "sequential": [
            [
             0,
             "#0d0887"
            ],
            [
             0.1111111111111111,
             "#46039f"
            ],
            [
             0.2222222222222222,
             "#7201a8"
            ],
            [
             0.3333333333333333,
             "#9c179e"
            ],
            [
             0.4444444444444444,
             "#bd3786"
            ],
            [
             0.5555555555555556,
             "#d8576b"
            ],
            [
             0.6666666666666666,
             "#ed7953"
            ],
            [
             0.7777777777777778,
             "#fb9f3a"
            ],
            [
             0.8888888888888888,
             "#fdca26"
            ],
            [
             1,
             "#f0f921"
            ]
           ],
           "sequentialminus": [
            [
             0,
             "#0d0887"
            ],
            [
             0.1111111111111111,
             "#46039f"
            ],
            [
             0.2222222222222222,
             "#7201a8"
            ],
            [
             0.3333333333333333,
             "#9c179e"
            ],
            [
             0.4444444444444444,
             "#bd3786"
            ],
            [
             0.5555555555555556,
             "#d8576b"
            ],
            [
             0.6666666666666666,
             "#ed7953"
            ],
            [
             0.7777777777777778,
             "#fb9f3a"
            ],
            [
             0.8888888888888888,
             "#fdca26"
            ],
            [
             1,
             "#f0f921"
            ]
           ]
          },
          "colorway": [
           "#636efa",
           "#EF553B",
           "#00cc96",
           "#ab63fa",
           "#FFA15A",
           "#19d3f3",
           "#FF6692",
           "#B6E880",
           "#FF97FF",
           "#FECB52"
          ],
          "font": {
           "color": "#2a3f5f"
          },
          "geo": {
           "bgcolor": "white",
           "lakecolor": "white",
           "landcolor": "#E5ECF6",
           "showlakes": true,
           "showland": true,
           "subunitcolor": "white"
          },
          "hoverlabel": {
           "align": "left"
          },
          "hovermode": "closest",
          "mapbox": {
           "style": "light"
          },
          "paper_bgcolor": "white",
          "plot_bgcolor": "#E5ECF6",
          "polar": {
           "angularaxis": {
            "gridcolor": "white",
            "linecolor": "white",
            "ticks": ""
           },
           "bgcolor": "#E5ECF6",
           "radialaxis": {
            "gridcolor": "white",
            "linecolor": "white",
            "ticks": ""
           }
          },
          "scene": {
           "xaxis": {
            "backgroundcolor": "#E5ECF6",
            "gridcolor": "white",
            "gridwidth": 2,
            "linecolor": "white",
            "showbackground": true,
            "ticks": "",
            "zerolinecolor": "white"
           },
           "yaxis": {
            "backgroundcolor": "#E5ECF6",
            "gridcolor": "white",
            "gridwidth": 2,
            "linecolor": "white",
            "showbackground": true,
            "ticks": "",
            "zerolinecolor": "white"
           },
           "zaxis": {
            "backgroundcolor": "#E5ECF6",
            "gridcolor": "white",
            "gridwidth": 2,
            "linecolor": "white",
            "showbackground": true,
            "ticks": "",
            "zerolinecolor": "white"
           }
          },
          "shapedefaults": {
           "line": {
            "color": "#2a3f5f"
           }
          },
          "ternary": {
           "aaxis": {
            "gridcolor": "white",
            "linecolor": "white",
            "ticks": ""
           },
           "baxis": {
            "gridcolor": "white",
            "linecolor": "white",
            "ticks": ""
           },
           "bgcolor": "#E5ECF6",
           "caxis": {
            "gridcolor": "white",
            "linecolor": "white",
            "ticks": ""
           }
          },
          "title": {
           "x": 0.05
          },
          "xaxis": {
           "automargin": true,
           "gridcolor": "white",
           "linecolor": "white",
           "ticks": "",
           "title": {
            "standoff": 15
           },
           "zerolinecolor": "white",
           "zerolinewidth": 2
          },
          "yaxis": {
           "automargin": true,
           "gridcolor": "white",
           "linecolor": "white",
           "ticks": "",
           "title": {
            "standoff": 15
           },
           "zerolinecolor": "white",
           "zerolinewidth": 2
          }
         }
        },
        "title": {
         "font": {
          "color": "#4D5663"
         },
         "text": "Government Revenue VS Expenditure (in millions)"
        },
        "xaxis": {
         "gridcolor": "#E1E5ED",
         "showgrid": true,
         "tickfont": {
          "color": "#4D5663"
         },
         "title": {
          "font": {
           "color": "#4D5663"
          },
          "text": "Revenue"
         },
         "zerolinecolor": "#E1E5ED"
        },
        "yaxis": {
         "gridcolor": "#E1E5ED",
         "showgrid": true,
         "tickfont": {
          "color": "#4D5663"
         },
         "title": {
          "font": {
           "color": "#4D5663"
          },
          "text": "Expenditure"
         },
         "zerolinecolor": "#E1E5ED"
        }
       }
      },
      "text/html": [
       "<div>                            <div id=\"a1443834-6404-49e3-b75c-cb44ed81f2f6\" class=\"plotly-graph-div\" style=\"height:525px; width:100%;\"></div>            <script type=\"text/javascript\">                require([\"plotly\"], function(Plotly) {                    window.PLOTLYENV=window.PLOTLYENV || {};\n",
       "                    window.PLOTLYENV.BASE_URL='https://plot.ly';                                    if (document.getElementById(\"a1443834-6404-49e3-b75c-cb44ed81f2f6\")) {                    Plotly.newPlot(                        \"a1443834-6404-49e3-b75c-cb44ed81f2f6\",                        [{\"line\":{\"color\":\"rgba(255, 99, 71, 1.0)\",\"dash\":\"solid\",\"shape\":\"linear\",\"width\":1.3},\"marker\":{\"size\":8,\"symbol\":\"circle-open-dot\"},\"mode\":\"markers\",\"name\":\"Expenditure\",\"text\":\"\",\"x\":[29181,27911,30647,31439,28494,25471,25315,27469,28171,31289,40373,41087,39547,46061,51076,55814,57021,60839,64823,68964,75817,73738,74274,64608,76636],\"y\":[23040,26934,25079,27909,27306,27150,28499,28956,28634,29905,32980,38092,41889,45339,46563,49004,51727,56652,67446,71045,73554,77825,75341,94056,102339],\"type\":\"scatter\"},{\"line\":{\"color\":\"rgba(30, 144, 255, 1.0)\",\"dash\":\"dash\",\"shape\":\"linear\",\"width\":3},\"mode\":\"lines\",\"name\":\"1.18*x+-7593.42\",\"x\":[29181,27911,30647,31439,28494,25471,25315,27469,28171,31289,40373,41087,39547,46061,51076,55814,57021,60839,64823,68964,75817,73738,74274,64608,76636],\"y\":[26823.85273059282,25325.962383023336,28552.9135569998,29487.031002098254,26013.576613443027,22448.125809740228,22264.132979645077,24804.64936442041,25632.61709984858,29310.11481931445,40024.158848701234,40866.2798787521,39049.94040217178,46732.820499862835,52647.71821093446,58235.91070446535,59659.496255265636,64162.60282772257,68861.49664246023,73745.56272851159,81828.27339929402,79376.2151059106,80008.39559905803,68607.91678047011,82794.23575729356],\"type\":\"scatter\"}],                        {\"legend\":{\"bgcolor\":\"#F5F6F9\",\"font\":{\"color\":\"#4D5663\"}},\"paper_bgcolor\":\"#F5F6F9\",\"plot_bgcolor\":\"#F5F6F9\",\"template\":{\"data\":{\"barpolar\":[{\"marker\":{\"line\":{\"color\":\"#E5ECF6\",\"width\":0.5},\"pattern\":{\"fillmode\":\"overlay\",\"size\":10,\"solidity\":0.2}},\"type\":\"barpolar\"}],\"bar\":[{\"error_x\":{\"color\":\"#2a3f5f\"},\"error_y\":{\"color\":\"#2a3f5f\"},\"marker\":{\"line\":{\"color\":\"#E5ECF6\",\"width\":0.5},\"pattern\":{\"fillmode\":\"overlay\",\"size\":10,\"solidity\":0.2}},\"type\":\"bar\"}],\"carpet\":[{\"aaxis\":{\"endlinecolor\":\"#2a3f5f\",\"gridcolor\":\"white\",\"linecolor\":\"white\",\"minorgridcolor\":\"white\",\"startlinecolor\":\"#2a3f5f\"},\"baxis\":{\"endlinecolor\":\"#2a3f5f\",\"gridcolor\":\"white\",\"linecolor\":\"white\",\"minorgridcolor\":\"white\",\"startlinecolor\":\"#2a3f5f\"},\"type\":\"carpet\"}],\"choropleth\":[{\"colorbar\":{\"outlinewidth\":0,\"ticks\":\"\"},\"type\":\"choropleth\"}],\"contourcarpet\":[{\"colorbar\":{\"outlinewidth\":0,\"ticks\":\"\"},\"type\":\"contourcarpet\"}],\"contour\":[{\"colorbar\":{\"outlinewidth\":0,\"ticks\":\"\"},\"colorscale\":[[0.0,\"#0d0887\"],[0.1111111111111111,\"#46039f\"],[0.2222222222222222,\"#7201a8\"],[0.3333333333333333,\"#9c179e\"],[0.4444444444444444,\"#bd3786\"],[0.5555555555555556,\"#d8576b\"],[0.6666666666666666,\"#ed7953\"],[0.7777777777777778,\"#fb9f3a\"],[0.8888888888888888,\"#fdca26\"],[1.0,\"#f0f921\"]],\"type\":\"contour\"}],\"heatmapgl\":[{\"colorbar\":{\"outlinewidth\":0,\"ticks\":\"\"},\"colorscale\":[[0.0,\"#0d0887\"],[0.1111111111111111,\"#46039f\"],[0.2222222222222222,\"#7201a8\"],[0.3333333333333333,\"#9c179e\"],[0.4444444444444444,\"#bd3786\"],[0.5555555555555556,\"#d8576b\"],[0.6666666666666666,\"#ed7953\"],[0.7777777777777778,\"#fb9f3a\"],[0.8888888888888888,\"#fdca26\"],[1.0,\"#f0f921\"]],\"type\":\"heatmapgl\"}],\"heatmap\":[{\"colorbar\":{\"outlinewidth\":0,\"ticks\":\"\"},\"colorscale\":[[0.0,\"#0d0887\"],[0.1111111111111111,\"#46039f\"],[0.2222222222222222,\"#7201a8\"],[0.3333333333333333,\"#9c179e\"],[0.4444444444444444,\"#bd3786\"],[0.5555555555555556,\"#d8576b\"],[0.6666666666666666,\"#ed7953\"],[0.7777777777777778,\"#fb9f3a\"],[0.8888888888888888,\"#fdca26\"],[1.0,\"#f0f921\"]],\"type\":\"heatmap\"}],\"histogram2dcontour\":[{\"colorbar\":{\"outlinewidth\":0,\"ticks\":\"\"},\"colorscale\":[[0.0,\"#0d0887\"],[0.1111111111111111,\"#46039f\"],[0.2222222222222222,\"#7201a8\"],[0.3333333333333333,\"#9c179e\"],[0.4444444444444444,\"#bd3786\"],[0.5555555555555556,\"#d8576b\"],[0.6666666666666666,\"#ed7953\"],[0.7777777777777778,\"#fb9f3a\"],[0.8888888888888888,\"#fdca26\"],[1.0,\"#f0f921\"]],\"type\":\"histogram2dcontour\"}],\"histogram2d\":[{\"colorbar\":{\"outlinewidth\":0,\"ticks\":\"\"},\"colorscale\":[[0.0,\"#0d0887\"],[0.1111111111111111,\"#46039f\"],[0.2222222222222222,\"#7201a8\"],[0.3333333333333333,\"#9c179e\"],[0.4444444444444444,\"#bd3786\"],[0.5555555555555556,\"#d8576b\"],[0.6666666666666666,\"#ed7953\"],[0.7777777777777778,\"#fb9f3a\"],[0.8888888888888888,\"#fdca26\"],[1.0,\"#f0f921\"]],\"type\":\"histogram2d\"}],\"histogram\":[{\"marker\":{\"pattern\":{\"fillmode\":\"overlay\",\"size\":10,\"solidity\":0.2}},\"type\":\"histogram\"}],\"mesh3d\":[{\"colorbar\":{\"outlinewidth\":0,\"ticks\":\"\"},\"type\":\"mesh3d\"}],\"parcoords\":[{\"line\":{\"colorbar\":{\"outlinewidth\":0,\"ticks\":\"\"}},\"type\":\"parcoords\"}],\"pie\":[{\"automargin\":true,\"type\":\"pie\"}],\"scatter3d\":[{\"line\":{\"colorbar\":{\"outlinewidth\":0,\"ticks\":\"\"}},\"marker\":{\"colorbar\":{\"outlinewidth\":0,\"ticks\":\"\"}},\"type\":\"scatter3d\"}],\"scattercarpet\":[{\"marker\":{\"colorbar\":{\"outlinewidth\":0,\"ticks\":\"\"}},\"type\":\"scattercarpet\"}],\"scattergeo\":[{\"marker\":{\"colorbar\":{\"outlinewidth\":0,\"ticks\":\"\"}},\"type\":\"scattergeo\"}],\"scattergl\":[{\"marker\":{\"colorbar\":{\"outlinewidth\":0,\"ticks\":\"\"}},\"type\":\"scattergl\"}],\"scattermapbox\":[{\"marker\":{\"colorbar\":{\"outlinewidth\":0,\"ticks\":\"\"}},\"type\":\"scattermapbox\"}],\"scatterpolargl\":[{\"marker\":{\"colorbar\":{\"outlinewidth\":0,\"ticks\":\"\"}},\"type\":\"scatterpolargl\"}],\"scatterpolar\":[{\"marker\":{\"colorbar\":{\"outlinewidth\":0,\"ticks\":\"\"}},\"type\":\"scatterpolar\"}],\"scatter\":[{\"fillpattern\":{\"fillmode\":\"overlay\",\"size\":10,\"solidity\":0.2},\"type\":\"scatter\"}],\"scatterternary\":[{\"marker\":{\"colorbar\":{\"outlinewidth\":0,\"ticks\":\"\"}},\"type\":\"scatterternary\"}],\"surface\":[{\"colorbar\":{\"outlinewidth\":0,\"ticks\":\"\"},\"colorscale\":[[0.0,\"#0d0887\"],[0.1111111111111111,\"#46039f\"],[0.2222222222222222,\"#7201a8\"],[0.3333333333333333,\"#9c179e\"],[0.4444444444444444,\"#bd3786\"],[0.5555555555555556,\"#d8576b\"],[0.6666666666666666,\"#ed7953\"],[0.7777777777777778,\"#fb9f3a\"],[0.8888888888888888,\"#fdca26\"],[1.0,\"#f0f921\"]],\"type\":\"surface\"}],\"table\":[{\"cells\":{\"fill\":{\"color\":\"#EBF0F8\"},\"line\":{\"color\":\"white\"}},\"header\":{\"fill\":{\"color\":\"#C8D4E3\"},\"line\":{\"color\":\"white\"}},\"type\":\"table\"}]},\"layout\":{\"annotationdefaults\":{\"arrowcolor\":\"#2a3f5f\",\"arrowhead\":0,\"arrowwidth\":1},\"autotypenumbers\":\"strict\",\"coloraxis\":{\"colorbar\":{\"outlinewidth\":0,\"ticks\":\"\"}},\"colorscale\":{\"diverging\":[[0,\"#8e0152\"],[0.1,\"#c51b7d\"],[0.2,\"#de77ae\"],[0.3,\"#f1b6da\"],[0.4,\"#fde0ef\"],[0.5,\"#f7f7f7\"],[0.6,\"#e6f5d0\"],[0.7,\"#b8e186\"],[0.8,\"#7fbc41\"],[0.9,\"#4d9221\"],[1,\"#276419\"]],\"sequential\":[[0.0,\"#0d0887\"],[0.1111111111111111,\"#46039f\"],[0.2222222222222222,\"#7201a8\"],[0.3333333333333333,\"#9c179e\"],[0.4444444444444444,\"#bd3786\"],[0.5555555555555556,\"#d8576b\"],[0.6666666666666666,\"#ed7953\"],[0.7777777777777778,\"#fb9f3a\"],[0.8888888888888888,\"#fdca26\"],[1.0,\"#f0f921\"]],\"sequentialminus\":[[0.0,\"#0d0887\"],[0.1111111111111111,\"#46039f\"],[0.2222222222222222,\"#7201a8\"],[0.3333333333333333,\"#9c179e\"],[0.4444444444444444,\"#bd3786\"],[0.5555555555555556,\"#d8576b\"],[0.6666666666666666,\"#ed7953\"],[0.7777777777777778,\"#fb9f3a\"],[0.8888888888888888,\"#fdca26\"],[1.0,\"#f0f921\"]]},\"colorway\":[\"#636efa\",\"#EF553B\",\"#00cc96\",\"#ab63fa\",\"#FFA15A\",\"#19d3f3\",\"#FF6692\",\"#B6E880\",\"#FF97FF\",\"#FECB52\"],\"font\":{\"color\":\"#2a3f5f\"},\"geo\":{\"bgcolor\":\"white\",\"lakecolor\":\"white\",\"landcolor\":\"#E5ECF6\",\"showlakes\":true,\"showland\":true,\"subunitcolor\":\"white\"},\"hoverlabel\":{\"align\":\"left\"},\"hovermode\":\"closest\",\"mapbox\":{\"style\":\"light\"},\"paper_bgcolor\":\"white\",\"plot_bgcolor\":\"#E5ECF6\",\"polar\":{\"angularaxis\":{\"gridcolor\":\"white\",\"linecolor\":\"white\",\"ticks\":\"\"},\"bgcolor\":\"#E5ECF6\",\"radialaxis\":{\"gridcolor\":\"white\",\"linecolor\":\"white\",\"ticks\":\"\"}},\"scene\":{\"xaxis\":{\"backgroundcolor\":\"#E5ECF6\",\"gridcolor\":\"white\",\"gridwidth\":2,\"linecolor\":\"white\",\"showbackground\":true,\"ticks\":\"\",\"zerolinecolor\":\"white\"},\"yaxis\":{\"backgroundcolor\":\"#E5ECF6\",\"gridcolor\":\"white\",\"gridwidth\":2,\"linecolor\":\"white\",\"showbackground\":true,\"ticks\":\"\",\"zerolinecolor\":\"white\"},\"zaxis\":{\"backgroundcolor\":\"#E5ECF6\",\"gridcolor\":\"white\",\"gridwidth\":2,\"linecolor\":\"white\",\"showbackground\":true,\"ticks\":\"\",\"zerolinecolor\":\"white\"}},\"shapedefaults\":{\"line\":{\"color\":\"#2a3f5f\"}},\"ternary\":{\"aaxis\":{\"gridcolor\":\"white\",\"linecolor\":\"white\",\"ticks\":\"\"},\"baxis\":{\"gridcolor\":\"white\",\"linecolor\":\"white\",\"ticks\":\"\"},\"bgcolor\":\"#E5ECF6\",\"caxis\":{\"gridcolor\":\"white\",\"linecolor\":\"white\",\"ticks\":\"\"}},\"title\":{\"x\":0.05},\"xaxis\":{\"automargin\":true,\"gridcolor\":\"white\",\"linecolor\":\"white\",\"ticks\":\"\",\"title\":{\"standoff\":15},\"zerolinecolor\":\"white\",\"zerolinewidth\":2},\"yaxis\":{\"automargin\":true,\"gridcolor\":\"white\",\"linecolor\":\"white\",\"ticks\":\"\",\"title\":{\"standoff\":15},\"zerolinecolor\":\"white\",\"zerolinewidth\":2}}},\"title\":{\"font\":{\"color\":\"#4D5663\"},\"text\":\"Government Revenue VS Expenditure (in millions)\"},\"xaxis\":{\"gridcolor\":\"#E1E5ED\",\"showgrid\":true,\"tickfont\":{\"color\":\"#4D5663\"},\"title\":{\"font\":{\"color\":\"#4D5663\"},\"text\":\"Revenue\"},\"zerolinecolor\":\"#E1E5ED\"},\"yaxis\":{\"gridcolor\":\"#E1E5ED\",\"showgrid\":true,\"tickfont\":{\"color\":\"#4D5663\"},\"title\":{\"font\":{\"color\":\"#4D5663\"},\"text\":\"Expenditure\"},\"zerolinecolor\":\"#E1E5ED\"}},                        {\"showLink\": true, \"linkText\": \"Export to plot.ly\", \"plotlyServerURL\": \"https://plot.ly\", \"responsive\": true}                    ).then(function(){\n",
       "                            \n",
       "var gd = document.getElementById('a1443834-6404-49e3-b75c-cb44ed81f2f6');\n",
       "var x = new MutationObserver(function (mutations, observer) {{\n",
       "        var display = window.getComputedStyle(gd).display;\n",
       "        if (!display || display === 'none') {{\n",
       "            console.log([gd, 'removed!']);\n",
       "            Plotly.purge(gd);\n",
       "            observer.disconnect();\n",
       "        }}\n",
       "}});\n",
       "\n",
       "// Listen for the removal of the full notebook cells\n",
       "var notebookContainer = gd.closest('#notebook-container');\n",
       "if (notebookContainer) {{\n",
       "    x.observe(notebookContainer, {childList: true});\n",
       "}}\n",
       "\n",
       "// Listen for the clearing of the current output cell\n",
       "var outputEl = gd.closest('.output');\n",
       "if (outputEl) {{\n",
       "    x.observe(outputEl, {childList: true});\n",
       "}}\n",
       "\n",
       "                        })                };                });            </script>        </div>"
      ]
     },
     "metadata": {},
     "output_type": "display_data"
    },
    {
     "data": {
      "text/markdown": [
       "<u>**My thoughts, comments and analysis on the above chart:**</u>"
      ],
      "text/plain": [
       "<IPython.core.display.Markdown object>"
      ]
     },
     "metadata": {},
     "output_type": "display_data"
    },
    {
     "data": {
      "text/markdown": [
       "This scatterplot shows us the relationship between government revenue and expenditure which can be seen as linear, and relatively strong. Calculating the correlationc coefficient, we can see that the coefficient is <u>**0.94**</u> supporting my inference that the correlation between the government operating revenue and expenditure is very high."
      ],
      "text/plain": [
       "<IPython.core.display.Markdown object>"
      ]
     },
     "metadata": {},
     "output_type": "display_data"
    },
    {
     "name": "stdout",
     "output_type": "stream",
     "text": [
      "\n"
     ]
    }
   ],
   "source": [
    "#Pie chart of 2021 government operating revenue\n",
    "#Filtering out 2021 data\n",
    "dfGovernment_Operating_Revenue_2021=dfGovernment_Operating_Revenue[dfGovernment_Operating_Revenue['financial_year']==2021]\n",
    "\n",
    "#Pie chart of 2021 government total expenditure\n",
    "#Filtering out 2021 data\n",
    "dfGovernment_Total_Expenditure_2021=dfGovernment_Total_Expenditure[dfGovernment_Total_Expenditure['financial_year']==2021]\n",
    "\n",
    "#line chart of government operating revenue\n",
    "#extracting unique years in government operating revenue dataset\n",
    "Gov_Year_Range = np.unique(dfGovernment_Operating_Revenue['financial_year'])\n",
    "\n",
    "#initiating forloop to obtain per year sum of operating revenue\n",
    "Revenue_Per_Year = [] #clearing variables as will run into errors if executing the code multiple times\n",
    "for year in Gov_Year_Range:\n",
    "    Data_Op_Rev = dfGovernment_Operating_Revenue[dfGovernment_Operating_Revenue['financial_year'] == year] #for each year \n",
    "    Sum_Op_Rev = np.sum(Data_Op_Rev['amount']) #obtain the sum of operating revenue in the year\n",
    "    Revenue_Per_Year.append(Sum_Op_Rev)\n",
    "\n",
    "#line chart of government operating EXPENDITURE\n",
    "#initiating forloop to obtain per year sum of operating Expenditure\n",
    "Expenditure_Per_Year = [] #clearing variables as will run into errors if executing the code multiple times\n",
    "for year in Gov_Year_Range:\n",
    "    Data_Exp = dfGovernment_Total_Expenditure[dfGovernment_Total_Expenditure['financial_year'] == year] #for each year \n",
    "    Sum_Exp = np.sum(Data_Exp['amount']) #obtain the sum of operating Expenditure in the year\n",
    "    Expenditure_Per_Year.append(Sum_Exp)\n",
    "\n",
    "#Making a dictionary for the dataframe\n",
    "Sum_Expenditure = {'Expenditure' : Expenditure_Per_Year}\n",
    "dfSum_Expenditure = pd.DataFrame(Sum_Expenditure, index=Gov_Year_Range)\n",
    "\n",
    "Gov_Rev_Exp = {'Revenue': Revenue_Per_Year, 'Expenditure': Expenditure_Per_Year}\n",
    "dfSum_Expenditure = pd.DataFrame(Gov_Rev_Exp, index=Gov_Year_Range)\n",
    "\n",
    "\n",
    "#HDB Resale Price Index graph\n",
    "dfHDB_RPI['index']= dfHDB_RPI['index'].apply(pd.to_numeric) ##DATATYPE WAS INITIALLY OBJECT\n",
    "dfHDB_RPI['quarter']= dfHDB_RPI['quarter'].map(str)\n",
    "\n",
    "#displaying pie chart information\n",
    "dfGovernment_Operating_Revenue.iplot(kind=\"pie\",\n",
    "                             labels=\"type\",\n",
    "                             values=\"amount\",\n",
    "                             textinfo='percent+label', hole=.4, title='Government Operating Revenue 2021'\n",
    "                             )\n",
    "\n",
    "printmd(f'<u>**My thoughts, comments and analysis on the above chart:**</u>')\n",
    "\n",
    "printmd(f'This pie chart allows us to easily analyze the breakdown of the government\\'s operating revenue for the year of 2021 \\\n",
    "and as shown in the graph the government\\'s revenue is largely dominated by Corporate Income Tax, GST, Personal Income Tax, and Other Taxes. \\\n",
    "Something I found interesting is that Motor Vehicle Taxes only took up 4% of the chart. Considering how much taxes and costs are involved in owning a \\\n",
    "motor vehicle I would have expected this to be much larger.')\n",
    "print()\n",
    "\n",
    "#displaying pie chart information\n",
    "dfGovernment_Total_Expenditure_2021.iplot(kind=\"pie\",\n",
    "                             labels=\"sector\",\n",
    "                             values=\"amount\",\n",
    "                             textinfo='percent+label', hole=.4, title='Government Total Expenditure 2021'\n",
    "                             )\n",
    "printmd(f'<u>**My thoughts, comments and analysis on the above chart:**</u>')\n",
    "\n",
    "printmd(f'This pie chart allows ut to easily analyze the breakdwn of the government\\'s expenditures for the year of 2021, and as shown in the graph \\\n",
    "Costs into Social Development dwarfed all the other expenses by a long shot, with the category taking up close to 50% of costs for the year.')\n",
    "print()\n",
    "\n",
    "#displaying chart\n",
    "dfSum_Expenditure.iplot(kind='line', xTitle='Years', yTitle='Amount in millions',\n",
    "                    title='Government Revenue vs Expenditure')\n",
    "\n",
    "printmd(f'<u>**My thoughts, comments and analysis on the above chart:**</u>')\n",
    "\n",
    "printmd(f'The above chart shows us the general trends for both government revenue and expenditure which details a generally increasing trend. \\\n",
    "As a business student, I can\\'t help but be surprised that government spending did not fluctutate near the periods of financial crisis in 1997 and 2008. \\\n",
    "Surprisingly enough it is only in 2020 the COVID period that we can see that government spending shot up way above revenue indicating that the government was \\\n",
    "spending more than their budget entailed. This of course was to support the economy during the pandemic.')\n",
    "print()\n",
    "\n",
    "#dfCPI_drop_shaped_allitems = dfCPI_drop_shaped['All Items']\n",
    "dfHDB_RPI.iplot(x='quarter', y='index', kind='line', xTitle='Quarters', yTitle='HDB Index',\n",
    "                    title='HDB Index')\n",
    "\n",
    "printmd(f'<u>**My thoughts, comments and analysis on the above chart:**</u>')\n",
    "\n",
    "printmd(f'This chart shows us the HDB Index\\'s which unfortunately for me a member of the younger generation is increasing. Thus I would eventually have to \\\n",
    "pay much higher prices for housing if the trend continues. As shown from the graph there was a huge spike in price near the 1997 financial crisis period, \\\n",
    "which may have been directly due to the fears of the economy reaching a all time high when the economy crashed.')\n",
    "print()\n",
    "\n",
    "#BEST FIT LINE SCATTER PLOT FOR REVENUE X EXPENDITURE\n",
    "dfSum_Expenditure.iplot(kind=\"scatter\",\n",
    "              x=\"Revenue\", y='Expenditure',\n",
    "              mode='markers',\n",
    "              colors=\"tomato\",  size=8, symbol=\"circle-open-dot\",\n",
    "              bestfit=True, bestfit_colors=[\"dodgerblue\"],\n",
    "              xTitle=\"Revenue\", yTitle=\"Expenditure\",\n",
    "              title=\"Government Revenue VS Expenditure (in millions)\")\n",
    "\n",
    "\n",
    "#Correlation coefficient\n",
    "Gov_Exp_Corr = np.corrcoef(x = dfSum_Expenditure['Revenue'], y=dfSum_Expenditure['Expenditure'])\n",
    "Gov_Exp_Corr = str(round(Gov_Exp_Corr[0][1],2))\n",
    "\n",
    "\n",
    "printmd(f'<u>**My thoughts, comments and analysis on the above chart:**</u>')\n",
    "\n",
    "printmd(f'This scatterplot shows us the relationship between government revenue and expenditure which can be seen as linear, and relatively strong. \\\n",
    "Calculating the correlationc coefficient, we can see that the coefficient is <u>**{Gov_Exp_Corr}**</u> supporting my inference that the correlation between the government \\\n",
    "operating revenue and expenditure is very high.')\n",
    "print()\n",
    "\n",
    "\n"
   ]
  },
  {
   "cell_type": "code",
   "execution_count": 16,
   "metadata": {
    "scrolled": false
   },
   "outputs": [
    {
     "data": {
      "application/vnd.plotly.v1+json": {
       "config": {
        "linkText": "Export to plot.ly",
        "plotlyServerURL": "https://plot.ly",
        "showLink": true
       },
       "data": [
        {
         "marker": {
          "color": "rgba(226, 74, 51, 0.6)",
          "line": {
           "color": "rgba(226, 74, 51, 1.0)",
           "width": 1
          }
         },
         "name": "Enrolment",
         "orientation": "v",
         "text": "",
         "type": "bar",
         "x": [
          2005,
          2006,
          2007,
          2008,
          2009,
          2010,
          2011,
          2012,
          2013,
          2014,
          2015,
          2016,
          2017,
          2018,
          2019,
          2020,
          2021
         ],
         "y": [
          65322,
          69471,
          73885,
          76969,
          80923,
          83551,
          85497,
          88623,
          90268,
          93531,
          97193,
          100294,
          102293,
          105983,
          110647,
          114074,
          118073
         ]
        },
        {
         "marker": {
          "color": "rgba(62, 111, 176, 0.6)",
          "line": {
           "color": "rgba(62, 111, 176, 1.0)",
           "width": 1
          }
         },
         "name": "Intake",
         "orientation": "v",
         "text": "",
         "type": "bar",
         "x": [
          2005,
          2006,
          2007,
          2008,
          2009,
          2010,
          2011,
          2012,
          2013,
          2014,
          2015,
          2016,
          2017,
          2018,
          2019,
          2020,
          2021
         ],
         "y": [
          18879,
          20696,
          22160,
          21515,
          22958,
          22363,
          23499,
          24639,
          26186,
          26871,
          27318,
          27902,
          27741,
          30042,
          31192,
          31360,
          31494
         ]
        },
        {
         "marker": {
          "color": "rgba(132, 118, 202, 0.6)",
          "line": {
           "color": "rgba(132, 118, 202, 1.0)",
           "width": 1
          }
         },
         "name": "Graduates",
         "orientation": "v",
         "text": "",
         "type": "bar",
         "x": [
          2005,
          2006,
          2007,
          2008,
          2009,
          2010,
          2011,
          2012,
          2013,
          2014,
          2015,
          2016,
          2017,
          2018,
          2019,
          2020,
          2021
         ],
         "y": [
          15361,
          15855,
          16741,
          17426,
          18091,
          18665,
          20510,
          20723,
          23472,
          22571,
          22783,
          23556,
          24498,
          25298,
          25467,
          26288,
          25963
         ]
        }
       ],
       "layout": {
        "legend": {
         "bgcolor": "#FFFFFF",
         "font": {
          "color": "#666666"
         }
        },
        "paper_bgcolor": "#FFFFFF",
        "plot_bgcolor": "#E5E5E5",
        "template": {
         "data": {
          "bar": [
           {
            "error_x": {
             "color": "#2a3f5f"
            },
            "error_y": {
             "color": "#2a3f5f"
            },
            "marker": {
             "line": {
              "color": "#E5ECF6",
              "width": 0.5
             },
             "pattern": {
              "fillmode": "overlay",
              "size": 10,
              "solidity": 0.2
             }
            },
            "type": "bar"
           }
          ],
          "barpolar": [
           {
            "marker": {
             "line": {
              "color": "#E5ECF6",
              "width": 0.5
             },
             "pattern": {
              "fillmode": "overlay",
              "size": 10,
              "solidity": 0.2
             }
            },
            "type": "barpolar"
           }
          ],
          "carpet": [
           {
            "aaxis": {
             "endlinecolor": "#2a3f5f",
             "gridcolor": "white",
             "linecolor": "white",
             "minorgridcolor": "white",
             "startlinecolor": "#2a3f5f"
            },
            "baxis": {
             "endlinecolor": "#2a3f5f",
             "gridcolor": "white",
             "linecolor": "white",
             "minorgridcolor": "white",
             "startlinecolor": "#2a3f5f"
            },
            "type": "carpet"
           }
          ],
          "choropleth": [
           {
            "colorbar": {
             "outlinewidth": 0,
             "ticks": ""
            },
            "type": "choropleth"
           }
          ],
          "contour": [
           {
            "colorbar": {
             "outlinewidth": 0,
             "ticks": ""
            },
            "colorscale": [
             [
              0,
              "#0d0887"
             ],
             [
              0.1111111111111111,
              "#46039f"
             ],
             [
              0.2222222222222222,
              "#7201a8"
             ],
             [
              0.3333333333333333,
              "#9c179e"
             ],
             [
              0.4444444444444444,
              "#bd3786"
             ],
             [
              0.5555555555555556,
              "#d8576b"
             ],
             [
              0.6666666666666666,
              "#ed7953"
             ],
             [
              0.7777777777777778,
              "#fb9f3a"
             ],
             [
              0.8888888888888888,
              "#fdca26"
             ],
             [
              1,
              "#f0f921"
             ]
            ],
            "type": "contour"
           }
          ],
          "contourcarpet": [
           {
            "colorbar": {
             "outlinewidth": 0,
             "ticks": ""
            },
            "type": "contourcarpet"
           }
          ],
          "heatmap": [
           {
            "colorbar": {
             "outlinewidth": 0,
             "ticks": ""
            },
            "colorscale": [
             [
              0,
              "#0d0887"
             ],
             [
              0.1111111111111111,
              "#46039f"
             ],
             [
              0.2222222222222222,
              "#7201a8"
             ],
             [
              0.3333333333333333,
              "#9c179e"
             ],
             [
              0.4444444444444444,
              "#bd3786"
             ],
             [
              0.5555555555555556,
              "#d8576b"
             ],
             [
              0.6666666666666666,
              "#ed7953"
             ],
             [
              0.7777777777777778,
              "#fb9f3a"
             ],
             [
              0.8888888888888888,
              "#fdca26"
             ],
             [
              1,
              "#f0f921"
             ]
            ],
            "type": "heatmap"
           }
          ],
          "heatmapgl": [
           {
            "colorbar": {
             "outlinewidth": 0,
             "ticks": ""
            },
            "colorscale": [
             [
              0,
              "#0d0887"
             ],
             [
              0.1111111111111111,
              "#46039f"
             ],
             [
              0.2222222222222222,
              "#7201a8"
             ],
             [
              0.3333333333333333,
              "#9c179e"
             ],
             [
              0.4444444444444444,
              "#bd3786"
             ],
             [
              0.5555555555555556,
              "#d8576b"
             ],
             [
              0.6666666666666666,
              "#ed7953"
             ],
             [
              0.7777777777777778,
              "#fb9f3a"
             ],
             [
              0.8888888888888888,
              "#fdca26"
             ],
             [
              1,
              "#f0f921"
             ]
            ],
            "type": "heatmapgl"
           }
          ],
          "histogram": [
           {
            "marker": {
             "pattern": {
              "fillmode": "overlay",
              "size": 10,
              "solidity": 0.2
             }
            },
            "type": "histogram"
           }
          ],
          "histogram2d": [
           {
            "colorbar": {
             "outlinewidth": 0,
             "ticks": ""
            },
            "colorscale": [
             [
              0,
              "#0d0887"
             ],
             [
              0.1111111111111111,
              "#46039f"
             ],
             [
              0.2222222222222222,
              "#7201a8"
             ],
             [
              0.3333333333333333,
              "#9c179e"
             ],
             [
              0.4444444444444444,
              "#bd3786"
             ],
             [
              0.5555555555555556,
              "#d8576b"
             ],
             [
              0.6666666666666666,
              "#ed7953"
             ],
             [
              0.7777777777777778,
              "#fb9f3a"
             ],
             [
              0.8888888888888888,
              "#fdca26"
             ],
             [
              1,
              "#f0f921"
             ]
            ],
            "type": "histogram2d"
           }
          ],
          "histogram2dcontour": [
           {
            "colorbar": {
             "outlinewidth": 0,
             "ticks": ""
            },
            "colorscale": [
             [
              0,
              "#0d0887"
             ],
             [
              0.1111111111111111,
              "#46039f"
             ],
             [
              0.2222222222222222,
              "#7201a8"
             ],
             [
              0.3333333333333333,
              "#9c179e"
             ],
             [
              0.4444444444444444,
              "#bd3786"
             ],
             [
              0.5555555555555556,
              "#d8576b"
             ],
             [
              0.6666666666666666,
              "#ed7953"
             ],
             [
              0.7777777777777778,
              "#fb9f3a"
             ],
             [
              0.8888888888888888,
              "#fdca26"
             ],
             [
              1,
              "#f0f921"
             ]
            ],
            "type": "histogram2dcontour"
           }
          ],
          "mesh3d": [
           {
            "colorbar": {
             "outlinewidth": 0,
             "ticks": ""
            },
            "type": "mesh3d"
           }
          ],
          "parcoords": [
           {
            "line": {
             "colorbar": {
              "outlinewidth": 0,
              "ticks": ""
             }
            },
            "type": "parcoords"
           }
          ],
          "pie": [
           {
            "automargin": true,
            "type": "pie"
           }
          ],
          "scatter": [
           {
            "fillpattern": {
             "fillmode": "overlay",
             "size": 10,
             "solidity": 0.2
            },
            "type": "scatter"
           }
          ],
          "scatter3d": [
           {
            "line": {
             "colorbar": {
              "outlinewidth": 0,
              "ticks": ""
             }
            },
            "marker": {
             "colorbar": {
              "outlinewidth": 0,
              "ticks": ""
             }
            },
            "type": "scatter3d"
           }
          ],
          "scattercarpet": [
           {
            "marker": {
             "colorbar": {
              "outlinewidth": 0,
              "ticks": ""
             }
            },
            "type": "scattercarpet"
           }
          ],
          "scattergeo": [
           {
            "marker": {
             "colorbar": {
              "outlinewidth": 0,
              "ticks": ""
             }
            },
            "type": "scattergeo"
           }
          ],
          "scattergl": [
           {
            "marker": {
             "colorbar": {
              "outlinewidth": 0,
              "ticks": ""
             }
            },
            "type": "scattergl"
           }
          ],
          "scattermapbox": [
           {
            "marker": {
             "colorbar": {
              "outlinewidth": 0,
              "ticks": ""
             }
            },
            "type": "scattermapbox"
           }
          ],
          "scatterpolar": [
           {
            "marker": {
             "colorbar": {
              "outlinewidth": 0,
              "ticks": ""
             }
            },
            "type": "scatterpolar"
           }
          ],
          "scatterpolargl": [
           {
            "marker": {
             "colorbar": {
              "outlinewidth": 0,
              "ticks": ""
             }
            },
            "type": "scatterpolargl"
           }
          ],
          "scatterternary": [
           {
            "marker": {
             "colorbar": {
              "outlinewidth": 0,
              "ticks": ""
             }
            },
            "type": "scatterternary"
           }
          ],
          "surface": [
           {
            "colorbar": {
             "outlinewidth": 0,
             "ticks": ""
            },
            "colorscale": [
             [
              0,
              "#0d0887"
             ],
             [
              0.1111111111111111,
              "#46039f"
             ],
             [
              0.2222222222222222,
              "#7201a8"
             ],
             [
              0.3333333333333333,
              "#9c179e"
             ],
             [
              0.4444444444444444,
              "#bd3786"
             ],
             [
              0.5555555555555556,
              "#d8576b"
             ],
             [
              0.6666666666666666,
              "#ed7953"
             ],
             [
              0.7777777777777778,
              "#fb9f3a"
             ],
             [
              0.8888888888888888,
              "#fdca26"
             ],
             [
              1,
              "#f0f921"
             ]
            ],
            "type": "surface"
           }
          ],
          "table": [
           {
            "cells": {
             "fill": {
              "color": "#EBF0F8"
             },
             "line": {
              "color": "white"
             }
            },
            "header": {
             "fill": {
              "color": "#C8D4E3"
             },
             "line": {
              "color": "white"
             }
            },
            "type": "table"
           }
          ]
         },
         "layout": {
          "annotationdefaults": {
           "arrowcolor": "#2a3f5f",
           "arrowhead": 0,
           "arrowwidth": 1
          },
          "autotypenumbers": "strict",
          "coloraxis": {
           "colorbar": {
            "outlinewidth": 0,
            "ticks": ""
           }
          },
          "colorscale": {
           "diverging": [
            [
             0,
             "#8e0152"
            ],
            [
             0.1,
             "#c51b7d"
            ],
            [
             0.2,
             "#de77ae"
            ],
            [
             0.3,
             "#f1b6da"
            ],
            [
             0.4,
             "#fde0ef"
            ],
            [
             0.5,
             "#f7f7f7"
            ],
            [
             0.6,
             "#e6f5d0"
            ],
            [
             0.7,
             "#b8e186"
            ],
            [
             0.8,
             "#7fbc41"
            ],
            [
             0.9,
             "#4d9221"
            ],
            [
             1,
             "#276419"
            ]
           ],
           "sequential": [
            [
             0,
             "#0d0887"
            ],
            [
             0.1111111111111111,
             "#46039f"
            ],
            [
             0.2222222222222222,
             "#7201a8"
            ],
            [
             0.3333333333333333,
             "#9c179e"
            ],
            [
             0.4444444444444444,
             "#bd3786"
            ],
            [
             0.5555555555555556,
             "#d8576b"
            ],
            [
             0.6666666666666666,
             "#ed7953"
            ],
            [
             0.7777777777777778,
             "#fb9f3a"
            ],
            [
             0.8888888888888888,
             "#fdca26"
            ],
            [
             1,
             "#f0f921"
            ]
           ],
           "sequentialminus": [
            [
             0,
             "#0d0887"
            ],
            [
             0.1111111111111111,
             "#46039f"
            ],
            [
             0.2222222222222222,
             "#7201a8"
            ],
            [
             0.3333333333333333,
             "#9c179e"
            ],
            [
             0.4444444444444444,
             "#bd3786"
            ],
            [
             0.5555555555555556,
             "#d8576b"
            ],
            [
             0.6666666666666666,
             "#ed7953"
            ],
            [
             0.7777777777777778,
             "#fb9f3a"
            ],
            [
             0.8888888888888888,
             "#fdca26"
            ],
            [
             1,
             "#f0f921"
            ]
           ]
          },
          "colorway": [
           "#636efa",
           "#EF553B",
           "#00cc96",
           "#ab63fa",
           "#FFA15A",
           "#19d3f3",
           "#FF6692",
           "#B6E880",
           "#FF97FF",
           "#FECB52"
          ],
          "font": {
           "color": "#2a3f5f"
          },
          "geo": {
           "bgcolor": "white",
           "lakecolor": "white",
           "landcolor": "#E5ECF6",
           "showlakes": true,
           "showland": true,
           "subunitcolor": "white"
          },
          "hoverlabel": {
           "align": "left"
          },
          "hovermode": "closest",
          "mapbox": {
           "style": "light"
          },
          "paper_bgcolor": "white",
          "plot_bgcolor": "#E5ECF6",
          "polar": {
           "angularaxis": {
            "gridcolor": "white",
            "linecolor": "white",
            "ticks": ""
           },
           "bgcolor": "#E5ECF6",
           "radialaxis": {
            "gridcolor": "white",
            "linecolor": "white",
            "ticks": ""
           }
          },
          "scene": {
           "xaxis": {
            "backgroundcolor": "#E5ECF6",
            "gridcolor": "white",
            "gridwidth": 2,
            "linecolor": "white",
            "showbackground": true,
            "ticks": "",
            "zerolinecolor": "white"
           },
           "yaxis": {
            "backgroundcolor": "#E5ECF6",
            "gridcolor": "white",
            "gridwidth": 2,
            "linecolor": "white",
            "showbackground": true,
            "ticks": "",
            "zerolinecolor": "white"
           },
           "zaxis": {
            "backgroundcolor": "#E5ECF6",
            "gridcolor": "white",
            "gridwidth": 2,
            "linecolor": "white",
            "showbackground": true,
            "ticks": "",
            "zerolinecolor": "white"
           }
          },
          "shapedefaults": {
           "line": {
            "color": "#2a3f5f"
           }
          },
          "ternary": {
           "aaxis": {
            "gridcolor": "white",
            "linecolor": "white",
            "ticks": ""
           },
           "baxis": {
            "gridcolor": "white",
            "linecolor": "white",
            "ticks": ""
           },
           "bgcolor": "#E5ECF6",
           "caxis": {
            "gridcolor": "white",
            "linecolor": "white",
            "ticks": ""
           }
          },
          "title": {
           "x": 0.05
          },
          "xaxis": {
           "automargin": true,
           "gridcolor": "white",
           "linecolor": "white",
           "ticks": "",
           "title": {
            "standoff": 15
           },
           "zerolinecolor": "white",
           "zerolinewidth": 2
          },
          "yaxis": {
           "automargin": true,
           "gridcolor": "white",
           "linecolor": "white",
           "ticks": "",
           "title": {
            "standoff": 15
           },
           "zerolinecolor": "white",
           "zerolinewidth": 2
          }
         }
        },
        "title": {
         "font": {
          "color": "#151516"
         },
         "text": "Enrolment, Intake, and Graduates by Year"
        },
        "xaxis": {
         "gridcolor": "#F6F6F6",
         "showgrid": true,
         "tickfont": {
          "color": "#666666"
         },
         "title": {
          "font": {
           "color": "#666666"
          },
          "text": "Year"
         },
         "zerolinecolor": "#F6F6F6"
        },
        "yaxis": {
         "gridcolor": "#F6F6F6",
         "showgrid": true,
         "tickfont": {
          "color": "#666666"
         },
         "title": {
          "font": {
           "color": "#666666"
          },
          "text": "Number of Students"
         },
         "zerolinecolor": "#F6F6F6"
        }
       }
      },
      "text/html": [
       "<div>                            <div id=\"ea872151-013d-4220-a6f1-c124f7567000\" class=\"plotly-graph-div\" style=\"height:525px; width:100%;\"></div>            <script type=\"text/javascript\">                require([\"plotly\"], function(Plotly) {                    window.PLOTLYENV=window.PLOTLYENV || {};\n",
       "                    window.PLOTLYENV.BASE_URL='https://plot.ly';                                    if (document.getElementById(\"ea872151-013d-4220-a6f1-c124f7567000\")) {                    Plotly.newPlot(                        \"ea872151-013d-4220-a6f1-c124f7567000\",                        [{\"marker\":{\"color\":\"rgba(226, 74, 51, 0.6)\",\"line\":{\"color\":\"rgba(226, 74, 51, 1.0)\",\"width\":1}},\"name\":\"Enrolment\",\"orientation\":\"v\",\"text\":\"\",\"x\":[2005,2006,2007,2008,2009,2010,2011,2012,2013,2014,2015,2016,2017,2018,2019,2020,2021],\"y\":[65322,69471,73885,76969,80923,83551,85497,88623,90268,93531,97193,100294,102293,105983,110647,114074,118073],\"type\":\"bar\"},{\"marker\":{\"color\":\"rgba(62, 111, 176, 0.6)\",\"line\":{\"color\":\"rgba(62, 111, 176, 1.0)\",\"width\":1}},\"name\":\"Intake\",\"orientation\":\"v\",\"text\":\"\",\"x\":[2005,2006,2007,2008,2009,2010,2011,2012,2013,2014,2015,2016,2017,2018,2019,2020,2021],\"y\":[18879,20696,22160,21515,22958,22363,23499,24639,26186,26871,27318,27902,27741,30042,31192,31360,31494],\"type\":\"bar\"},{\"marker\":{\"color\":\"rgba(132, 118, 202, 0.6)\",\"line\":{\"color\":\"rgba(132, 118, 202, 1.0)\",\"width\":1}},\"name\":\"Graduates\",\"orientation\":\"v\",\"text\":\"\",\"x\":[2005,2006,2007,2008,2009,2010,2011,2012,2013,2014,2015,2016,2017,2018,2019,2020,2021],\"y\":[15361,15855,16741,17426,18091,18665,20510,20723,23472,22571,22783,23556,24498,25298,25467,26288,25963],\"type\":\"bar\"}],                        {\"legend\":{\"bgcolor\":\"#FFFFFF\",\"font\":{\"color\":\"#666666\"}},\"paper_bgcolor\":\"#FFFFFF\",\"plot_bgcolor\":\"#E5E5E5\",\"template\":{\"data\":{\"barpolar\":[{\"marker\":{\"line\":{\"color\":\"#E5ECF6\",\"width\":0.5},\"pattern\":{\"fillmode\":\"overlay\",\"size\":10,\"solidity\":0.2}},\"type\":\"barpolar\"}],\"bar\":[{\"error_x\":{\"color\":\"#2a3f5f\"},\"error_y\":{\"color\":\"#2a3f5f\"},\"marker\":{\"line\":{\"color\":\"#E5ECF6\",\"width\":0.5},\"pattern\":{\"fillmode\":\"overlay\",\"size\":10,\"solidity\":0.2}},\"type\":\"bar\"}],\"carpet\":[{\"aaxis\":{\"endlinecolor\":\"#2a3f5f\",\"gridcolor\":\"white\",\"linecolor\":\"white\",\"minorgridcolor\":\"white\",\"startlinecolor\":\"#2a3f5f\"},\"baxis\":{\"endlinecolor\":\"#2a3f5f\",\"gridcolor\":\"white\",\"linecolor\":\"white\",\"minorgridcolor\":\"white\",\"startlinecolor\":\"#2a3f5f\"},\"type\":\"carpet\"}],\"choropleth\":[{\"colorbar\":{\"outlinewidth\":0,\"ticks\":\"\"},\"type\":\"choropleth\"}],\"contourcarpet\":[{\"colorbar\":{\"outlinewidth\":0,\"ticks\":\"\"},\"type\":\"contourcarpet\"}],\"contour\":[{\"colorbar\":{\"outlinewidth\":0,\"ticks\":\"\"},\"colorscale\":[[0.0,\"#0d0887\"],[0.1111111111111111,\"#46039f\"],[0.2222222222222222,\"#7201a8\"],[0.3333333333333333,\"#9c179e\"],[0.4444444444444444,\"#bd3786\"],[0.5555555555555556,\"#d8576b\"],[0.6666666666666666,\"#ed7953\"],[0.7777777777777778,\"#fb9f3a\"],[0.8888888888888888,\"#fdca26\"],[1.0,\"#f0f921\"]],\"type\":\"contour\"}],\"heatmapgl\":[{\"colorbar\":{\"outlinewidth\":0,\"ticks\":\"\"},\"colorscale\":[[0.0,\"#0d0887\"],[0.1111111111111111,\"#46039f\"],[0.2222222222222222,\"#7201a8\"],[0.3333333333333333,\"#9c179e\"],[0.4444444444444444,\"#bd3786\"],[0.5555555555555556,\"#d8576b\"],[0.6666666666666666,\"#ed7953\"],[0.7777777777777778,\"#fb9f3a\"],[0.8888888888888888,\"#fdca26\"],[1.0,\"#f0f921\"]],\"type\":\"heatmapgl\"}],\"heatmap\":[{\"colorbar\":{\"outlinewidth\":0,\"ticks\":\"\"},\"colorscale\":[[0.0,\"#0d0887\"],[0.1111111111111111,\"#46039f\"],[0.2222222222222222,\"#7201a8\"],[0.3333333333333333,\"#9c179e\"],[0.4444444444444444,\"#bd3786\"],[0.5555555555555556,\"#d8576b\"],[0.6666666666666666,\"#ed7953\"],[0.7777777777777778,\"#fb9f3a\"],[0.8888888888888888,\"#fdca26\"],[1.0,\"#f0f921\"]],\"type\":\"heatmap\"}],\"histogram2dcontour\":[{\"colorbar\":{\"outlinewidth\":0,\"ticks\":\"\"},\"colorscale\":[[0.0,\"#0d0887\"],[0.1111111111111111,\"#46039f\"],[0.2222222222222222,\"#7201a8\"],[0.3333333333333333,\"#9c179e\"],[0.4444444444444444,\"#bd3786\"],[0.5555555555555556,\"#d8576b\"],[0.6666666666666666,\"#ed7953\"],[0.7777777777777778,\"#fb9f3a\"],[0.8888888888888888,\"#fdca26\"],[1.0,\"#f0f921\"]],\"type\":\"histogram2dcontour\"}],\"histogram2d\":[{\"colorbar\":{\"outlinewidth\":0,\"ticks\":\"\"},\"colorscale\":[[0.0,\"#0d0887\"],[0.1111111111111111,\"#46039f\"],[0.2222222222222222,\"#7201a8\"],[0.3333333333333333,\"#9c179e\"],[0.4444444444444444,\"#bd3786\"],[0.5555555555555556,\"#d8576b\"],[0.6666666666666666,\"#ed7953\"],[0.7777777777777778,\"#fb9f3a\"],[0.8888888888888888,\"#fdca26\"],[1.0,\"#f0f921\"]],\"type\":\"histogram2d\"}],\"histogram\":[{\"marker\":{\"pattern\":{\"fillmode\":\"overlay\",\"size\":10,\"solidity\":0.2}},\"type\":\"histogram\"}],\"mesh3d\":[{\"colorbar\":{\"outlinewidth\":0,\"ticks\":\"\"},\"type\":\"mesh3d\"}],\"parcoords\":[{\"line\":{\"colorbar\":{\"outlinewidth\":0,\"ticks\":\"\"}},\"type\":\"parcoords\"}],\"pie\":[{\"automargin\":true,\"type\":\"pie\"}],\"scatter3d\":[{\"line\":{\"colorbar\":{\"outlinewidth\":0,\"ticks\":\"\"}},\"marker\":{\"colorbar\":{\"outlinewidth\":0,\"ticks\":\"\"}},\"type\":\"scatter3d\"}],\"scattercarpet\":[{\"marker\":{\"colorbar\":{\"outlinewidth\":0,\"ticks\":\"\"}},\"type\":\"scattercarpet\"}],\"scattergeo\":[{\"marker\":{\"colorbar\":{\"outlinewidth\":0,\"ticks\":\"\"}},\"type\":\"scattergeo\"}],\"scattergl\":[{\"marker\":{\"colorbar\":{\"outlinewidth\":0,\"ticks\":\"\"}},\"type\":\"scattergl\"}],\"scattermapbox\":[{\"marker\":{\"colorbar\":{\"outlinewidth\":0,\"ticks\":\"\"}},\"type\":\"scattermapbox\"}],\"scatterpolargl\":[{\"marker\":{\"colorbar\":{\"outlinewidth\":0,\"ticks\":\"\"}},\"type\":\"scatterpolargl\"}],\"scatterpolar\":[{\"marker\":{\"colorbar\":{\"outlinewidth\":0,\"ticks\":\"\"}},\"type\":\"scatterpolar\"}],\"scatter\":[{\"fillpattern\":{\"fillmode\":\"overlay\",\"size\":10,\"solidity\":0.2},\"type\":\"scatter\"}],\"scatterternary\":[{\"marker\":{\"colorbar\":{\"outlinewidth\":0,\"ticks\":\"\"}},\"type\":\"scatterternary\"}],\"surface\":[{\"colorbar\":{\"outlinewidth\":0,\"ticks\":\"\"},\"colorscale\":[[0.0,\"#0d0887\"],[0.1111111111111111,\"#46039f\"],[0.2222222222222222,\"#7201a8\"],[0.3333333333333333,\"#9c179e\"],[0.4444444444444444,\"#bd3786\"],[0.5555555555555556,\"#d8576b\"],[0.6666666666666666,\"#ed7953\"],[0.7777777777777778,\"#fb9f3a\"],[0.8888888888888888,\"#fdca26\"],[1.0,\"#f0f921\"]],\"type\":\"surface\"}],\"table\":[{\"cells\":{\"fill\":{\"color\":\"#EBF0F8\"},\"line\":{\"color\":\"white\"}},\"header\":{\"fill\":{\"color\":\"#C8D4E3\"},\"line\":{\"color\":\"white\"}},\"type\":\"table\"}]},\"layout\":{\"annotationdefaults\":{\"arrowcolor\":\"#2a3f5f\",\"arrowhead\":0,\"arrowwidth\":1},\"autotypenumbers\":\"strict\",\"coloraxis\":{\"colorbar\":{\"outlinewidth\":0,\"ticks\":\"\"}},\"colorscale\":{\"diverging\":[[0,\"#8e0152\"],[0.1,\"#c51b7d\"],[0.2,\"#de77ae\"],[0.3,\"#f1b6da\"],[0.4,\"#fde0ef\"],[0.5,\"#f7f7f7\"],[0.6,\"#e6f5d0\"],[0.7,\"#b8e186\"],[0.8,\"#7fbc41\"],[0.9,\"#4d9221\"],[1,\"#276419\"]],\"sequential\":[[0.0,\"#0d0887\"],[0.1111111111111111,\"#46039f\"],[0.2222222222222222,\"#7201a8\"],[0.3333333333333333,\"#9c179e\"],[0.4444444444444444,\"#bd3786\"],[0.5555555555555556,\"#d8576b\"],[0.6666666666666666,\"#ed7953\"],[0.7777777777777778,\"#fb9f3a\"],[0.8888888888888888,\"#fdca26\"],[1.0,\"#f0f921\"]],\"sequentialminus\":[[0.0,\"#0d0887\"],[0.1111111111111111,\"#46039f\"],[0.2222222222222222,\"#7201a8\"],[0.3333333333333333,\"#9c179e\"],[0.4444444444444444,\"#bd3786\"],[0.5555555555555556,\"#d8576b\"],[0.6666666666666666,\"#ed7953\"],[0.7777777777777778,\"#fb9f3a\"],[0.8888888888888888,\"#fdca26\"],[1.0,\"#f0f921\"]]},\"colorway\":[\"#636efa\",\"#EF553B\",\"#00cc96\",\"#ab63fa\",\"#FFA15A\",\"#19d3f3\",\"#FF6692\",\"#B6E880\",\"#FF97FF\",\"#FECB52\"],\"font\":{\"color\":\"#2a3f5f\"},\"geo\":{\"bgcolor\":\"white\",\"lakecolor\":\"white\",\"landcolor\":\"#E5ECF6\",\"showlakes\":true,\"showland\":true,\"subunitcolor\":\"white\"},\"hoverlabel\":{\"align\":\"left\"},\"hovermode\":\"closest\",\"mapbox\":{\"style\":\"light\"},\"paper_bgcolor\":\"white\",\"plot_bgcolor\":\"#E5ECF6\",\"polar\":{\"angularaxis\":{\"gridcolor\":\"white\",\"linecolor\":\"white\",\"ticks\":\"\"},\"bgcolor\":\"#E5ECF6\",\"radialaxis\":{\"gridcolor\":\"white\",\"linecolor\":\"white\",\"ticks\":\"\"}},\"scene\":{\"xaxis\":{\"backgroundcolor\":\"#E5ECF6\",\"gridcolor\":\"white\",\"gridwidth\":2,\"linecolor\":\"white\",\"showbackground\":true,\"ticks\":\"\",\"zerolinecolor\":\"white\"},\"yaxis\":{\"backgroundcolor\":\"#E5ECF6\",\"gridcolor\":\"white\",\"gridwidth\":2,\"linecolor\":\"white\",\"showbackground\":true,\"ticks\":\"\",\"zerolinecolor\":\"white\"},\"zaxis\":{\"backgroundcolor\":\"#E5ECF6\",\"gridcolor\":\"white\",\"gridwidth\":2,\"linecolor\":\"white\",\"showbackground\":true,\"ticks\":\"\",\"zerolinecolor\":\"white\"}},\"shapedefaults\":{\"line\":{\"color\":\"#2a3f5f\"}},\"ternary\":{\"aaxis\":{\"gridcolor\":\"white\",\"linecolor\":\"white\",\"ticks\":\"\"},\"baxis\":{\"gridcolor\":\"white\",\"linecolor\":\"white\",\"ticks\":\"\"},\"bgcolor\":\"#E5ECF6\",\"caxis\":{\"gridcolor\":\"white\",\"linecolor\":\"white\",\"ticks\":\"\"}},\"title\":{\"x\":0.05},\"xaxis\":{\"automargin\":true,\"gridcolor\":\"white\",\"linecolor\":\"white\",\"ticks\":\"\",\"title\":{\"standoff\":15},\"zerolinecolor\":\"white\",\"zerolinewidth\":2},\"yaxis\":{\"automargin\":true,\"gridcolor\":\"white\",\"linecolor\":\"white\",\"ticks\":\"\",\"title\":{\"standoff\":15},\"zerolinecolor\":\"white\",\"zerolinewidth\":2}}},\"title\":{\"font\":{\"color\":\"#151516\"},\"text\":\"Enrolment, Intake, and Graduates by Year\"},\"xaxis\":{\"gridcolor\":\"#F6F6F6\",\"showgrid\":true,\"tickfont\":{\"color\":\"#666666\"},\"title\":{\"font\":{\"color\":\"#666666\"},\"text\":\"Year\"},\"zerolinecolor\":\"#F6F6F6\"},\"yaxis\":{\"gridcolor\":\"#F6F6F6\",\"showgrid\":true,\"tickfont\":{\"color\":\"#666666\"},\"title\":{\"font\":{\"color\":\"#666666\"},\"text\":\"Number of Students\"},\"zerolinecolor\":\"#F6F6F6\"}},                        {\"showLink\": true, \"linkText\": \"Export to plot.ly\", \"plotlyServerURL\": \"https://plot.ly\", \"responsive\": true}                    ).then(function(){\n",
       "                            \n",
       "var gd = document.getElementById('ea872151-013d-4220-a6f1-c124f7567000');\n",
       "var x = new MutationObserver(function (mutations, observer) {{\n",
       "        var display = window.getComputedStyle(gd).display;\n",
       "        if (!display || display === 'none') {{\n",
       "            console.log([gd, 'removed!']);\n",
       "            Plotly.purge(gd);\n",
       "            observer.disconnect();\n",
       "        }}\n",
       "}});\n",
       "\n",
       "// Listen for the removal of the full notebook cells\n",
       "var notebookContainer = gd.closest('#notebook-container');\n",
       "if (notebookContainer) {{\n",
       "    x.observe(notebookContainer, {childList: true});\n",
       "}}\n",
       "\n",
       "// Listen for the clearing of the current output cell\n",
       "var outputEl = gd.closest('.output');\n",
       "if (outputEl) {{\n",
       "    x.observe(outputEl, {childList: true});\n",
       "}}\n",
       "\n",
       "                        })                };                });            </script>        </div>"
      ]
     },
     "metadata": {},
     "output_type": "display_data"
    },
    {
     "name": "stdout",
     "output_type": "stream",
     "text": [
      "\n"
     ]
    },
    {
     "data": {
      "text/markdown": [
       "<u>**My thoughts, comments and analysis on the above chart:**</u>"
      ],
      "text/plain": [
       "<IPython.core.display.Markdown object>"
      ]
     },
     "metadata": {},
     "output_type": "display_data"
    },
    {
     "data": {
      "text/markdown": [
       "As seen from the chart, the amount of university enrolment, intake, and graduates are increasing at a very steady pace which is expected. Something that surprised me however is that the percentage of enrolled students that were actually accepted and counted as an intake is so low. On **average 28.06 percent of students who enrol are accepted into university**. With the graduating percentage being much more forgiving at **83.16 percent of students who are successful in their application graduating**."
      ],
      "text/plain": [
       "<IPython.core.display.Markdown object>"
      ]
     },
     "metadata": {},
     "output_type": "display_data"
    },
    {
     "data": {
      "application/vnd.plotly.v1+json": {
       "config": {
        "linkText": "Export to plot.ly",
        "plotlyServerURL": "https://plot.ly",
        "showLink": true
       },
       "data": [
        {
         "marker": {
          "color": "rgba(226, 74, 51, 0.6)",
          "line": {
           "color": "rgba(226, 74, 51, 1.0)",
           "width": 1
          }
         },
         "name": "Accountancy",
         "orientation": "v",
         "text": "",
         "type": "bar",
         "x": [
          2005,
          2006,
          2007,
          2008,
          2009,
          2010,
          2011,
          2012,
          2013,
          2014,
          2015,
          2016,
          2017,
          2018,
          2019,
          2020,
          2021
         ],
         "y": [
          1406,
          1491,
          1625,
          1693,
          1805,
          1858,
          1718,
          1895,
          1864,
          2375,
          2300,
          2433,
          2342,
          2152,
          2213,
          2180,
          2113
         ]
        },
        {
         "marker": {
          "color": "rgba(62, 111, 176, 0.6)",
          "line": {
           "color": "rgba(62, 111, 176, 1.0)",
           "width": 1
          }
         },
         "name": "Architecture, Building & Real Estate",
         "orientation": "v",
         "text": "",
         "type": "bar",
         "x": [
          2005,
          2006,
          2007,
          2008,
          2009,
          2010,
          2011,
          2012,
          2013,
          2014,
          2015,
          2016,
          2017,
          2018,
          2019,
          2020,
          2021
         ],
         "y": [
          474,
          605,
          766,
          724,
          688,
          706,
          790,
          611,
          626,
          784,
          681,
          671,
          629,
          738,
          780,
          787,
          685
         ]
        },
        {
         "marker": {
          "color": "rgba(132, 118, 202, 0.6)",
          "line": {
           "color": "rgba(132, 118, 202, 1.0)",
           "width": 1
          }
         },
         "name": "Business & Administration",
         "orientation": "v",
         "text": "",
         "type": "bar",
         "x": [
          2005,
          2006,
          2007,
          2008,
          2009,
          2010,
          2011,
          2012,
          2013,
          2014,
          2015,
          2016,
          2017,
          2018,
          2019,
          2020,
          2021
         ],
         "y": [
          2446,
          2807,
          2802,
          2479,
          2343,
          2508,
          2547,
          2721,
          2757,
          2967,
          3392,
          3433,
          3798,
          4486,
          4969,
          5417,
          5529
         ]
        },
        {
         "marker": {
          "color": "rgba(101, 101, 101, 0.6)",
          "line": {
           "color": "rgba(101, 101, 101, 1.0)",
           "width": 1
          }
         },
         "name": "Dentistry",
         "orientation": "v",
         "text": "",
         "type": "bar",
         "x": [
          2005,
          2006,
          2007,
          2008,
          2009,
          2010,
          2011,
          2012,
          2013,
          2014,
          2015,
          2016,
          2017,
          2018,
          2019,
          2020,
          2021
         ],
         "y": [
          52,
          68,
          68,
          65,
          77,
          79,
          77,
          83,
          85,
          92,
          88,
          93,
          84,
          93,
          99,
          131,
          146
         ]
        },
        {
         "marker": {
          "color": "rgba(251, 193, 94, 0.6)",
          "line": {
           "color": "rgba(251, 193, 94, 1.0)",
           "width": 1
          }
         },
         "name": "Education",
         "orientation": "v",
         "text": "",
         "type": "bar",
         "x": [
          2005,
          2006,
          2007,
          2008,
          2009,
          2010,
          2011,
          2012,
          2013,
          2014,
          2015,
          2016,
          2017,
          2018,
          2019,
          2020,
          2021
         ],
         "y": [
          0,
          0,
          0,
          0,
          0,
          0,
          690,
          761,
          560,
          534,
          541,
          389,
          320,
          405,
          346,
          337,
          348
         ]
        },
        {
         "marker": {
          "color": "rgba(142, 186, 66, 0.6)",
          "line": {
           "color": "rgba(142, 186, 66, 1.0)",
           "width": 1
          }
         },
         "name": "Engineering Sciences",
         "orientation": "v",
         "text": "",
         "type": "bar",
         "x": [
          2005,
          2006,
          2007,
          2008,
          2009,
          2010,
          2011,
          2012,
          2013,
          2014,
          2015,
          2016,
          2017,
          2018,
          2019,
          2020,
          2021
         ],
         "y": [
          5198,
          5126,
          5256,
          4662,
          5477,
          5224,
          5489,
          5780,
          6215,
          6379,
          6363,
          6330,
          6729,
          6697,
          6574,
          6728,
          6513
         ]
        },
        {
         "marker": {
          "color": "rgba(255, 181, 184, 0.6)",
          "line": {
           "color": "rgba(255, 181, 184, 1.0)",
           "width": 1
          }
         },
         "name": "Fine & Applied Arts",
         "orientation": "v",
         "text": "",
         "type": "bar",
         "x": [
          2005,
          2006,
          2007,
          2008,
          2009,
          2010,
          2011,
          2012,
          2013,
          2014,
          2015,
          2016,
          2017,
          2018,
          2019,
          2020,
          2021
         ],
         "y": [
          266,
          370,
          389,
          365,
          417,
          531,
          527,
          706,
          742,
          795,
          710,
          755,
          740,
          657,
          672,
          635,
          627
         ]
        },
        {
         "marker": {
          "color": "rgba(255, 181, 184, 0.6)",
          "line": {
           "color": "rgba(255, 181, 184, 0.8999999999999999)",
           "width": 1
          }
         },
         "name": "Health Sciences",
         "orientation": "v",
         "text": "",
         "type": "bar",
         "x": [
          2005,
          2006,
          2007,
          2008,
          2009,
          2010,
          2011,
          2012,
          2013,
          2014,
          2015,
          2016,
          2017,
          2018,
          2019,
          2020,
          2021
         ],
         "y": [
          325,
          441,
          466,
          432,
          499,
          465,
          611,
          806,
          945,
          923,
          986,
          1391,
          1665,
          1729,
          1829,
          1779,
          1910
         ]
        },
        {
         "marker": {
          "color": "rgba(226, 74, 51, 0.6)",
          "line": {
           "color": "rgba(226, 74, 51, 0.8999999999999999)",
           "width": 1
          }
         },
         "name": "Humanities & Social Sciences",
         "orientation": "v",
         "text": "",
         "type": "bar",
         "x": [
          2005,
          2006,
          2007,
          2008,
          2009,
          2010,
          2011,
          2012,
          2013,
          2014,
          2015,
          2016,
          2017,
          2018,
          2019,
          2020,
          2021
         ],
         "y": [
          3877,
          4386,
          4868,
          4794,
          5220,
          4498,
          4113,
          4354,
          5318,
          5236,
          5349,
          5424,
          5241,
          5695,
          5610,
          4931,
          4516
         ]
        },
        {
         "marker": {
          "color": "rgba(62, 111, 176, 0.6)",
          "line": {
           "color": "rgba(62, 111, 176, 0.8999999999999999)",
           "width": 1
          }
         },
         "name": "Information Technology",
         "orientation": "v",
         "text": "",
         "type": "bar",
         "x": [
          2005,
          2006,
          2007,
          2008,
          2009,
          2010,
          2011,
          2012,
          2013,
          2014,
          2015,
          2016,
          2017,
          2018,
          2019,
          2020,
          2021
         ],
         "y": [
          1053,
          913,
          1025,
          1340,
          1311,
          1215,
          1421,
          1382,
          1437,
          1509,
          1636,
          1777,
          2027,
          2724,
          3394,
          3709,
          3657
         ]
        },
        {
         "marker": {
          "color": "rgba(132, 118, 202, 0.6)",
          "line": {
           "color": "rgba(132, 118, 202, 0.8999999999999999)",
           "width": 1
          }
         },
         "name": "Law",
         "orientation": "v",
         "text": "",
         "type": "bar",
         "x": [
          2005,
          2006,
          2007,
          2008,
          2009,
          2010,
          2011,
          2012,
          2013,
          2014,
          2015,
          2016,
          2017,
          2018,
          2019,
          2020,
          2021
         ],
         "y": [
          345,
          340,
          540,
          577,
          569,
          525,
          536,
          565,
          611,
          567,
          576,
          609,
          592,
          706,
          680,
          722,
          715
         ]
        },
        {
         "marker": {
          "color": "rgba(101, 101, 101, 0.6)",
          "line": {
           "color": "rgba(101, 101, 101, 0.8999999999999999)",
           "width": 1
          }
         },
         "name": "Mass Communication",
         "orientation": "v",
         "text": "",
         "type": "bar",
         "x": [
          2005,
          2006,
          2007,
          2008,
          2009,
          2010,
          2011,
          2012,
          2013,
          2014,
          2015,
          2016,
          2017,
          2018,
          2019,
          2020,
          2021
         ],
         "y": [
          302,
          333,
          318,
          302,
          270,
          286,
          309,
          323,
          321,
          324,
          402,
          338,
          324,
          334,
          312,
          312,
          316
         ]
        },
        {
         "marker": {
          "color": "rgba(251, 193, 94, 0.6)",
          "line": {
           "color": "rgba(251, 193, 94, 0.8999999999999999)",
           "width": 1
          }
         },
         "name": "Medicine",
         "orientation": "v",
         "text": "",
         "type": "bar",
         "x": [
          2005,
          2006,
          2007,
          2008,
          2009,
          2010,
          2011,
          2012,
          2013,
          2014,
          2015,
          2016,
          2017,
          2018,
          2019,
          2020,
          2021
         ],
         "y": [
          336,
          370,
          366,
          387,
          386,
          381,
          428,
          457,
          543,
          561,
          566,
          614,
          617,
          645,
          624,
          701,
          698
         ]
        },
        {
         "marker": {
          "color": "rgba(142, 186, 66, 0.6)",
          "line": {
           "color": "rgba(142, 186, 66, 0.8999999999999999)",
           "width": 1
          }
         },
         "name": "Natural & Mathematical Sciences",
         "orientation": "v",
         "text": "",
         "type": "bar",
         "x": [
          2005,
          2006,
          2007,
          2008,
          2009,
          2010,
          2011,
          2012,
          2013,
          2014,
          2015,
          2016,
          2017,
          2018,
          2019,
          2020,
          2021
         ],
         "y": [
          0,
          0,
          0,
          0,
          0,
          0,
          0,
          0,
          0,
          0,
          0,
          0,
          0,
          0,
          0,
          2570,
          3243
         ]
        },
        {
         "marker": {
          "color": "rgba(142, 186, 66, 0.6)",
          "line": {
           "color": "rgba(142, 186, 66, 0.7999999999999998)",
           "width": 1
          }
         },
         "name": "Natural, Physical & Mathematical Sciences",
         "orientation": "v",
         "text": "",
         "type": "bar",
         "x": [
          2005,
          2006,
          2007,
          2008,
          2009,
          2010,
          2011,
          2012,
          2013,
          2014,
          2015,
          2016,
          2017,
          2018,
          2019,
          2020,
          2021
         ],
         "y": [
          2705,
          3342,
          3552,
          3594,
          3795,
          3529,
          3587,
          3626,
          3667,
          3633,
          3435,
          3334,
          2310,
          2655,
          2770,
          0,
          0
         ]
        },
        {
         "marker": {
          "color": "rgba(255, 181, 184, 0.6)",
          "line": {
           "color": "rgba(255, 181, 184, 0.7999999999999998)",
           "width": 1
          }
         },
         "name": "Services",
         "orientation": "v",
         "text": "",
         "type": "bar",
         "x": [
          2005,
          2006,
          2007,
          2008,
          2009,
          2010,
          2011,
          2012,
          2013,
          2014,
          2015,
          2016,
          2017,
          2018,
          2019,
          2020,
          2021
         ],
         "y": [
          94,
          104,
          119,
          101,
          101,
          558,
          656,
          569,
          495,
          192,
          293,
          311,
          323,
          326,
          320,
          421,
          478
         ]
        }
       ],
       "layout": {
        "barmode": "stack",
        "legend": {
         "bgcolor": "#FFFFFF",
         "font": {
          "color": "#666666"
         },
         "traceorder": "normal"
        },
        "paper_bgcolor": "#FFFFFF",
        "plot_bgcolor": "#E5E5E5",
        "template": {
         "data": {
          "bar": [
           {
            "error_x": {
             "color": "#2a3f5f"
            },
            "error_y": {
             "color": "#2a3f5f"
            },
            "marker": {
             "line": {
              "color": "#E5ECF6",
              "width": 0.5
             },
             "pattern": {
              "fillmode": "overlay",
              "size": 10,
              "solidity": 0.2
             }
            },
            "type": "bar"
           }
          ],
          "barpolar": [
           {
            "marker": {
             "line": {
              "color": "#E5ECF6",
              "width": 0.5
             },
             "pattern": {
              "fillmode": "overlay",
              "size": 10,
              "solidity": 0.2
             }
            },
            "type": "barpolar"
           }
          ],
          "carpet": [
           {
            "aaxis": {
             "endlinecolor": "#2a3f5f",
             "gridcolor": "white",
             "linecolor": "white",
             "minorgridcolor": "white",
             "startlinecolor": "#2a3f5f"
            },
            "baxis": {
             "endlinecolor": "#2a3f5f",
             "gridcolor": "white",
             "linecolor": "white",
             "minorgridcolor": "white",
             "startlinecolor": "#2a3f5f"
            },
            "type": "carpet"
           }
          ],
          "choropleth": [
           {
            "colorbar": {
             "outlinewidth": 0,
             "ticks": ""
            },
            "type": "choropleth"
           }
          ],
          "contour": [
           {
            "colorbar": {
             "outlinewidth": 0,
             "ticks": ""
            },
            "colorscale": [
             [
              0,
              "#0d0887"
             ],
             [
              0.1111111111111111,
              "#46039f"
             ],
             [
              0.2222222222222222,
              "#7201a8"
             ],
             [
              0.3333333333333333,
              "#9c179e"
             ],
             [
              0.4444444444444444,
              "#bd3786"
             ],
             [
              0.5555555555555556,
              "#d8576b"
             ],
             [
              0.6666666666666666,
              "#ed7953"
             ],
             [
              0.7777777777777778,
              "#fb9f3a"
             ],
             [
              0.8888888888888888,
              "#fdca26"
             ],
             [
              1,
              "#f0f921"
             ]
            ],
            "type": "contour"
           }
          ],
          "contourcarpet": [
           {
            "colorbar": {
             "outlinewidth": 0,
             "ticks": ""
            },
            "type": "contourcarpet"
           }
          ],
          "heatmap": [
           {
            "colorbar": {
             "outlinewidth": 0,
             "ticks": ""
            },
            "colorscale": [
             [
              0,
              "#0d0887"
             ],
             [
              0.1111111111111111,
              "#46039f"
             ],
             [
              0.2222222222222222,
              "#7201a8"
             ],
             [
              0.3333333333333333,
              "#9c179e"
             ],
             [
              0.4444444444444444,
              "#bd3786"
             ],
             [
              0.5555555555555556,
              "#d8576b"
             ],
             [
              0.6666666666666666,
              "#ed7953"
             ],
             [
              0.7777777777777778,
              "#fb9f3a"
             ],
             [
              0.8888888888888888,
              "#fdca26"
             ],
             [
              1,
              "#f0f921"
             ]
            ],
            "type": "heatmap"
           }
          ],
          "heatmapgl": [
           {
            "colorbar": {
             "outlinewidth": 0,
             "ticks": ""
            },
            "colorscale": [
             [
              0,
              "#0d0887"
             ],
             [
              0.1111111111111111,
              "#46039f"
             ],
             [
              0.2222222222222222,
              "#7201a8"
             ],
             [
              0.3333333333333333,
              "#9c179e"
             ],
             [
              0.4444444444444444,
              "#bd3786"
             ],
             [
              0.5555555555555556,
              "#d8576b"
             ],
             [
              0.6666666666666666,
              "#ed7953"
             ],
             [
              0.7777777777777778,
              "#fb9f3a"
             ],
             [
              0.8888888888888888,
              "#fdca26"
             ],
             [
              1,
              "#f0f921"
             ]
            ],
            "type": "heatmapgl"
           }
          ],
          "histogram": [
           {
            "marker": {
             "pattern": {
              "fillmode": "overlay",
              "size": 10,
              "solidity": 0.2
             }
            },
            "type": "histogram"
           }
          ],
          "histogram2d": [
           {
            "colorbar": {
             "outlinewidth": 0,
             "ticks": ""
            },
            "colorscale": [
             [
              0,
              "#0d0887"
             ],
             [
              0.1111111111111111,
              "#46039f"
             ],
             [
              0.2222222222222222,
              "#7201a8"
             ],
             [
              0.3333333333333333,
              "#9c179e"
             ],
             [
              0.4444444444444444,
              "#bd3786"
             ],
             [
              0.5555555555555556,
              "#d8576b"
             ],
             [
              0.6666666666666666,
              "#ed7953"
             ],
             [
              0.7777777777777778,
              "#fb9f3a"
             ],
             [
              0.8888888888888888,
              "#fdca26"
             ],
             [
              1,
              "#f0f921"
             ]
            ],
            "type": "histogram2d"
           }
          ],
          "histogram2dcontour": [
           {
            "colorbar": {
             "outlinewidth": 0,
             "ticks": ""
            },
            "colorscale": [
             [
              0,
              "#0d0887"
             ],
             [
              0.1111111111111111,
              "#46039f"
             ],
             [
              0.2222222222222222,
              "#7201a8"
             ],
             [
              0.3333333333333333,
              "#9c179e"
             ],
             [
              0.4444444444444444,
              "#bd3786"
             ],
             [
              0.5555555555555556,
              "#d8576b"
             ],
             [
              0.6666666666666666,
              "#ed7953"
             ],
             [
              0.7777777777777778,
              "#fb9f3a"
             ],
             [
              0.8888888888888888,
              "#fdca26"
             ],
             [
              1,
              "#f0f921"
             ]
            ],
            "type": "histogram2dcontour"
           }
          ],
          "mesh3d": [
           {
            "colorbar": {
             "outlinewidth": 0,
             "ticks": ""
            },
            "type": "mesh3d"
           }
          ],
          "parcoords": [
           {
            "line": {
             "colorbar": {
              "outlinewidth": 0,
              "ticks": ""
             }
            },
            "type": "parcoords"
           }
          ],
          "pie": [
           {
            "automargin": true,
            "type": "pie"
           }
          ],
          "scatter": [
           {
            "fillpattern": {
             "fillmode": "overlay",
             "size": 10,
             "solidity": 0.2
            },
            "type": "scatter"
           }
          ],
          "scatter3d": [
           {
            "line": {
             "colorbar": {
              "outlinewidth": 0,
              "ticks": ""
             }
            },
            "marker": {
             "colorbar": {
              "outlinewidth": 0,
              "ticks": ""
             }
            },
            "type": "scatter3d"
           }
          ],
          "scattercarpet": [
           {
            "marker": {
             "colorbar": {
              "outlinewidth": 0,
              "ticks": ""
             }
            },
            "type": "scattercarpet"
           }
          ],
          "scattergeo": [
           {
            "marker": {
             "colorbar": {
              "outlinewidth": 0,
              "ticks": ""
             }
            },
            "type": "scattergeo"
           }
          ],
          "scattergl": [
           {
            "marker": {
             "colorbar": {
              "outlinewidth": 0,
              "ticks": ""
             }
            },
            "type": "scattergl"
           }
          ],
          "scattermapbox": [
           {
            "marker": {
             "colorbar": {
              "outlinewidth": 0,
              "ticks": ""
             }
            },
            "type": "scattermapbox"
           }
          ],
          "scatterpolar": [
           {
            "marker": {
             "colorbar": {
              "outlinewidth": 0,
              "ticks": ""
             }
            },
            "type": "scatterpolar"
           }
          ],
          "scatterpolargl": [
           {
            "marker": {
             "colorbar": {
              "outlinewidth": 0,
              "ticks": ""
             }
            },
            "type": "scatterpolargl"
           }
          ],
          "scatterternary": [
           {
            "marker": {
             "colorbar": {
              "outlinewidth": 0,
              "ticks": ""
             }
            },
            "type": "scatterternary"
           }
          ],
          "surface": [
           {
            "colorbar": {
             "outlinewidth": 0,
             "ticks": ""
            },
            "colorscale": [
             [
              0,
              "#0d0887"
             ],
             [
              0.1111111111111111,
              "#46039f"
             ],
             [
              0.2222222222222222,
              "#7201a8"
             ],
             [
              0.3333333333333333,
              "#9c179e"
             ],
             [
              0.4444444444444444,
              "#bd3786"
             ],
             [
              0.5555555555555556,
              "#d8576b"
             ],
             [
              0.6666666666666666,
              "#ed7953"
             ],
             [
              0.7777777777777778,
              "#fb9f3a"
             ],
             [
              0.8888888888888888,
              "#fdca26"
             ],
             [
              1,
              "#f0f921"
             ]
            ],
            "type": "surface"
           }
          ],
          "table": [
           {
            "cells": {
             "fill": {
              "color": "#EBF0F8"
             },
             "line": {
              "color": "white"
             }
            },
            "header": {
             "fill": {
              "color": "#C8D4E3"
             },
             "line": {
              "color": "white"
             }
            },
            "type": "table"
           }
          ]
         },
         "layout": {
          "annotationdefaults": {
           "arrowcolor": "#2a3f5f",
           "arrowhead": 0,
           "arrowwidth": 1
          },
          "autotypenumbers": "strict",
          "coloraxis": {
           "colorbar": {
            "outlinewidth": 0,
            "ticks": ""
           }
          },
          "colorscale": {
           "diverging": [
            [
             0,
             "#8e0152"
            ],
            [
             0.1,
             "#c51b7d"
            ],
            [
             0.2,
             "#de77ae"
            ],
            [
             0.3,
             "#f1b6da"
            ],
            [
             0.4,
             "#fde0ef"
            ],
            [
             0.5,
             "#f7f7f7"
            ],
            [
             0.6,
             "#e6f5d0"
            ],
            [
             0.7,
             "#b8e186"
            ],
            [
             0.8,
             "#7fbc41"
            ],
            [
             0.9,
             "#4d9221"
            ],
            [
             1,
             "#276419"
            ]
           ],
           "sequential": [
            [
             0,
             "#0d0887"
            ],
            [
             0.1111111111111111,
             "#46039f"
            ],
            [
             0.2222222222222222,
             "#7201a8"
            ],
            [
             0.3333333333333333,
             "#9c179e"
            ],
            [
             0.4444444444444444,
             "#bd3786"
            ],
            [
             0.5555555555555556,
             "#d8576b"
            ],
            [
             0.6666666666666666,
             "#ed7953"
            ],
            [
             0.7777777777777778,
             "#fb9f3a"
            ],
            [
             0.8888888888888888,
             "#fdca26"
            ],
            [
             1,
             "#f0f921"
            ]
           ],
           "sequentialminus": [
            [
             0,
             "#0d0887"
            ],
            [
             0.1111111111111111,
             "#46039f"
            ],
            [
             0.2222222222222222,
             "#7201a8"
            ],
            [
             0.3333333333333333,
             "#9c179e"
            ],
            [
             0.4444444444444444,
             "#bd3786"
            ],
            [
             0.5555555555555556,
             "#d8576b"
            ],
            [
             0.6666666666666666,
             "#ed7953"
            ],
            [
             0.7777777777777778,
             "#fb9f3a"
            ],
            [
             0.8888888888888888,
             "#fdca26"
            ],
            [
             1,
             "#f0f921"
            ]
           ]
          },
          "colorway": [
           "#636efa",
           "#EF553B",
           "#00cc96",
           "#ab63fa",
           "#FFA15A",
           "#19d3f3",
           "#FF6692",
           "#B6E880",
           "#FF97FF",
           "#FECB52"
          ],
          "font": {
           "color": "#2a3f5f"
          },
          "geo": {
           "bgcolor": "white",
           "lakecolor": "white",
           "landcolor": "#E5ECF6",
           "showlakes": true,
           "showland": true,
           "subunitcolor": "white"
          },
          "hoverlabel": {
           "align": "left"
          },
          "hovermode": "closest",
          "mapbox": {
           "style": "light"
          },
          "paper_bgcolor": "white",
          "plot_bgcolor": "#E5ECF6",
          "polar": {
           "angularaxis": {
            "gridcolor": "white",
            "linecolor": "white",
            "ticks": ""
           },
           "bgcolor": "#E5ECF6",
           "radialaxis": {
            "gridcolor": "white",
            "linecolor": "white",
            "ticks": ""
           }
          },
          "scene": {
           "xaxis": {
            "backgroundcolor": "#E5ECF6",
            "gridcolor": "white",
            "gridwidth": 2,
            "linecolor": "white",
            "showbackground": true,
            "ticks": "",
            "zerolinecolor": "white"
           },
           "yaxis": {
            "backgroundcolor": "#E5ECF6",
            "gridcolor": "white",
            "gridwidth": 2,
            "linecolor": "white",
            "showbackground": true,
            "ticks": "",
            "zerolinecolor": "white"
           },
           "zaxis": {
            "backgroundcolor": "#E5ECF6",
            "gridcolor": "white",
            "gridwidth": 2,
            "linecolor": "white",
            "showbackground": true,
            "ticks": "",
            "zerolinecolor": "white"
           }
          },
          "shapedefaults": {
           "line": {
            "color": "#2a3f5f"
           }
          },
          "ternary": {
           "aaxis": {
            "gridcolor": "white",
            "linecolor": "white",
            "ticks": ""
           },
           "baxis": {
            "gridcolor": "white",
            "linecolor": "white",
            "ticks": ""
           },
           "bgcolor": "#E5ECF6",
           "caxis": {
            "gridcolor": "white",
            "linecolor": "white",
            "ticks": ""
           }
          },
          "title": {
           "x": 0.05
          },
          "xaxis": {
           "automargin": true,
           "gridcolor": "white",
           "linecolor": "white",
           "ticks": "",
           "title": {
            "standoff": 15
           },
           "zerolinecolor": "white",
           "zerolinewidth": 2
          },
          "yaxis": {
           "automargin": true,
           "gridcolor": "white",
           "linecolor": "white",
           "ticks": "",
           "title": {
            "standoff": 15
           },
           "zerolinecolor": "white",
           "zerolinewidth": 2
          }
         }
        },
        "title": {
         "font": {
          "color": "#151516"
         },
         "text": "Intake of University Students by Course"
        },
        "xaxis": {
         "gridcolor": "#F6F6F6",
         "showgrid": true,
         "tickfont": {
          "color": "#666666"
         },
         "title": {
          "font": {
           "color": "#666666"
          },
          "text": "Year"
         },
         "zerolinecolor": "#F6F6F6"
        },
        "yaxis": {
         "gridcolor": "#F6F6F6",
         "showgrid": true,
         "tickfont": {
          "color": "#666666"
         },
         "title": {
          "font": {
           "color": "#666666"
          },
          "text": "Number of Students"
         },
         "zerolinecolor": "#F6F6F6"
        }
       }
      },
      "text/html": [
       "<div>                            <div id=\"9e3b8e40-163b-41ed-864b-7cf69c35f5f5\" class=\"plotly-graph-div\" style=\"height:525px; width:100%;\"></div>            <script type=\"text/javascript\">                require([\"plotly\"], function(Plotly) {                    window.PLOTLYENV=window.PLOTLYENV || {};\n",
       "                    window.PLOTLYENV.BASE_URL='https://plot.ly';                                    if (document.getElementById(\"9e3b8e40-163b-41ed-864b-7cf69c35f5f5\")) {                    Plotly.newPlot(                        \"9e3b8e40-163b-41ed-864b-7cf69c35f5f5\",                        [{\"marker\":{\"color\":\"rgba(226, 74, 51, 0.6)\",\"line\":{\"color\":\"rgba(226, 74, 51, 1.0)\",\"width\":1}},\"name\":\"Accountancy\",\"orientation\":\"v\",\"text\":\"\",\"x\":[2005,2006,2007,2008,2009,2010,2011,2012,2013,2014,2015,2016,2017,2018,2019,2020,2021],\"y\":[1406,1491,1625,1693,1805,1858,1718,1895,1864,2375,2300,2433,2342,2152,2213,2180,2113],\"type\":\"bar\"},{\"marker\":{\"color\":\"rgba(62, 111, 176, 0.6)\",\"line\":{\"color\":\"rgba(62, 111, 176, 1.0)\",\"width\":1}},\"name\":\"Architecture, Building & Real Estate\",\"orientation\":\"v\",\"text\":\"\",\"x\":[2005,2006,2007,2008,2009,2010,2011,2012,2013,2014,2015,2016,2017,2018,2019,2020,2021],\"y\":[474,605,766,724,688,706,790,611,626,784,681,671,629,738,780,787,685],\"type\":\"bar\"},{\"marker\":{\"color\":\"rgba(132, 118, 202, 0.6)\",\"line\":{\"color\":\"rgba(132, 118, 202, 1.0)\",\"width\":1}},\"name\":\"Business & Administration\",\"orientation\":\"v\",\"text\":\"\",\"x\":[2005,2006,2007,2008,2009,2010,2011,2012,2013,2014,2015,2016,2017,2018,2019,2020,2021],\"y\":[2446,2807,2802,2479,2343,2508,2547,2721,2757,2967,3392,3433,3798,4486,4969,5417,5529],\"type\":\"bar\"},{\"marker\":{\"color\":\"rgba(101, 101, 101, 0.6)\",\"line\":{\"color\":\"rgba(101, 101, 101, 1.0)\",\"width\":1}},\"name\":\"Dentistry\",\"orientation\":\"v\",\"text\":\"\",\"x\":[2005,2006,2007,2008,2009,2010,2011,2012,2013,2014,2015,2016,2017,2018,2019,2020,2021],\"y\":[52,68,68,65,77,79,77,83,85,92,88,93,84,93,99,131,146],\"type\":\"bar\"},{\"marker\":{\"color\":\"rgba(251, 193, 94, 0.6)\",\"line\":{\"color\":\"rgba(251, 193, 94, 1.0)\",\"width\":1}},\"name\":\"Education\",\"orientation\":\"v\",\"text\":\"\",\"x\":[2005,2006,2007,2008,2009,2010,2011,2012,2013,2014,2015,2016,2017,2018,2019,2020,2021],\"y\":[0,0,0,0,0,0,690,761,560,534,541,389,320,405,346,337,348],\"type\":\"bar\"},{\"marker\":{\"color\":\"rgba(142, 186, 66, 0.6)\",\"line\":{\"color\":\"rgba(142, 186, 66, 1.0)\",\"width\":1}},\"name\":\"Engineering Sciences\",\"orientation\":\"v\",\"text\":\"\",\"x\":[2005,2006,2007,2008,2009,2010,2011,2012,2013,2014,2015,2016,2017,2018,2019,2020,2021],\"y\":[5198,5126,5256,4662,5477,5224,5489,5780,6215,6379,6363,6330,6729,6697,6574,6728,6513],\"type\":\"bar\"},{\"marker\":{\"color\":\"rgba(255, 181, 184, 0.6)\",\"line\":{\"color\":\"rgba(255, 181, 184, 1.0)\",\"width\":1}},\"name\":\"Fine & Applied Arts\",\"orientation\":\"v\",\"text\":\"\",\"x\":[2005,2006,2007,2008,2009,2010,2011,2012,2013,2014,2015,2016,2017,2018,2019,2020,2021],\"y\":[266,370,389,365,417,531,527,706,742,795,710,755,740,657,672,635,627],\"type\":\"bar\"},{\"marker\":{\"color\":\"rgba(255, 181, 184, 0.6)\",\"line\":{\"color\":\"rgba(255, 181, 184, 0.8999999999999999)\",\"width\":1}},\"name\":\"Health Sciences\",\"orientation\":\"v\",\"text\":\"\",\"x\":[2005,2006,2007,2008,2009,2010,2011,2012,2013,2014,2015,2016,2017,2018,2019,2020,2021],\"y\":[325,441,466,432,499,465,611,806,945,923,986,1391,1665,1729,1829,1779,1910],\"type\":\"bar\"},{\"marker\":{\"color\":\"rgba(226, 74, 51, 0.6)\",\"line\":{\"color\":\"rgba(226, 74, 51, 0.8999999999999999)\",\"width\":1}},\"name\":\"Humanities & Social Sciences\",\"orientation\":\"v\",\"text\":\"\",\"x\":[2005,2006,2007,2008,2009,2010,2011,2012,2013,2014,2015,2016,2017,2018,2019,2020,2021],\"y\":[3877,4386,4868,4794,5220,4498,4113,4354,5318,5236,5349,5424,5241,5695,5610,4931,4516],\"type\":\"bar\"},{\"marker\":{\"color\":\"rgba(62, 111, 176, 0.6)\",\"line\":{\"color\":\"rgba(62, 111, 176, 0.8999999999999999)\",\"width\":1}},\"name\":\"Information Technology\",\"orientation\":\"v\",\"text\":\"\",\"x\":[2005,2006,2007,2008,2009,2010,2011,2012,2013,2014,2015,2016,2017,2018,2019,2020,2021],\"y\":[1053,913,1025,1340,1311,1215,1421,1382,1437,1509,1636,1777,2027,2724,3394,3709,3657],\"type\":\"bar\"},{\"marker\":{\"color\":\"rgba(132, 118, 202, 0.6)\",\"line\":{\"color\":\"rgba(132, 118, 202, 0.8999999999999999)\",\"width\":1}},\"name\":\"Law\",\"orientation\":\"v\",\"text\":\"\",\"x\":[2005,2006,2007,2008,2009,2010,2011,2012,2013,2014,2015,2016,2017,2018,2019,2020,2021],\"y\":[345,340,540,577,569,525,536,565,611,567,576,609,592,706,680,722,715],\"type\":\"bar\"},{\"marker\":{\"color\":\"rgba(101, 101, 101, 0.6)\",\"line\":{\"color\":\"rgba(101, 101, 101, 0.8999999999999999)\",\"width\":1}},\"name\":\"Mass Communication\",\"orientation\":\"v\",\"text\":\"\",\"x\":[2005,2006,2007,2008,2009,2010,2011,2012,2013,2014,2015,2016,2017,2018,2019,2020,2021],\"y\":[302,333,318,302,270,286,309,323,321,324,402,338,324,334,312,312,316],\"type\":\"bar\"},{\"marker\":{\"color\":\"rgba(251, 193, 94, 0.6)\",\"line\":{\"color\":\"rgba(251, 193, 94, 0.8999999999999999)\",\"width\":1}},\"name\":\"Medicine\",\"orientation\":\"v\",\"text\":\"\",\"x\":[2005,2006,2007,2008,2009,2010,2011,2012,2013,2014,2015,2016,2017,2018,2019,2020,2021],\"y\":[336,370,366,387,386,381,428,457,543,561,566,614,617,645,624,701,698],\"type\":\"bar\"},{\"marker\":{\"color\":\"rgba(142, 186, 66, 0.6)\",\"line\":{\"color\":\"rgba(142, 186, 66, 0.8999999999999999)\",\"width\":1}},\"name\":\"Natural & Mathematical Sciences\",\"orientation\":\"v\",\"text\":\"\",\"x\":[2005,2006,2007,2008,2009,2010,2011,2012,2013,2014,2015,2016,2017,2018,2019,2020,2021],\"y\":[0,0,0,0,0,0,0,0,0,0,0,0,0,0,0,2570,3243],\"type\":\"bar\"},{\"marker\":{\"color\":\"rgba(142, 186, 66, 0.6)\",\"line\":{\"color\":\"rgba(142, 186, 66, 0.7999999999999998)\",\"width\":1}},\"name\":\"Natural, Physical & Mathematical Sciences\",\"orientation\":\"v\",\"text\":\"\",\"x\":[2005,2006,2007,2008,2009,2010,2011,2012,2013,2014,2015,2016,2017,2018,2019,2020,2021],\"y\":[2705,3342,3552,3594,3795,3529,3587,3626,3667,3633,3435,3334,2310,2655,2770,0,0],\"type\":\"bar\"},{\"marker\":{\"color\":\"rgba(255, 181, 184, 0.6)\",\"line\":{\"color\":\"rgba(255, 181, 184, 0.7999999999999998)\",\"width\":1}},\"name\":\"Services\",\"orientation\":\"v\",\"text\":\"\",\"x\":[2005,2006,2007,2008,2009,2010,2011,2012,2013,2014,2015,2016,2017,2018,2019,2020,2021],\"y\":[94,104,119,101,101,558,656,569,495,192,293,311,323,326,320,421,478],\"type\":\"bar\"}],                        {\"barmode\":\"stack\",\"legend\":{\"bgcolor\":\"#FFFFFF\",\"font\":{\"color\":\"#666666\"},\"traceorder\":\"normal\"},\"paper_bgcolor\":\"#FFFFFF\",\"plot_bgcolor\":\"#E5E5E5\",\"template\":{\"data\":{\"barpolar\":[{\"marker\":{\"line\":{\"color\":\"#E5ECF6\",\"width\":0.5},\"pattern\":{\"fillmode\":\"overlay\",\"size\":10,\"solidity\":0.2}},\"type\":\"barpolar\"}],\"bar\":[{\"error_x\":{\"color\":\"#2a3f5f\"},\"error_y\":{\"color\":\"#2a3f5f\"},\"marker\":{\"line\":{\"color\":\"#E5ECF6\",\"width\":0.5},\"pattern\":{\"fillmode\":\"overlay\",\"size\":10,\"solidity\":0.2}},\"type\":\"bar\"}],\"carpet\":[{\"aaxis\":{\"endlinecolor\":\"#2a3f5f\",\"gridcolor\":\"white\",\"linecolor\":\"white\",\"minorgridcolor\":\"white\",\"startlinecolor\":\"#2a3f5f\"},\"baxis\":{\"endlinecolor\":\"#2a3f5f\",\"gridcolor\":\"white\",\"linecolor\":\"white\",\"minorgridcolor\":\"white\",\"startlinecolor\":\"#2a3f5f\"},\"type\":\"carpet\"}],\"choropleth\":[{\"colorbar\":{\"outlinewidth\":0,\"ticks\":\"\"},\"type\":\"choropleth\"}],\"contourcarpet\":[{\"colorbar\":{\"outlinewidth\":0,\"ticks\":\"\"},\"type\":\"contourcarpet\"}],\"contour\":[{\"colorbar\":{\"outlinewidth\":0,\"ticks\":\"\"},\"colorscale\":[[0.0,\"#0d0887\"],[0.1111111111111111,\"#46039f\"],[0.2222222222222222,\"#7201a8\"],[0.3333333333333333,\"#9c179e\"],[0.4444444444444444,\"#bd3786\"],[0.5555555555555556,\"#d8576b\"],[0.6666666666666666,\"#ed7953\"],[0.7777777777777778,\"#fb9f3a\"],[0.8888888888888888,\"#fdca26\"],[1.0,\"#f0f921\"]],\"type\":\"contour\"}],\"heatmapgl\":[{\"colorbar\":{\"outlinewidth\":0,\"ticks\":\"\"},\"colorscale\":[[0.0,\"#0d0887\"],[0.1111111111111111,\"#46039f\"],[0.2222222222222222,\"#7201a8\"],[0.3333333333333333,\"#9c179e\"],[0.4444444444444444,\"#bd3786\"],[0.5555555555555556,\"#d8576b\"],[0.6666666666666666,\"#ed7953\"],[0.7777777777777778,\"#fb9f3a\"],[0.8888888888888888,\"#fdca26\"],[1.0,\"#f0f921\"]],\"type\":\"heatmapgl\"}],\"heatmap\":[{\"colorbar\":{\"outlinewidth\":0,\"ticks\":\"\"},\"colorscale\":[[0.0,\"#0d0887\"],[0.1111111111111111,\"#46039f\"],[0.2222222222222222,\"#7201a8\"],[0.3333333333333333,\"#9c179e\"],[0.4444444444444444,\"#bd3786\"],[0.5555555555555556,\"#d8576b\"],[0.6666666666666666,\"#ed7953\"],[0.7777777777777778,\"#fb9f3a\"],[0.8888888888888888,\"#fdca26\"],[1.0,\"#f0f921\"]],\"type\":\"heatmap\"}],\"histogram2dcontour\":[{\"colorbar\":{\"outlinewidth\":0,\"ticks\":\"\"},\"colorscale\":[[0.0,\"#0d0887\"],[0.1111111111111111,\"#46039f\"],[0.2222222222222222,\"#7201a8\"],[0.3333333333333333,\"#9c179e\"],[0.4444444444444444,\"#bd3786\"],[0.5555555555555556,\"#d8576b\"],[0.6666666666666666,\"#ed7953\"],[0.7777777777777778,\"#fb9f3a\"],[0.8888888888888888,\"#fdca26\"],[1.0,\"#f0f921\"]],\"type\":\"histogram2dcontour\"}],\"histogram2d\":[{\"colorbar\":{\"outlinewidth\":0,\"ticks\":\"\"},\"colorscale\":[[0.0,\"#0d0887\"],[0.1111111111111111,\"#46039f\"],[0.2222222222222222,\"#7201a8\"],[0.3333333333333333,\"#9c179e\"],[0.4444444444444444,\"#bd3786\"],[0.5555555555555556,\"#d8576b\"],[0.6666666666666666,\"#ed7953\"],[0.7777777777777778,\"#fb9f3a\"],[0.8888888888888888,\"#fdca26\"],[1.0,\"#f0f921\"]],\"type\":\"histogram2d\"}],\"histogram\":[{\"marker\":{\"pattern\":{\"fillmode\":\"overlay\",\"size\":10,\"solidity\":0.2}},\"type\":\"histogram\"}],\"mesh3d\":[{\"colorbar\":{\"outlinewidth\":0,\"ticks\":\"\"},\"type\":\"mesh3d\"}],\"parcoords\":[{\"line\":{\"colorbar\":{\"outlinewidth\":0,\"ticks\":\"\"}},\"type\":\"parcoords\"}],\"pie\":[{\"automargin\":true,\"type\":\"pie\"}],\"scatter3d\":[{\"line\":{\"colorbar\":{\"outlinewidth\":0,\"ticks\":\"\"}},\"marker\":{\"colorbar\":{\"outlinewidth\":0,\"ticks\":\"\"}},\"type\":\"scatter3d\"}],\"scattercarpet\":[{\"marker\":{\"colorbar\":{\"outlinewidth\":0,\"ticks\":\"\"}},\"type\":\"scattercarpet\"}],\"scattergeo\":[{\"marker\":{\"colorbar\":{\"outlinewidth\":0,\"ticks\":\"\"}},\"type\":\"scattergeo\"}],\"scattergl\":[{\"marker\":{\"colorbar\":{\"outlinewidth\":0,\"ticks\":\"\"}},\"type\":\"scattergl\"}],\"scattermapbox\":[{\"marker\":{\"colorbar\":{\"outlinewidth\":0,\"ticks\":\"\"}},\"type\":\"scattermapbox\"}],\"scatterpolargl\":[{\"marker\":{\"colorbar\":{\"outlinewidth\":0,\"ticks\":\"\"}},\"type\":\"scatterpolargl\"}],\"scatterpolar\":[{\"marker\":{\"colorbar\":{\"outlinewidth\":0,\"ticks\":\"\"}},\"type\":\"scatterpolar\"}],\"scatter\":[{\"fillpattern\":{\"fillmode\":\"overlay\",\"size\":10,\"solidity\":0.2},\"type\":\"scatter\"}],\"scatterternary\":[{\"marker\":{\"colorbar\":{\"outlinewidth\":0,\"ticks\":\"\"}},\"type\":\"scatterternary\"}],\"surface\":[{\"colorbar\":{\"outlinewidth\":0,\"ticks\":\"\"},\"colorscale\":[[0.0,\"#0d0887\"],[0.1111111111111111,\"#46039f\"],[0.2222222222222222,\"#7201a8\"],[0.3333333333333333,\"#9c179e\"],[0.4444444444444444,\"#bd3786\"],[0.5555555555555556,\"#d8576b\"],[0.6666666666666666,\"#ed7953\"],[0.7777777777777778,\"#fb9f3a\"],[0.8888888888888888,\"#fdca26\"],[1.0,\"#f0f921\"]],\"type\":\"surface\"}],\"table\":[{\"cells\":{\"fill\":{\"color\":\"#EBF0F8\"},\"line\":{\"color\":\"white\"}},\"header\":{\"fill\":{\"color\":\"#C8D4E3\"},\"line\":{\"color\":\"white\"}},\"type\":\"table\"}]},\"layout\":{\"annotationdefaults\":{\"arrowcolor\":\"#2a3f5f\",\"arrowhead\":0,\"arrowwidth\":1},\"autotypenumbers\":\"strict\",\"coloraxis\":{\"colorbar\":{\"outlinewidth\":0,\"ticks\":\"\"}},\"colorscale\":{\"diverging\":[[0,\"#8e0152\"],[0.1,\"#c51b7d\"],[0.2,\"#de77ae\"],[0.3,\"#f1b6da\"],[0.4,\"#fde0ef\"],[0.5,\"#f7f7f7\"],[0.6,\"#e6f5d0\"],[0.7,\"#b8e186\"],[0.8,\"#7fbc41\"],[0.9,\"#4d9221\"],[1,\"#276419\"]],\"sequential\":[[0.0,\"#0d0887\"],[0.1111111111111111,\"#46039f\"],[0.2222222222222222,\"#7201a8\"],[0.3333333333333333,\"#9c179e\"],[0.4444444444444444,\"#bd3786\"],[0.5555555555555556,\"#d8576b\"],[0.6666666666666666,\"#ed7953\"],[0.7777777777777778,\"#fb9f3a\"],[0.8888888888888888,\"#fdca26\"],[1.0,\"#f0f921\"]],\"sequentialminus\":[[0.0,\"#0d0887\"],[0.1111111111111111,\"#46039f\"],[0.2222222222222222,\"#7201a8\"],[0.3333333333333333,\"#9c179e\"],[0.4444444444444444,\"#bd3786\"],[0.5555555555555556,\"#d8576b\"],[0.6666666666666666,\"#ed7953\"],[0.7777777777777778,\"#fb9f3a\"],[0.8888888888888888,\"#fdca26\"],[1.0,\"#f0f921\"]]},\"colorway\":[\"#636efa\",\"#EF553B\",\"#00cc96\",\"#ab63fa\",\"#FFA15A\",\"#19d3f3\",\"#FF6692\",\"#B6E880\",\"#FF97FF\",\"#FECB52\"],\"font\":{\"color\":\"#2a3f5f\"},\"geo\":{\"bgcolor\":\"white\",\"lakecolor\":\"white\",\"landcolor\":\"#E5ECF6\",\"showlakes\":true,\"showland\":true,\"subunitcolor\":\"white\"},\"hoverlabel\":{\"align\":\"left\"},\"hovermode\":\"closest\",\"mapbox\":{\"style\":\"light\"},\"paper_bgcolor\":\"white\",\"plot_bgcolor\":\"#E5ECF6\",\"polar\":{\"angularaxis\":{\"gridcolor\":\"white\",\"linecolor\":\"white\",\"ticks\":\"\"},\"bgcolor\":\"#E5ECF6\",\"radialaxis\":{\"gridcolor\":\"white\",\"linecolor\":\"white\",\"ticks\":\"\"}},\"scene\":{\"xaxis\":{\"backgroundcolor\":\"#E5ECF6\",\"gridcolor\":\"white\",\"gridwidth\":2,\"linecolor\":\"white\",\"showbackground\":true,\"ticks\":\"\",\"zerolinecolor\":\"white\"},\"yaxis\":{\"backgroundcolor\":\"#E5ECF6\",\"gridcolor\":\"white\",\"gridwidth\":2,\"linecolor\":\"white\",\"showbackground\":true,\"ticks\":\"\",\"zerolinecolor\":\"white\"},\"zaxis\":{\"backgroundcolor\":\"#E5ECF6\",\"gridcolor\":\"white\",\"gridwidth\":2,\"linecolor\":\"white\",\"showbackground\":true,\"ticks\":\"\",\"zerolinecolor\":\"white\"}},\"shapedefaults\":{\"line\":{\"color\":\"#2a3f5f\"}},\"ternary\":{\"aaxis\":{\"gridcolor\":\"white\",\"linecolor\":\"white\",\"ticks\":\"\"},\"baxis\":{\"gridcolor\":\"white\",\"linecolor\":\"white\",\"ticks\":\"\"},\"bgcolor\":\"#E5ECF6\",\"caxis\":{\"gridcolor\":\"white\",\"linecolor\":\"white\",\"ticks\":\"\"}},\"title\":{\"x\":0.05},\"xaxis\":{\"automargin\":true,\"gridcolor\":\"white\",\"linecolor\":\"white\",\"ticks\":\"\",\"title\":{\"standoff\":15},\"zerolinecolor\":\"white\",\"zerolinewidth\":2},\"yaxis\":{\"automargin\":true,\"gridcolor\":\"white\",\"linecolor\":\"white\",\"ticks\":\"\",\"title\":{\"standoff\":15},\"zerolinecolor\":\"white\",\"zerolinewidth\":2}}},\"title\":{\"font\":{\"color\":\"#151516\"},\"text\":\"Intake of University Students by Course\"},\"xaxis\":{\"gridcolor\":\"#F6F6F6\",\"showgrid\":true,\"tickfont\":{\"color\":\"#666666\"},\"title\":{\"font\":{\"color\":\"#666666\"},\"text\":\"Year\"},\"zerolinecolor\":\"#F6F6F6\"},\"yaxis\":{\"gridcolor\":\"#F6F6F6\",\"showgrid\":true,\"tickfont\":{\"color\":\"#666666\"},\"title\":{\"font\":{\"color\":\"#666666\"},\"text\":\"Number of Students\"},\"zerolinecolor\":\"#F6F6F6\"}},                        {\"showLink\": true, \"linkText\": \"Export to plot.ly\", \"plotlyServerURL\": \"https://plot.ly\", \"responsive\": true}                    ).then(function(){\n",
       "                            \n",
       "var gd = document.getElementById('9e3b8e40-163b-41ed-864b-7cf69c35f5f5');\n",
       "var x = new MutationObserver(function (mutations, observer) {{\n",
       "        var display = window.getComputedStyle(gd).display;\n",
       "        if (!display || display === 'none') {{\n",
       "            console.log([gd, 'removed!']);\n",
       "            Plotly.purge(gd);\n",
       "            observer.disconnect();\n",
       "        }}\n",
       "}});\n",
       "\n",
       "// Listen for the removal of the full notebook cells\n",
       "var notebookContainer = gd.closest('#notebook-container');\n",
       "if (notebookContainer) {{\n",
       "    x.observe(notebookContainer, {childList: true});\n",
       "}}\n",
       "\n",
       "// Listen for the clearing of the current output cell\n",
       "var outputEl = gd.closest('.output');\n",
       "if (outputEl) {{\n",
       "    x.observe(outputEl, {childList: true});\n",
       "}}\n",
       "\n",
       "                        })                };                });            </script>        </div>"
      ]
     },
     "metadata": {},
     "output_type": "display_data"
    },
    {
     "name": "stdout",
     "output_type": "stream",
     "text": [
      "\n"
     ]
    },
    {
     "data": {
      "text/markdown": [
       "<u>**My thoughts, comments and analysis on the above chart:**</u>"
      ],
      "text/plain": [
       "<IPython.core.display.Markdown object>"
      ]
     },
     "metadata": {},
     "output_type": "display_data"
    },
    {
     "data": {
      "text/markdown": [
       "From the graph we can clearly see that Engineering, Business, and Humanities dominate the enrolments by a longshot with the largest course having 6,513 intakes in 2021 compared to the smaller courses such as Dentistry only having 146."
      ],
      "text/plain": [
       "<IPython.core.display.Markdown object>"
      ]
     },
     "metadata": {},
     "output_type": "display_data"
    },
    {
     "data": {
      "application/vnd.plotly.v1+json": {
       "config": {
        "linkText": "Export to plot.ly",
        "plotlyServerURL": "https://plot.ly",
        "showLink": true
       },
       "data": [
        {
         "marker": {
          "color": "rgba(226, 74, 51, 0.6)",
          "line": {
           "color": "rgba(226, 74, 51, 1.0)",
           "width": 1
          }
         },
         "name": "Accountancy",
         "orientation": "v",
         "text": "",
         "type": "bar",
         "x": [
          2005,
          2006,
          2007,
          2008,
          2009,
          2010,
          2011,
          2012,
          2013,
          2014,
          2015,
          2016,
          2017,
          2018,
          2019,
          2020,
          2021
         ],
         "y": [
          1406,
          1491,
          1625,
          1693,
          1805,
          1858,
          1718,
          1895,
          1864,
          2375,
          2300,
          2433,
          2342,
          2152,
          2213,
          2180,
          2113
         ]
        },
        {
         "marker": {
          "color": "rgba(62, 111, 176, 0.6)",
          "line": {
           "color": "rgba(62, 111, 176, 1.0)",
           "width": 1
          }
         },
         "name": "Architecture, Building & Real Estate",
         "orientation": "v",
         "text": "",
         "type": "bar",
         "x": [
          2005,
          2006,
          2007,
          2008,
          2009,
          2010,
          2011,
          2012,
          2013,
          2014,
          2015,
          2016,
          2017,
          2018,
          2019,
          2020,
          2021
         ],
         "y": [
          474,
          605,
          766,
          724,
          688,
          706,
          790,
          611,
          626,
          784,
          681,
          671,
          629,
          738,
          780,
          787,
          685
         ]
        },
        {
         "marker": {
          "color": "rgba(132, 118, 202, 0.6)",
          "line": {
           "color": "rgba(132, 118, 202, 1.0)",
           "width": 1
          }
         },
         "name": "Business & Administration",
         "orientation": "v",
         "text": "",
         "type": "bar",
         "x": [
          2005,
          2006,
          2007,
          2008,
          2009,
          2010,
          2011,
          2012,
          2013,
          2014,
          2015,
          2016,
          2017,
          2018,
          2019,
          2020,
          2021
         ],
         "y": [
          2446,
          2807,
          2802,
          2479,
          2343,
          2508,
          2547,
          2721,
          2757,
          2967,
          3392,
          3433,
          3798,
          4486,
          4969,
          5417,
          5529
         ]
        },
        {
         "marker": {
          "color": "rgba(101, 101, 101, 0.6)",
          "line": {
           "color": "rgba(101, 101, 101, 1.0)",
           "width": 1
          }
         },
         "name": "Dentistry",
         "orientation": "v",
         "text": "",
         "type": "bar",
         "x": [
          2005,
          2006,
          2007,
          2008,
          2009,
          2010,
          2011,
          2012,
          2013,
          2014,
          2015,
          2016,
          2017,
          2018,
          2019,
          2020,
          2021
         ],
         "y": [
          52,
          68,
          68,
          65,
          77,
          79,
          77,
          83,
          85,
          92,
          88,
          93,
          84,
          93,
          99,
          131,
          146
         ]
        },
        {
         "marker": {
          "color": "rgba(251, 193, 94, 0.6)",
          "line": {
           "color": "rgba(251, 193, 94, 1.0)",
           "width": 1
          }
         },
         "name": "Education",
         "orientation": "v",
         "text": "",
         "type": "bar",
         "x": [
          2005,
          2006,
          2007,
          2008,
          2009,
          2010,
          2011,
          2012,
          2013,
          2014,
          2015,
          2016,
          2017,
          2018,
          2019,
          2020,
          2021
         ],
         "y": [
          0,
          0,
          0,
          0,
          0,
          0,
          690,
          761,
          560,
          534,
          541,
          389,
          320,
          405,
          346,
          337,
          348
         ]
        },
        {
         "marker": {
          "color": "rgba(142, 186, 66, 0.6)",
          "line": {
           "color": "rgba(142, 186, 66, 1.0)",
           "width": 1
          }
         },
         "name": "Engineering Sciences",
         "orientation": "v",
         "text": "",
         "type": "bar",
         "x": [
          2005,
          2006,
          2007,
          2008,
          2009,
          2010,
          2011,
          2012,
          2013,
          2014,
          2015,
          2016,
          2017,
          2018,
          2019,
          2020,
          2021
         ],
         "y": [
          5198,
          5126,
          5256,
          4662,
          5477,
          5224,
          5489,
          5780,
          6215,
          6379,
          6363,
          6330,
          6729,
          6697,
          6574,
          6728,
          6513
         ]
        },
        {
         "marker": {
          "color": "rgba(255, 181, 184, 0.6)",
          "line": {
           "color": "rgba(255, 181, 184, 1.0)",
           "width": 1
          }
         },
         "name": "Fine & Applied Arts",
         "orientation": "v",
         "text": "",
         "type": "bar",
         "x": [
          2005,
          2006,
          2007,
          2008,
          2009,
          2010,
          2011,
          2012,
          2013,
          2014,
          2015,
          2016,
          2017,
          2018,
          2019,
          2020,
          2021
         ],
         "y": [
          266,
          370,
          389,
          365,
          417,
          531,
          527,
          706,
          742,
          795,
          710,
          755,
          740,
          657,
          672,
          635,
          627
         ]
        },
        {
         "marker": {
          "color": "rgba(255, 181, 184, 0.6)",
          "line": {
           "color": "rgba(255, 181, 184, 0.8999999999999999)",
           "width": 1
          }
         },
         "name": "Health Sciences",
         "orientation": "v",
         "text": "",
         "type": "bar",
         "x": [
          2005,
          2006,
          2007,
          2008,
          2009,
          2010,
          2011,
          2012,
          2013,
          2014,
          2015,
          2016,
          2017,
          2018,
          2019,
          2020,
          2021
         ],
         "y": [
          325,
          441,
          466,
          432,
          499,
          465,
          611,
          806,
          945,
          923,
          986,
          1391,
          1665,
          1729,
          1829,
          1779,
          1910
         ]
        },
        {
         "marker": {
          "color": "rgba(226, 74, 51, 0.6)",
          "line": {
           "color": "rgba(226, 74, 51, 0.8999999999999999)",
           "width": 1
          }
         },
         "name": "Humanities & Social Sciences",
         "orientation": "v",
         "text": "",
         "type": "bar",
         "x": [
          2005,
          2006,
          2007,
          2008,
          2009,
          2010,
          2011,
          2012,
          2013,
          2014,
          2015,
          2016,
          2017,
          2018,
          2019,
          2020,
          2021
         ],
         "y": [
          3877,
          4386,
          4868,
          4794,
          5220,
          4498,
          4113,
          4354,
          5318,
          5236,
          5349,
          5424,
          5241,
          5695,
          5610,
          4931,
          4516
         ]
        },
        {
         "marker": {
          "color": "rgba(62, 111, 176, 0.6)",
          "line": {
           "color": "rgba(62, 111, 176, 0.8999999999999999)",
           "width": 1
          }
         },
         "name": "Information Technology",
         "orientation": "v",
         "text": "",
         "type": "bar",
         "x": [
          2005,
          2006,
          2007,
          2008,
          2009,
          2010,
          2011,
          2012,
          2013,
          2014,
          2015,
          2016,
          2017,
          2018,
          2019,
          2020,
          2021
         ],
         "y": [
          1053,
          913,
          1025,
          1340,
          1311,
          1215,
          1421,
          1382,
          1437,
          1509,
          1636,
          1777,
          2027,
          2724,
          3394,
          3709,
          3657
         ]
        },
        {
         "marker": {
          "color": "rgba(132, 118, 202, 0.6)",
          "line": {
           "color": "rgba(132, 118, 202, 0.8999999999999999)",
           "width": 1
          }
         },
         "name": "Law",
         "orientation": "v",
         "text": "",
         "type": "bar",
         "x": [
          2005,
          2006,
          2007,
          2008,
          2009,
          2010,
          2011,
          2012,
          2013,
          2014,
          2015,
          2016,
          2017,
          2018,
          2019,
          2020,
          2021
         ],
         "y": [
          345,
          340,
          540,
          577,
          569,
          525,
          536,
          565,
          611,
          567,
          576,
          609,
          592,
          706,
          680,
          722,
          715
         ]
        },
        {
         "marker": {
          "color": "rgba(101, 101, 101, 0.6)",
          "line": {
           "color": "rgba(101, 101, 101, 0.8999999999999999)",
           "width": 1
          }
         },
         "name": "Mass Communication",
         "orientation": "v",
         "text": "",
         "type": "bar",
         "x": [
          2005,
          2006,
          2007,
          2008,
          2009,
          2010,
          2011,
          2012,
          2013,
          2014,
          2015,
          2016,
          2017,
          2018,
          2019,
          2020,
          2021
         ],
         "y": [
          302,
          333,
          318,
          302,
          270,
          286,
          309,
          323,
          321,
          324,
          402,
          338,
          324,
          334,
          312,
          312,
          316
         ]
        },
        {
         "marker": {
          "color": "rgba(251, 193, 94, 0.6)",
          "line": {
           "color": "rgba(251, 193, 94, 0.8999999999999999)",
           "width": 1
          }
         },
         "name": "Medicine",
         "orientation": "v",
         "text": "",
         "type": "bar",
         "x": [
          2005,
          2006,
          2007,
          2008,
          2009,
          2010,
          2011,
          2012,
          2013,
          2014,
          2015,
          2016,
          2017,
          2018,
          2019,
          2020,
          2021
         ],
         "y": [
          336,
          370,
          366,
          387,
          386,
          381,
          428,
          457,
          543,
          561,
          566,
          614,
          617,
          645,
          624,
          701,
          698
         ]
        },
        {
         "marker": {
          "color": "rgba(142, 186, 66, 0.6)",
          "line": {
           "color": "rgba(142, 186, 66, 0.8999999999999999)",
           "width": 1
          }
         },
         "name": "Natural & Mathematical Sciences",
         "orientation": "v",
         "text": "",
         "type": "bar",
         "x": [
          2005,
          2006,
          2007,
          2008,
          2009,
          2010,
          2011,
          2012,
          2013,
          2014,
          2015,
          2016,
          2017,
          2018,
          2019,
          2020,
          2021
         ],
         "y": [
          0,
          0,
          0,
          0,
          0,
          0,
          0,
          0,
          0,
          0,
          0,
          0,
          0,
          0,
          0,
          2570,
          3243
         ]
        },
        {
         "marker": {
          "color": "rgba(142, 186, 66, 0.6)",
          "line": {
           "color": "rgba(142, 186, 66, 0.7999999999999998)",
           "width": 1
          }
         },
         "name": "Natural, Physical & Mathematical Sciences",
         "orientation": "v",
         "text": "",
         "type": "bar",
         "x": [
          2005,
          2006,
          2007,
          2008,
          2009,
          2010,
          2011,
          2012,
          2013,
          2014,
          2015,
          2016,
          2017,
          2018,
          2019,
          2020,
          2021
         ],
         "y": [
          2705,
          3342,
          3552,
          3594,
          3795,
          3529,
          3587,
          3626,
          3667,
          3633,
          3435,
          3334,
          2310,
          2655,
          2770,
          0,
          0
         ]
        },
        {
         "marker": {
          "color": "rgba(255, 181, 184, 0.6)",
          "line": {
           "color": "rgba(255, 181, 184, 0.7999999999999998)",
           "width": 1
          }
         },
         "name": "Services",
         "orientation": "v",
         "text": "",
         "type": "bar",
         "x": [
          2005,
          2006,
          2007,
          2008,
          2009,
          2010,
          2011,
          2012,
          2013,
          2014,
          2015,
          2016,
          2017,
          2018,
          2019,
          2020,
          2021
         ],
         "y": [
          94,
          104,
          119,
          101,
          101,
          558,
          656,
          569,
          495,
          192,
          293,
          311,
          323,
          326,
          320,
          421,
          478
         ]
        }
       ],
       "layout": {
        "legend": {
         "bgcolor": "#FFFFFF",
         "font": {
          "color": "#666666"
         }
        },
        "paper_bgcolor": "#FFFFFF",
        "plot_bgcolor": "#E5E5E5",
        "template": {
         "data": {
          "bar": [
           {
            "error_x": {
             "color": "#2a3f5f"
            },
            "error_y": {
             "color": "#2a3f5f"
            },
            "marker": {
             "line": {
              "color": "#E5ECF6",
              "width": 0.5
             },
             "pattern": {
              "fillmode": "overlay",
              "size": 10,
              "solidity": 0.2
             }
            },
            "type": "bar"
           }
          ],
          "barpolar": [
           {
            "marker": {
             "line": {
              "color": "#E5ECF6",
              "width": 0.5
             },
             "pattern": {
              "fillmode": "overlay",
              "size": 10,
              "solidity": 0.2
             }
            },
            "type": "barpolar"
           }
          ],
          "carpet": [
           {
            "aaxis": {
             "endlinecolor": "#2a3f5f",
             "gridcolor": "white",
             "linecolor": "white",
             "minorgridcolor": "white",
             "startlinecolor": "#2a3f5f"
            },
            "baxis": {
             "endlinecolor": "#2a3f5f",
             "gridcolor": "white",
             "linecolor": "white",
             "minorgridcolor": "white",
             "startlinecolor": "#2a3f5f"
            },
            "type": "carpet"
           }
          ],
          "choropleth": [
           {
            "colorbar": {
             "outlinewidth": 0,
             "ticks": ""
            },
            "type": "choropleth"
           }
          ],
          "contour": [
           {
            "colorbar": {
             "outlinewidth": 0,
             "ticks": ""
            },
            "colorscale": [
             [
              0,
              "#0d0887"
             ],
             [
              0.1111111111111111,
              "#46039f"
             ],
             [
              0.2222222222222222,
              "#7201a8"
             ],
             [
              0.3333333333333333,
              "#9c179e"
             ],
             [
              0.4444444444444444,
              "#bd3786"
             ],
             [
              0.5555555555555556,
              "#d8576b"
             ],
             [
              0.6666666666666666,
              "#ed7953"
             ],
             [
              0.7777777777777778,
              "#fb9f3a"
             ],
             [
              0.8888888888888888,
              "#fdca26"
             ],
             [
              1,
              "#f0f921"
             ]
            ],
            "type": "contour"
           }
          ],
          "contourcarpet": [
           {
            "colorbar": {
             "outlinewidth": 0,
             "ticks": ""
            },
            "type": "contourcarpet"
           }
          ],
          "heatmap": [
           {
            "colorbar": {
             "outlinewidth": 0,
             "ticks": ""
            },
            "colorscale": [
             [
              0,
              "#0d0887"
             ],
             [
              0.1111111111111111,
              "#46039f"
             ],
             [
              0.2222222222222222,
              "#7201a8"
             ],
             [
              0.3333333333333333,
              "#9c179e"
             ],
             [
              0.4444444444444444,
              "#bd3786"
             ],
             [
              0.5555555555555556,
              "#d8576b"
             ],
             [
              0.6666666666666666,
              "#ed7953"
             ],
             [
              0.7777777777777778,
              "#fb9f3a"
             ],
             [
              0.8888888888888888,
              "#fdca26"
             ],
             [
              1,
              "#f0f921"
             ]
            ],
            "type": "heatmap"
           }
          ],
          "heatmapgl": [
           {
            "colorbar": {
             "outlinewidth": 0,
             "ticks": ""
            },
            "colorscale": [
             [
              0,
              "#0d0887"
             ],
             [
              0.1111111111111111,
              "#46039f"
             ],
             [
              0.2222222222222222,
              "#7201a8"
             ],
             [
              0.3333333333333333,
              "#9c179e"
             ],
             [
              0.4444444444444444,
              "#bd3786"
             ],
             [
              0.5555555555555556,
              "#d8576b"
             ],
             [
              0.6666666666666666,
              "#ed7953"
             ],
             [
              0.7777777777777778,
              "#fb9f3a"
             ],
             [
              0.8888888888888888,
              "#fdca26"
             ],
             [
              1,
              "#f0f921"
             ]
            ],
            "type": "heatmapgl"
           }
          ],
          "histogram": [
           {
            "marker": {
             "pattern": {
              "fillmode": "overlay",
              "size": 10,
              "solidity": 0.2
             }
            },
            "type": "histogram"
           }
          ],
          "histogram2d": [
           {
            "colorbar": {
             "outlinewidth": 0,
             "ticks": ""
            },
            "colorscale": [
             [
              0,
              "#0d0887"
             ],
             [
              0.1111111111111111,
              "#46039f"
             ],
             [
              0.2222222222222222,
              "#7201a8"
             ],
             [
              0.3333333333333333,
              "#9c179e"
             ],
             [
              0.4444444444444444,
              "#bd3786"
             ],
             [
              0.5555555555555556,
              "#d8576b"
             ],
             [
              0.6666666666666666,
              "#ed7953"
             ],
             [
              0.7777777777777778,
              "#fb9f3a"
             ],
             [
              0.8888888888888888,
              "#fdca26"
             ],
             [
              1,
              "#f0f921"
             ]
            ],
            "type": "histogram2d"
           }
          ],
          "histogram2dcontour": [
           {
            "colorbar": {
             "outlinewidth": 0,
             "ticks": ""
            },
            "colorscale": [
             [
              0,
              "#0d0887"
             ],
             [
              0.1111111111111111,
              "#46039f"
             ],
             [
              0.2222222222222222,
              "#7201a8"
             ],
             [
              0.3333333333333333,
              "#9c179e"
             ],
             [
              0.4444444444444444,
              "#bd3786"
             ],
             [
              0.5555555555555556,
              "#d8576b"
             ],
             [
              0.6666666666666666,
              "#ed7953"
             ],
             [
              0.7777777777777778,
              "#fb9f3a"
             ],
             [
              0.8888888888888888,
              "#fdca26"
             ],
             [
              1,
              "#f0f921"
             ]
            ],
            "type": "histogram2dcontour"
           }
          ],
          "mesh3d": [
           {
            "colorbar": {
             "outlinewidth": 0,
             "ticks": ""
            },
            "type": "mesh3d"
           }
          ],
          "parcoords": [
           {
            "line": {
             "colorbar": {
              "outlinewidth": 0,
              "ticks": ""
             }
            },
            "type": "parcoords"
           }
          ],
          "pie": [
           {
            "automargin": true,
            "type": "pie"
           }
          ],
          "scatter": [
           {
            "fillpattern": {
             "fillmode": "overlay",
             "size": 10,
             "solidity": 0.2
            },
            "type": "scatter"
           }
          ],
          "scatter3d": [
           {
            "line": {
             "colorbar": {
              "outlinewidth": 0,
              "ticks": ""
             }
            },
            "marker": {
             "colorbar": {
              "outlinewidth": 0,
              "ticks": ""
             }
            },
            "type": "scatter3d"
           }
          ],
          "scattercarpet": [
           {
            "marker": {
             "colorbar": {
              "outlinewidth": 0,
              "ticks": ""
             }
            },
            "type": "scattercarpet"
           }
          ],
          "scattergeo": [
           {
            "marker": {
             "colorbar": {
              "outlinewidth": 0,
              "ticks": ""
             }
            },
            "type": "scattergeo"
           }
          ],
          "scattergl": [
           {
            "marker": {
             "colorbar": {
              "outlinewidth": 0,
              "ticks": ""
             }
            },
            "type": "scattergl"
           }
          ],
          "scattermapbox": [
           {
            "marker": {
             "colorbar": {
              "outlinewidth": 0,
              "ticks": ""
             }
            },
            "type": "scattermapbox"
           }
          ],
          "scatterpolar": [
           {
            "marker": {
             "colorbar": {
              "outlinewidth": 0,
              "ticks": ""
             }
            },
            "type": "scatterpolar"
           }
          ],
          "scatterpolargl": [
           {
            "marker": {
             "colorbar": {
              "outlinewidth": 0,
              "ticks": ""
             }
            },
            "type": "scatterpolargl"
           }
          ],
          "scatterternary": [
           {
            "marker": {
             "colorbar": {
              "outlinewidth": 0,
              "ticks": ""
             }
            },
            "type": "scatterternary"
           }
          ],
          "surface": [
           {
            "colorbar": {
             "outlinewidth": 0,
             "ticks": ""
            },
            "colorscale": [
             [
              0,
              "#0d0887"
             ],
             [
              0.1111111111111111,
              "#46039f"
             ],
             [
              0.2222222222222222,
              "#7201a8"
             ],
             [
              0.3333333333333333,
              "#9c179e"
             ],
             [
              0.4444444444444444,
              "#bd3786"
             ],
             [
              0.5555555555555556,
              "#d8576b"
             ],
             [
              0.6666666666666666,
              "#ed7953"
             ],
             [
              0.7777777777777778,
              "#fb9f3a"
             ],
             [
              0.8888888888888888,
              "#fdca26"
             ],
             [
              1,
              "#f0f921"
             ]
            ],
            "type": "surface"
           }
          ],
          "table": [
           {
            "cells": {
             "fill": {
              "color": "#EBF0F8"
             },
             "line": {
              "color": "white"
             }
            },
            "header": {
             "fill": {
              "color": "#C8D4E3"
             },
             "line": {
              "color": "white"
             }
            },
            "type": "table"
           }
          ]
         },
         "layout": {
          "annotationdefaults": {
           "arrowcolor": "#2a3f5f",
           "arrowhead": 0,
           "arrowwidth": 1
          },
          "autotypenumbers": "strict",
          "coloraxis": {
           "colorbar": {
            "outlinewidth": 0,
            "ticks": ""
           }
          },
          "colorscale": {
           "diverging": [
            [
             0,
             "#8e0152"
            ],
            [
             0.1,
             "#c51b7d"
            ],
            [
             0.2,
             "#de77ae"
            ],
            [
             0.3,
             "#f1b6da"
            ],
            [
             0.4,
             "#fde0ef"
            ],
            [
             0.5,
             "#f7f7f7"
            ],
            [
             0.6,
             "#e6f5d0"
            ],
            [
             0.7,
             "#b8e186"
            ],
            [
             0.8,
             "#7fbc41"
            ],
            [
             0.9,
             "#4d9221"
            ],
            [
             1,
             "#276419"
            ]
           ],
           "sequential": [
            [
             0,
             "#0d0887"
            ],
            [
             0.1111111111111111,
             "#46039f"
            ],
            [
             0.2222222222222222,
             "#7201a8"
            ],
            [
             0.3333333333333333,
             "#9c179e"
            ],
            [
             0.4444444444444444,
             "#bd3786"
            ],
            [
             0.5555555555555556,
             "#d8576b"
            ],
            [
             0.6666666666666666,
             "#ed7953"
            ],
            [
             0.7777777777777778,
             "#fb9f3a"
            ],
            [
             0.8888888888888888,
             "#fdca26"
            ],
            [
             1,
             "#f0f921"
            ]
           ],
           "sequentialminus": [
            [
             0,
             "#0d0887"
            ],
            [
             0.1111111111111111,
             "#46039f"
            ],
            [
             0.2222222222222222,
             "#7201a8"
            ],
            [
             0.3333333333333333,
             "#9c179e"
            ],
            [
             0.4444444444444444,
             "#bd3786"
            ],
            [
             0.5555555555555556,
             "#d8576b"
            ],
            [
             0.6666666666666666,
             "#ed7953"
            ],
            [
             0.7777777777777778,
             "#fb9f3a"
            ],
            [
             0.8888888888888888,
             "#fdca26"
            ],
            [
             1,
             "#f0f921"
            ]
           ]
          },
          "colorway": [
           "#636efa",
           "#EF553B",
           "#00cc96",
           "#ab63fa",
           "#FFA15A",
           "#19d3f3",
           "#FF6692",
           "#B6E880",
           "#FF97FF",
           "#FECB52"
          ],
          "font": {
           "color": "#2a3f5f"
          },
          "geo": {
           "bgcolor": "white",
           "lakecolor": "white",
           "landcolor": "#E5ECF6",
           "showlakes": true,
           "showland": true,
           "subunitcolor": "white"
          },
          "hoverlabel": {
           "align": "left"
          },
          "hovermode": "closest",
          "mapbox": {
           "style": "light"
          },
          "paper_bgcolor": "white",
          "plot_bgcolor": "#E5ECF6",
          "polar": {
           "angularaxis": {
            "gridcolor": "white",
            "linecolor": "white",
            "ticks": ""
           },
           "bgcolor": "#E5ECF6",
           "radialaxis": {
            "gridcolor": "white",
            "linecolor": "white",
            "ticks": ""
           }
          },
          "scene": {
           "xaxis": {
            "backgroundcolor": "#E5ECF6",
            "gridcolor": "white",
            "gridwidth": 2,
            "linecolor": "white",
            "showbackground": true,
            "ticks": "",
            "zerolinecolor": "white"
           },
           "yaxis": {
            "backgroundcolor": "#E5ECF6",
            "gridcolor": "white",
            "gridwidth": 2,
            "linecolor": "white",
            "showbackground": true,
            "ticks": "",
            "zerolinecolor": "white"
           },
           "zaxis": {
            "backgroundcolor": "#E5ECF6",
            "gridcolor": "white",
            "gridwidth": 2,
            "linecolor": "white",
            "showbackground": true,
            "ticks": "",
            "zerolinecolor": "white"
           }
          },
          "shapedefaults": {
           "line": {
            "color": "#2a3f5f"
           }
          },
          "ternary": {
           "aaxis": {
            "gridcolor": "white",
            "linecolor": "white",
            "ticks": ""
           },
           "baxis": {
            "gridcolor": "white",
            "linecolor": "white",
            "ticks": ""
           },
           "bgcolor": "#E5ECF6",
           "caxis": {
            "gridcolor": "white",
            "linecolor": "white",
            "ticks": ""
           }
          },
          "title": {
           "x": 0.05
          },
          "xaxis": {
           "automargin": true,
           "gridcolor": "white",
           "linecolor": "white",
           "ticks": "",
           "title": {
            "standoff": 15
           },
           "zerolinecolor": "white",
           "zerolinewidth": 2
          },
          "yaxis": {
           "automargin": true,
           "gridcolor": "white",
           "linecolor": "white",
           "ticks": "",
           "title": {
            "standoff": 15
           },
           "zerolinecolor": "white",
           "zerolinewidth": 2
          }
         }
        },
        "title": {
         "font": {
          "color": "#151516"
         },
         "text": "Intake of University Students by Course"
        },
        "xaxis": {
         "gridcolor": "#F6F6F6",
         "showgrid": true,
         "tickfont": {
          "color": "#666666"
         },
         "title": {
          "font": {
           "color": "#666666"
          },
          "text": "Year"
         },
         "zerolinecolor": "#F6F6F6"
        },
        "yaxis": {
         "gridcolor": "#F6F6F6",
         "showgrid": true,
         "tickfont": {
          "color": "#666666"
         },
         "title": {
          "font": {
           "color": "#666666"
          },
          "text": "Number of Students"
         },
         "zerolinecolor": "#F6F6F6"
        }
       }
      },
      "text/html": [
       "<div>                            <div id=\"3b314674-a6d9-4ebf-8230-6db429abc70a\" class=\"plotly-graph-div\" style=\"height:525px; width:100%;\"></div>            <script type=\"text/javascript\">                require([\"plotly\"], function(Plotly) {                    window.PLOTLYENV=window.PLOTLYENV || {};\n",
       "                    window.PLOTLYENV.BASE_URL='https://plot.ly';                                    if (document.getElementById(\"3b314674-a6d9-4ebf-8230-6db429abc70a\")) {                    Plotly.newPlot(                        \"3b314674-a6d9-4ebf-8230-6db429abc70a\",                        [{\"marker\":{\"color\":\"rgba(226, 74, 51, 0.6)\",\"line\":{\"color\":\"rgba(226, 74, 51, 1.0)\",\"width\":1}},\"name\":\"Accountancy\",\"orientation\":\"v\",\"text\":\"\",\"x\":[2005,2006,2007,2008,2009,2010,2011,2012,2013,2014,2015,2016,2017,2018,2019,2020,2021],\"y\":[1406,1491,1625,1693,1805,1858,1718,1895,1864,2375,2300,2433,2342,2152,2213,2180,2113],\"type\":\"bar\"},{\"marker\":{\"color\":\"rgba(62, 111, 176, 0.6)\",\"line\":{\"color\":\"rgba(62, 111, 176, 1.0)\",\"width\":1}},\"name\":\"Architecture, Building & Real Estate\",\"orientation\":\"v\",\"text\":\"\",\"x\":[2005,2006,2007,2008,2009,2010,2011,2012,2013,2014,2015,2016,2017,2018,2019,2020,2021],\"y\":[474,605,766,724,688,706,790,611,626,784,681,671,629,738,780,787,685],\"type\":\"bar\"},{\"marker\":{\"color\":\"rgba(132, 118, 202, 0.6)\",\"line\":{\"color\":\"rgba(132, 118, 202, 1.0)\",\"width\":1}},\"name\":\"Business & Administration\",\"orientation\":\"v\",\"text\":\"\",\"x\":[2005,2006,2007,2008,2009,2010,2011,2012,2013,2014,2015,2016,2017,2018,2019,2020,2021],\"y\":[2446,2807,2802,2479,2343,2508,2547,2721,2757,2967,3392,3433,3798,4486,4969,5417,5529],\"type\":\"bar\"},{\"marker\":{\"color\":\"rgba(101, 101, 101, 0.6)\",\"line\":{\"color\":\"rgba(101, 101, 101, 1.0)\",\"width\":1}},\"name\":\"Dentistry\",\"orientation\":\"v\",\"text\":\"\",\"x\":[2005,2006,2007,2008,2009,2010,2011,2012,2013,2014,2015,2016,2017,2018,2019,2020,2021],\"y\":[52,68,68,65,77,79,77,83,85,92,88,93,84,93,99,131,146],\"type\":\"bar\"},{\"marker\":{\"color\":\"rgba(251, 193, 94, 0.6)\",\"line\":{\"color\":\"rgba(251, 193, 94, 1.0)\",\"width\":1}},\"name\":\"Education\",\"orientation\":\"v\",\"text\":\"\",\"x\":[2005,2006,2007,2008,2009,2010,2011,2012,2013,2014,2015,2016,2017,2018,2019,2020,2021],\"y\":[0,0,0,0,0,0,690,761,560,534,541,389,320,405,346,337,348],\"type\":\"bar\"},{\"marker\":{\"color\":\"rgba(142, 186, 66, 0.6)\",\"line\":{\"color\":\"rgba(142, 186, 66, 1.0)\",\"width\":1}},\"name\":\"Engineering Sciences\",\"orientation\":\"v\",\"text\":\"\",\"x\":[2005,2006,2007,2008,2009,2010,2011,2012,2013,2014,2015,2016,2017,2018,2019,2020,2021],\"y\":[5198,5126,5256,4662,5477,5224,5489,5780,6215,6379,6363,6330,6729,6697,6574,6728,6513],\"type\":\"bar\"},{\"marker\":{\"color\":\"rgba(255, 181, 184, 0.6)\",\"line\":{\"color\":\"rgba(255, 181, 184, 1.0)\",\"width\":1}},\"name\":\"Fine & Applied Arts\",\"orientation\":\"v\",\"text\":\"\",\"x\":[2005,2006,2007,2008,2009,2010,2011,2012,2013,2014,2015,2016,2017,2018,2019,2020,2021],\"y\":[266,370,389,365,417,531,527,706,742,795,710,755,740,657,672,635,627],\"type\":\"bar\"},{\"marker\":{\"color\":\"rgba(255, 181, 184, 0.6)\",\"line\":{\"color\":\"rgba(255, 181, 184, 0.8999999999999999)\",\"width\":1}},\"name\":\"Health Sciences\",\"orientation\":\"v\",\"text\":\"\",\"x\":[2005,2006,2007,2008,2009,2010,2011,2012,2013,2014,2015,2016,2017,2018,2019,2020,2021],\"y\":[325,441,466,432,499,465,611,806,945,923,986,1391,1665,1729,1829,1779,1910],\"type\":\"bar\"},{\"marker\":{\"color\":\"rgba(226, 74, 51, 0.6)\",\"line\":{\"color\":\"rgba(226, 74, 51, 0.8999999999999999)\",\"width\":1}},\"name\":\"Humanities & Social Sciences\",\"orientation\":\"v\",\"text\":\"\",\"x\":[2005,2006,2007,2008,2009,2010,2011,2012,2013,2014,2015,2016,2017,2018,2019,2020,2021],\"y\":[3877,4386,4868,4794,5220,4498,4113,4354,5318,5236,5349,5424,5241,5695,5610,4931,4516],\"type\":\"bar\"},{\"marker\":{\"color\":\"rgba(62, 111, 176, 0.6)\",\"line\":{\"color\":\"rgba(62, 111, 176, 0.8999999999999999)\",\"width\":1}},\"name\":\"Information Technology\",\"orientation\":\"v\",\"text\":\"\",\"x\":[2005,2006,2007,2008,2009,2010,2011,2012,2013,2014,2015,2016,2017,2018,2019,2020,2021],\"y\":[1053,913,1025,1340,1311,1215,1421,1382,1437,1509,1636,1777,2027,2724,3394,3709,3657],\"type\":\"bar\"},{\"marker\":{\"color\":\"rgba(132, 118, 202, 0.6)\",\"line\":{\"color\":\"rgba(132, 118, 202, 0.8999999999999999)\",\"width\":1}},\"name\":\"Law\",\"orientation\":\"v\",\"text\":\"\",\"x\":[2005,2006,2007,2008,2009,2010,2011,2012,2013,2014,2015,2016,2017,2018,2019,2020,2021],\"y\":[345,340,540,577,569,525,536,565,611,567,576,609,592,706,680,722,715],\"type\":\"bar\"},{\"marker\":{\"color\":\"rgba(101, 101, 101, 0.6)\",\"line\":{\"color\":\"rgba(101, 101, 101, 0.8999999999999999)\",\"width\":1}},\"name\":\"Mass Communication\",\"orientation\":\"v\",\"text\":\"\",\"x\":[2005,2006,2007,2008,2009,2010,2011,2012,2013,2014,2015,2016,2017,2018,2019,2020,2021],\"y\":[302,333,318,302,270,286,309,323,321,324,402,338,324,334,312,312,316],\"type\":\"bar\"},{\"marker\":{\"color\":\"rgba(251, 193, 94, 0.6)\",\"line\":{\"color\":\"rgba(251, 193, 94, 0.8999999999999999)\",\"width\":1}},\"name\":\"Medicine\",\"orientation\":\"v\",\"text\":\"\",\"x\":[2005,2006,2007,2008,2009,2010,2011,2012,2013,2014,2015,2016,2017,2018,2019,2020,2021],\"y\":[336,370,366,387,386,381,428,457,543,561,566,614,617,645,624,701,698],\"type\":\"bar\"},{\"marker\":{\"color\":\"rgba(142, 186, 66, 0.6)\",\"line\":{\"color\":\"rgba(142, 186, 66, 0.8999999999999999)\",\"width\":1}},\"name\":\"Natural & Mathematical Sciences\",\"orientation\":\"v\",\"text\":\"\",\"x\":[2005,2006,2007,2008,2009,2010,2011,2012,2013,2014,2015,2016,2017,2018,2019,2020,2021],\"y\":[0,0,0,0,0,0,0,0,0,0,0,0,0,0,0,2570,3243],\"type\":\"bar\"},{\"marker\":{\"color\":\"rgba(142, 186, 66, 0.6)\",\"line\":{\"color\":\"rgba(142, 186, 66, 0.7999999999999998)\",\"width\":1}},\"name\":\"Natural, Physical & Mathematical Sciences\",\"orientation\":\"v\",\"text\":\"\",\"x\":[2005,2006,2007,2008,2009,2010,2011,2012,2013,2014,2015,2016,2017,2018,2019,2020,2021],\"y\":[2705,3342,3552,3594,3795,3529,3587,3626,3667,3633,3435,3334,2310,2655,2770,0,0],\"type\":\"bar\"},{\"marker\":{\"color\":\"rgba(255, 181, 184, 0.6)\",\"line\":{\"color\":\"rgba(255, 181, 184, 0.7999999999999998)\",\"width\":1}},\"name\":\"Services\",\"orientation\":\"v\",\"text\":\"\",\"x\":[2005,2006,2007,2008,2009,2010,2011,2012,2013,2014,2015,2016,2017,2018,2019,2020,2021],\"y\":[94,104,119,101,101,558,656,569,495,192,293,311,323,326,320,421,478],\"type\":\"bar\"}],                        {\"legend\":{\"bgcolor\":\"#FFFFFF\",\"font\":{\"color\":\"#666666\"}},\"paper_bgcolor\":\"#FFFFFF\",\"plot_bgcolor\":\"#E5E5E5\",\"template\":{\"data\":{\"barpolar\":[{\"marker\":{\"line\":{\"color\":\"#E5ECF6\",\"width\":0.5},\"pattern\":{\"fillmode\":\"overlay\",\"size\":10,\"solidity\":0.2}},\"type\":\"barpolar\"}],\"bar\":[{\"error_x\":{\"color\":\"#2a3f5f\"},\"error_y\":{\"color\":\"#2a3f5f\"},\"marker\":{\"line\":{\"color\":\"#E5ECF6\",\"width\":0.5},\"pattern\":{\"fillmode\":\"overlay\",\"size\":10,\"solidity\":0.2}},\"type\":\"bar\"}],\"carpet\":[{\"aaxis\":{\"endlinecolor\":\"#2a3f5f\",\"gridcolor\":\"white\",\"linecolor\":\"white\",\"minorgridcolor\":\"white\",\"startlinecolor\":\"#2a3f5f\"},\"baxis\":{\"endlinecolor\":\"#2a3f5f\",\"gridcolor\":\"white\",\"linecolor\":\"white\",\"minorgridcolor\":\"white\",\"startlinecolor\":\"#2a3f5f\"},\"type\":\"carpet\"}],\"choropleth\":[{\"colorbar\":{\"outlinewidth\":0,\"ticks\":\"\"},\"type\":\"choropleth\"}],\"contourcarpet\":[{\"colorbar\":{\"outlinewidth\":0,\"ticks\":\"\"},\"type\":\"contourcarpet\"}],\"contour\":[{\"colorbar\":{\"outlinewidth\":0,\"ticks\":\"\"},\"colorscale\":[[0.0,\"#0d0887\"],[0.1111111111111111,\"#46039f\"],[0.2222222222222222,\"#7201a8\"],[0.3333333333333333,\"#9c179e\"],[0.4444444444444444,\"#bd3786\"],[0.5555555555555556,\"#d8576b\"],[0.6666666666666666,\"#ed7953\"],[0.7777777777777778,\"#fb9f3a\"],[0.8888888888888888,\"#fdca26\"],[1.0,\"#f0f921\"]],\"type\":\"contour\"}],\"heatmapgl\":[{\"colorbar\":{\"outlinewidth\":0,\"ticks\":\"\"},\"colorscale\":[[0.0,\"#0d0887\"],[0.1111111111111111,\"#46039f\"],[0.2222222222222222,\"#7201a8\"],[0.3333333333333333,\"#9c179e\"],[0.4444444444444444,\"#bd3786\"],[0.5555555555555556,\"#d8576b\"],[0.6666666666666666,\"#ed7953\"],[0.7777777777777778,\"#fb9f3a\"],[0.8888888888888888,\"#fdca26\"],[1.0,\"#f0f921\"]],\"type\":\"heatmapgl\"}],\"heatmap\":[{\"colorbar\":{\"outlinewidth\":0,\"ticks\":\"\"},\"colorscale\":[[0.0,\"#0d0887\"],[0.1111111111111111,\"#46039f\"],[0.2222222222222222,\"#7201a8\"],[0.3333333333333333,\"#9c179e\"],[0.4444444444444444,\"#bd3786\"],[0.5555555555555556,\"#d8576b\"],[0.6666666666666666,\"#ed7953\"],[0.7777777777777778,\"#fb9f3a\"],[0.8888888888888888,\"#fdca26\"],[1.0,\"#f0f921\"]],\"type\":\"heatmap\"}],\"histogram2dcontour\":[{\"colorbar\":{\"outlinewidth\":0,\"ticks\":\"\"},\"colorscale\":[[0.0,\"#0d0887\"],[0.1111111111111111,\"#46039f\"],[0.2222222222222222,\"#7201a8\"],[0.3333333333333333,\"#9c179e\"],[0.4444444444444444,\"#bd3786\"],[0.5555555555555556,\"#d8576b\"],[0.6666666666666666,\"#ed7953\"],[0.7777777777777778,\"#fb9f3a\"],[0.8888888888888888,\"#fdca26\"],[1.0,\"#f0f921\"]],\"type\":\"histogram2dcontour\"}],\"histogram2d\":[{\"colorbar\":{\"outlinewidth\":0,\"ticks\":\"\"},\"colorscale\":[[0.0,\"#0d0887\"],[0.1111111111111111,\"#46039f\"],[0.2222222222222222,\"#7201a8\"],[0.3333333333333333,\"#9c179e\"],[0.4444444444444444,\"#bd3786\"],[0.5555555555555556,\"#d8576b\"],[0.6666666666666666,\"#ed7953\"],[0.7777777777777778,\"#fb9f3a\"],[0.8888888888888888,\"#fdca26\"],[1.0,\"#f0f921\"]],\"type\":\"histogram2d\"}],\"histogram\":[{\"marker\":{\"pattern\":{\"fillmode\":\"overlay\",\"size\":10,\"solidity\":0.2}},\"type\":\"histogram\"}],\"mesh3d\":[{\"colorbar\":{\"outlinewidth\":0,\"ticks\":\"\"},\"type\":\"mesh3d\"}],\"parcoords\":[{\"line\":{\"colorbar\":{\"outlinewidth\":0,\"ticks\":\"\"}},\"type\":\"parcoords\"}],\"pie\":[{\"automargin\":true,\"type\":\"pie\"}],\"scatter3d\":[{\"line\":{\"colorbar\":{\"outlinewidth\":0,\"ticks\":\"\"}},\"marker\":{\"colorbar\":{\"outlinewidth\":0,\"ticks\":\"\"}},\"type\":\"scatter3d\"}],\"scattercarpet\":[{\"marker\":{\"colorbar\":{\"outlinewidth\":0,\"ticks\":\"\"}},\"type\":\"scattercarpet\"}],\"scattergeo\":[{\"marker\":{\"colorbar\":{\"outlinewidth\":0,\"ticks\":\"\"}},\"type\":\"scattergeo\"}],\"scattergl\":[{\"marker\":{\"colorbar\":{\"outlinewidth\":0,\"ticks\":\"\"}},\"type\":\"scattergl\"}],\"scattermapbox\":[{\"marker\":{\"colorbar\":{\"outlinewidth\":0,\"ticks\":\"\"}},\"type\":\"scattermapbox\"}],\"scatterpolargl\":[{\"marker\":{\"colorbar\":{\"outlinewidth\":0,\"ticks\":\"\"}},\"type\":\"scatterpolargl\"}],\"scatterpolar\":[{\"marker\":{\"colorbar\":{\"outlinewidth\":0,\"ticks\":\"\"}},\"type\":\"scatterpolar\"}],\"scatter\":[{\"fillpattern\":{\"fillmode\":\"overlay\",\"size\":10,\"solidity\":0.2},\"type\":\"scatter\"}],\"scatterternary\":[{\"marker\":{\"colorbar\":{\"outlinewidth\":0,\"ticks\":\"\"}},\"type\":\"scatterternary\"}],\"surface\":[{\"colorbar\":{\"outlinewidth\":0,\"ticks\":\"\"},\"colorscale\":[[0.0,\"#0d0887\"],[0.1111111111111111,\"#46039f\"],[0.2222222222222222,\"#7201a8\"],[0.3333333333333333,\"#9c179e\"],[0.4444444444444444,\"#bd3786\"],[0.5555555555555556,\"#d8576b\"],[0.6666666666666666,\"#ed7953\"],[0.7777777777777778,\"#fb9f3a\"],[0.8888888888888888,\"#fdca26\"],[1.0,\"#f0f921\"]],\"type\":\"surface\"}],\"table\":[{\"cells\":{\"fill\":{\"color\":\"#EBF0F8\"},\"line\":{\"color\":\"white\"}},\"header\":{\"fill\":{\"color\":\"#C8D4E3\"},\"line\":{\"color\":\"white\"}},\"type\":\"table\"}]},\"layout\":{\"annotationdefaults\":{\"arrowcolor\":\"#2a3f5f\",\"arrowhead\":0,\"arrowwidth\":1},\"autotypenumbers\":\"strict\",\"coloraxis\":{\"colorbar\":{\"outlinewidth\":0,\"ticks\":\"\"}},\"colorscale\":{\"diverging\":[[0,\"#8e0152\"],[0.1,\"#c51b7d\"],[0.2,\"#de77ae\"],[0.3,\"#f1b6da\"],[0.4,\"#fde0ef\"],[0.5,\"#f7f7f7\"],[0.6,\"#e6f5d0\"],[0.7,\"#b8e186\"],[0.8,\"#7fbc41\"],[0.9,\"#4d9221\"],[1,\"#276419\"]],\"sequential\":[[0.0,\"#0d0887\"],[0.1111111111111111,\"#46039f\"],[0.2222222222222222,\"#7201a8\"],[0.3333333333333333,\"#9c179e\"],[0.4444444444444444,\"#bd3786\"],[0.5555555555555556,\"#d8576b\"],[0.6666666666666666,\"#ed7953\"],[0.7777777777777778,\"#fb9f3a\"],[0.8888888888888888,\"#fdca26\"],[1.0,\"#f0f921\"]],\"sequentialminus\":[[0.0,\"#0d0887\"],[0.1111111111111111,\"#46039f\"],[0.2222222222222222,\"#7201a8\"],[0.3333333333333333,\"#9c179e\"],[0.4444444444444444,\"#bd3786\"],[0.5555555555555556,\"#d8576b\"],[0.6666666666666666,\"#ed7953\"],[0.7777777777777778,\"#fb9f3a\"],[0.8888888888888888,\"#fdca26\"],[1.0,\"#f0f921\"]]},\"colorway\":[\"#636efa\",\"#EF553B\",\"#00cc96\",\"#ab63fa\",\"#FFA15A\",\"#19d3f3\",\"#FF6692\",\"#B6E880\",\"#FF97FF\",\"#FECB52\"],\"font\":{\"color\":\"#2a3f5f\"},\"geo\":{\"bgcolor\":\"white\",\"lakecolor\":\"white\",\"landcolor\":\"#E5ECF6\",\"showlakes\":true,\"showland\":true,\"subunitcolor\":\"white\"},\"hoverlabel\":{\"align\":\"left\"},\"hovermode\":\"closest\",\"mapbox\":{\"style\":\"light\"},\"paper_bgcolor\":\"white\",\"plot_bgcolor\":\"#E5ECF6\",\"polar\":{\"angularaxis\":{\"gridcolor\":\"white\",\"linecolor\":\"white\",\"ticks\":\"\"},\"bgcolor\":\"#E5ECF6\",\"radialaxis\":{\"gridcolor\":\"white\",\"linecolor\":\"white\",\"ticks\":\"\"}},\"scene\":{\"xaxis\":{\"backgroundcolor\":\"#E5ECF6\",\"gridcolor\":\"white\",\"gridwidth\":2,\"linecolor\":\"white\",\"showbackground\":true,\"ticks\":\"\",\"zerolinecolor\":\"white\"},\"yaxis\":{\"backgroundcolor\":\"#E5ECF6\",\"gridcolor\":\"white\",\"gridwidth\":2,\"linecolor\":\"white\",\"showbackground\":true,\"ticks\":\"\",\"zerolinecolor\":\"white\"},\"zaxis\":{\"backgroundcolor\":\"#E5ECF6\",\"gridcolor\":\"white\",\"gridwidth\":2,\"linecolor\":\"white\",\"showbackground\":true,\"ticks\":\"\",\"zerolinecolor\":\"white\"}},\"shapedefaults\":{\"line\":{\"color\":\"#2a3f5f\"}},\"ternary\":{\"aaxis\":{\"gridcolor\":\"white\",\"linecolor\":\"white\",\"ticks\":\"\"},\"baxis\":{\"gridcolor\":\"white\",\"linecolor\":\"white\",\"ticks\":\"\"},\"bgcolor\":\"#E5ECF6\",\"caxis\":{\"gridcolor\":\"white\",\"linecolor\":\"white\",\"ticks\":\"\"}},\"title\":{\"x\":0.05},\"xaxis\":{\"automargin\":true,\"gridcolor\":\"white\",\"linecolor\":\"white\",\"ticks\":\"\",\"title\":{\"standoff\":15},\"zerolinecolor\":\"white\",\"zerolinewidth\":2},\"yaxis\":{\"automargin\":true,\"gridcolor\":\"white\",\"linecolor\":\"white\",\"ticks\":\"\",\"title\":{\"standoff\":15},\"zerolinecolor\":\"white\",\"zerolinewidth\":2}}},\"title\":{\"font\":{\"color\":\"#151516\"},\"text\":\"Intake of University Students by Course\"},\"xaxis\":{\"gridcolor\":\"#F6F6F6\",\"showgrid\":true,\"tickfont\":{\"color\":\"#666666\"},\"title\":{\"font\":{\"color\":\"#666666\"},\"text\":\"Year\"},\"zerolinecolor\":\"#F6F6F6\"},\"yaxis\":{\"gridcolor\":\"#F6F6F6\",\"showgrid\":true,\"tickfont\":{\"color\":\"#666666\"},\"title\":{\"font\":{\"color\":\"#666666\"},\"text\":\"Number of Students\"},\"zerolinecolor\":\"#F6F6F6\"}},                        {\"showLink\": true, \"linkText\": \"Export to plot.ly\", \"plotlyServerURL\": \"https://plot.ly\", \"responsive\": true}                    ).then(function(){\n",
       "                            \n",
       "var gd = document.getElementById('3b314674-a6d9-4ebf-8230-6db429abc70a');\n",
       "var x = new MutationObserver(function (mutations, observer) {{\n",
       "        var display = window.getComputedStyle(gd).display;\n",
       "        if (!display || display === 'none') {{\n",
       "            console.log([gd, 'removed!']);\n",
       "            Plotly.purge(gd);\n",
       "            observer.disconnect();\n",
       "        }}\n",
       "}});\n",
       "\n",
       "// Listen for the removal of the full notebook cells\n",
       "var notebookContainer = gd.closest('#notebook-container');\n",
       "if (notebookContainer) {{\n",
       "    x.observe(notebookContainer, {childList: true});\n",
       "}}\n",
       "\n",
       "// Listen for the clearing of the current output cell\n",
       "var outputEl = gd.closest('.output');\n",
       "if (outputEl) {{\n",
       "    x.observe(outputEl, {childList: true});\n",
       "}}\n",
       "\n",
       "                        })                };                });            </script>        </div>"
      ]
     },
     "metadata": {},
     "output_type": "display_data"
    },
    {
     "name": "stdout",
     "output_type": "stream",
     "text": [
      "\n"
     ]
    },
    {
     "data": {
      "text/markdown": [
       "<u>**My thoughts, comments and analysis on the above chart:**</u>"
      ],
      "text/plain": [
       "<IPython.core.display.Markdown object>"
      ]
     },
     "metadata": {},
     "output_type": "display_data"
    },
    {
     "data": {
      "text/markdown": [
       "This graph allows us to analyze the intake of all courses in much greater detail. Business and Administration, one of the most popular courses experienced a minor decline followed by a increasingly strong increasing trend. I suspect this may be due to the 2008 financial crisis perhaps detering interest in the course as fears in the economy was at its all time high."
      ],
      "text/plain": [
       "<IPython.core.display.Markdown object>"
      ]
     },
     "metadata": {},
     "output_type": "display_data"
    }
   ],
   "source": [
    "dfUni_Values = dfUniversity[['intake', 'enrolment', 'graduates']]\n",
    "dfUni_Values['total'] = dfUni_Values.sum(axis=1)\n",
    "dfUniversity['total'] = dfUni_Values['total']\n",
    "\n",
    "#initiating forloop to obtain intake per year\n",
    "Uni_Year_Range = np.unique(dfUniversity['year'])\n",
    "Intake_Per_Year = [] #clearing variables as will run into errors if executing the code multiple times\n",
    "for year in Uni_Year_Range:\n",
    "    Uni_Data = dfUniversity[dfUniversity['year'] == year] #for each year \n",
    "    Sum_Uni_Intake = np.sum(Uni_Data['intake']) #obtain the sum of operating Expenditure in the year\n",
    "    Intake_Per_Year.append(Sum_Uni_Intake)\n",
    "\n",
    "Enrol_Per_Year = [] #clearing variables as will run into errors if executing the code multiple times\n",
    "for year in Uni_Year_Range:\n",
    "    Uni_Data = dfUniversity[dfUniversity['year'] == year] #for each year \n",
    "    Sum_Uni_Enrol = np.sum(Uni_Data['enrolment']) #obtain the sum of operating Expenditure in the year\n",
    "    Enrol_Per_Year.append(Sum_Uni_Enrol)\n",
    "\n",
    "Grad_Per_Year = [] #clearing variables as will run into errors if executing the code multiple times\n",
    "for year in Uni_Year_Range:\n",
    "    Uni_Data = dfUniversity[dfUniversity['year'] == year] #for each year \n",
    "    Sum_Uni_Grad = np.sum(Uni_Data['graduates']) #obtain the sum of operating Expenditure in the year\n",
    "    Grad_Per_Year.append(Sum_Uni_Grad)\n",
    "    \n",
    "\n",
    "#Making a dictionary for the dataframe\n",
    "Sum_Uni_Information = {'Intake' : Intake_Per_Year, 'Enrolment' : Enrol_Per_Year, 'Graduates': Grad_Per_Year}\n",
    "dfUni_Information = pd.DataFrame(Sum_Uni_Information, index=Uni_Year_Range)\n",
    "\n",
    "#code for bar chart of courses\n",
    "Uni_Courses = np.unique(dfUniversity['course'])\n",
    "Courses_Per_Year = pd.DataFrame() #clearing variables as will run into errors if executing the code multiple times\n",
    "dfUni_Data = pd.DataFrame()\n",
    "for year in Uni_Year_Range:\n",
    "    Uni_Data = dfUniversity[dfUniversity['year'] == year] #for each year \n",
    "    for course in Uni_Courses:\n",
    "        Course_Data = Uni_Data[Uni_Data['course'] == course]\n",
    "        Sum_Course_Data_Intake = np.sum(Course_Data['intake']) #obtain the sum of operating Expenditure in the year\n",
    "        temp = pd.DataFrame({'Year': year, 'Course': course, 'Intake': Sum_Course_Data_Intake}, index=[0])\n",
    "        dfUni_Data = pd.concat([dfUni_Data, temp])\n",
    "\n",
    "#Reshaping data for line chart\n",
    "dfUni_Data_shaped = dfUni_Data.pivot(index='Year', columns='Course',\n",
    "                                    values='Intake')\n",
    "\n",
    "#displaying bar chart for university data\n",
    "dfUni_Information.iplot(kind=\"bar\",\n",
    "                  sortbars=True,\n",
    "                  yTitle=\"Number of Students\", xTitle=\"Year\", title=\"Enrolment, Intake, and Graduates by Year\",\n",
    "                  theme=\"ggplot\"\n",
    "                  )\n",
    "\n",
    "Intake_Percentage = str(round(100*np.sum(dfUni_Information['Intake']) / np.sum(dfUni_Information['Enrolment']),2))\n",
    "Graduate_Percentage = str(round(100*np.sum(dfUni_Information['Graduates']) / np.sum(dfUni_Information['Intake']),2))\n",
    "\n",
    "\n",
    "print()\n",
    "printmd(f'<u>**My thoughts, comments and analysis on the above chart:**</u>')\n",
    "\n",
    "printmd(f'As seen from the chart, the amount of university enrolment, intake, and graduates are increasing at a very steady pace which is expected. \\\n",
    "Something that surprised me however is that the percentage of enrolled students that were actually accepted and counted as an intake \\\n",
    "is so low. On **average {Intake_Percentage} percent of students who enrol are accepted into university**. With the graduating percentage \\\n",
    "being much more forgiving at **{Graduate_Percentage} percent of students who are successful in their application graduating**.')\n",
    "\n",
    "dfUni_Data_shaped.iplot(kind=\"bar\",\n",
    "                  barmode='stack',\n",
    "                  yTitle=\"Number of Students\", xTitle=\"Year\", title=\"Intake of University Students by Course\",\n",
    "                  theme=\"ggplot\"\n",
    "                  )\n",
    "print()\n",
    "printmd(f'<u>**My thoughts, comments and analysis on the above chart:**</u>')\n",
    "\n",
    "printmd(f'From the graph we can clearly see that Engineering, Business, and Humanities dominate the enrolments by a longshot with \\\n",
    "the largest course having 6,513 intakes in 2021 compared to the smaller courses such as Dentistry only having 146.')\n",
    "\n",
    "dfUni_Data_shaped.iplot(kind=\"bar\",\n",
    "                  sort=True,\n",
    "                  yTitle=\"Number of Students\", xTitle=\"Year\", title=\"Intake of University Students by Course\",\n",
    "                  theme=\"ggplot\"\n",
    "                  )\n",
    "\n",
    "print()\n",
    "printmd(f'<u>**My thoughts, comments and analysis on the above chart:**</u>')\n",
    "\n",
    "printmd(f'This graph allows us to analyze the intake of all courses in much greater detail. Business and Administration, one of the most \\\n",
    "popular courses experienced a minor decline followed by a increasingly strong increasing trend. I suspect this may be due to the 2008 financial \\\n",
    "crisis perhaps detering interest in the course as fears in the economy was at its all time high.')"
   ]
  },
  {
   "cell_type": "code",
   "execution_count": 17,
   "metadata": {},
   "outputs": [
    {
     "data": {
      "application/vnd.plotly.v1+json": {
       "config": {
        "linkText": "Export to plot.ly",
        "plotlyServerURL": "https://plot.ly",
        "showLink": true
       },
       "data": [
        {
         "boxpoints": false,
         "line": {
          "width": 1.3
         },
         "marker": {
          "color": "rgba(255, 153, 51, 1.0)"
         },
         "name": "Accountancy",
         "orientation": "v",
         "type": "box",
         "y": [
          1406,
          1491,
          1625,
          1693,
          1805,
          1858,
          1718,
          1895,
          1864,
          2375,
          2300,
          2433,
          2342,
          2152,
          2213,
          2180,
          2113
         ]
        },
        {
         "boxpoints": false,
         "line": {
          "width": 1.3
         },
         "marker": {
          "color": "rgba(55, 128, 191, 1.0)"
         },
         "name": "Architecture, Building & Real Estate",
         "orientation": "v",
         "type": "box",
         "y": [
          474,
          605,
          766,
          724,
          688,
          706,
          790,
          611,
          626,
          784,
          681,
          671,
          629,
          738,
          780,
          787,
          685
         ]
        },
        {
         "boxpoints": false,
         "line": {
          "width": 1.3
         },
         "marker": {
          "color": "rgba(50, 171, 96, 1.0)"
         },
         "name": "Business & Administration",
         "orientation": "v",
         "type": "box",
         "y": [
          2446,
          2807,
          2802,
          2479,
          2343,
          2508,
          2547,
          2721,
          2757,
          2967,
          3392,
          3433,
          3798,
          4486,
          4969,
          5417,
          5529
         ]
        },
        {
         "boxpoints": false,
         "line": {
          "width": 1.3
         },
         "marker": {
          "color": "rgba(128, 0, 128, 1.0)"
         },
         "name": "Dentistry",
         "orientation": "v",
         "type": "box",
         "y": [
          52,
          68,
          68,
          65,
          77,
          79,
          77,
          83,
          85,
          92,
          88,
          93,
          84,
          93,
          99,
          131,
          146
         ]
        },
        {
         "boxpoints": false,
         "line": {
          "width": 1.3
         },
         "marker": {
          "color": "rgba(219, 64, 82, 1.0)"
         },
         "name": "Education",
         "orientation": "v",
         "type": "box",
         "y": [
          0,
          0,
          0,
          0,
          0,
          0,
          690,
          761,
          560,
          534,
          541,
          389,
          320,
          405,
          346,
          337,
          348
         ]
        },
        {
         "boxpoints": false,
         "line": {
          "width": 1.3
         },
         "marker": {
          "color": "rgba(0, 128, 128, 1.0)"
         },
         "name": "Engineering Sciences",
         "orientation": "v",
         "type": "box",
         "y": [
          5198,
          5126,
          5256,
          4662,
          5477,
          5224,
          5489,
          5780,
          6215,
          6379,
          6363,
          6330,
          6729,
          6697,
          6574,
          6728,
          6513
         ]
        },
        {
         "boxpoints": false,
         "line": {
          "width": 1.3
         },
         "marker": {
          "color": "rgba(255, 255, 51, 1.0)"
         },
         "name": "Fine & Applied Arts",
         "orientation": "v",
         "type": "box",
         "y": [
          266,
          370,
          389,
          365,
          417,
          531,
          527,
          706,
          742,
          795,
          710,
          755,
          740,
          657,
          672,
          635,
          627
         ]
        },
        {
         "boxpoints": false,
         "line": {
          "width": 1.3
         },
         "marker": {
          "color": "rgba(128, 128, 0, 1.0)"
         },
         "name": "Health Sciences",
         "orientation": "v",
         "type": "box",
         "y": [
          325,
          441,
          466,
          432,
          499,
          465,
          611,
          806,
          945,
          923,
          986,
          1391,
          1665,
          1729,
          1829,
          1779,
          1910
         ]
        },
        {
         "boxpoints": false,
         "line": {
          "width": 1.3
         },
         "marker": {
          "color": "rgba(251, 128, 114, 1.0)"
         },
         "name": "Humanities & Social Sciences",
         "orientation": "v",
         "type": "box",
         "y": [
          3877,
          4386,
          4868,
          4794,
          5220,
          4498,
          4113,
          4354,
          5318,
          5236,
          5349,
          5424,
          5241,
          5695,
          5610,
          4931,
          4516
         ]
        },
        {
         "boxpoints": false,
         "line": {
          "width": 1.3
         },
         "marker": {
          "color": "rgba(128, 177, 211, 1.0)"
         },
         "name": "Information Technology",
         "orientation": "v",
         "type": "box",
         "y": [
          1053,
          913,
          1025,
          1340,
          1311,
          1215,
          1421,
          1382,
          1437,
          1509,
          1636,
          1777,
          2027,
          2724,
          3394,
          3709,
          3657
         ]
        },
        {
         "boxpoints": false,
         "line": {
          "width": 1.3
         },
         "marker": {
          "color": "rgba(128, 177, 211, 0.8999999999999999)"
         },
         "name": "Law",
         "orientation": "v",
         "type": "box",
         "y": [
          345,
          340,
          540,
          577,
          569,
          525,
          536,
          565,
          611,
          567,
          576,
          609,
          592,
          706,
          680,
          722,
          715
         ]
        },
        {
         "boxpoints": false,
         "line": {
          "width": 1.3
         },
         "marker": {
          "color": "rgba(255, 153, 51, 0.8999999999999999)"
         },
         "name": "Mass Communication",
         "orientation": "v",
         "type": "box",
         "y": [
          302,
          333,
          318,
          302,
          270,
          286,
          309,
          323,
          321,
          324,
          402,
          338,
          324,
          334,
          312,
          312,
          316
         ]
        },
        {
         "boxpoints": false,
         "line": {
          "width": 1.3
         },
         "marker": {
          "color": "rgba(55, 128, 191, 0.8999999999999999)"
         },
         "name": "Medicine",
         "orientation": "v",
         "type": "box",
         "y": [
          336,
          370,
          366,
          387,
          386,
          381,
          428,
          457,
          543,
          561,
          566,
          614,
          617,
          645,
          624,
          701,
          698
         ]
        },
        {
         "boxpoints": false,
         "line": {
          "width": 1.3
         },
         "marker": {
          "color": "rgba(50, 171, 96, 0.8999999999999999)"
         },
         "name": "Natural & Mathematical Sciences",
         "orientation": "v",
         "type": "box",
         "y": [
          0,
          0,
          0,
          0,
          0,
          0,
          0,
          0,
          0,
          0,
          0,
          0,
          0,
          0,
          0,
          2570,
          3243
         ]
        },
        {
         "boxpoints": false,
         "line": {
          "width": 1.3
         },
         "marker": {
          "color": "rgba(128, 0, 128, 0.8999999999999999)"
         },
         "name": "Natural, Physical & Mathematical Sciences",
         "orientation": "v",
         "type": "box",
         "y": [
          2705,
          3342,
          3552,
          3594,
          3795,
          3529,
          3587,
          3626,
          3667,
          3633,
          3435,
          3334,
          2310,
          2655,
          2770,
          0,
          0
         ]
        },
        {
         "boxpoints": false,
         "line": {
          "width": 1.3
         },
         "marker": {
          "color": "rgba(219, 64, 82, 0.8999999999999999)"
         },
         "name": "Services",
         "orientation": "v",
         "type": "box",
         "y": [
          94,
          104,
          119,
          101,
          101,
          558,
          656,
          569,
          495,
          192,
          293,
          311,
          323,
          326,
          320,
          421,
          478
         ]
        }
       ],
       "layout": {
        "legend": {
         "bgcolor": "#F5F6F9",
         "font": {
          "color": "#4D5663"
         }
        },
        "paper_bgcolor": "#F5F6F9",
        "plot_bgcolor": "#F5F6F9",
        "template": {
         "data": {
          "bar": [
           {
            "error_x": {
             "color": "#2a3f5f"
            },
            "error_y": {
             "color": "#2a3f5f"
            },
            "marker": {
             "line": {
              "color": "#E5ECF6",
              "width": 0.5
             },
             "pattern": {
              "fillmode": "overlay",
              "size": 10,
              "solidity": 0.2
             }
            },
            "type": "bar"
           }
          ],
          "barpolar": [
           {
            "marker": {
             "line": {
              "color": "#E5ECF6",
              "width": 0.5
             },
             "pattern": {
              "fillmode": "overlay",
              "size": 10,
              "solidity": 0.2
             }
            },
            "type": "barpolar"
           }
          ],
          "carpet": [
           {
            "aaxis": {
             "endlinecolor": "#2a3f5f",
             "gridcolor": "white",
             "linecolor": "white",
             "minorgridcolor": "white",
             "startlinecolor": "#2a3f5f"
            },
            "baxis": {
             "endlinecolor": "#2a3f5f",
             "gridcolor": "white",
             "linecolor": "white",
             "minorgridcolor": "white",
             "startlinecolor": "#2a3f5f"
            },
            "type": "carpet"
           }
          ],
          "choropleth": [
           {
            "colorbar": {
             "outlinewidth": 0,
             "ticks": ""
            },
            "type": "choropleth"
           }
          ],
          "contour": [
           {
            "colorbar": {
             "outlinewidth": 0,
             "ticks": ""
            },
            "colorscale": [
             [
              0,
              "#0d0887"
             ],
             [
              0.1111111111111111,
              "#46039f"
             ],
             [
              0.2222222222222222,
              "#7201a8"
             ],
             [
              0.3333333333333333,
              "#9c179e"
             ],
             [
              0.4444444444444444,
              "#bd3786"
             ],
             [
              0.5555555555555556,
              "#d8576b"
             ],
             [
              0.6666666666666666,
              "#ed7953"
             ],
             [
              0.7777777777777778,
              "#fb9f3a"
             ],
             [
              0.8888888888888888,
              "#fdca26"
             ],
             [
              1,
              "#f0f921"
             ]
            ],
            "type": "contour"
           }
          ],
          "contourcarpet": [
           {
            "colorbar": {
             "outlinewidth": 0,
             "ticks": ""
            },
            "type": "contourcarpet"
           }
          ],
          "heatmap": [
           {
            "colorbar": {
             "outlinewidth": 0,
             "ticks": ""
            },
            "colorscale": [
             [
              0,
              "#0d0887"
             ],
             [
              0.1111111111111111,
              "#46039f"
             ],
             [
              0.2222222222222222,
              "#7201a8"
             ],
             [
              0.3333333333333333,
              "#9c179e"
             ],
             [
              0.4444444444444444,
              "#bd3786"
             ],
             [
              0.5555555555555556,
              "#d8576b"
             ],
             [
              0.6666666666666666,
              "#ed7953"
             ],
             [
              0.7777777777777778,
              "#fb9f3a"
             ],
             [
              0.8888888888888888,
              "#fdca26"
             ],
             [
              1,
              "#f0f921"
             ]
            ],
            "type": "heatmap"
           }
          ],
          "heatmapgl": [
           {
            "colorbar": {
             "outlinewidth": 0,
             "ticks": ""
            },
            "colorscale": [
             [
              0,
              "#0d0887"
             ],
             [
              0.1111111111111111,
              "#46039f"
             ],
             [
              0.2222222222222222,
              "#7201a8"
             ],
             [
              0.3333333333333333,
              "#9c179e"
             ],
             [
              0.4444444444444444,
              "#bd3786"
             ],
             [
              0.5555555555555556,
              "#d8576b"
             ],
             [
              0.6666666666666666,
              "#ed7953"
             ],
             [
              0.7777777777777778,
              "#fb9f3a"
             ],
             [
              0.8888888888888888,
              "#fdca26"
             ],
             [
              1,
              "#f0f921"
             ]
            ],
            "type": "heatmapgl"
           }
          ],
          "histogram": [
           {
            "marker": {
             "pattern": {
              "fillmode": "overlay",
              "size": 10,
              "solidity": 0.2
             }
            },
            "type": "histogram"
           }
          ],
          "histogram2d": [
           {
            "colorbar": {
             "outlinewidth": 0,
             "ticks": ""
            },
            "colorscale": [
             [
              0,
              "#0d0887"
             ],
             [
              0.1111111111111111,
              "#46039f"
             ],
             [
              0.2222222222222222,
              "#7201a8"
             ],
             [
              0.3333333333333333,
              "#9c179e"
             ],
             [
              0.4444444444444444,
              "#bd3786"
             ],
             [
              0.5555555555555556,
              "#d8576b"
             ],
             [
              0.6666666666666666,
              "#ed7953"
             ],
             [
              0.7777777777777778,
              "#fb9f3a"
             ],
             [
              0.8888888888888888,
              "#fdca26"
             ],
             [
              1,
              "#f0f921"
             ]
            ],
            "type": "histogram2d"
           }
          ],
          "histogram2dcontour": [
           {
            "colorbar": {
             "outlinewidth": 0,
             "ticks": ""
            },
            "colorscale": [
             [
              0,
              "#0d0887"
             ],
             [
              0.1111111111111111,
              "#46039f"
             ],
             [
              0.2222222222222222,
              "#7201a8"
             ],
             [
              0.3333333333333333,
              "#9c179e"
             ],
             [
              0.4444444444444444,
              "#bd3786"
             ],
             [
              0.5555555555555556,
              "#d8576b"
             ],
             [
              0.6666666666666666,
              "#ed7953"
             ],
             [
              0.7777777777777778,
              "#fb9f3a"
             ],
             [
              0.8888888888888888,
              "#fdca26"
             ],
             [
              1,
              "#f0f921"
             ]
            ],
            "type": "histogram2dcontour"
           }
          ],
          "mesh3d": [
           {
            "colorbar": {
             "outlinewidth": 0,
             "ticks": ""
            },
            "type": "mesh3d"
           }
          ],
          "parcoords": [
           {
            "line": {
             "colorbar": {
              "outlinewidth": 0,
              "ticks": ""
             }
            },
            "type": "parcoords"
           }
          ],
          "pie": [
           {
            "automargin": true,
            "type": "pie"
           }
          ],
          "scatter": [
           {
            "fillpattern": {
             "fillmode": "overlay",
             "size": 10,
             "solidity": 0.2
            },
            "type": "scatter"
           }
          ],
          "scatter3d": [
           {
            "line": {
             "colorbar": {
              "outlinewidth": 0,
              "ticks": ""
             }
            },
            "marker": {
             "colorbar": {
              "outlinewidth": 0,
              "ticks": ""
             }
            },
            "type": "scatter3d"
           }
          ],
          "scattercarpet": [
           {
            "marker": {
             "colorbar": {
              "outlinewidth": 0,
              "ticks": ""
             }
            },
            "type": "scattercarpet"
           }
          ],
          "scattergeo": [
           {
            "marker": {
             "colorbar": {
              "outlinewidth": 0,
              "ticks": ""
             }
            },
            "type": "scattergeo"
           }
          ],
          "scattergl": [
           {
            "marker": {
             "colorbar": {
              "outlinewidth": 0,
              "ticks": ""
             }
            },
            "type": "scattergl"
           }
          ],
          "scattermapbox": [
           {
            "marker": {
             "colorbar": {
              "outlinewidth": 0,
              "ticks": ""
             }
            },
            "type": "scattermapbox"
           }
          ],
          "scatterpolar": [
           {
            "marker": {
             "colorbar": {
              "outlinewidth": 0,
              "ticks": ""
             }
            },
            "type": "scatterpolar"
           }
          ],
          "scatterpolargl": [
           {
            "marker": {
             "colorbar": {
              "outlinewidth": 0,
              "ticks": ""
             }
            },
            "type": "scatterpolargl"
           }
          ],
          "scatterternary": [
           {
            "marker": {
             "colorbar": {
              "outlinewidth": 0,
              "ticks": ""
             }
            },
            "type": "scatterternary"
           }
          ],
          "surface": [
           {
            "colorbar": {
             "outlinewidth": 0,
             "ticks": ""
            },
            "colorscale": [
             [
              0,
              "#0d0887"
             ],
             [
              0.1111111111111111,
              "#46039f"
             ],
             [
              0.2222222222222222,
              "#7201a8"
             ],
             [
              0.3333333333333333,
              "#9c179e"
             ],
             [
              0.4444444444444444,
              "#bd3786"
             ],
             [
              0.5555555555555556,
              "#d8576b"
             ],
             [
              0.6666666666666666,
              "#ed7953"
             ],
             [
              0.7777777777777778,
              "#fb9f3a"
             ],
             [
              0.8888888888888888,
              "#fdca26"
             ],
             [
              1,
              "#f0f921"
             ]
            ],
            "type": "surface"
           }
          ],
          "table": [
           {
            "cells": {
             "fill": {
              "color": "#EBF0F8"
             },
             "line": {
              "color": "white"
             }
            },
            "header": {
             "fill": {
              "color": "#C8D4E3"
             },
             "line": {
              "color": "white"
             }
            },
            "type": "table"
           }
          ]
         },
         "layout": {
          "annotationdefaults": {
           "arrowcolor": "#2a3f5f",
           "arrowhead": 0,
           "arrowwidth": 1
          },
          "autotypenumbers": "strict",
          "coloraxis": {
           "colorbar": {
            "outlinewidth": 0,
            "ticks": ""
           }
          },
          "colorscale": {
           "diverging": [
            [
             0,
             "#8e0152"
            ],
            [
             0.1,
             "#c51b7d"
            ],
            [
             0.2,
             "#de77ae"
            ],
            [
             0.3,
             "#f1b6da"
            ],
            [
             0.4,
             "#fde0ef"
            ],
            [
             0.5,
             "#f7f7f7"
            ],
            [
             0.6,
             "#e6f5d0"
            ],
            [
             0.7,
             "#b8e186"
            ],
            [
             0.8,
             "#7fbc41"
            ],
            [
             0.9,
             "#4d9221"
            ],
            [
             1,
             "#276419"
            ]
           ],
           "sequential": [
            [
             0,
             "#0d0887"
            ],
            [
             0.1111111111111111,
             "#46039f"
            ],
            [
             0.2222222222222222,
             "#7201a8"
            ],
            [
             0.3333333333333333,
             "#9c179e"
            ],
            [
             0.4444444444444444,
             "#bd3786"
            ],
            [
             0.5555555555555556,
             "#d8576b"
            ],
            [
             0.6666666666666666,
             "#ed7953"
            ],
            [
             0.7777777777777778,
             "#fb9f3a"
            ],
            [
             0.8888888888888888,
             "#fdca26"
            ],
            [
             1,
             "#f0f921"
            ]
           ],
           "sequentialminus": [
            [
             0,
             "#0d0887"
            ],
            [
             0.1111111111111111,
             "#46039f"
            ],
            [
             0.2222222222222222,
             "#7201a8"
            ],
            [
             0.3333333333333333,
             "#9c179e"
            ],
            [
             0.4444444444444444,
             "#bd3786"
            ],
            [
             0.5555555555555556,
             "#d8576b"
            ],
            [
             0.6666666666666666,
             "#ed7953"
            ],
            [
             0.7777777777777778,
             "#fb9f3a"
            ],
            [
             0.8888888888888888,
             "#fdca26"
            ],
            [
             1,
             "#f0f921"
            ]
           ]
          },
          "colorway": [
           "#636efa",
           "#EF553B",
           "#00cc96",
           "#ab63fa",
           "#FFA15A",
           "#19d3f3",
           "#FF6692",
           "#B6E880",
           "#FF97FF",
           "#FECB52"
          ],
          "font": {
           "color": "#2a3f5f"
          },
          "geo": {
           "bgcolor": "white",
           "lakecolor": "white",
           "landcolor": "#E5ECF6",
           "showlakes": true,
           "showland": true,
           "subunitcolor": "white"
          },
          "hoverlabel": {
           "align": "left"
          },
          "hovermode": "closest",
          "mapbox": {
           "style": "light"
          },
          "paper_bgcolor": "white",
          "plot_bgcolor": "#E5ECF6",
          "polar": {
           "angularaxis": {
            "gridcolor": "white",
            "linecolor": "white",
            "ticks": ""
           },
           "bgcolor": "#E5ECF6",
           "radialaxis": {
            "gridcolor": "white",
            "linecolor": "white",
            "ticks": ""
           }
          },
          "scene": {
           "xaxis": {
            "backgroundcolor": "#E5ECF6",
            "gridcolor": "white",
            "gridwidth": 2,
            "linecolor": "white",
            "showbackground": true,
            "ticks": "",
            "zerolinecolor": "white"
           },
           "yaxis": {
            "backgroundcolor": "#E5ECF6",
            "gridcolor": "white",
            "gridwidth": 2,
            "linecolor": "white",
            "showbackground": true,
            "ticks": "",
            "zerolinecolor": "white"
           },
           "zaxis": {
            "backgroundcolor": "#E5ECF6",
            "gridcolor": "white",
            "gridwidth": 2,
            "linecolor": "white",
            "showbackground": true,
            "ticks": "",
            "zerolinecolor": "white"
           }
          },
          "shapedefaults": {
           "line": {
            "color": "#2a3f5f"
           }
          },
          "ternary": {
           "aaxis": {
            "gridcolor": "white",
            "linecolor": "white",
            "ticks": ""
           },
           "baxis": {
            "gridcolor": "white",
            "linecolor": "white",
            "ticks": ""
           },
           "bgcolor": "#E5ECF6",
           "caxis": {
            "gridcolor": "white",
            "linecolor": "white",
            "ticks": ""
           }
          },
          "title": {
           "x": 0.05
          },
          "xaxis": {
           "automargin": true,
           "gridcolor": "white",
           "linecolor": "white",
           "ticks": "",
           "title": {
            "standoff": 15
           },
           "zerolinecolor": "white",
           "zerolinewidth": 2
          },
          "yaxis": {
           "automargin": true,
           "gridcolor": "white",
           "linecolor": "white",
           "ticks": "",
           "title": {
            "standoff": 15
           },
           "zerolinecolor": "white",
           "zerolinewidth": 2
          }
         }
        },
        "title": {
         "font": {
          "color": "#4D5663"
         }
        },
        "xaxis": {
         "gridcolor": "#E1E5ED",
         "showgrid": true,
         "tickfont": {
          "color": "#4D5663"
         },
         "title": {
          "font": {
           "color": "#4D5663"
          },
          "text": ""
         },
         "zerolinecolor": "#E1E5ED"
        },
        "yaxis": {
         "gridcolor": "#E1E5ED",
         "showgrid": true,
         "tickfont": {
          "color": "#4D5663"
         },
         "title": {
          "font": {
           "color": "#4D5663"
          },
          "text": ""
         },
         "zerolinecolor": "#E1E5ED"
        }
       }
      },
      "text/html": [
       "<div>                            <div id=\"909c214f-bef2-48c9-b0de-0c02394a14e9\" class=\"plotly-graph-div\" style=\"height:525px; width:100%;\"></div>            <script type=\"text/javascript\">                require([\"plotly\"], function(Plotly) {                    window.PLOTLYENV=window.PLOTLYENV || {};\n",
       "                    window.PLOTLYENV.BASE_URL='https://plot.ly';                                    if (document.getElementById(\"909c214f-bef2-48c9-b0de-0c02394a14e9\")) {                    Plotly.newPlot(                        \"909c214f-bef2-48c9-b0de-0c02394a14e9\",                        [{\"boxpoints\":false,\"line\":{\"width\":1.3},\"marker\":{\"color\":\"rgba(255, 153, 51, 1.0)\"},\"name\":\"Accountancy\",\"orientation\":\"v\",\"y\":[1406,1491,1625,1693,1805,1858,1718,1895,1864,2375,2300,2433,2342,2152,2213,2180,2113],\"type\":\"box\"},{\"boxpoints\":false,\"line\":{\"width\":1.3},\"marker\":{\"color\":\"rgba(55, 128, 191, 1.0)\"},\"name\":\"Architecture, Building & Real Estate\",\"orientation\":\"v\",\"y\":[474,605,766,724,688,706,790,611,626,784,681,671,629,738,780,787,685],\"type\":\"box\"},{\"boxpoints\":false,\"line\":{\"width\":1.3},\"marker\":{\"color\":\"rgba(50, 171, 96, 1.0)\"},\"name\":\"Business & Administration\",\"orientation\":\"v\",\"y\":[2446,2807,2802,2479,2343,2508,2547,2721,2757,2967,3392,3433,3798,4486,4969,5417,5529],\"type\":\"box\"},{\"boxpoints\":false,\"line\":{\"width\":1.3},\"marker\":{\"color\":\"rgba(128, 0, 128, 1.0)\"},\"name\":\"Dentistry\",\"orientation\":\"v\",\"y\":[52,68,68,65,77,79,77,83,85,92,88,93,84,93,99,131,146],\"type\":\"box\"},{\"boxpoints\":false,\"line\":{\"width\":1.3},\"marker\":{\"color\":\"rgba(219, 64, 82, 1.0)\"},\"name\":\"Education\",\"orientation\":\"v\",\"y\":[0,0,0,0,0,0,690,761,560,534,541,389,320,405,346,337,348],\"type\":\"box\"},{\"boxpoints\":false,\"line\":{\"width\":1.3},\"marker\":{\"color\":\"rgba(0, 128, 128, 1.0)\"},\"name\":\"Engineering Sciences\",\"orientation\":\"v\",\"y\":[5198,5126,5256,4662,5477,5224,5489,5780,6215,6379,6363,6330,6729,6697,6574,6728,6513],\"type\":\"box\"},{\"boxpoints\":false,\"line\":{\"width\":1.3},\"marker\":{\"color\":\"rgba(255, 255, 51, 1.0)\"},\"name\":\"Fine & Applied Arts\",\"orientation\":\"v\",\"y\":[266,370,389,365,417,531,527,706,742,795,710,755,740,657,672,635,627],\"type\":\"box\"},{\"boxpoints\":false,\"line\":{\"width\":1.3},\"marker\":{\"color\":\"rgba(128, 128, 0, 1.0)\"},\"name\":\"Health Sciences\",\"orientation\":\"v\",\"y\":[325,441,466,432,499,465,611,806,945,923,986,1391,1665,1729,1829,1779,1910],\"type\":\"box\"},{\"boxpoints\":false,\"line\":{\"width\":1.3},\"marker\":{\"color\":\"rgba(251, 128, 114, 1.0)\"},\"name\":\"Humanities & Social Sciences\",\"orientation\":\"v\",\"y\":[3877,4386,4868,4794,5220,4498,4113,4354,5318,5236,5349,5424,5241,5695,5610,4931,4516],\"type\":\"box\"},{\"boxpoints\":false,\"line\":{\"width\":1.3},\"marker\":{\"color\":\"rgba(128, 177, 211, 1.0)\"},\"name\":\"Information Technology\",\"orientation\":\"v\",\"y\":[1053,913,1025,1340,1311,1215,1421,1382,1437,1509,1636,1777,2027,2724,3394,3709,3657],\"type\":\"box\"},{\"boxpoints\":false,\"line\":{\"width\":1.3},\"marker\":{\"color\":\"rgba(128, 177, 211, 0.8999999999999999)\"},\"name\":\"Law\",\"orientation\":\"v\",\"y\":[345,340,540,577,569,525,536,565,611,567,576,609,592,706,680,722,715],\"type\":\"box\"},{\"boxpoints\":false,\"line\":{\"width\":1.3},\"marker\":{\"color\":\"rgba(255, 153, 51, 0.8999999999999999)\"},\"name\":\"Mass Communication\",\"orientation\":\"v\",\"y\":[302,333,318,302,270,286,309,323,321,324,402,338,324,334,312,312,316],\"type\":\"box\"},{\"boxpoints\":false,\"line\":{\"width\":1.3},\"marker\":{\"color\":\"rgba(55, 128, 191, 0.8999999999999999)\"},\"name\":\"Medicine\",\"orientation\":\"v\",\"y\":[336,370,366,387,386,381,428,457,543,561,566,614,617,645,624,701,698],\"type\":\"box\"},{\"boxpoints\":false,\"line\":{\"width\":1.3},\"marker\":{\"color\":\"rgba(50, 171, 96, 0.8999999999999999)\"},\"name\":\"Natural & Mathematical Sciences\",\"orientation\":\"v\",\"y\":[0,0,0,0,0,0,0,0,0,0,0,0,0,0,0,2570,3243],\"type\":\"box\"},{\"boxpoints\":false,\"line\":{\"width\":1.3},\"marker\":{\"color\":\"rgba(128, 0, 128, 0.8999999999999999)\"},\"name\":\"Natural, Physical & Mathematical Sciences\",\"orientation\":\"v\",\"y\":[2705,3342,3552,3594,3795,3529,3587,3626,3667,3633,3435,3334,2310,2655,2770,0,0],\"type\":\"box\"},{\"boxpoints\":false,\"line\":{\"width\":1.3},\"marker\":{\"color\":\"rgba(219, 64, 82, 0.8999999999999999)\"},\"name\":\"Services\",\"orientation\":\"v\",\"y\":[94,104,119,101,101,558,656,569,495,192,293,311,323,326,320,421,478],\"type\":\"box\"}],                        {\"legend\":{\"bgcolor\":\"#F5F6F9\",\"font\":{\"color\":\"#4D5663\"}},\"paper_bgcolor\":\"#F5F6F9\",\"plot_bgcolor\":\"#F5F6F9\",\"template\":{\"data\":{\"barpolar\":[{\"marker\":{\"line\":{\"color\":\"#E5ECF6\",\"width\":0.5},\"pattern\":{\"fillmode\":\"overlay\",\"size\":10,\"solidity\":0.2}},\"type\":\"barpolar\"}],\"bar\":[{\"error_x\":{\"color\":\"#2a3f5f\"},\"error_y\":{\"color\":\"#2a3f5f\"},\"marker\":{\"line\":{\"color\":\"#E5ECF6\",\"width\":0.5},\"pattern\":{\"fillmode\":\"overlay\",\"size\":10,\"solidity\":0.2}},\"type\":\"bar\"}],\"carpet\":[{\"aaxis\":{\"endlinecolor\":\"#2a3f5f\",\"gridcolor\":\"white\",\"linecolor\":\"white\",\"minorgridcolor\":\"white\",\"startlinecolor\":\"#2a3f5f\"},\"baxis\":{\"endlinecolor\":\"#2a3f5f\",\"gridcolor\":\"white\",\"linecolor\":\"white\",\"minorgridcolor\":\"white\",\"startlinecolor\":\"#2a3f5f\"},\"type\":\"carpet\"}],\"choropleth\":[{\"colorbar\":{\"outlinewidth\":0,\"ticks\":\"\"},\"type\":\"choropleth\"}],\"contourcarpet\":[{\"colorbar\":{\"outlinewidth\":0,\"ticks\":\"\"},\"type\":\"contourcarpet\"}],\"contour\":[{\"colorbar\":{\"outlinewidth\":0,\"ticks\":\"\"},\"colorscale\":[[0.0,\"#0d0887\"],[0.1111111111111111,\"#46039f\"],[0.2222222222222222,\"#7201a8\"],[0.3333333333333333,\"#9c179e\"],[0.4444444444444444,\"#bd3786\"],[0.5555555555555556,\"#d8576b\"],[0.6666666666666666,\"#ed7953\"],[0.7777777777777778,\"#fb9f3a\"],[0.8888888888888888,\"#fdca26\"],[1.0,\"#f0f921\"]],\"type\":\"contour\"}],\"heatmapgl\":[{\"colorbar\":{\"outlinewidth\":0,\"ticks\":\"\"},\"colorscale\":[[0.0,\"#0d0887\"],[0.1111111111111111,\"#46039f\"],[0.2222222222222222,\"#7201a8\"],[0.3333333333333333,\"#9c179e\"],[0.4444444444444444,\"#bd3786\"],[0.5555555555555556,\"#d8576b\"],[0.6666666666666666,\"#ed7953\"],[0.7777777777777778,\"#fb9f3a\"],[0.8888888888888888,\"#fdca26\"],[1.0,\"#f0f921\"]],\"type\":\"heatmapgl\"}],\"heatmap\":[{\"colorbar\":{\"outlinewidth\":0,\"ticks\":\"\"},\"colorscale\":[[0.0,\"#0d0887\"],[0.1111111111111111,\"#46039f\"],[0.2222222222222222,\"#7201a8\"],[0.3333333333333333,\"#9c179e\"],[0.4444444444444444,\"#bd3786\"],[0.5555555555555556,\"#d8576b\"],[0.6666666666666666,\"#ed7953\"],[0.7777777777777778,\"#fb9f3a\"],[0.8888888888888888,\"#fdca26\"],[1.0,\"#f0f921\"]],\"type\":\"heatmap\"}],\"histogram2dcontour\":[{\"colorbar\":{\"outlinewidth\":0,\"ticks\":\"\"},\"colorscale\":[[0.0,\"#0d0887\"],[0.1111111111111111,\"#46039f\"],[0.2222222222222222,\"#7201a8\"],[0.3333333333333333,\"#9c179e\"],[0.4444444444444444,\"#bd3786\"],[0.5555555555555556,\"#d8576b\"],[0.6666666666666666,\"#ed7953\"],[0.7777777777777778,\"#fb9f3a\"],[0.8888888888888888,\"#fdca26\"],[1.0,\"#f0f921\"]],\"type\":\"histogram2dcontour\"}],\"histogram2d\":[{\"colorbar\":{\"outlinewidth\":0,\"ticks\":\"\"},\"colorscale\":[[0.0,\"#0d0887\"],[0.1111111111111111,\"#46039f\"],[0.2222222222222222,\"#7201a8\"],[0.3333333333333333,\"#9c179e\"],[0.4444444444444444,\"#bd3786\"],[0.5555555555555556,\"#d8576b\"],[0.6666666666666666,\"#ed7953\"],[0.7777777777777778,\"#fb9f3a\"],[0.8888888888888888,\"#fdca26\"],[1.0,\"#f0f921\"]],\"type\":\"histogram2d\"}],\"histogram\":[{\"marker\":{\"pattern\":{\"fillmode\":\"overlay\",\"size\":10,\"solidity\":0.2}},\"type\":\"histogram\"}],\"mesh3d\":[{\"colorbar\":{\"outlinewidth\":0,\"ticks\":\"\"},\"type\":\"mesh3d\"}],\"parcoords\":[{\"line\":{\"colorbar\":{\"outlinewidth\":0,\"ticks\":\"\"}},\"type\":\"parcoords\"}],\"pie\":[{\"automargin\":true,\"type\":\"pie\"}],\"scatter3d\":[{\"line\":{\"colorbar\":{\"outlinewidth\":0,\"ticks\":\"\"}},\"marker\":{\"colorbar\":{\"outlinewidth\":0,\"ticks\":\"\"}},\"type\":\"scatter3d\"}],\"scattercarpet\":[{\"marker\":{\"colorbar\":{\"outlinewidth\":0,\"ticks\":\"\"}},\"type\":\"scattercarpet\"}],\"scattergeo\":[{\"marker\":{\"colorbar\":{\"outlinewidth\":0,\"ticks\":\"\"}},\"type\":\"scattergeo\"}],\"scattergl\":[{\"marker\":{\"colorbar\":{\"outlinewidth\":0,\"ticks\":\"\"}},\"type\":\"scattergl\"}],\"scattermapbox\":[{\"marker\":{\"colorbar\":{\"outlinewidth\":0,\"ticks\":\"\"}},\"type\":\"scattermapbox\"}],\"scatterpolargl\":[{\"marker\":{\"colorbar\":{\"outlinewidth\":0,\"ticks\":\"\"}},\"type\":\"scatterpolargl\"}],\"scatterpolar\":[{\"marker\":{\"colorbar\":{\"outlinewidth\":0,\"ticks\":\"\"}},\"type\":\"scatterpolar\"}],\"scatter\":[{\"fillpattern\":{\"fillmode\":\"overlay\",\"size\":10,\"solidity\":0.2},\"type\":\"scatter\"}],\"scatterternary\":[{\"marker\":{\"colorbar\":{\"outlinewidth\":0,\"ticks\":\"\"}},\"type\":\"scatterternary\"}],\"surface\":[{\"colorbar\":{\"outlinewidth\":0,\"ticks\":\"\"},\"colorscale\":[[0.0,\"#0d0887\"],[0.1111111111111111,\"#46039f\"],[0.2222222222222222,\"#7201a8\"],[0.3333333333333333,\"#9c179e\"],[0.4444444444444444,\"#bd3786\"],[0.5555555555555556,\"#d8576b\"],[0.6666666666666666,\"#ed7953\"],[0.7777777777777778,\"#fb9f3a\"],[0.8888888888888888,\"#fdca26\"],[1.0,\"#f0f921\"]],\"type\":\"surface\"}],\"table\":[{\"cells\":{\"fill\":{\"color\":\"#EBF0F8\"},\"line\":{\"color\":\"white\"}},\"header\":{\"fill\":{\"color\":\"#C8D4E3\"},\"line\":{\"color\":\"white\"}},\"type\":\"table\"}]},\"layout\":{\"annotationdefaults\":{\"arrowcolor\":\"#2a3f5f\",\"arrowhead\":0,\"arrowwidth\":1},\"autotypenumbers\":\"strict\",\"coloraxis\":{\"colorbar\":{\"outlinewidth\":0,\"ticks\":\"\"}},\"colorscale\":{\"diverging\":[[0,\"#8e0152\"],[0.1,\"#c51b7d\"],[0.2,\"#de77ae\"],[0.3,\"#f1b6da\"],[0.4,\"#fde0ef\"],[0.5,\"#f7f7f7\"],[0.6,\"#e6f5d0\"],[0.7,\"#b8e186\"],[0.8,\"#7fbc41\"],[0.9,\"#4d9221\"],[1,\"#276419\"]],\"sequential\":[[0.0,\"#0d0887\"],[0.1111111111111111,\"#46039f\"],[0.2222222222222222,\"#7201a8\"],[0.3333333333333333,\"#9c179e\"],[0.4444444444444444,\"#bd3786\"],[0.5555555555555556,\"#d8576b\"],[0.6666666666666666,\"#ed7953\"],[0.7777777777777778,\"#fb9f3a\"],[0.8888888888888888,\"#fdca26\"],[1.0,\"#f0f921\"]],\"sequentialminus\":[[0.0,\"#0d0887\"],[0.1111111111111111,\"#46039f\"],[0.2222222222222222,\"#7201a8\"],[0.3333333333333333,\"#9c179e\"],[0.4444444444444444,\"#bd3786\"],[0.5555555555555556,\"#d8576b\"],[0.6666666666666666,\"#ed7953\"],[0.7777777777777778,\"#fb9f3a\"],[0.8888888888888888,\"#fdca26\"],[1.0,\"#f0f921\"]]},\"colorway\":[\"#636efa\",\"#EF553B\",\"#00cc96\",\"#ab63fa\",\"#FFA15A\",\"#19d3f3\",\"#FF6692\",\"#B6E880\",\"#FF97FF\",\"#FECB52\"],\"font\":{\"color\":\"#2a3f5f\"},\"geo\":{\"bgcolor\":\"white\",\"lakecolor\":\"white\",\"landcolor\":\"#E5ECF6\",\"showlakes\":true,\"showland\":true,\"subunitcolor\":\"white\"},\"hoverlabel\":{\"align\":\"left\"},\"hovermode\":\"closest\",\"mapbox\":{\"style\":\"light\"},\"paper_bgcolor\":\"white\",\"plot_bgcolor\":\"#E5ECF6\",\"polar\":{\"angularaxis\":{\"gridcolor\":\"white\",\"linecolor\":\"white\",\"ticks\":\"\"},\"bgcolor\":\"#E5ECF6\",\"radialaxis\":{\"gridcolor\":\"white\",\"linecolor\":\"white\",\"ticks\":\"\"}},\"scene\":{\"xaxis\":{\"backgroundcolor\":\"#E5ECF6\",\"gridcolor\":\"white\",\"gridwidth\":2,\"linecolor\":\"white\",\"showbackground\":true,\"ticks\":\"\",\"zerolinecolor\":\"white\"},\"yaxis\":{\"backgroundcolor\":\"#E5ECF6\",\"gridcolor\":\"white\",\"gridwidth\":2,\"linecolor\":\"white\",\"showbackground\":true,\"ticks\":\"\",\"zerolinecolor\":\"white\"},\"zaxis\":{\"backgroundcolor\":\"#E5ECF6\",\"gridcolor\":\"white\",\"gridwidth\":2,\"linecolor\":\"white\",\"showbackground\":true,\"ticks\":\"\",\"zerolinecolor\":\"white\"}},\"shapedefaults\":{\"line\":{\"color\":\"#2a3f5f\"}},\"ternary\":{\"aaxis\":{\"gridcolor\":\"white\",\"linecolor\":\"white\",\"ticks\":\"\"},\"baxis\":{\"gridcolor\":\"white\",\"linecolor\":\"white\",\"ticks\":\"\"},\"bgcolor\":\"#E5ECF6\",\"caxis\":{\"gridcolor\":\"white\",\"linecolor\":\"white\",\"ticks\":\"\"}},\"title\":{\"x\":0.05},\"xaxis\":{\"automargin\":true,\"gridcolor\":\"white\",\"linecolor\":\"white\",\"ticks\":\"\",\"title\":{\"standoff\":15},\"zerolinecolor\":\"white\",\"zerolinewidth\":2},\"yaxis\":{\"automargin\":true,\"gridcolor\":\"white\",\"linecolor\":\"white\",\"ticks\":\"\",\"title\":{\"standoff\":15},\"zerolinecolor\":\"white\",\"zerolinewidth\":2}}},\"title\":{\"font\":{\"color\":\"#4D5663\"}},\"xaxis\":{\"gridcolor\":\"#E1E5ED\",\"showgrid\":true,\"tickfont\":{\"color\":\"#4D5663\"},\"title\":{\"font\":{\"color\":\"#4D5663\"},\"text\":\"\"},\"zerolinecolor\":\"#E1E5ED\"},\"yaxis\":{\"gridcolor\":\"#E1E5ED\",\"showgrid\":true,\"tickfont\":{\"color\":\"#4D5663\"},\"title\":{\"font\":{\"color\":\"#4D5663\"},\"text\":\"\"},\"zerolinecolor\":\"#E1E5ED\"}},                        {\"showLink\": true, \"linkText\": \"Export to plot.ly\", \"plotlyServerURL\": \"https://plot.ly\", \"responsive\": true}                    ).then(function(){\n",
       "                            \n",
       "var gd = document.getElementById('909c214f-bef2-48c9-b0de-0c02394a14e9');\n",
       "var x = new MutationObserver(function (mutations, observer) {{\n",
       "        var display = window.getComputedStyle(gd).display;\n",
       "        if (!display || display === 'none') {{\n",
       "            console.log([gd, 'removed!']);\n",
       "            Plotly.purge(gd);\n",
       "            observer.disconnect();\n",
       "        }}\n",
       "}});\n",
       "\n",
       "// Listen for the removal of the full notebook cells\n",
       "var notebookContainer = gd.closest('#notebook-container');\n",
       "if (notebookContainer) {{\n",
       "    x.observe(notebookContainer, {childList: true});\n",
       "}}\n",
       "\n",
       "// Listen for the clearing of the current output cell\n",
       "var outputEl = gd.closest('.output');\n",
       "if (outputEl) {{\n",
       "    x.observe(outputEl, {childList: true});\n",
       "}}\n",
       "\n",
       "                        })                };                });            </script>        </div>"
      ]
     },
     "metadata": {},
     "output_type": "display_data"
    },
    {
     "name": "stdout",
     "output_type": "stream",
     "text": [
      "\n"
     ]
    },
    {
     "data": {
      "text/markdown": [
       "<u>**My thoughts, comments and analysis on the chart:**</u>"
      ],
      "text/plain": [
       "<IPython.core.display.Markdown object>"
      ]
     },
     "metadata": {},
     "output_type": "display_data"
    },
    {
     "data": {
      "text/markdown": [
       "On first look at the graph, we can see something peculiar and that is that the course Natural and Mathematical Sciences is very odd. There is no Q1, Q2 and Q3 shown and when zooming into the chart, we can only see that the max is 3,243 intakes. This is very odd and to find out the reason behind this phenomenon I looked into the dfUniversity dataset and found out that the course was a new course that started in 2020 and with our dataset only going to 2021 it seems that there was insufficient data for the python library to output a proper boxplot with all the details."
      ],
      "text/plain": [
       "<IPython.core.display.Markdown object>"
      ]
     },
     "metadata": {},
     "output_type": "display_data"
    },
    {
     "name": "stdout",
     "output_type": "stream",
     "text": [
      "\n"
     ]
    },
    {
     "data": {
      "text/markdown": [
       "From the graph we can very clearly see that the **top courses by intakes are Engineering, Humanities, and Business** with the former 2 being very consistent in their intake results, this can be seen from their boxplot being very close and their upper and lower leg being very short in contrast to **business and administration which as seen has years with intakes much higher than average**."
      ],
      "text/plain": [
       "<IPython.core.display.Markdown object>"
      ]
     },
     "metadata": {},
     "output_type": "display_data"
    }
   ],
   "source": [
    "dfUni_Data_shaped.iplot(kind='box')\n",
    "print()\n",
    "printmd(f'<u>**My thoughts, comments and analysis on the chart:**</u>')\n",
    "\n",
    "printmd(f'On first look at the graph, we can see something peculiar and that is that the course Natural and Mathematical Sciences is very \\\n",
    "odd. There is no Q1, Q2 and Q3 shown and when zooming into the chart, we can only see that the max is 3,243 intakes. This is very odd \\\n",
    "and to find out the reason behind this phenomenon I looked into the dfUniversity dataset and found out that the course was a new course \\\n",
    "that started in 2020 and with our dataset only going to 2021 it seems that there was insufficient data for the python library to output \\\n",
    "a proper boxplot with all the details.')\n",
    "print()\n",
    "printmd(f'From the graph we can very clearly see that the **top courses by intakes are Engineering, Humanities, and Business** with the former 2 \\\n",
    "being very consistent in their intake results, this can be seen from their boxplot being very close and their upper and lower leg being very short \\\n",
    "in contrast to **business and administration which as seen has years with intakes much higher than average**.')"
   ]
  },
  {
   "cell_type": "code",
   "execution_count": 19,
   "metadata": {},
   "outputs": [
    {
     "name": "stdout",
     "output_type": "stream",
     "text": [
      "[1997 1998 1999 2000 2001 2002 2003 2004 2005 2006 2007 2008 2009 2010\n",
      " 2011 2012 2013 2014 2015 2016 2017 2018 2019 2020 2021]\n"
     ]
    }
   ],
   "source": []
  },
  {
   "cell_type": "code",
   "execution_count": null,
   "metadata": {},
   "outputs": [],
   "source": []
  }
 ],
 "metadata": {
  "kernelspec": {
   "display_name": "Python 3 (ipykernel)",
   "language": "python",
   "name": "python3"
  },
  "language_info": {
   "codemirror_mode": {
    "name": "ipython",
    "version": 3
   },
   "file_extension": ".py",
   "mimetype": "text/x-python",
   "name": "python",
   "nbconvert_exporter": "python",
   "pygments_lexer": "ipython3",
   "version": "3.9.13"
  }
 },
 "nbformat": 4,
 "nbformat_minor": 4
}
